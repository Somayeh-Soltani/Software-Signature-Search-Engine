{
 "cells": [
  {
   "cell_type": "markdown",
   "metadata": {},
   "source": [
    "# A2-B2-C1-D1-E2-F123#1"
   ]
  },
  {
   "cell_type": "code",
   "execution_count": 212,
   "metadata": {},
   "outputs": [],
   "source": [
    "from gensim.models.doc2vec import Doc2Vec, TaggedDocument\n",
    "import string\n",
    "import re\n",
    "import pandas as pd\n",
    "import mysql.connector as my\n",
    "from datetime import datetime\n",
    "mydb=my.connect(host=\"localhost\",user=\"root\",passwd=\"123456\",database=\"search_engine_word2vec\")"
   ]
  },
  {
   "cell_type": "code",
   "execution_count": 213,
   "metadata": {},
   "outputs": [],
   "source": [
    "docs = pd.read_csv('D:/Both_Windows/delta_union_new_files.txt')"
   ]
  },
  {
   "cell_type": "code",
   "execution_count": 214,
   "metadata": {},
   "outputs": [],
   "source": [
    "corpus2=[sen.lower() for sen in docs]\n",
    "sentences = [[text for text in re.split('[/\\t]',doc)] for doc in corpus2]\n",
    "sentences = [[text+'/' for text in sen] for sen in sentences]\n",
    "sentences=[[ subelt for subelt in elt if subelt != '/' ] for elt in sentences] # remove '/'\n",
    "tagged_data = [TaggedDocument(d, [i]) for i, d in enumerate(sentences)]\n",
    "before_train=datetime.now()\n",
    "model = Doc2Vec(tagged_data, vector_size=20, window=2, min_count=1, workers=4, epochs = 100)\n",
    "after_train=datetime.now()\n",
    "elapsed=after_train-before_train\n",
    "elapsed_train=elapsed.total_seconds()\n",
    "# Save trained doc2vec model\n",
    "#model.save(\"test_doc2vec.model\")"
   ]
  },
  {
   "cell_type": "markdown",
   "metadata": {},
   "source": [
    "# ابتدا حد آستانه ها را تعیین می کنیم"
   ]
  },
  {
   "cell_type": "code",
   "execution_count": 215,
   "metadata": {},
   "outputs": [
    {
     "data": {
      "text/plain": [
       "[(0, 0.537498414516449),\n",
       " (1, 0.41625773906707764),\n",
       " (2, 0.487268328666687),\n",
       " (3, 0.4817560911178589),\n",
       " (4, 0.33423566818237305),\n",
       " (5, 0.23564839363098145),\n",
       " (6, 0.446185439825058),\n",
       " (7, 0.5261190533638),\n",
       " (8, 0.6518003940582275),\n",
       " (9, 0.5505856275558472),\n",
       " (10, 0.5290421843528748),\n",
       " (11, 0.5110211372375488),\n",
       " (12, 0.3423996567726135),\n",
       " (13, 0.6710392832756042),\n",
       " (14, 0.6776548624038696),\n",
       " (15, 0.5813578367233276)]"
      ]
     },
     "execution_count": 215,
     "metadata": {},
     "output_type": "execute_result"
    }
   ],
   "source": [
    "query = pd.read_csv('D:/WINXPSP3x86-disk-images-March2020/adobe reader9-2/after_adobe reader9-2_run1_files.txt')\n",
    "query2=[sen.lower() for sen in query]\n",
    "query_sen = [[text for text in re.split('[/\\t]',doc)] for doc in query2]\n",
    "query_sen = [[text+'/' for text in sen] for sen in query_sen]\n",
    "query_sen=[[ subelt for subelt in elt if subelt != '/' ] for elt in query_sen] # remove '/'\n",
    "sim_vector=model.docvecs.most_similar(positive=[model.infer_vector(query_sen[0])],topn=16)\n",
    "sorted_sim_vector = sorted(sim_vector, key=lambda tup: tup[0])#sort based on document number\n",
    "sorted_sim_vector"
   ]
  },
  {
   "cell_type": "code",
   "execution_count": 216,
   "metadata": {},
   "outputs": [],
   "source": [
    "mycursor = mydb.cursor()\n",
    "mycursor.execute(\"update search_engine_model set threshold1 = %s where name='A2-B2-C1-D1-E2-F1#1' or name='A2-B2-C1-D1-E2-F2#1' or name='A2-B2-C1-D1-E2-F3#1'\" %sorted_sim_vector[0][1])\n",
    "mycursor.close()\n",
    "mydb.commit()"
   ]
  },
  {
   "cell_type": "code",
   "execution_count": 217,
   "metadata": {},
   "outputs": [],
   "source": [
    "query = pd.read_csv('D:/WINXPSP3x86-disk-images-March2020/adobe reader11-0-3/after_adobe reader11-0-3_run1_files.txt')\n",
    "query2=[sen.lower() for sen in query]\n",
    "query_sen = [[text for text in re.split('[/\\t]',doc)] for doc in query2]\n",
    "query_sen = [[text+'/' for text in sen] for sen in query_sen]\n",
    "query_sen=[[ subelt for subelt in elt if subelt != '/' ] for elt in query_sen] # remove '/'\n",
    "sim_vector=model.docvecs.most_similar(positive=[model.infer_vector(query_sen[0])],topn=16)\n",
    "sorted_sim_vector = sorted(sim_vector, key=lambda tup: tup[0])#sort based on document number\n",
    "#sorted_sim_vector"
   ]
  },
  {
   "cell_type": "code",
   "execution_count": 218,
   "metadata": {},
   "outputs": [],
   "source": [
    "mycursor = mydb.cursor()\n",
    "mycursor.execute(\"update search_engine_model set threshold2 = %s where name='A2-B2-C1-D1-E2-F1#1'or name='A2-B2-C1-D1-E2-F2#1' or name='A2-B2-C1-D1-E2-F3#1'\" %sorted_sim_vector[1][1])\n",
    "mycursor.close()\n",
    "mydb.commit()"
   ]
  },
  {
   "cell_type": "code",
   "execution_count": 219,
   "metadata": {},
   "outputs": [],
   "source": [
    "query = pd.read_csv('D:/WINXPSP3x86-disk-images-March2020/firefox3-5-10/after_firefox3-5-10_run1_files.txt')\n",
    "query2=[sen.lower() for sen in query]\n",
    "query_sen = [[text for text in re.split('[/\\t]',doc)] for doc in query2]\n",
    "query_sen = [[text+'/' for text in sen] for sen in query_sen]\n",
    "query_sen=[[ subelt for subelt in elt if subelt != '/' ] for elt in query_sen] # remove '/'\n",
    "sim_vector=model.docvecs.most_similar(positive=[model.infer_vector(query_sen[0])],topn=16)\n",
    "sorted_sim_vector = sorted(sim_vector, key=lambda tup: tup[0])#sort based on document number\n",
    "#sorted_sim_vector"
   ]
  },
  {
   "cell_type": "code",
   "execution_count": 220,
   "metadata": {},
   "outputs": [],
   "source": [
    "mycursor = mydb.cursor()\n",
    "mycursor.execute(\"update search_engine_model set threshold3 = %s where name='A2-B2-C1-D1-E2-F1#1'or name='A2-B2-C1-D1-E2-F2#1' or name='A2-B2-C1-D1-E2-F3#1'\" %sorted_sim_vector[2][1])\n",
    "mycursor.close()\n",
    "mydb.commit()"
   ]
  },
  {
   "cell_type": "code",
   "execution_count": 221,
   "metadata": {},
   "outputs": [],
   "source": [
    "query = pd.read_csv('D:/WINXPSP3x86-disk-images-March2020/firefox40-0-3/after_firefox40-0-3_run1_files.txt')\n",
    "query2=[sen.lower() for sen in query]\n",
    "query_sen = [[text for text in re.split('[/\\t]',doc)] for doc in query2]\n",
    "query_sen = [[text+'/' for text in sen] for sen in query_sen]\n",
    "query_sen=[[ subelt for subelt in elt if subelt != '/' ] for elt in query_sen] # remove '/'\n",
    "sim_vector=model.docvecs.most_similar(positive=[model.infer_vector(query_sen[0])],topn=16)\n",
    "sorted_sim_vector = sorted(sim_vector, key=lambda tup: tup[0])#sort based on document number\n",
    "#sorted_sim_vector"
   ]
  },
  {
   "cell_type": "code",
   "execution_count": 222,
   "metadata": {},
   "outputs": [],
   "source": [
    "mycursor = mydb.cursor()\n",
    "mycursor.execute(\"update search_engine_model set threshold4 = %s where name='A2-B2-C1-D1-E2-F1#1'or name='A2-B2-C1-D1-E2-F2#1' or name='A2-B2-C1-D1-E2-F3#1'\" %sorted_sim_vector[3][1])\n",
    "mycursor.close()\n",
    "mydb.commit()"
   ]
  },
  {
   "cell_type": "code",
   "execution_count": 223,
   "metadata": {},
   "outputs": [],
   "source": [
    "query = pd.read_csv('D:/WINXPSP3x86-disk-images-March2020/python2-6-1/after_python2-6-1_run1_files.txt')\n",
    "query2=[sen.lower() for sen in query]\n",
    "query_sen = [[text for text in re.split('[/\\t]',doc)] for doc in query2]\n",
    "query_sen = [[text+'/' for text in sen] for sen in query_sen]\n",
    "query_sen=[[ subelt for subelt in elt if subelt != '/' ] for elt in query_sen] # remove '/'\n",
    "sim_vector=model.docvecs.most_similar(positive=[model.infer_vector(query_sen[0])],topn=16)\n",
    "sorted_sim_vector = sorted(sim_vector, key=lambda tup: tup[0])#sort based on document number\n",
    "#sorted_sim_vector"
   ]
  },
  {
   "cell_type": "code",
   "execution_count": 224,
   "metadata": {},
   "outputs": [],
   "source": [
    "mycursor = mydb.cursor()\n",
    "mycursor.execute(\"update search_engine_model set threshold5 = %s where name='A2-B2-C1-D1-E2-F1#1'or name='A2-B2-C1-D1-E2-F2#1' or name='A2-B2-C1-D1-E2-F3#1'\" %sorted_sim_vector[4][1])\n",
    "mycursor.close()\n",
    "mydb.commit()"
   ]
  },
  {
   "cell_type": "code",
   "execution_count": 225,
   "metadata": {},
   "outputs": [],
   "source": [
    "query = pd.read_csv('D:/WINXPSP3x86-disk-images-March2020/python2-7-17/after_python2-7-17_run1_files.txt')\n",
    "query2=[sen.lower() for sen in query]\n",
    "query_sen = [[text for text in re.split('[/\\t]',doc)] for doc in query2]\n",
    "query_sen = [[text+'/' for text in sen] for sen in query_sen]\n",
    "query_sen=[[ subelt for subelt in elt if subelt != '/' ] for elt in query_sen] # remove '/'\n",
    "sim_vector=model.docvecs.most_similar(positive=[model.infer_vector(query_sen[0])],topn=16)\n",
    "sorted_sim_vector = sorted(sim_vector, key=lambda tup: tup[0])#sort based on document number\n",
    "#sorted_sim_vector"
   ]
  },
  {
   "cell_type": "code",
   "execution_count": 226,
   "metadata": {},
   "outputs": [],
   "source": [
    "mycursor = mydb.cursor()\n",
    "mycursor.execute(\"update search_engine_model set threshold6 = %s where name='A2-B2-C1-D1-E2-F1#1'or name='A2-B2-C1-D1-E2-F2#1' or name='A2-B2-C1-D1-E2-F3#1'\" %sorted_sim_vector[5][1])\n",
    "mycursor.close()\n",
    "mydb.commit()"
   ]
  },
  {
   "cell_type": "code",
   "execution_count": 227,
   "metadata": {},
   "outputs": [],
   "source": [
    "query = pd.read_csv('D:/WINXPSP3x86-disk-images-March2020/word2003pro/after_word2003pro_run1_files.txt')\n",
    "query2=[sen.lower() for sen in query]\n",
    "query_sen = [[text for text in re.split('[/\\t]',doc)] for doc in query2]\n",
    "query_sen = [[text+'/' for text in sen] for sen in query_sen]\n",
    "query_sen=[[ subelt for subelt in elt if subelt != '/' ] for elt in query_sen] # remove '/'\n",
    "sim_vector=model.docvecs.most_similar(positive=[model.infer_vector(query_sen[0])],topn=16)\n",
    "sorted_sim_vector = sorted(sim_vector, key=lambda tup: tup[0])#sort based on document number\n",
    "#sorted_sim_vector"
   ]
  },
  {
   "cell_type": "code",
   "execution_count": 228,
   "metadata": {},
   "outputs": [],
   "source": [
    "mycursor = mydb.cursor()\n",
    "mycursor.execute(\"update search_engine_model set threshold7 = %s where name='A2-B2-C1-D1-E2-F1#1'or name='A2-B2-C1-D1-E2-F2#1' or name='A2-B2-C1-D1-E2-F3#1'\" %sorted_sim_vector[6][1])\n",
    "mycursor.close()\n",
    "mydb.commit()"
   ]
  },
  {
   "cell_type": "code",
   "execution_count": 229,
   "metadata": {},
   "outputs": [],
   "source": [
    "query = pd.read_csv('D:/WINXPSP3x86-disk-images-March2020/word2010pro/after_word2010pro_run1_files.txt')\n",
    "query2=[sen.lower() for sen in query]\n",
    "query_sen = [[text for text in re.split('[/\\t]',doc)] for doc in query2]\n",
    "query_sen = [[text+'/' for text in sen] for sen in query_sen]\n",
    "query_sen=[[ subelt for subelt in elt if subelt != '/' ] for elt in query_sen] # remove '/'\n",
    "sim_vector=model.docvecs.most_similar(positive=[model.infer_vector(query_sen[0])],topn=16)\n",
    "sorted_sim_vector = sorted(sim_vector, key=lambda tup: tup[0])#sort based on document number\n",
    "#sorted_sim_vector"
   ]
  },
  {
   "cell_type": "code",
   "execution_count": 230,
   "metadata": {},
   "outputs": [],
   "source": [
    "mycursor = mydb.cursor()\n",
    "mycursor.execute(\"update search_engine_model set threshold8 = %s where name='A2-B2-C1-D1-E2-F1#1'or name='A2-B2-C1-D1-E2-F2#1' or name='A2-B2-C1-D1-E2-F3#1'\" %sorted_sim_vector[7][1])\n",
    "mycursor.close()\n",
    "mydb.commit()"
   ]
  },
  {
   "cell_type": "code",
   "execution_count": 231,
   "metadata": {},
   "outputs": [],
   "source": [
    "query = pd.read_csv('D:/Windows7SP1x86-disk-images-March2020/adobe reader9-2/after_adobe reader9-2_run1_files.txt')\n",
    "query2=[sen.lower() for sen in query]\n",
    "query_sen = [[text for text in re.split('[/\\t]',doc)] for doc in query2]\n",
    "query_sen = [[text+'/' for text in sen] for sen in query_sen]\n",
    "query_sen=[[ subelt for subelt in elt if subelt != '/' ] for elt in query_sen] # remove '/'\n",
    "sim_vector=model.docvecs.most_similar(positive=[model.infer_vector(query_sen[0])],topn=16)\n",
    "sorted_sim_vector = sorted(sim_vector, key=lambda tup: tup[0])#sort based on document number\n",
    "#sorted_sim_vector"
   ]
  },
  {
   "cell_type": "code",
   "execution_count": 232,
   "metadata": {},
   "outputs": [],
   "source": [
    "mycursor = mydb.cursor()\n",
    "mycursor.execute(\"update search_engine_model set threshold9 = %s where name='A2-B2-C1-D1-E2-F1#1'or name='A2-B2-C1-D1-E2-F2#1' or name='A2-B2-C1-D1-E2-F3#1'\" %sorted_sim_vector[8][1])\n",
    "mycursor.close()\n",
    "mydb.commit()"
   ]
  },
  {
   "cell_type": "code",
   "execution_count": 233,
   "metadata": {},
   "outputs": [],
   "source": [
    "query = pd.read_csv('D:/Windows7SP1x86-disk-images-March2020/adobe reader11-0-3/after_adobe reader11-0-3_run1_files.txt')\n",
    "query2=[sen.lower() for sen in query]\n",
    "query_sen = [[text for text in re.split('[/\\t]',doc)] for doc in query2]\n",
    "query_sen = [[text+'/' for text in sen] for sen in query_sen]\n",
    "query_sen=[[ subelt for subelt in elt if subelt != '/' ] for elt in query_sen] # remove '/'\n",
    "sim_vector=model.docvecs.most_similar(positive=[model.infer_vector(query_sen[0])],topn=16)\n",
    "sorted_sim_vector = sorted(sim_vector, key=lambda tup: tup[0])#sort based on document number\n",
    "#sorted_sim_vector"
   ]
  },
  {
   "cell_type": "code",
   "execution_count": 234,
   "metadata": {},
   "outputs": [],
   "source": [
    "mycursor = mydb.cursor()\n",
    "mycursor.execute(\"update search_engine_model set threshold10 = %s where name='A2-B2-C1-D1-E2-F1#1'or name='A2-B2-C1-D1-E2-F2#1' or name='A2-B2-C1-D1-E2-F3#1'\" %sorted_sim_vector[9][1])\n",
    "mycursor.close()\n",
    "mydb.commit()"
   ]
  },
  {
   "cell_type": "code",
   "execution_count": 235,
   "metadata": {},
   "outputs": [],
   "source": [
    "query = pd.read_csv('D:/Windows7SP1x86-disk-images-March2020/firefox3-5-10/after_firefox3-5-10_run1_files.txt')\n",
    "query2=[sen.lower() for sen in query]\n",
    "query_sen = [[text for text in re.split('[/\\t]',doc)] for doc in query2]\n",
    "query_sen = [[text+'/' for text in sen] for sen in query_sen]\n",
    "query_sen=[[ subelt for subelt in elt if subelt != '/' ] for elt in query_sen] # remove '/'\n",
    "sim_vector=model.docvecs.most_similar(positive=[model.infer_vector(query_sen[0])],topn=16)\n",
    "sorted_sim_vector = sorted(sim_vector, key=lambda tup: tup[0])#sort based on document number\n",
    "#sorted_sim_vector"
   ]
  },
  {
   "cell_type": "code",
   "execution_count": 236,
   "metadata": {},
   "outputs": [],
   "source": [
    "mycursor = mydb.cursor()\n",
    "mycursor.execute(\"update search_engine_model set threshold11 = %s where name='A2-B2-C1-D1-E2-F1#1'or name='A2-B2-C1-D1-E2-F2#1' or name='A2-B2-C1-D1-E2-F3#1'\" %sorted_sim_vector[10][1])\n",
    "mycursor.close()\n",
    "mydb.commit()"
   ]
  },
  {
   "cell_type": "code",
   "execution_count": 237,
   "metadata": {},
   "outputs": [],
   "source": [
    "query = pd.read_csv('D:/Windows7SP1x86-disk-images-March2020/firefox40-0-3/after_firefox40-0-3_run1_files.txt')\n",
    "query2=[sen.lower() for sen in query]\n",
    "query_sen = [[text for text in re.split('[/\\t]',doc)] for doc in query2]\n",
    "query_sen = [[text+'/' for text in sen] for sen in query_sen]\n",
    "query_sen=[[ subelt for subelt in elt if subelt != '/' ] for elt in query_sen] # remove '/'\n",
    "sim_vector=model.docvecs.most_similar(positive=[model.infer_vector(query_sen[0])],topn=16)\n",
    "sorted_sim_vector = sorted(sim_vector, key=lambda tup: tup[0])#sort based on document number\n",
    "#sorted_sim_vector"
   ]
  },
  {
   "cell_type": "code",
   "execution_count": 238,
   "metadata": {},
   "outputs": [],
   "source": [
    "mycursor = mydb.cursor()\n",
    "mycursor.execute(\"update search_engine_model set threshold12 = %s where name='A2-B2-C1-D1-E2-F1#1'or name='A2-B2-C1-D1-E2-F2#1' or name='A2-B2-C1-D1-E2-F3#1'\" %sorted_sim_vector[11][1])\n",
    "mycursor.close()\n",
    "mydb.commit()"
   ]
  },
  {
   "cell_type": "code",
   "execution_count": 239,
   "metadata": {},
   "outputs": [],
   "source": [
    "query = pd.read_csv('D:/Windows7SP1x86-disk-images-March2020/python2-6-1/after_python2-6-1_run1_files.txt')\n",
    "query2=[sen.lower() for sen in query]\n",
    "query_sen = [[text for text in re.split('[/\\t]',doc)] for doc in query2]\n",
    "query_sen = [[text+'/' for text in sen] for sen in query_sen]\n",
    "query_sen=[[ subelt for subelt in elt if subelt != '/' ] for elt in query_sen] # remove '/'\n",
    "sim_vector=model.docvecs.most_similar(positive=[model.infer_vector(query_sen[0])],topn=16)\n",
    "sorted_sim_vector = sorted(sim_vector, key=lambda tup: tup[0])#sort based on document number\n",
    "#sorted_sim_vector"
   ]
  },
  {
   "cell_type": "code",
   "execution_count": 240,
   "metadata": {},
   "outputs": [],
   "source": [
    "mycursor = mydb.cursor()\n",
    "mycursor.execute(\"update search_engine_model set threshold13 = %s where name='A2-B2-C1-D1-E2-F1#1'or name='A2-B2-C1-D1-E2-F2#1' or name='A2-B2-C1-D1-E2-F3#1'\" %sorted_sim_vector[12][1])\n",
    "mycursor.close()\n",
    "mydb.commit()"
   ]
  },
  {
   "cell_type": "code",
   "execution_count": 241,
   "metadata": {},
   "outputs": [],
   "source": [
    "query = pd.read_csv('D:/Windows7SP1x86-disk-images-March2020/python2-7-17/after_python2-7-17_run1_files.txt')\n",
    "query2=[sen.lower() for sen in query]\n",
    "query_sen = [[text for text in re.split('[/\\t]',doc)] for doc in query2]\n",
    "query_sen = [[text+'/' for text in sen] for sen in query_sen]\n",
    "query_sen=[[ subelt for subelt in elt if subelt != '/' ] for elt in query_sen] # remove '/'\n",
    "sim_vector=model.docvecs.most_similar(positive=[model.infer_vector(query_sen[0])],topn=16)\n",
    "sorted_sim_vector = sorted(sim_vector, key=lambda tup: tup[0])#sort based on document number\n",
    "#sorted_sim_vector"
   ]
  },
  {
   "cell_type": "code",
   "execution_count": 242,
   "metadata": {},
   "outputs": [],
   "source": [
    "mycursor = mydb.cursor()\n",
    "mycursor.execute(\"update search_engine_model set threshold14 = %s where name='A2-B2-C1-D1-E2-F1#1'or name='A2-B2-C1-D1-E2-F2#1' or name='A2-B2-C1-D1-E2-F3#1'\" %sorted_sim_vector[13][1])\n",
    "mycursor.close()\n",
    "mydb.commit()"
   ]
  },
  {
   "cell_type": "code",
   "execution_count": 243,
   "metadata": {},
   "outputs": [],
   "source": [
    "query = pd.read_csv('D:/Windows7SP1x86-disk-images-March2020/word2003pro/after_word2003pro_run1_files.txt')\n",
    "query2=[sen.lower() for sen in query]\n",
    "query_sen = [[text for text in re.split('[/\\t]',doc)] for doc in query2]\n",
    "query_sen = [[text+'/' for text in sen] for sen in query_sen]\n",
    "query_sen=[[ subelt for subelt in elt if subelt != '/' ] for elt in query_sen] # remove '/'\n",
    "sim_vector=model.docvecs.most_similar(positive=[model.infer_vector(query_sen[0])],topn=16)\n",
    "sorted_sim_vector = sorted(sim_vector, key=lambda tup: tup[0])#sort based on document number\n",
    "#sorted_sim_vector"
   ]
  },
  {
   "cell_type": "code",
   "execution_count": 244,
   "metadata": {},
   "outputs": [],
   "source": [
    "mycursor = mydb.cursor()\n",
    "mycursor.execute(\"update search_engine_model set threshold15 = %s where name='A2-B2-C1-D1-E2-F1#1'or name='A2-B2-C1-D1-E2-F2#1' or name='A2-B2-C1-D1-E2-F3#1'\" %sorted_sim_vector[14][1])\n",
    "mycursor.close()\n",
    "mydb.commit()"
   ]
  },
  {
   "cell_type": "code",
   "execution_count": 245,
   "metadata": {},
   "outputs": [],
   "source": [
    "query = pd.read_csv('D:/Windows7SP1x86-disk-images-March2020/word2010pro/after_word2010pro_run1_files.txt')\n",
    "query2=[sen.lower() for sen in query]\n",
    "query_sen = [[text for text in re.split('[/\\t]',doc)] for doc in query2]\n",
    "query_sen = [[text+'/' for text in sen] for sen in query_sen]\n",
    "query_sen=[[ subelt for subelt in elt if subelt != '/' ] for elt in query_sen] # remove '/'\n",
    "sim_vector=model.docvecs.most_similar(positive=[model.infer_vector(query_sen[0])],topn=16)\n",
    "sorted_sim_vector = sorted(sim_vector, key=lambda tup: tup[0])#sort based on document number\n",
    "#sorted_sim_vector"
   ]
  },
  {
   "cell_type": "code",
   "execution_count": 246,
   "metadata": {},
   "outputs": [],
   "source": [
    "mycursor = mydb.cursor()\n",
    "mycursor.execute(\"update search_engine_model set threshold16 = %s where name='A2-B2-C1-D1-E2-F1#1'or name='A2-B2-C1-D1-E2-F2#1' or name='A2-B2-C1-D1-E2-F3#1'\" %sorted_sim_vector[15][1])\n",
    "mycursor.close()\n",
    "mydb.commit()"
   ]
  },
  {
   "cell_type": "code",
   "execution_count": 247,
   "metadata": {},
   "outputs": [
    {
     "data": {
      "text/plain": [
       "[0.537498,\n",
       " 0.74237,\n",
       " 0.625177,\n",
       " 0.611948,\n",
       " 0.847796,\n",
       " 0.858098,\n",
       " 0.657892,\n",
       " 0.781845,\n",
       " 0.891605,\n",
       " 0.833511,\n",
       " 0.78304,\n",
       " 0.916538,\n",
       " 0.731701,\n",
       " 0.650498,\n",
       " 0.650799,\n",
       " 0.939686]"
      ]
     },
     "execution_count": 247,
     "metadata": {},
     "output_type": "execute_result"
    }
   ],
   "source": [
    "th = [0,0,0,0,0,0,0,0,0,0,0,0,0,0,0,0]\n",
    "mycursor = mydb.cursor()\n",
    "mycursor.execute(\"select * from search_engine_model where name='A2-B2-C1-D1-E2-F1#1'\")\n",
    "result = mycursor.fetchone()\n",
    "th[0] = result[2]\n",
    "th[1] = result[3]\n",
    "th[2] = result[4]\n",
    "th[3] = result[5]\n",
    "th[4] = result[6]\n",
    "th[5] = result[7]\n",
    "th[6] = result[8]\n",
    "th[7] = result[9]\n",
    "th[8] = result[10]\n",
    "th[9] = result[11]\n",
    "th[10] = result[12]\n",
    "th[11] = result[13]\n",
    "th[12] = result[14]\n",
    "th[13] = result[15]\n",
    "th[14] = result[16]\n",
    "th[15] = result[17]\n",
    "th"
   ]
  },
  {
   "cell_type": "code",
   "execution_count": 248,
   "metadata": {},
   "outputs": [],
   "source": [
    "TP1=0\n",
    "TN1=0\n",
    "FP1=0\n",
    "FN1=0\n",
    "TP2=0\n",
    "TN2=0\n",
    "FP2=0\n",
    "FN2=0\n",
    "TP3=0\n",
    "TN3=0\n",
    "FP3=0\n",
    "FN3=0"
   ]
  },
  {
   "cell_type": "markdown",
   "metadata": {},
   "source": [
    "# سپس فاصله ها را تعیین می کنیم"
   ]
  },
  {
   "cell_type": "code",
   "execution_count": 249,
   "metadata": {},
   "outputs": [],
   "source": [
    "elapsed_search=0"
   ]
  },
  {
   "cell_type": "code",
   "execution_count": 250,
   "metadata": {},
   "outputs": [],
   "source": [
    "query = pd.read_csv('D:/WINXPSP3x86-disk-images-March2020/after_first_versions_run1_files.txt')\n",
    "query2=[sen.lower() for sen in query]\n",
    "query_sen = [[text for text in re.split('[/\\t]',doc)] for doc in query2]\n",
    "query_sen = [[text+'/' for text in sen] for sen in query_sen]\n",
    "query_sen=[[ subelt for subelt in elt if subelt != '/' ] for elt in query_sen] # remove '/'\n",
    "before_search=datetime.now()\n",
    "sim_vector=model.docvecs.most_similar(positive=[model.infer_vector(query_sen[0])],topn=16)\n",
    "after_search=datetime.now()\n",
    "elapsed=after_search-before_search\n",
    "elapsed_search=elapsed.total_seconds()+elapsed_search\n",
    "sorted_sim_vector = sorted(sim_vector, key=lambda tup: tup[0])#sort based on document number\n",
    "#sorted_sim_vector"
   ]
  },
  {
   "cell_type": "code",
   "execution_count": 251,
   "metadata": {},
   "outputs": [],
   "source": [
    "mycursor = mydb.cursor()\n",
    "mycursor.execute(\"update search_engine_model set distance1_1 = %s where name='A2-B2-C1-D1-E2-F1#1'or name='A2-B2-C1-D1-E2-F2#1' or name='A2-B2-C1-D1-E2-F3#1'\"%sorted_sim_vector[0][1])\n",
    "mycursor.close()\n",
    "mydb.commit()"
   ]
  },
  {
   "cell_type": "code",
   "execution_count": 252,
   "metadata": {},
   "outputs": [],
   "source": [
    "mycursor = mydb.cursor()\n",
    "mycursor.execute(\"update search_engine_model set distance3_1 = %s where name='A2-B2-C1-D1-E2-F1#1'or name='A2-B2-C1-D1-E2-F2#1' or name='A2-B2-C1-D1-E2-F3#1'\"%sorted_sim_vector[2][1])\n",
    "mycursor.close()\n",
    "mydb.commit()"
   ]
  },
  {
   "cell_type": "code",
   "execution_count": 253,
   "metadata": {},
   "outputs": [],
   "source": [
    "mycursor = mydb.cursor()\n",
    "mycursor.execute(\"update search_engine_model set distance5_1 = %s where name='A2-B2-C1-D1-E2-F1#1'or name='A2-B2-C1-D1-E2-F2#1' or name='A2-B2-C1-D1-E2-F3#1'\"%sorted_sim_vector[4][1])\n",
    "mycursor.close()\n",
    "mydb.commit()"
   ]
  },
  {
   "cell_type": "code",
   "execution_count": 254,
   "metadata": {},
   "outputs": [],
   "source": [
    "mycursor = mydb.cursor()\n",
    "mycursor.execute(\"update search_engine_model set distance7_1 = %s where name='A2-B2-C1-D1-E2-F1#1'or name='A2-B2-C1-D1-E2-F2#1' or name='A2-B2-C1-D1-E2-F3#1'\"%sorted_sim_vector[6][1])\n",
    "mycursor.close()\n",
    "mydb.commit()"
   ]
  },
  {
   "cell_type": "code",
   "execution_count": 255,
   "metadata": {},
   "outputs": [],
   "source": [
    "listofapp = [0,1,2,3,4,5,6,7,8,9,10,11,12,13,14,15]    \n",
    "for i in range(16):\n",
    "    if th[i]!=0:\n",
    "        if i in listofapp:\n",
    "            if (sorted_sim_vector[i][1]-th[i]/2) >= 0:\n",
    "                TP1 = TP1 + 1\n",
    "            else:\n",
    "                FN1 = FN1 +1\n",
    "        else:\n",
    "            if (sorted_sim_vector[i][1]-th[i]/2) >= 0:\n",
    "                FP1 = FP1 + 1\n",
    "            else:\n",
    "                TN1 = TN1 +1"
   ]
  },
  {
   "cell_type": "code",
   "execution_count": 256,
   "metadata": {},
   "outputs": [],
   "source": [
    "listofapp = [0,1,2,3,4,5,6,7,8,9,10,11,12,13,14,15]    \n",
    "for i in range(16):\n",
    "    if th[i]!=0:\n",
    "        if i in listofapp:\n",
    "            if (sorted_sim_vector[i][1]-th[i]/4) >= 0:\n",
    "                TP2 = TP2 + 1\n",
    "            else:\n",
    "                FN2 = FN2 +1\n",
    "        else:\n",
    "            if (sorted_sim_vector[i][1]-th[i]/4) >= 0:\n",
    "                FP2 = FP2 + 1\n",
    "            else:\n",
    "                TN2 = TN2 +1"
   ]
  },
  {
   "cell_type": "code",
   "execution_count": 257,
   "metadata": {},
   "outputs": [],
   "source": [
    "listofapp = [0,1,2,3,4,5,6,7,8,9,10,11,12,13,14,15]    \n",
    "for i in range(16):\n",
    "    if th[i]!=0:\n",
    "        if i in listofapp:\n",
    "            if (sorted_sim_vector[i][1]-th[i]/8) >= 0:\n",
    "                TP3 = TP3 + 1\n",
    "            else:\n",
    "                FN3 = FN3 +1\n",
    "        else:\n",
    "            if (sorted_sim_vector[i][1]-th[i]/8) >= 0:\n",
    "                FP3 = FP3 + 1\n",
    "            else:\n",
    "                TN3 = TN3 +1"
   ]
  },
  {
   "cell_type": "markdown",
   "metadata": {},
   "source": [
    "+++++++++++++++++++++++++++++++++++++++++++++++++++++++++++++++++++++++++++++++++++++++++++++++++++++++++++++++++++++"
   ]
  },
  {
   "cell_type": "code",
   "execution_count": 258,
   "metadata": {},
   "outputs": [],
   "source": [
    "query = pd.read_csv('D:/WINXPSP3x86-disk-images-March2020/after_second_versions_run1_files.txt')\n",
    "query2=[sen.lower() for sen in query]\n",
    "query_sen = [[text for text in re.split('[/\\t]',doc)] for doc in query2]\n",
    "query_sen = [[text+'/' for text in sen] for sen in query_sen]\n",
    "query_sen=[[ subelt for subelt in elt if subelt != '/' ] for elt in query_sen] # remove '/'\n",
    "before_search=datetime.now()\n",
    "sim_vector=model.docvecs.most_similar(positive=[model.infer_vector(query_sen[0])],topn=16)\n",
    "after_search=datetime.now()\n",
    "elapsed=after_search-before_search\n",
    "elapsed_search=elapsed.total_seconds()+elapsed_search\n",
    "sorted_sim_vector = sorted(sim_vector, key=lambda tup: tup[0])#sort based on document number\n",
    "#sorted_sim_vector"
   ]
  },
  {
   "cell_type": "code",
   "execution_count": 259,
   "metadata": {},
   "outputs": [],
   "source": [
    "mycursor = mydb.cursor()\n",
    "mycursor.execute(\"update search_engine_model set distance2_1 = %s where name='A2-B2-C1-D1-E2-F1#1'or name='A2-B2-C1-D1-E2-F2#1' or name='A2-B2-C1-D1-E2-F3#1'\" %sorted_sim_vector[1][1])\n",
    "mycursor.close()\n",
    "mydb.commit()"
   ]
  },
  {
   "cell_type": "code",
   "execution_count": 260,
   "metadata": {},
   "outputs": [],
   "source": [
    "mycursor = mydb.cursor()\n",
    "mycursor.execute(\"update search_engine_model set distance4_1 = %s where name='A2-B2-C1-D1-E2-F1#1'or name='A2-B2-C1-D1-E2-F2#1' or name='A2-B2-C1-D1-E2-F3#1'\" %sorted_sim_vector[3][1])\n",
    "mycursor.close()\n",
    "mydb.commit()"
   ]
  },
  {
   "cell_type": "code",
   "execution_count": 261,
   "metadata": {},
   "outputs": [],
   "source": [
    "mycursor = mydb.cursor()\n",
    "mycursor.execute(\"update search_engine_model set distance6_1 = %s where name='A2-B2-C1-D1-E2-F1#1'or name='A2-B2-C1-D1-E2-F2#1' or name='A2-B2-C1-D1-E2-F3#1'\" %sorted_sim_vector[5][1])\n",
    "mycursor.close()\n",
    "mydb.commit()"
   ]
  },
  {
   "cell_type": "code",
   "execution_count": 262,
   "metadata": {},
   "outputs": [],
   "source": [
    "mycursor = mydb.cursor()\n",
    "mycursor.execute(\"update search_engine_model set distance8_1 = %s where name='A2-B2-C1-D1-E2-F1#1'or name='A2-B2-C1-D1-E2-F2#1' or name='A2-B2-C1-D1-E2-F3#1'\" %sorted_sim_vector[7][1])\n",
    "mycursor.close()\n",
    "mydb.commit()"
   ]
  },
  {
   "cell_type": "code",
   "execution_count": 263,
   "metadata": {},
   "outputs": [],
   "source": [
    "listofapp = [0,1,2,3,4,5,6,7,8,9,10,11,12,13,14,15]     \n",
    "for i in range(16):\n",
    "    if th[i]!=0:\n",
    "        if i in listofapp:\n",
    "            if (sorted_sim_vector[i][1]-th[i]/2) >= 0:\n",
    "                TP1 = TP1 + 1\n",
    "            else:\n",
    "                FN1 = FN1 +1\n",
    "        else:\n",
    "            if (sorted_sim_vector[i][1]-th[i]/2) >= 0:\n",
    "                FP1 = FP1 + 1\n",
    "            else:\n",
    "                TN1 = TN1 +1"
   ]
  },
  {
   "cell_type": "code",
   "execution_count": 264,
   "metadata": {},
   "outputs": [],
   "source": [
    "listofapp = [0,1,2,3,4,5,6,7,8,9,10,11,12,13,14,15]     \n",
    "for i in range(16):\n",
    "    if th[i]!=0:\n",
    "        if i in listofapp:\n",
    "            if (sorted_sim_vector[i][1]-th[i]/4) >= 0:\n",
    "                TP2 = TP2 + 1\n",
    "            else:\n",
    "                FN2 = FN2 +1\n",
    "        else:\n",
    "            if (sorted_sim_vector[i][1]-th[i]/4) >= 0:\n",
    "                FP2 = FP2 + 1\n",
    "            else:\n",
    "                TN2 = TN2 +1"
   ]
  },
  {
   "cell_type": "code",
   "execution_count": 265,
   "metadata": {},
   "outputs": [],
   "source": [
    "listofapp = [0,1,2,3,4,5,6,7,8,9,10,11,12,13,14,15]     \n",
    "for i in range(16):\n",
    "    if th[i]!=0:\n",
    "        if i in listofapp:\n",
    "            if (sorted_sim_vector[i][1]-th[i]/8) >= 0:\n",
    "                TP3 = TP3 + 1\n",
    "            else:\n",
    "                FN3 = FN3 +1\n",
    "        else:\n",
    "            if (sorted_sim_vector[i][1]-th[i]/8) >= 0:\n",
    "                FP3 = FP3 + 1\n",
    "            else:\n",
    "                TN3 = TN3 +1"
   ]
  },
  {
   "cell_type": "markdown",
   "metadata": {},
   "source": [
    "+++++++++++++++++++++++++++++++++++++++++++++++++++++++++++++++++++++++++++++++++++++++++++++++++++++++++++++++++++++"
   ]
  },
  {
   "cell_type": "code",
   "execution_count": 266,
   "metadata": {},
   "outputs": [],
   "source": [
    "query = pd.read_csv('D:/Windows7SP1x86-disk-images-March2020/after_first_versions_run1_files.txt')\n",
    "query2=[sen.lower() for sen in query]\n",
    "query_sen = [[text for text in re.split('[/\\t]',doc)] for doc in query2]\n",
    "query_sen = [[text+'/' for text in sen] for sen in query_sen]\n",
    "query_sen=[[ subelt for subelt in elt if subelt != '/' ] for elt in query_sen] # remove '/'\n",
    "before_search=datetime.now()\n",
    "sim_vector=model.docvecs.most_similar(positive=[model.infer_vector(query_sen[0])],topn=16)\n",
    "after_search=datetime.now()\n",
    "elapsed=after_search-before_search\n",
    "elapsed_search=elapsed.total_seconds()+elapsed_search\n",
    "sorted_sim_vector = sorted(sim_vector, key=lambda tup: tup[0])#sort based on document number\n",
    "#sorted_sim_vector"
   ]
  },
  {
   "cell_type": "code",
   "execution_count": 267,
   "metadata": {},
   "outputs": [],
   "source": [
    "mycursor = mydb.cursor()\n",
    "mycursor.execute(\"update search_engine_model set distance9_1 = %s where name='A2-B2-C1-D1-E2-F1#1'or name='A2-B2-C1-D1-E2-F2#1' or name='A2-B2-C1-D1-E2-F3#1'\" %sorted_sim_vector[8][1])\n",
    "mycursor.close()\n",
    "mydb.commit()"
   ]
  },
  {
   "cell_type": "code",
   "execution_count": 268,
   "metadata": {},
   "outputs": [],
   "source": [
    "mycursor = mydb.cursor()\n",
    "mycursor.execute(\"update search_engine_model set distance11_1 = %s where name='A2-B2-C1-D1-E2-F1#1'or name='A2-B2-C1-D1-E2-F2#1' or name='A2-B2-C1-D1-E2-F3#1'\" %sorted_sim_vector[10][1])\n",
    "mycursor.close()\n",
    "mydb.commit()"
   ]
  },
  {
   "cell_type": "code",
   "execution_count": 269,
   "metadata": {},
   "outputs": [],
   "source": [
    "mycursor = mydb.cursor()\n",
    "mycursor.execute(\"update search_engine_model set distance13_1 = %s where name='A2-B2-C1-D1-E2-F1#1'or name='A2-B2-C1-D1-E2-F2#1' or name='A2-B2-C1-D1-E2-F3#1'\" %sorted_sim_vector[12][1])\n",
    "mycursor.close()\n",
    "mydb.commit()"
   ]
  },
  {
   "cell_type": "code",
   "execution_count": 270,
   "metadata": {},
   "outputs": [],
   "source": [
    "mycursor = mydb.cursor()\n",
    "mycursor.execute(\"update search_engine_model set distance15_1 = %s where name='A2-B2-C1-D1-E2-F1#1'or name='A2-B2-C1-D1-E2-F2#1' or name='A2-B2-C1-D1-E2-F3#1'\" %sorted_sim_vector[14][1])\n",
    "mycursor.close()\n",
    "mydb.commit()"
   ]
  },
  {
   "cell_type": "code",
   "execution_count": 271,
   "metadata": {},
   "outputs": [],
   "source": [
    "listofapp = [0,1,2,3,4,5,6,7,8,9,10,11,12,13,14,15]     \n",
    "for i in range(16):\n",
    "    if th[i]!=0:\n",
    "        if i in listofapp:\n",
    "            if (sorted_sim_vector[i][1]-th[i]/2) >= 0:\n",
    "                TP1 = TP1 + 1\n",
    "            else:\n",
    "                FN1 = FN1 +1\n",
    "        else:\n",
    "            if (sorted_sim_vector[i][1]-th[i]/2) >= 0:\n",
    "                FP1 = FP1 + 1\n",
    "            else:\n",
    "                TN1 = TN1 +1"
   ]
  },
  {
   "cell_type": "code",
   "execution_count": 272,
   "metadata": {},
   "outputs": [],
   "source": [
    "listofapp = [0,1,2,3,4,5,6,7,8,9,10,11,12,13,14,15]     \n",
    "for i in range(16):\n",
    "    if th[i]!=0:\n",
    "        if i in listofapp:\n",
    "            if (sorted_sim_vector[i][1]-th[i]/4) >= 0:\n",
    "                TP2 = TP2 + 1\n",
    "            else:\n",
    "                FN2 = FN2 +1\n",
    "        else:\n",
    "            if (sorted_sim_vector[i][1]-th[i]/4) >= 0:\n",
    "                FP2 = FP2 + 1\n",
    "            else:\n",
    "                TN2 = TN2 +1"
   ]
  },
  {
   "cell_type": "code",
   "execution_count": 273,
   "metadata": {},
   "outputs": [],
   "source": [
    "listofapp = [0,1,2,3,4,5,6,7,8,9,10,11,12,13,14,15]     \n",
    "for i in range(16):\n",
    "    if th[i]!=0:\n",
    "        if i in listofapp:\n",
    "            if (sorted_sim_vector[i][1]-th[i]/8) >= 0:\n",
    "                TP3 = TP3 + 1\n",
    "            else:\n",
    "                FN3 = FN3 +1\n",
    "        else:\n",
    "            if (sorted_sim_vector[i][1]-th[i]/8) >= 0:\n",
    "                FP3 = FP3 + 1\n",
    "            else:\n",
    "                TN3 = TN3 +1"
   ]
  },
  {
   "cell_type": "markdown",
   "metadata": {},
   "source": [
    "+++++++++++++++++++++++++++++++++++++++++++++++++++++++++++++++++++++++++++++++++++++++++++++++++++++++++++++++++++++"
   ]
  },
  {
   "cell_type": "code",
   "execution_count": 274,
   "metadata": {},
   "outputs": [],
   "source": [
    "query = pd.read_csv('D:/Windows7SP1x86-disk-images-March2020/after_second_versions_run1_files.txt')\n",
    "query2=[sen.lower() for sen in query]\n",
    "query_sen = [[text for text in re.split('[/\\t]',doc)] for doc in query2]\n",
    "query_sen = [[text+'/' for text in sen] for sen in query_sen]\n",
    "query_sen=[[ subelt for subelt in elt if subelt != '/' ] for elt in query_sen] # remove '/'\n",
    "before_search=datetime.now()\n",
    "sim_vector=model.docvecs.most_similar(positive=[model.infer_vector(query_sen[0])],topn=16)\n",
    "after_search=datetime.now()\n",
    "elapsed=after_search-before_search\n",
    "elapsed_search=elapsed.total_seconds()+elapsed_search\n",
    "sorted_sim_vector = sorted(sim_vector, key=lambda tup: tup[0])#sort based on document number\n",
    "#sorted_sim_vector"
   ]
  },
  {
   "cell_type": "code",
   "execution_count": 275,
   "metadata": {},
   "outputs": [],
   "source": [
    "mycursor = mydb.cursor()\n",
    "mycursor.execute(\"update search_engine_model set distance10_1 = %s where name='A2-B2-C1-D1-E2-F1#1'or name='A2-B2-C1-D1-E2-F2#1' or name='A2-B2-C1-D1-E2-F3#1'\" %sorted_sim_vector[9][1])\n",
    "mycursor.close()\n",
    "mydb.commit()"
   ]
  },
  {
   "cell_type": "code",
   "execution_count": 276,
   "metadata": {},
   "outputs": [],
   "source": [
    "mycursor = mydb.cursor()\n",
    "mycursor.execute(\"update search_engine_model set distance12_1 = %s where name='A2-B2-C1-D1-E2-F1#1'or name='A2-B2-C1-D1-E2-F2#1' or name='A2-B2-C1-D1-E2-F3#1'\" %sorted_sim_vector[11][1])\n",
    "mycursor.close()\n",
    "mydb.commit()"
   ]
  },
  {
   "cell_type": "code",
   "execution_count": 277,
   "metadata": {},
   "outputs": [],
   "source": [
    "mycursor = mydb.cursor()\n",
    "mycursor.execute(\"update search_engine_model set distance14_1 = %s where name='A2-B2-C1-D1-E2-F1#1'or name='A2-B2-C1-D1-E2-F2#1' or name='A2-B2-C1-D1-E2-F3#1'\" %sorted_sim_vector[13][1])\n",
    "mycursor.close()\n",
    "mydb.commit()"
   ]
  },
  {
   "cell_type": "code",
   "execution_count": 278,
   "metadata": {},
   "outputs": [],
   "source": [
    "mycursor = mydb.cursor()\n",
    "mycursor.execute(\"update search_engine_model set distance16_1 = %s where name='A2-B2-C1-D1-E2-F1#1'or name='A2-B2-C1-D1-E2-F2#1' or name='A2-B2-C1-D1-E2-F3#1'\" %sorted_sim_vector[15][1])\n",
    "mycursor.close()\n",
    "mydb.commit()"
   ]
  },
  {
   "cell_type": "code",
   "execution_count": 279,
   "metadata": {},
   "outputs": [],
   "source": [
    "listofapp = [0,1,2,3,4,5,6,7,8,9,10,11,12,13,14,15]     \n",
    "for i in range(16):\n",
    "    if th[i]!=0:\n",
    "        if i in listofapp:\n",
    "            if (sorted_sim_vector[i][1]-th[i]/2) >= 0:\n",
    "                TP1 = TP1 + 1\n",
    "            else:\n",
    "                FN1 = FN1 +1\n",
    "        else:\n",
    "            if (sorted_sim_vector[i][1]-th[i]/2) >= 0:\n",
    "                FP1 = FP1 + 1\n",
    "            else:\n",
    "                TN1 = TN1 +1"
   ]
  },
  {
   "cell_type": "code",
   "execution_count": 280,
   "metadata": {},
   "outputs": [],
   "source": [
    "listofapp = [0,1,2,3,4,5,6,7,8,9,10,11,12,13,14,15]     \n",
    "for i in range(16):\n",
    "    if th[i]!=0:\n",
    "        if i in listofapp:\n",
    "            if (sorted_sim_vector[i][1]-th[i]/4) >= 0:\n",
    "                TP2 = TP2 + 1\n",
    "            else:\n",
    "                FN2 = FN2 +1\n",
    "        else:\n",
    "            if (sorted_sim_vector[i][1]-th[i]/4) >= 0:\n",
    "                FP2 = FP2 + 1\n",
    "            else:\n",
    "                TN2 = TN2 +1"
   ]
  },
  {
   "cell_type": "code",
   "execution_count": 281,
   "metadata": {},
   "outputs": [],
   "source": [
    "listofapp = [0,1,2,3,4,5,6,7,8,9,10,11,12,13,14,15]     \n",
    "for i in range(16):\n",
    "    if th[i]!=0:\n",
    "        if i in listofapp:\n",
    "            if (sorted_sim_vector[i][1]-th[i]/8) >= 0:\n",
    "                TP3 = TP3 + 1\n",
    "            else:\n",
    "                FN3 = FN3 +1\n",
    "        else:\n",
    "            if (sorted_sim_vector[i][1]-th[i]/8) >= 0:\n",
    "                FP3 = FP3 + 1\n",
    "            else:\n",
    "                TN3 = TN3 +1"
   ]
  },
  {
   "cell_type": "markdown",
   "metadata": {},
   "source": [
    "+++++++++++++++++++++++++++++++++++++++++++++++++++++++++++++++++++++++++++++++++++++++++++++++++++++++++++++++++++++"
   ]
  },
  {
   "cell_type": "code",
   "execution_count": 282,
   "metadata": {},
   "outputs": [],
   "source": [
    "query = pd.read_csv('D:/WINXPSP3x86-disk-images-March2020/after_first_versions_adobe_firefox_python_files.txt')\n",
    "query2=[sen.lower() for sen in query]\n",
    "query_sen = [[text for text in re.split('[/\\t]',doc)] for doc in query2]\n",
    "query_sen = [[text+'/' for text in sen] for sen in query_sen]\n",
    "query_sen=[[ subelt for subelt in elt if subelt != '/' ] for elt in query_sen] # remove '/'\n",
    "before_search=datetime.now()\n",
    "sim_vector=model.docvecs.most_similar(positive=[model.infer_vector(query_sen[0])],topn=16)\n",
    "after_search=datetime.now()\n",
    "elapsed=after_search-before_search\n",
    "elapsed_search=elapsed.total_seconds()+elapsed_search\n",
    "sorted_sim_vector = sorted(sim_vector, key=lambda tup: tup[0])#sort based on document number\n",
    "#sorted_sim_vector"
   ]
  },
  {
   "cell_type": "code",
   "execution_count": 283,
   "metadata": {},
   "outputs": [],
   "source": [
    "mycursor = mydb.cursor()\n",
    "mycursor.execute(\"update search_engine_model set distance1_2 = %s where name='A2-B2-C1-D1-E2-F1#1'or name='A2-B2-C1-D1-E2-F2#1' or name='A2-B2-C1-D1-E2-F3#1'\"%sorted_sim_vector[0][1])\n",
    "mycursor.close()\n",
    "mydb.commit()"
   ]
  },
  {
   "cell_type": "code",
   "execution_count": 284,
   "metadata": {},
   "outputs": [],
   "source": [
    "mycursor = mydb.cursor()\n",
    "mycursor.execute(\"update search_engine_model set distance3_2 = %s where name='A2-B2-C1-D1-E2-F1#1'or name='A2-B2-C1-D1-E2-F2#1' or name='A2-B2-C1-D1-E2-F3#1'\"%sorted_sim_vector[2][1])\n",
    "mycursor.close()\n",
    "mydb.commit()"
   ]
  },
  {
   "cell_type": "code",
   "execution_count": 285,
   "metadata": {},
   "outputs": [],
   "source": [
    "mycursor = mydb.cursor()\n",
    "mycursor.execute(\"update search_engine_model set distance5_2 = %s where name='A2-B2-C1-D1-E2-F1#1'or name='A2-B2-C1-D1-E2-F2#1' or name='A2-B2-C1-D1-E2-F3#1'\"%sorted_sim_vector[4][1])\n",
    "mycursor.close()\n",
    "mydb.commit()"
   ]
  },
  {
   "cell_type": "code",
   "execution_count": 286,
   "metadata": {},
   "outputs": [],
   "source": [
    "listofapp = [0,1,2,3,4,5,8,9,10,11,12,13]     \n",
    "for i in range(16):\n",
    "    if th[i]!=0:\n",
    "        if i in listofapp:\n",
    "            if (sorted_sim_vector[i][1]-th[i]/2) >= 0:\n",
    "                TP1 = TP1 + 1\n",
    "            else:\n",
    "                FN1 = FN1 +1\n",
    "        else:\n",
    "            if (sorted_sim_vector[i][1]-th[i]/2) >= 0:\n",
    "                FP1 = FP1 + 1\n",
    "            else:\n",
    "                TN1 = TN1 +1"
   ]
  },
  {
   "cell_type": "code",
   "execution_count": 287,
   "metadata": {},
   "outputs": [],
   "source": [
    "listofapp = [0,1,2,3,4,5,8,9,10,11,12,13]     \n",
    "for i in range(16):\n",
    "    if th[i]!=0:\n",
    "        if i in listofapp:\n",
    "            if (sorted_sim_vector[i][1]-th[i]/4) >= 0:\n",
    "                TP2 = TP2 + 1\n",
    "            else:\n",
    "                FN2 = FN2 +1\n",
    "        else:\n",
    "            if (sorted_sim_vector[i][1]-th[i]/4) >= 0:\n",
    "                FP2 = FP2 + 1\n",
    "            else:\n",
    "                TN2 = TN2 +1"
   ]
  },
  {
   "cell_type": "code",
   "execution_count": 288,
   "metadata": {},
   "outputs": [],
   "source": [
    "listofapp = [0,1,2,3,4,5,8,9,10,11,12,13]     \n",
    "for i in range(16):\n",
    "    if th[i]!=0:\n",
    "        if i in listofapp:\n",
    "            if (sorted_sim_vector[i][1]-th[i]/8) >= 0:\n",
    "                TP3 = TP3 + 1\n",
    "            else:\n",
    "                FN3 = FN3 +1\n",
    "        else:\n",
    "            if (sorted_sim_vector[i][1]-th[i]/8) >= 0:\n",
    "                FP3 = FP3 + 1\n",
    "            else:\n",
    "                TN3 = TN3 +1"
   ]
  },
  {
   "cell_type": "markdown",
   "metadata": {},
   "source": [
    "+++++++++++++++++++++++++++++++++++++++++++++++++++++++++++++++++++++++++++++++++++++++++++++++++++++++++++++++++++++"
   ]
  },
  {
   "cell_type": "code",
   "execution_count": 289,
   "metadata": {},
   "outputs": [],
   "source": [
    "query = pd.read_csv('D:/WINXPSP3x86-disk-images-March2020/after_first_versions_firefox_python_word_files.txt')\n",
    "query2=[sen.lower() for sen in query]\n",
    "query_sen = [[text for text in re.split('[/\\t]',doc)] for doc in query2]\n",
    "query_sen = [[text+'/' for text in sen] for sen in query_sen]\n",
    "query_sen=[[ subelt for subelt in elt if subelt != '/' ] for elt in query_sen] # remove '/'\n",
    "before_search=datetime.now()\n",
    "sim_vector=model.docvecs.most_similar(positive=[model.infer_vector(query_sen[0])],topn=16)\n",
    "after_search=datetime.now()\n",
    "elapsed=after_search-before_search\n",
    "elapsed_search=elapsed.total_seconds()+elapsed_search\n",
    "sorted_sim_vector = sorted(sim_vector, key=lambda tup: tup[0])#sort based on document number\n",
    "#sorted_sim_vector"
   ]
  },
  {
   "cell_type": "code",
   "execution_count": 290,
   "metadata": {},
   "outputs": [],
   "source": [
    "mycursor = mydb.cursor()\n",
    "mycursor.execute(\"update search_engine_model set distance3_3 = %s where name='A2-B2-C1-D1-E2-F1#1'or name='A2-B2-C1-D1-E2-F2#1' or name='A2-B2-C1-D1-E2-F3#1'\"%sorted_sim_vector[2][1])\n",
    "mycursor.close()\n",
    "mydb.commit()"
   ]
  },
  {
   "cell_type": "code",
   "execution_count": 291,
   "metadata": {},
   "outputs": [],
   "source": [
    "mycursor = mydb.cursor()\n",
    "mycursor.execute(\"update search_engine_model set distance5_3 = %s where name='A2-B2-C1-D1-E2-F1#1'or name='A2-B2-C1-D1-E2-F2#1' or name='A2-B2-C1-D1-E2-F3#1'\"%sorted_sim_vector[4][1])\n",
    "mycursor.close()\n",
    "mydb.commit()"
   ]
  },
  {
   "cell_type": "code",
   "execution_count": 292,
   "metadata": {},
   "outputs": [],
   "source": [
    "mycursor = mydb.cursor()\n",
    "mycursor.execute(\"update search_engine_model set distance7_2 = %s where name='A2-B2-C1-D1-E2-F1#1'or name='A2-B2-C1-D1-E2-F2#1' or name='A2-B2-C1-D1-E2-F3#1'\"%sorted_sim_vector[6][1])\n",
    "mycursor.close()\n",
    "mydb.commit()"
   ]
  },
  {
   "cell_type": "code",
   "execution_count": 293,
   "metadata": {},
   "outputs": [],
   "source": [
    "listofapp = [2,3,4,5,6,7,10,11,12,13,14,15]     \n",
    "for i in range(16):\n",
    "    if th[i]!=0:\n",
    "        if i in listofapp:\n",
    "            if (sorted_sim_vector[i][1]-th[i]/2) >= 0:\n",
    "                TP1 = TP1 + 1\n",
    "            else:\n",
    "                FN1 = FN1 +1\n",
    "        else:\n",
    "            if (sorted_sim_vector[i][1]-th[i]/2) >= 0:\n",
    "                FP1 = FP1 + 1\n",
    "            else:\n",
    "                TN1 = TN1 +1"
   ]
  },
  {
   "cell_type": "code",
   "execution_count": 294,
   "metadata": {},
   "outputs": [],
   "source": [
    "listofapp = [2,3,4,5,6,7,10,11,12,13,14,15]     \n",
    "for i in range(16):\n",
    "    if th[i]!=0:\n",
    "        if i in listofapp:\n",
    "            if (sorted_sim_vector[i][1]-th[i]/4) >= 0:\n",
    "                TP2 = TP2 + 1\n",
    "            else:\n",
    "                FN2 = FN2 +1\n",
    "        else:\n",
    "            if (sorted_sim_vector[i][1]-th[i]/4) >= 0:\n",
    "                FP2 = FP2 + 1\n",
    "            else:\n",
    "                TN2 = TN2 +1"
   ]
  },
  {
   "cell_type": "code",
   "execution_count": 295,
   "metadata": {},
   "outputs": [],
   "source": [
    "listofapp = [2,3,4,5,6,7,10,11,12,13,14,15]     \n",
    "for i in range(16):\n",
    "    if th[i]!=0:\n",
    "        if i in listofapp:\n",
    "            if (sorted_sim_vector[i][1]-th[i]/8) >= 0:\n",
    "                TP3 = TP3 + 1\n",
    "            else:\n",
    "                FN3 = FN3 +1\n",
    "        else:\n",
    "            if (sorted_sim_vector[i][1]-th[i]/8) >= 0:\n",
    "                FP3 = FP3 + 1\n",
    "            else:\n",
    "                TN3 = TN3 +1"
   ]
  },
  {
   "cell_type": "markdown",
   "metadata": {},
   "source": [
    "+++++++++++++++++++++++++++++++++++++++++++++++++++++++++++++++++++++++++++++++++++++++++++++++++++++++++++++++++++++"
   ]
  },
  {
   "cell_type": "code",
   "execution_count": 296,
   "metadata": {},
   "outputs": [],
   "source": [
    "query = pd.read_csv('D:/WINXPSP3x86-disk-images-March2020/after_first_versions_python_word_adobe_files.txt')\n",
    "query2=[sen.lower() for sen in query]\n",
    "query_sen = [[text for text in re.split('[/\\t]',doc)] for doc in query2]\n",
    "query_sen = [[text+'/' for text in sen] for sen in query_sen]\n",
    "query_sen=[[ subelt for subelt in elt if subelt != '/' ] for elt in query_sen] # remove '/'\n",
    "before_search=datetime.now()\n",
    "sim_vector=model.docvecs.most_similar(positive=[model.infer_vector(query_sen[0])],topn=16)\n",
    "after_search=datetime.now()\n",
    "elapsed=after_search-before_search\n",
    "elapsed_search=elapsed.total_seconds()+elapsed_search\n",
    "sorted_sim_vector = sorted(sim_vector, key=lambda tup: tup[0])#sort based on document number\n",
    "#sorted_sim_vector"
   ]
  },
  {
   "cell_type": "code",
   "execution_count": 297,
   "metadata": {},
   "outputs": [],
   "source": [
    "mycursor = mydb.cursor()\n",
    "mycursor.execute(\"update search_engine_model set distance1_3 = %s where name='A2-B2-C1-D1-E2-F1#1'or name='A2-B2-C1-D1-E2-F2#1' or name='A2-B2-C1-D1-E2-F3#1'\"%sorted_sim_vector[0][1])\n",
    "mycursor.close()\n",
    "mydb.commit()"
   ]
  },
  {
   "cell_type": "code",
   "execution_count": 298,
   "metadata": {},
   "outputs": [],
   "source": [
    "mycursor = mydb.cursor()\n",
    "mycursor.execute(\"update search_engine_model set distance5_4 = %s where name='A2-B2-C1-D1-E2-F1#1'or name='A2-B2-C1-D1-E2-F2#1' or name='A2-B2-C1-D1-E2-F3#1'\"%sorted_sim_vector[4][1])\n",
    "mycursor.close()\n",
    "mydb.commit()"
   ]
  },
  {
   "cell_type": "code",
   "execution_count": 299,
   "metadata": {},
   "outputs": [],
   "source": [
    "mycursor = mydb.cursor()\n",
    "mycursor.execute(\"update search_engine_model set distance7_3 = %s where name='A2-B2-C1-D1-E2-F1#1'or name='A2-B2-C1-D1-E2-F2#1' or name='A2-B2-C1-D1-E2-F3#1'\"%sorted_sim_vector[6][1])\n",
    "mycursor.close()\n",
    "mydb.commit()"
   ]
  },
  {
   "cell_type": "code",
   "execution_count": 300,
   "metadata": {},
   "outputs": [],
   "source": [
    "listofapp = [0,1,4,5,6,7,8,9,12,13,14,15]     \n",
    "for i in range(16):\n",
    "    if th[i]!=0:\n",
    "        if i in listofapp:\n",
    "            if (sorted_sim_vector[i][1]-th[i]/2) >= 0:\n",
    "                TP1 = TP1 + 1\n",
    "            else:\n",
    "                FN1 = FN1 +1\n",
    "        else:\n",
    "            if (sorted_sim_vector[i][1]-th[i]/2) >= 0:\n",
    "                FP1 = FP1 + 1\n",
    "            else:\n",
    "                TN1 = TN1 +1"
   ]
  },
  {
   "cell_type": "code",
   "execution_count": 301,
   "metadata": {},
   "outputs": [],
   "source": [
    "listofapp = [0,1,4,5,6,7,8,9,12,13,14,15]     \n",
    "for i in range(16):\n",
    "    if th[i]!=0:\n",
    "        if i in listofapp:\n",
    "            if (sorted_sim_vector[i][1]-th[i]/4) >= 0:\n",
    "                TP2 = TP2 + 1\n",
    "            else:\n",
    "                FN2 = FN2 +1\n",
    "        else:\n",
    "            if (sorted_sim_vector[i][1]-th[i]/4) >= 0:\n",
    "                FP2 = FP2 + 1\n",
    "            else:\n",
    "                TN2 = TN2 +1"
   ]
  },
  {
   "cell_type": "code",
   "execution_count": 302,
   "metadata": {},
   "outputs": [],
   "source": [
    "listofapp = [0,1,4,5,6,7,8,9,12,13,14,15]     \n",
    "for i in range(16):\n",
    "    if th[i]!=0:\n",
    "        if i in listofapp:\n",
    "            if (sorted_sim_vector[i][1]-th[i]/8) >= 0:\n",
    "                TP3 = TP3 + 1\n",
    "            else:\n",
    "                FN3 = FN3 +1\n",
    "        else:\n",
    "            if (sorted_sim_vector[i][1]-th[i]/8) >= 0:\n",
    "                FP3 = FP3 + 1\n",
    "            else:\n",
    "                TN3 = TN3 +1"
   ]
  },
  {
   "cell_type": "markdown",
   "metadata": {},
   "source": [
    "+++++++++++++++++++++++++++++++++++++++++++++++++++++++++++++++++++++++++++++++++++++++++++++++++++++++++++++++++++++"
   ]
  },
  {
   "cell_type": "code",
   "execution_count": 303,
   "metadata": {},
   "outputs": [],
   "source": [
    "query = pd.read_csv('D:/WINXPSP3x86-disk-images-March2020/after_first_versions_word_adobe_firefox_files.txt')\n",
    "query2=[sen.lower() for sen in query]\n",
    "query_sen = [[text for text in re.split('[/\\t]',doc)] for doc in query2]\n",
    "query_sen = [[text+'/' for text in sen] for sen in query_sen]\n",
    "query_sen=[[ subelt for subelt in elt if subelt != '/' ] for elt in query_sen] # remove '/'\n",
    "before_search=datetime.now()\n",
    "sim_vector=model.docvecs.most_similar(positive=[model.infer_vector(query_sen[0])],topn=16)\n",
    "after_search=datetime.now()\n",
    "elapsed=after_search-before_search\n",
    "elapsed_search=elapsed.total_seconds()+elapsed_search\n",
    "sorted_sim_vector = sorted(sim_vector, key=lambda tup: tup[0])#sort based on document number\n",
    "#sorted_sim_vector"
   ]
  },
  {
   "cell_type": "code",
   "execution_count": 304,
   "metadata": {},
   "outputs": [],
   "source": [
    "mycursor = mydb.cursor()\n",
    "mycursor.execute(\"update search_engine_model set distance1_4 = %s where name='A2-B2-C1-D1-E2-F1#1'or name='A2-B2-C1-D1-E2-F2#1' or name='A2-B2-C1-D1-E2-F3#1'\"%sorted_sim_vector[0][1])\n",
    "mycursor.close()\n",
    "mydb.commit()"
   ]
  },
  {
   "cell_type": "code",
   "execution_count": 305,
   "metadata": {},
   "outputs": [],
   "source": [
    "mycursor = mydb.cursor()\n",
    "mycursor.execute(\"update search_engine_model set distance3_4 = %s where name='A2-B2-C1-D1-E2-F1#1'or name='A2-B2-C1-D1-E2-F2#1' or name='A2-B2-C1-D1-E2-F3#1'\"%sorted_sim_vector[2][1])\n",
    "mycursor.close()\n",
    "mydb.commit()"
   ]
  },
  {
   "cell_type": "code",
   "execution_count": 306,
   "metadata": {},
   "outputs": [],
   "source": [
    "mycursor = mydb.cursor()\n",
    "mycursor.execute(\"update search_engine_model set distance7_4 = %s where name='A2-B2-C1-D1-E2-F1#1'or name='A2-B2-C1-D1-E2-F2#1' or name='A2-B2-C1-D1-E2-F3#1'\"%sorted_sim_vector[6][1])\n",
    "mycursor.close()\n",
    "mydb.commit()"
   ]
  },
  {
   "cell_type": "code",
   "execution_count": 307,
   "metadata": {},
   "outputs": [],
   "source": [
    "listofapp = [0,1,2,3,6,7,8,9,10,11,14,15]    \n",
    "for i in range(16):\n",
    "    if th[i]!=0:\n",
    "        if i in listofapp:\n",
    "            if (sorted_sim_vector[i][1]-th[i]/2) >= 0:\n",
    "                TP1 = TP1 + 1\n",
    "            else:\n",
    "                FN1 = FN1 +1\n",
    "        else:\n",
    "            if (sorted_sim_vector[i][1]-th[i]/2) >= 0:\n",
    "                FP1 = FP1 + 1\n",
    "            else:\n",
    "                TN1 = TN1 +1"
   ]
  },
  {
   "cell_type": "code",
   "execution_count": 308,
   "metadata": {},
   "outputs": [],
   "source": [
    "listofapp = [0,1,2,3,6,7,8,9,10,11,14,15]    \n",
    "for i in range(16):\n",
    "    if th[i]!=0:\n",
    "        if i in listofapp:\n",
    "            if (sorted_sim_vector[i][1]-th[i]/4) >= 0:\n",
    "                TP2 = TP2 + 1\n",
    "            else:\n",
    "                FN2 = FN2 +1\n",
    "        else:\n",
    "            if (sorted_sim_vector[i][1]-th[i]/4) >= 0:\n",
    "                FP2 = FP2 + 1\n",
    "            else:\n",
    "                TN2 = TN2 +1"
   ]
  },
  {
   "cell_type": "code",
   "execution_count": 309,
   "metadata": {},
   "outputs": [],
   "source": [
    "listofapp = [0,1,2,3,6,7,8,9,10,11,14,15]     \n",
    "for i in range(16):\n",
    "    if th[i]!=0:\n",
    "        if i in listofapp:\n",
    "            if (sorted_sim_vector[i][1]-th[i]/8) >= 0:\n",
    "                TP3 = TP3 + 1\n",
    "            else:\n",
    "                FN3 = FN3 +1\n",
    "        else:\n",
    "            if (sorted_sim_vector[i][1]-th[i]/8) >= 0:\n",
    "                FP3 = FP3 + 1\n",
    "            else:\n",
    "                TN3 = TN3 +1"
   ]
  },
  {
   "cell_type": "markdown",
   "metadata": {},
   "source": [
    "+++++++++++++++++++++++++++++++++++++++++++++++++++++++++++++++++++++++++++++++++++++++++++++++++++++++++++++++++++++"
   ]
  },
  {
   "cell_type": "code",
   "execution_count": 310,
   "metadata": {},
   "outputs": [],
   "source": [
    "query = pd.read_csv('D:/WINXPSP3x86-disk-images-March2020/after_second_versions_adobe_firefox_python_files.txt')\n",
    "query2=[sen.lower() for sen in query]\n",
    "query_sen = [[text for text in re.split('[/\\t]',doc)] for doc in query2]\n",
    "query_sen = [[text+'/' for text in sen] for sen in query_sen]\n",
    "query_sen=[[ subelt for subelt in elt if subelt != '/' ] for elt in query_sen] # remove '/'\n",
    "before_search=datetime.now()\n",
    "sim_vector=model.docvecs.most_similar(positive=[model.infer_vector(query_sen[0])],topn=16)\n",
    "after_search=datetime.now()\n",
    "elapsed=after_search-before_search\n",
    "elapsed_search=elapsed.total_seconds()+elapsed_search\n",
    "sorted_sim_vector = sorted(sim_vector, key=lambda tup: tup[0])#sort based on document number\n",
    "#sorted_sim_vector"
   ]
  },
  {
   "cell_type": "code",
   "execution_count": 311,
   "metadata": {},
   "outputs": [],
   "source": [
    "mycursor = mydb.cursor()\n",
    "mycursor.execute(\"update search_engine_model set distance2_2 = %s where name='A2-B2-C1-D1-E2-F1#1'or name='A2-B2-C1-D1-E2-F2#1' or name='A2-B2-C1-D1-E2-F3#1'\"%sorted_sim_vector[1][1])\n",
    "mycursor.close()\n",
    "mydb.commit()"
   ]
  },
  {
   "cell_type": "code",
   "execution_count": 312,
   "metadata": {},
   "outputs": [],
   "source": [
    "mycursor = mydb.cursor()\n",
    "mycursor.execute(\"update search_engine_model set distance4_2 = %s where name='A2-B2-C1-D1-E2-F1#1'or name='A2-B2-C1-D1-E2-F2#1' or name='A2-B2-C1-D1-E2-F3#1'\"%sorted_sim_vector[3][1])\n",
    "mycursor.close()\n",
    "mydb.commit()"
   ]
  },
  {
   "cell_type": "code",
   "execution_count": 313,
   "metadata": {},
   "outputs": [],
   "source": [
    "mycursor = mydb.cursor()\n",
    "mycursor.execute(\"update search_engine_model set distance6_2 = %s where name='A2-B2-C1-D1-E2-F1#1'or name='A2-B2-C1-D1-E2-F2#1' or name='A2-B2-C1-D1-E2-F3#1'\"%sorted_sim_vector[5][1])\n",
    "mycursor.close()\n",
    "mydb.commit()"
   ]
  },
  {
   "cell_type": "code",
   "execution_count": 314,
   "metadata": {},
   "outputs": [],
   "source": [
    "listofapp = [0,1,2,3,4,5,8,9,10,11,12,13]    \n",
    "for i in range(16):\n",
    "    if th[i]!=0:\n",
    "        if i in listofapp:\n",
    "            if (sorted_sim_vector[i][1]-th[i]/2) >= 0:\n",
    "                TP1 = TP1 + 1\n",
    "            else:\n",
    "                FN1 = FN1 +1\n",
    "        else:\n",
    "            if (sorted_sim_vector[i][1]-th[i]/2) >= 0:\n",
    "                FP1 = FP1 + 1\n",
    "            else:\n",
    "                TN1 = TN1 +1"
   ]
  },
  {
   "cell_type": "code",
   "execution_count": 315,
   "metadata": {},
   "outputs": [],
   "source": [
    "listofapp = [0,1,2,3,4,5,8,9,10,11,12,13]    \n",
    "for i in range(16):\n",
    "    if th[i]!=0:\n",
    "        if i in listofapp:\n",
    "            if (sorted_sim_vector[i][1]-th[i]/4) >= 0:\n",
    "                TP2 = TP2 + 1\n",
    "            else:\n",
    "                FN2 = FN2 +1\n",
    "        else:\n",
    "            if (sorted_sim_vector[i][1]-th[i]/4) >= 0:\n",
    "                FP2 = FP2 + 1\n",
    "            else:\n",
    "                TN2 = TN2 +1"
   ]
  },
  {
   "cell_type": "code",
   "execution_count": 316,
   "metadata": {},
   "outputs": [],
   "source": [
    "listofapp = [0,1,2,3,4,5,8,9,10,11,12,13]     \n",
    "for i in range(16):\n",
    "    if th[i]!=0:\n",
    "        if i in listofapp:\n",
    "            if (sorted_sim_vector[i][1]-th[i]/8) >= 0:\n",
    "                TP3 = TP3 + 1\n",
    "            else:\n",
    "                FN3 = FN3 +1\n",
    "        else:\n",
    "            if (sorted_sim_vector[i][1]-th[i]/8) >= 0:\n",
    "                FP3 = FP3 + 1\n",
    "            else:\n",
    "                TN3 = TN3 +1"
   ]
  },
  {
   "cell_type": "markdown",
   "metadata": {},
   "source": [
    "+++++++++++++++++++++++++++++++++++++++++++++++++++++++++++++++++++++++++++++++++++++++++++++++++++++++++++++++++++++"
   ]
  },
  {
   "cell_type": "code",
   "execution_count": 317,
   "metadata": {},
   "outputs": [],
   "source": [
    "query = pd.read_csv('D:/WINXPSP3x86-disk-images-March2020/after_second_versions_firefox_python_word_files.txt')\n",
    "query2=[sen.lower() for sen in query]\n",
    "query_sen = [[text for text in re.split('[/\\t]',doc)] for doc in query2]\n",
    "query_sen = [[text+'/' for text in sen] for sen in query_sen]\n",
    "query_sen=[[ subelt for subelt in elt if subelt != '/' ] for elt in query_sen] # remove '/'\n",
    "before_search=datetime.now()\n",
    "sim_vector=model.docvecs.most_similar(positive=[model.infer_vector(query_sen[0])],topn=16)\n",
    "after_search=datetime.now()\n",
    "elapsed=after_search-before_search\n",
    "elapsed_search=elapsed.total_seconds()+elapsed_search\n",
    "sorted_sim_vector = sorted(sim_vector, key=lambda tup: tup[0])#sort based on document number\n",
    "#sorted_sim_vector"
   ]
  },
  {
   "cell_type": "code",
   "execution_count": 318,
   "metadata": {},
   "outputs": [],
   "source": [
    "mycursor = mydb.cursor()\n",
    "mycursor.execute(\"update search_engine_model set distance4_3 = %s where name='A2-B2-C1-D1-E2-F1#1'or name='A2-B2-C1-D1-E2-F2#1' or name='A2-B2-C1-D1-E2-F3#1'\"%sorted_sim_vector[3][1])\n",
    "mycursor.close()\n",
    "mydb.commit()"
   ]
  },
  {
   "cell_type": "code",
   "execution_count": 319,
   "metadata": {},
   "outputs": [],
   "source": [
    "mycursor = mydb.cursor()\n",
    "mycursor.execute(\"update search_engine_model set distance6_3 = %s where name='A2-B2-C1-D1-E2-F1#1'or name='A2-B2-C1-D1-E2-F2#1' or name='A2-B2-C1-D1-E2-F3#1'\"%sorted_sim_vector[5][1])\n",
    "mycursor.close()\n",
    "mydb.commit()"
   ]
  },
  {
   "cell_type": "code",
   "execution_count": 320,
   "metadata": {},
   "outputs": [],
   "source": [
    "mycursor = mydb.cursor()\n",
    "mycursor.execute(\"update search_engine_model set distance8_2 = %s where name='A2-B2-C1-D1-E2-F1#1'or name='A2-B2-C1-D1-E2-F2#1' or name='A2-B2-C1-D1-E2-F3#1'\"%sorted_sim_vector[7][1])\n",
    "mycursor.close()\n",
    "mydb.commit()"
   ]
  },
  {
   "cell_type": "code",
   "execution_count": 321,
   "metadata": {},
   "outputs": [],
   "source": [
    "listofapp = [2,3,4,5,6,7,10,11,12,13,14,15]     \n",
    "for i in range(16):\n",
    "    if th[i]!=0:\n",
    "        if i in listofapp:\n",
    "            if (sorted_sim_vector[i][1]-th[i]/2) >= 0:\n",
    "                TP1 = TP1 + 1\n",
    "            else:\n",
    "                FN1 = FN1 +1\n",
    "        else:\n",
    "            if (sorted_sim_vector[i][1]-th[i]/2) >= 0:\n",
    "                FP1 = FP1 + 1\n",
    "            else:\n",
    "                TN1 = TN1 +1"
   ]
  },
  {
   "cell_type": "code",
   "execution_count": 322,
   "metadata": {},
   "outputs": [],
   "source": [
    "listofapp = [2,3,4,5,6,7,10,11,12,13,14,15]        \n",
    "for i in range(16):\n",
    "    if th[i]!=0:\n",
    "        if i in listofapp:\n",
    "            if (sorted_sim_vector[i][1]-th[i]/4) >= 0:\n",
    "                TP2 = TP2 + 1\n",
    "            else:\n",
    "                FN2 = FN2 +1\n",
    "        else:\n",
    "            if (sorted_sim_vector[i][1]-th[i]/4) >= 0:\n",
    "                FP2 = FP2 + 1\n",
    "            else:\n",
    "                TN2 = TN2 +1"
   ]
  },
  {
   "cell_type": "code",
   "execution_count": 323,
   "metadata": {},
   "outputs": [],
   "source": [
    "listofapp = [2,3,4,5,6,7,10,11,12,13,14,15]     \n",
    "for i in range(16):\n",
    "    if th[i]!=0:\n",
    "        if i in listofapp:\n",
    "            if (sorted_sim_vector[i][1]-th[i]/8) >= 0:\n",
    "                TP3 = TP3 + 1\n",
    "            else:\n",
    "                FN3 = FN3 +1\n",
    "        else:\n",
    "            if (sorted_sim_vector[i][1]-th[i]/8) >= 0:\n",
    "                FP3 = FP3 + 1\n",
    "            else:\n",
    "                TN3 = TN3 +1"
   ]
  },
  {
   "cell_type": "markdown",
   "metadata": {},
   "source": [
    "+++++++++++++++++++++++++++++++++++++++++++++++++++++++++++++++++++++++++++++++++++++++++++++++++++++++++++++++++++++"
   ]
  },
  {
   "cell_type": "code",
   "execution_count": 324,
   "metadata": {},
   "outputs": [],
   "source": [
    "query = pd.read_csv('D:/WINXPSP3x86-disk-images-March2020/after_second_versions_python_word_adobe_files.txt')\n",
    "query2=[sen.lower() for sen in query]\n",
    "query_sen = [[text for text in re.split('[/\\t]',doc)] for doc in query2]\n",
    "query_sen = [[text+'/' for text in sen] for sen in query_sen]\n",
    "query_sen=[[ subelt for subelt in elt if subelt != '/' ] for elt in query_sen] # remove '/'\n",
    "before_search=datetime.now()\n",
    "sim_vector=model.docvecs.most_similar(positive=[model.infer_vector(query_sen[0])],topn=16)\n",
    "after_search=datetime.now()\n",
    "elapsed=after_search-before_search\n",
    "elapsed_search=elapsed.total_seconds()+elapsed_search\n",
    "sorted_sim_vector = sorted(sim_vector, key=lambda tup: tup[0])#sort based on document number\n",
    "#sorted_sim_vector"
   ]
  },
  {
   "cell_type": "code",
   "execution_count": 325,
   "metadata": {},
   "outputs": [],
   "source": [
    "mycursor = mydb.cursor()\n",
    "mycursor.execute(\"update search_engine_model set distance2_3 = %s where name='A2-B2-C1-D1-E2-F1#1'or name='A2-B2-C1-D1-E2-F2#1' or name='A2-B2-C1-D1-E2-F3#1'\"%sorted_sim_vector[1][1])\n",
    "mycursor.close()\n",
    "mydb.commit()"
   ]
  },
  {
   "cell_type": "code",
   "execution_count": 326,
   "metadata": {},
   "outputs": [],
   "source": [
    "mycursor = mydb.cursor()\n",
    "mycursor.execute(\"update search_engine_model set distance6_4 = %s where name='A2-B2-C1-D1-E2-F1#1'or name='A2-B2-C1-D1-E2-F2#1' or name='A2-B2-C1-D1-E2-F3#1'\"%sorted_sim_vector[5][1])\n",
    "mycursor.close()\n",
    "mydb.commit()"
   ]
  },
  {
   "cell_type": "code",
   "execution_count": 327,
   "metadata": {},
   "outputs": [],
   "source": [
    "mycursor = mydb.cursor()\n",
    "mycursor.execute(\"update search_engine_model set distance8_3 = %s where name='A2-B2-C1-D1-E2-F1#1'or name='A2-B2-C1-D1-E2-F2#1' or name='A2-B2-C1-D1-E2-F3#1'\"%sorted_sim_vector[7][1])\n",
    "mycursor.close()\n",
    "mydb.commit()"
   ]
  },
  {
   "cell_type": "code",
   "execution_count": 328,
   "metadata": {},
   "outputs": [],
   "source": [
    "listofapp = [0,1,4,5,6,7,8,9,12,13,14,15]     \n",
    "for i in range(16):\n",
    "    if th[i]!=0:\n",
    "        if i in listofapp:\n",
    "            if (sorted_sim_vector[i][1]-th[i]/2) >= 0:\n",
    "                TP1 = TP1 + 1\n",
    "            else:\n",
    "                FN1 = FN1 +1\n",
    "        else:\n",
    "            if (sorted_sim_vector[i][1]-th[i]/2) >= 0:\n",
    "                FP1 = FP1 + 1\n",
    "            else:\n",
    "                TN1 = TN1 +1"
   ]
  },
  {
   "cell_type": "code",
   "execution_count": 329,
   "metadata": {},
   "outputs": [],
   "source": [
    "listofapp = [0,1,4,5,6,7,8,9,12,13,14,15]      \n",
    "for i in range(16):\n",
    "    if th[i]!=0:\n",
    "        if i in listofapp:\n",
    "            if (sorted_sim_vector[i][1]-th[i]/4) >= 0:\n",
    "                TP2 = TP2 + 1\n",
    "            else:\n",
    "                FN2 = FN2 +1\n",
    "        else:\n",
    "            if (sorted_sim_vector[i][1]-th[i]/4) >= 0:\n",
    "                FP2 = FP2 + 1\n",
    "            else:\n",
    "                TN2 = TN2 +1"
   ]
  },
  {
   "cell_type": "code",
   "execution_count": 330,
   "metadata": {},
   "outputs": [],
   "source": [
    "listofapp = [0,1,4,5,6,7,8,9,12,13,14,15]     \n",
    "for i in range(16):\n",
    "    if th[i]!=0:\n",
    "        if i in listofapp:\n",
    "            if (sorted_sim_vector[i][1]-th[i]/8) >= 0:\n",
    "                TP3 = TP3 + 1\n",
    "            else:\n",
    "                FN3 = FN3 +1\n",
    "        else:\n",
    "            if (sorted_sim_vector[i][1]-th[i]/8) >= 0:\n",
    "                FP3 = FP3 + 1\n",
    "            else:\n",
    "                TN3 = TN3 +1"
   ]
  },
  {
   "cell_type": "markdown",
   "metadata": {},
   "source": [
    "+++++++++++++++++++++++++++++++++++++++++++++++++++++++++++++++++++++++++++++++++++++++++++++++++++++++++++++++++++++"
   ]
  },
  {
   "cell_type": "code",
   "execution_count": 331,
   "metadata": {},
   "outputs": [],
   "source": [
    "query = pd.read_csv('D:/WINXPSP3x86-disk-images-March2020/after_second_versions_word_adobe_firefox_files.txt')\n",
    "query2=[sen.lower() for sen in query]\n",
    "query_sen = [[text for text in re.split('[/\\t]',doc)] for doc in query2]\n",
    "query_sen = [[text+'/' for text in sen] for sen in query_sen]\n",
    "query_sen=[[ subelt for subelt in elt if subelt != '/' ] for elt in query_sen] # remove '/'\n",
    "before_search=datetime.now()\n",
    "sim_vector=model.docvecs.most_similar(positive=[model.infer_vector(query_sen[0])],topn=16)\n",
    "after_search=datetime.now()\n",
    "elapsed=after_search-before_search\n",
    "elapsed_search=elapsed.total_seconds()+elapsed_search\n",
    "sorted_sim_vector = sorted(sim_vector, key=lambda tup: tup[0])#sort based on document number\n",
    "#sorted_sim_vector"
   ]
  },
  {
   "cell_type": "code",
   "execution_count": 332,
   "metadata": {},
   "outputs": [],
   "source": [
    "mycursor = mydb.cursor()\n",
    "mycursor.execute(\"update search_engine_model set distance2_4 = %s where name='A2-B2-C1-D1-E2-F1#1'or name='A2-B2-C1-D1-E2-F2#1' or name='A2-B2-C1-D1-E2-F3#1'\"%sorted_sim_vector[1][1])\n",
    "mycursor.close()\n",
    "mydb.commit()"
   ]
  },
  {
   "cell_type": "code",
   "execution_count": 333,
   "metadata": {},
   "outputs": [],
   "source": [
    "mycursor = mydb.cursor()\n",
    "mycursor.execute(\"update search_engine_model set distance4_4 = %s where name='A2-B2-C1-D1-E2-F1#1'or name='A2-B2-C1-D1-E2-F2#1' or name='A2-B2-C1-D1-E2-F3#1'\"%sorted_sim_vector[3][1])\n",
    "mycursor.close()\n",
    "mydb.commit()"
   ]
  },
  {
   "cell_type": "code",
   "execution_count": 334,
   "metadata": {},
   "outputs": [],
   "source": [
    "mycursor = mydb.cursor()\n",
    "mycursor.execute(\"update search_engine_model set distance8_4 = %s where name='A2-B2-C1-D1-E2-F1#1'or name='A2-B2-C1-D1-E2-F2#1' or name='A2-B2-C1-D1-E2-F3#1'\"%sorted_sim_vector[7][1])\n",
    "mycursor.close()\n",
    "mydb.commit()"
   ]
  },
  {
   "cell_type": "code",
   "execution_count": 335,
   "metadata": {},
   "outputs": [],
   "source": [
    "listofapp = [0,1,2,3,6,7,8,9,10,11,14,15]    \n",
    "for i in range(16):\n",
    "    if th[i]!=0:\n",
    "        if i in listofapp:\n",
    "            if (sorted_sim_vector[i][1]-th[i]/2) >= 0:\n",
    "                TP1 = TP1 + 1\n",
    "            else:\n",
    "                FN1 = FN1 +1\n",
    "        else:\n",
    "            if (sorted_sim_vector[i][1]-th[i]/2) >= 0:\n",
    "                FP1 = FP1 + 1\n",
    "            else:\n",
    "                TN1 = TN1 +1"
   ]
  },
  {
   "cell_type": "code",
   "execution_count": 336,
   "metadata": {},
   "outputs": [],
   "source": [
    "listofapp = [0,1,2,3,6,7,8,9,10,11,14,15]     \n",
    "for i in range(16):\n",
    "    if th[i]!=0:\n",
    "        if i in listofapp:\n",
    "            if (sorted_sim_vector[i][1]-th[i]/4) >= 0:\n",
    "                TP2 = TP2 + 1\n",
    "            else:\n",
    "                FN2 = FN2 +1\n",
    "        else:\n",
    "            if (sorted_sim_vector[i][1]-th[i]/4) >= 0:\n",
    "                FP2 = FP2 + 1\n",
    "            else:\n",
    "                TN2 = TN2 +1"
   ]
  },
  {
   "cell_type": "code",
   "execution_count": 337,
   "metadata": {},
   "outputs": [],
   "source": [
    "listofapp = [0,1,2,3,6,7,8,9,10,11,14,15]     \n",
    "for i in range(16):\n",
    "    if th[i]!=0:\n",
    "        if i in listofapp:\n",
    "            if (sorted_sim_vector[i][1]-th[i]/8) >= 0:\n",
    "                TP3 = TP3 + 1\n",
    "            else:\n",
    "                FN3 = FN3 +1\n",
    "        else:\n",
    "            if (sorted_sim_vector[i][1]-th[i]/8) >= 0:\n",
    "                FP3 = FP3 + 1\n",
    "            else:\n",
    "                TN3 = TN3 +1"
   ]
  },
  {
   "cell_type": "markdown",
   "metadata": {},
   "source": [
    "+++++++++++++++++++++++++++++++++++++++++++++++++++++++++++++++++++++++++++++++++++++++++++++++++++++++++++++++++++++"
   ]
  },
  {
   "cell_type": "code",
   "execution_count": 338,
   "metadata": {},
   "outputs": [],
   "source": [
    "query = pd.read_csv('D:/Windows7SP1x86-disk-images-March2020/after_first_versions_adobe_firefox_python_files.txt')\n",
    "query2=[sen.lower() for sen in query]\n",
    "query_sen = [[text for text in re.split('[/\\t]',doc)] for doc in query2]\n",
    "query_sen = [[text+'/' for text in sen] for sen in query_sen]\n",
    "query_sen=[[ subelt for subelt in elt if subelt != '/' ] for elt in query_sen] # remove '/'\n",
    "before_search=datetime.now()\n",
    "sim_vector=model.docvecs.most_similar(positive=[model.infer_vector(query_sen[0])],topn=16)\n",
    "after_search=datetime.now()\n",
    "elapsed=after_search-before_search\n",
    "elapsed_search=elapsed.total_seconds()+elapsed_search\n",
    "sorted_sim_vector = sorted(sim_vector, key=lambda tup: tup[0])#sort based on document number\n",
    "#sorted_sim_vector"
   ]
  },
  {
   "cell_type": "code",
   "execution_count": 339,
   "metadata": {},
   "outputs": [],
   "source": [
    "mycursor = mydb.cursor()\n",
    "mycursor.execute(\"update search_engine_model set distance9_2 = %s where name='A2-B2-C1-D1-E2-F1#1'or name='A2-B2-C1-D1-E2-F2#1' or name='A2-B2-C1-D1-E2-F3#1'\"%sorted_sim_vector[8][1])\n",
    "mycursor.close()\n",
    "mydb.commit()"
   ]
  },
  {
   "cell_type": "code",
   "execution_count": 340,
   "metadata": {},
   "outputs": [],
   "source": [
    "mycursor = mydb.cursor()\n",
    "mycursor.execute(\"update search_engine_model set distance11_2 = %s where name='A2-B2-C1-D1-E2-F1#1'or name='A2-B2-C1-D1-E2-F2#1' or name='A2-B2-C1-D1-E2-F3#1'\"%sorted_sim_vector[10][1])\n",
    "mycursor.close()\n",
    "mydb.commit()"
   ]
  },
  {
   "cell_type": "code",
   "execution_count": 341,
   "metadata": {},
   "outputs": [],
   "source": [
    "mycursor = mydb.cursor()\n",
    "mycursor.execute(\"update search_engine_model set distance13_2 = %s where name='A2-B2-C1-D1-E2-F1#1'or name='A2-B2-C1-D1-E2-F2#1' or name='A2-B2-C1-D1-E2-F3#1'\"%sorted_sim_vector[12][1])\n",
    "mycursor.close()\n",
    "mydb.commit()"
   ]
  },
  {
   "cell_type": "code",
   "execution_count": 342,
   "metadata": {},
   "outputs": [],
   "source": [
    "listofapp = [0,1,2,3,4,5,8,9,10,11,12,13]    \n",
    "for i in range(16):\n",
    "    if th[i]!=0:\n",
    "        if i in listofapp:\n",
    "            if (sorted_sim_vector[i][1]-th[i]/2) >= 0:\n",
    "                TP1 = TP1 + 1\n",
    "            else:\n",
    "                FN1 = FN1 +1\n",
    "        else:\n",
    "            if (sorted_sim_vector[i][1]-th[i]/2) >= 0:\n",
    "                FP1 = FP1 + 1\n",
    "            else:\n",
    "                TN1 = TN1 +1"
   ]
  },
  {
   "cell_type": "code",
   "execution_count": 343,
   "metadata": {},
   "outputs": [],
   "source": [
    "listofapp = [0,1,2,3,4,5,8,9,10,11,12,13]     \n",
    "for i in range(16):\n",
    "    if th[i]!=0:\n",
    "        if i in listofapp:\n",
    "            if (sorted_sim_vector[i][1]-th[i]/4) >= 0:\n",
    "                TP2 = TP2 + 1\n",
    "            else:\n",
    "                FN2 = FN2 +1\n",
    "        else:\n",
    "            if (sorted_sim_vector[i][1]-th[i]/4) >= 0:\n",
    "                FP2 = FP2 + 1\n",
    "            else:\n",
    "                TN2 = TN2 +1"
   ]
  },
  {
   "cell_type": "code",
   "execution_count": 344,
   "metadata": {},
   "outputs": [],
   "source": [
    "listofapp = [0,1,2,3,4,5,8,9,10,11,12,13]     \n",
    "for i in range(16):\n",
    "    if th[i]!=0:\n",
    "        if i in listofapp:\n",
    "            if (sorted_sim_vector[i][1]-th[i]/8) >= 0:\n",
    "                TP3 = TP3 + 1\n",
    "            else:\n",
    "                FN3 = FN3 +1\n",
    "        else:\n",
    "            if (sorted_sim_vector[i][1]-th[i]/8) >= 0:\n",
    "                FP3 = FP3 + 1\n",
    "            else:\n",
    "                TN3 = TN3 +1"
   ]
  },
  {
   "cell_type": "markdown",
   "metadata": {},
   "source": [
    "+++++++++++++++++++++++++++++++++++++++++++++++++++++++++++++++++++++++++++++++++++++++++++++++++++++++++++++++++++++"
   ]
  },
  {
   "cell_type": "code",
   "execution_count": 345,
   "metadata": {},
   "outputs": [],
   "source": [
    "query = pd.read_csv('D:/Windows7SP1x86-disk-images-March2020/after_first_versions_firefox_python_word_files.txt')\n",
    "query2=[sen.lower() for sen in query]\n",
    "query_sen = [[text for text in re.split('[/\\t]',doc)] for doc in query2]\n",
    "query_sen = [[text+'/' for text in sen] for sen in query_sen]\n",
    "query_sen=[[ subelt for subelt in elt if subelt != '/' ] for elt in query_sen] # remove '/'\n",
    "before_search=datetime.now()\n",
    "sim_vector=model.docvecs.most_similar(positive=[model.infer_vector(query_sen[0])],topn=16)\n",
    "after_search=datetime.now()\n",
    "elapsed=after_search-before_search\n",
    "elapsed_search=elapsed.total_seconds()+elapsed_search\n",
    "sorted_sim_vector = sorted(sim_vector, key=lambda tup: tup[0])#sort based on document number\n",
    "#sorted_sim_vector"
   ]
  },
  {
   "cell_type": "code",
   "execution_count": 346,
   "metadata": {},
   "outputs": [],
   "source": [
    "mycursor = mydb.cursor()\n",
    "mycursor.execute(\"update search_engine_model set distance11_3 = %s where name='A2-B2-C1-D1-E2-F1#1'or name='A2-B2-C1-D1-E2-F2#1' or name='A2-B2-C1-D1-E2-F3#1'\"%sorted_sim_vector[10][1])\n",
    "mycursor.close()\n",
    "mydb.commit()"
   ]
  },
  {
   "cell_type": "code",
   "execution_count": 347,
   "metadata": {},
   "outputs": [],
   "source": [
    "mycursor = mydb.cursor()\n",
    "mycursor.execute(\"update search_engine_model set distance13_3 = %s where name='A2-B2-C1-D1-E2-F1#1'or name='A2-B2-C1-D1-E2-F2#1' or name='A2-B2-C1-D1-E2-F3#1'\"%sorted_sim_vector[12][1])\n",
    "mycursor.close()\n",
    "mydb.commit()"
   ]
  },
  {
   "cell_type": "code",
   "execution_count": 348,
   "metadata": {},
   "outputs": [],
   "source": [
    "mycursor = mydb.cursor()\n",
    "mycursor.execute(\"update search_engine_model set distance15_2 = %s where name='A2-B2-C1-D1-E2-F1#1'or name='A2-B2-C1-D1-E2-F2#1' or name='A2-B2-C1-D1-E2-F3#1'\"%sorted_sim_vector[14][1])\n",
    "mycursor.close()\n",
    "mydb.commit()"
   ]
  },
  {
   "cell_type": "code",
   "execution_count": 349,
   "metadata": {},
   "outputs": [],
   "source": [
    "listofapp = [2,3,4,5,6,7,10,11,12,13,14,15]    \n",
    "for i in range(16):\n",
    "    if th[i]!=0:\n",
    "        if i in listofapp:\n",
    "            if (sorted_sim_vector[i][1]-th[i]/2) >= 0:\n",
    "                TP1 = TP1 + 1\n",
    "            else:\n",
    "                FN1 = FN1 +1\n",
    "        else:\n",
    "            if (sorted_sim_vector[i][1]-th[i]/2) >= 0:\n",
    "                FP1 = FP1 + 1\n",
    "            else:\n",
    "                TN1 = TN1 +1"
   ]
  },
  {
   "cell_type": "code",
   "execution_count": 350,
   "metadata": {},
   "outputs": [],
   "source": [
    "listofapp = [2,3,4,5,6,7,10,11,12,13,14,15]     \n",
    "for i in range(16):\n",
    "    if th[i]!=0:\n",
    "        if i in listofapp:\n",
    "            if (sorted_sim_vector[i][1]-th[i]/4) >= 0:\n",
    "                TP2 = TP2 + 1\n",
    "            else:\n",
    "                FN2 = FN2 +1\n",
    "        else:\n",
    "            if (sorted_sim_vector[i][1]-th[i]/4) >= 0:\n",
    "                FP2 = FP2 + 1\n",
    "            else:\n",
    "                TN2 = TN2 +1"
   ]
  },
  {
   "cell_type": "code",
   "execution_count": 351,
   "metadata": {},
   "outputs": [],
   "source": [
    "listofapp = [2,3,4,5,6,7,10,11,12,13,14,15]     \n",
    "for i in range(16):\n",
    "    if th[i]!=0:\n",
    "        if i in listofapp:\n",
    "            if (sorted_sim_vector[i][1]-th[i]/8) >= 0:\n",
    "                TP3 = TP3 + 1\n",
    "            else:\n",
    "                FN3 = FN3 +1\n",
    "        else:\n",
    "            if (sorted_sim_vector[i][1]-th[i]/8) >= 0:\n",
    "                FP3 = FP3 + 1\n",
    "            else:\n",
    "                TN3 = TN3 +1"
   ]
  },
  {
   "cell_type": "markdown",
   "metadata": {},
   "source": [
    "+++++++++++++++++++++++++++++++++++++++++++++++++++++++++++++++++++++++++++++++++++++++++++++++++++++++++++++++++++++"
   ]
  },
  {
   "cell_type": "code",
   "execution_count": 352,
   "metadata": {},
   "outputs": [],
   "source": [
    "query = pd.read_csv('D:/Windows7SP1x86-disk-images-March2020/after_first_versions_python_word_adobe_files.txt')\n",
    "query2=[sen.lower() for sen in query]\n",
    "query_sen = [[text for text in re.split('[/\\t]',doc)] for doc in query2]\n",
    "query_sen = [[text+'/' for text in sen] for sen in query_sen]\n",
    "query_sen=[[ subelt for subelt in elt if subelt != '/' ] for elt in query_sen] # remove '/'\n",
    "before_search=datetime.now()\n",
    "sim_vector=model.docvecs.most_similar(positive=[model.infer_vector(query_sen[0])],topn=16)\n",
    "after_search=datetime.now()\n",
    "elapsed=after_search-before_search\n",
    "elapsed_search=elapsed.total_seconds()+elapsed_search\n",
    "sorted_sim_vector = sorted(sim_vector, key=lambda tup: tup[0])#sort based on document number\n",
    "#sorted_sim_vector"
   ]
  },
  {
   "cell_type": "code",
   "execution_count": 353,
   "metadata": {},
   "outputs": [],
   "source": [
    "mycursor = mydb.cursor()\n",
    "mycursor.execute(\"update search_engine_model set distance9_3 = %s where name='A2-B2-C1-D1-E2-F1#1'or name='A2-B2-C1-D1-E2-F2#1' or name='A2-B2-C1-D1-E2-F3#1'\"%sorted_sim_vector[8][1])\n",
    "mycursor.close()\n",
    "mydb.commit()"
   ]
  },
  {
   "cell_type": "code",
   "execution_count": 354,
   "metadata": {},
   "outputs": [],
   "source": [
    "mycursor = mydb.cursor()\n",
    "mycursor.execute(\"update search_engine_model set distance13_4 = %s where name='A2-B2-C1-D1-E2-F1#1'or name='A2-B2-C1-D1-E2-F2#1' or name='A2-B2-C1-D1-E2-F3#1'\"%sorted_sim_vector[12][1])\n",
    "mycursor.close()\n",
    "mydb.commit()"
   ]
  },
  {
   "cell_type": "code",
   "execution_count": 355,
   "metadata": {},
   "outputs": [],
   "source": [
    "mycursor = mydb.cursor()\n",
    "mycursor.execute(\"update search_engine_model set distance15_3 = %s where name='A2-B2-C1-D1-E2-F1#1'or name='A2-B2-C1-D1-E2-F2#1' or name='A2-B2-C1-D1-E2-F3#1'\"%sorted_sim_vector[14][1])\n",
    "mycursor.close()\n",
    "mydb.commit()"
   ]
  },
  {
   "cell_type": "code",
   "execution_count": 356,
   "metadata": {},
   "outputs": [],
   "source": [
    "listofapp = [0,1,4,5,6,7,8,9,12,13,14,15]     \n",
    "for i in range(16):\n",
    "    if th[i]!=0:\n",
    "        if i in listofapp:\n",
    "            if (sorted_sim_vector[i][1]-th[i]/2) >= 0:\n",
    "                TP1 = TP1 + 1\n",
    "            else:\n",
    "                FN1 = FN1 +1\n",
    "        else:\n",
    "            if (sorted_sim_vector[i][1]-th[i]/2) >= 0:\n",
    "                FP1 = FP1 + 1\n",
    "            else:\n",
    "                TN1 = TN1 +1"
   ]
  },
  {
   "cell_type": "code",
   "execution_count": 357,
   "metadata": {},
   "outputs": [],
   "source": [
    "listofapp = [0,1,4,5,6,7,8,9,12,13,14,15]     \n",
    "for i in range(16):\n",
    "    if th[i]!=0:\n",
    "        if i in listofapp:\n",
    "            if (sorted_sim_vector[i][1]-th[i]/4) >= 0:\n",
    "                TP2 = TP2 + 1\n",
    "            else:\n",
    "                FN2 = FN2 +1\n",
    "        else:\n",
    "            if (sorted_sim_vector[i][1]-th[i]/4) >= 0:\n",
    "                FP2 = FP2 + 1\n",
    "            else:\n",
    "                TN2 = TN2 +1"
   ]
  },
  {
   "cell_type": "code",
   "execution_count": 358,
   "metadata": {},
   "outputs": [],
   "source": [
    "listofapp = [0,1,4,5,6,7,8,9,12,13,14,15]     \n",
    "for i in range(16):\n",
    "    if th[i]!=0:\n",
    "        if i in listofapp:\n",
    "            if (sorted_sim_vector[i][1]-th[i]/8) >= 0:\n",
    "                TP3 = TP3 + 1\n",
    "            else:\n",
    "                FN3 = FN3 +1\n",
    "        else:\n",
    "            if (sorted_sim_vector[i][1]-th[i]/8) >= 0:\n",
    "                FP3 = FP3 + 1\n",
    "            else:\n",
    "                TN3 = TN3 +1"
   ]
  },
  {
   "cell_type": "markdown",
   "metadata": {},
   "source": [
    "+++++++++++++++++++++++++++++++++++++++++++++++++++++++++++++++++++++++++++++++++++++++++++++++++++++++++++++++++++++"
   ]
  },
  {
   "cell_type": "code",
   "execution_count": 359,
   "metadata": {},
   "outputs": [],
   "source": [
    "query = pd.read_csv('D:/Windows7SP1x86-disk-images-March2020/after_first_versions_word_adobe_firefox_files.txt')\n",
    "query2=[sen.lower() for sen in query]\n",
    "query_sen = [[text for text in re.split('[/\\t]',doc)] for doc in query2]\n",
    "query_sen = [[text+'/' for text in sen] for sen in query_sen]\n",
    "query_sen=[[ subelt for subelt in elt if subelt != '/' ] for elt in query_sen] # remove '/'\n",
    "before_search=datetime.now()\n",
    "sim_vector=model.docvecs.most_similar(positive=[model.infer_vector(query_sen[0])],topn=16)\n",
    "after_search=datetime.now()\n",
    "elapsed=after_search-before_search\n",
    "elapsed_search=elapsed.total_seconds()+elapsed_search\n",
    "sorted_sim_vector = sorted(sim_vector, key=lambda tup: tup[0])#sort based on document number\n",
    "#sorted_sim_vector"
   ]
  },
  {
   "cell_type": "code",
   "execution_count": 360,
   "metadata": {},
   "outputs": [],
   "source": [
    "mycursor = mydb.cursor()\n",
    "mycursor.execute(\"update search_engine_model set distance9_4 = %s where name='A2-B2-C1-D1-E2-F1#1'or name='A2-B2-C1-D1-E2-F2#1' or name='A2-B2-C1-D1-E2-F3#1'\"%sorted_sim_vector[8][1])\n",
    "mycursor.close()\n",
    "mydb.commit()"
   ]
  },
  {
   "cell_type": "code",
   "execution_count": 361,
   "metadata": {},
   "outputs": [],
   "source": [
    "mycursor = mydb.cursor()\n",
    "mycursor.execute(\"update search_engine_model set distance11_4 = %s where name='A2-B2-C1-D1-E2-F1#1'or name='A2-B2-C1-D1-E2-F2#1' or name='A2-B2-C1-D1-E2-F3#1'\"%sorted_sim_vector[10][1])\n",
    "mycursor.close()\n",
    "mydb.commit()"
   ]
  },
  {
   "cell_type": "code",
   "execution_count": 362,
   "metadata": {},
   "outputs": [],
   "source": [
    "mycursor = mydb.cursor()\n",
    "mycursor.execute(\"update search_engine_model set distance15_4 = %s where name='A2-B2-C1-D1-E2-F1#1'or name='A2-B2-C1-D1-E2-F2#1' or name='A2-B2-C1-D1-E2-F3#1'\"%sorted_sim_vector[14][1])\n",
    "mycursor.close()\n",
    "mydb.commit()"
   ]
  },
  {
   "cell_type": "code",
   "execution_count": 363,
   "metadata": {},
   "outputs": [],
   "source": [
    "listofapp = [0,1,2,3,6,7,8,9,10,11,14,15]    \n",
    "for i in range(16):\n",
    "    if th[i]!=0:\n",
    "        if i in listofapp:\n",
    "            if (sorted_sim_vector[i][1]-th[i]/2) >= 0:\n",
    "                TP1 = TP1 + 1\n",
    "            else:\n",
    "                FN1 = FN1 +1\n",
    "        else:\n",
    "            if (sorted_sim_vector[i][1]-th[i]/2) >= 0:\n",
    "                FP1 = FP1 + 1\n",
    "            else:\n",
    "                TN1 = TN1 +1"
   ]
  },
  {
   "cell_type": "code",
   "execution_count": 364,
   "metadata": {},
   "outputs": [],
   "source": [
    "listofapp = [0,1,2,3,6,7,8,9,10,11,14,15]     \n",
    "for i in range(16):\n",
    "    if th[i]!=0:\n",
    "        if i in listofapp:\n",
    "            if (sorted_sim_vector[i][1]-th[i]/4) >= 0:\n",
    "                TP2 = TP2 + 1\n",
    "            else:\n",
    "                FN2 = FN2 +1\n",
    "        else:\n",
    "            if (sorted_sim_vector[i][1]-th[i]/4) >= 0:\n",
    "                FP2 = FP2 + 1\n",
    "            else:\n",
    "                TN2 = TN2 +1"
   ]
  },
  {
   "cell_type": "code",
   "execution_count": 365,
   "metadata": {},
   "outputs": [],
   "source": [
    "listofapp = [0,1,2,3,6,7,8,9,10,11,14,15]     \n",
    "for i in range(16):\n",
    "    if th[i]!=0:\n",
    "        if i in listofapp:\n",
    "            if (sorted_sim_vector[i][1]-th[i]/8) >= 0:\n",
    "                TP3 = TP3 + 1\n",
    "            else:\n",
    "                FN3 = FN3 +1\n",
    "        else:\n",
    "            if (sorted_sim_vector[i][1]-th[i]/8) >= 0:\n",
    "                FP3 = FP3 + 1\n",
    "            else:\n",
    "                TN3 = TN3 +1"
   ]
  },
  {
   "cell_type": "markdown",
   "metadata": {},
   "source": [
    "+++++++++++++++++++++++++++++++++++++++++++++++++++++++++++++++++++++++++++++++++++++++++++++++++++++++++++++++++++++"
   ]
  },
  {
   "cell_type": "code",
   "execution_count": 366,
   "metadata": {},
   "outputs": [],
   "source": [
    "query = pd.read_csv('D:/Windows7SP1x86-disk-images-March2020/after_second_versions_adobe_firefox_python_files.txt')\n",
    "query2=[sen.lower() for sen in query]\n",
    "query_sen = [[text for text in re.split('[/\\t]',doc)] for doc in query2]\n",
    "query_sen = [[text+'/' for text in sen] for sen in query_sen]\n",
    "query_sen=[[ subelt for subelt in elt if subelt != '/' ] for elt in query_sen] # remove '/'\n",
    "before_search=datetime.now()\n",
    "sim_vector=model.docvecs.most_similar(positive=[model.infer_vector(query_sen[0])],topn=16)\n",
    "after_search=datetime.now()\n",
    "elapsed=after_search-before_search\n",
    "elapsed_search=elapsed.total_seconds()+elapsed_search\n",
    "sorted_sim_vector = sorted(sim_vector, key=lambda tup: tup[0])#sort based on document number\n",
    "#sorted_sim_vector"
   ]
  },
  {
   "cell_type": "code",
   "execution_count": 367,
   "metadata": {},
   "outputs": [],
   "source": [
    "mycursor = mydb.cursor()\n",
    "mycursor.execute(\"update search_engine_model set distance10_2 = %s where name='A2-B2-C1-D1-E2-F1#1'or name='A2-B2-C1-D1-E2-F2#1' or name='A2-B2-C1-D1-E2-F3#1'\"%sorted_sim_vector[9][1])\n",
    "mycursor.close()\n",
    "mydb.commit()"
   ]
  },
  {
   "cell_type": "code",
   "execution_count": 368,
   "metadata": {},
   "outputs": [],
   "source": [
    "mycursor = mydb.cursor()\n",
    "mycursor.execute(\"update search_engine_model set distance12_2 = %s where name='A2-B2-C1-D1-E2-F1#1'or name='A2-B2-C1-D1-E2-F2#1' or name='A2-B2-C1-D1-E2-F3#1'\"%sorted_sim_vector[11][1])\n",
    "mycursor.close()\n",
    "mydb.commit()"
   ]
  },
  {
   "cell_type": "code",
   "execution_count": 369,
   "metadata": {},
   "outputs": [],
   "source": [
    "mycursor = mydb.cursor()\n",
    "mycursor.execute(\"update search_engine_model set distance14_2 = %s where name='A2-B2-C1-D1-E2-F1#1'or name='A2-B2-C1-D1-E2-F2#1' or name='A2-B2-C1-D1-E2-F3#1'\"%sorted_sim_vector[13][1])\n",
    "mycursor.close()\n",
    "mydb.commit()"
   ]
  },
  {
   "cell_type": "code",
   "execution_count": 370,
   "metadata": {},
   "outputs": [],
   "source": [
    "listofapp = [0,1,2,3,4,5,8,9,10,11,12,13]    \n",
    "for i in range(16):\n",
    "    if th[i]!=0:\n",
    "        if i in listofapp:\n",
    "            if (sorted_sim_vector[i][1]-th[i]/2) >= 0:\n",
    "                TP1 = TP1 + 1\n",
    "            else:\n",
    "                FN1 = FN1 +1\n",
    "        else:\n",
    "            if (sorted_sim_vector[i][1]-th[i]/2) >= 0:\n",
    "                FP1 = FP1 + 1\n",
    "            else:\n",
    "                TN1 = TN1 +1"
   ]
  },
  {
   "cell_type": "code",
   "execution_count": 371,
   "metadata": {},
   "outputs": [],
   "source": [
    "listofapp = [0,1,2,3,4,5,8,9,10,11,12,13]     \n",
    "for i in range(16):\n",
    "    if th[i]!=0:\n",
    "        if i in listofapp:\n",
    "            if (sorted_sim_vector[i][1]-th[i]/4) >= 0:\n",
    "                TP2 = TP2 + 1\n",
    "            else:\n",
    "                FN2 = FN2 +1\n",
    "        else:\n",
    "            if (sorted_sim_vector[i][1]-th[i]/4) >= 0:\n",
    "                FP2 = FP2 + 1\n",
    "            else:\n",
    "                TN2 = TN2 +1"
   ]
  },
  {
   "cell_type": "code",
   "execution_count": 372,
   "metadata": {},
   "outputs": [],
   "source": [
    "listofapp = [0,1,2,3,4,5,8,9,10,11,12,13]     \n",
    "for i in range(16):\n",
    "    if th[i]!=0:\n",
    "        if i in listofapp:\n",
    "            if (sorted_sim_vector[i][1]-th[i]/8) >= 0:\n",
    "                TP3 = TP3 + 1\n",
    "            else:\n",
    "                FN3 = FN3 +1\n",
    "        else:\n",
    "            if (sorted_sim_vector[i][1]-th[i]/8) >= 0:\n",
    "                FP3 = FP3 + 1\n",
    "            else:\n",
    "                TN3 = TN3 +1"
   ]
  },
  {
   "cell_type": "markdown",
   "metadata": {},
   "source": [
    "+++++++++++++++++++++++++++++++++++++++++++++++++++++++++++++++++++++++++++++++++++++++++++++++++++++++++++++++++++++"
   ]
  },
  {
   "cell_type": "code",
   "execution_count": 373,
   "metadata": {},
   "outputs": [],
   "source": [
    "query = pd.read_csv('D:/Windows7SP1x86-disk-images-March2020/after_second_versions_firefox_python_word_files.txt')\n",
    "query2=[sen.lower() for sen in query]\n",
    "query_sen = [[text for text in re.split('[/\\t]',doc)] for doc in query2]\n",
    "query_sen = [[text+'/' for text in sen] for sen in query_sen]\n",
    "query_sen=[[ subelt for subelt in elt if subelt != '/' ] for elt in query_sen] # remove '/'\n",
    "before_search=datetime.now()\n",
    "sim_vector=model.docvecs.most_similar(positive=[model.infer_vector(query_sen[0])],topn=16)\n",
    "after_search=datetime.now()\n",
    "elapsed=after_search-before_search\n",
    "elapsed_search=elapsed.total_seconds()+elapsed_search\n",
    "sorted_sim_vector = sorted(sim_vector, key=lambda tup: tup[0])#sort based on document number\n",
    "#sorted_sim_vector"
   ]
  },
  {
   "cell_type": "code",
   "execution_count": 374,
   "metadata": {},
   "outputs": [],
   "source": [
    "mycursor = mydb.cursor()\n",
    "mycursor.execute(\"update search_engine_model set distance12_3 = %s where name='A2-B2-C1-D1-E2-F1#1'or name='A2-B2-C1-D1-E2-F2#1' or name='A2-B2-C1-D1-E2-F3#1'\"%sorted_sim_vector[11][1])\n",
    "mycursor.close()\n",
    "mydb.commit()"
   ]
  },
  {
   "cell_type": "code",
   "execution_count": 375,
   "metadata": {},
   "outputs": [],
   "source": [
    "mycursor = mydb.cursor()\n",
    "mycursor.execute(\"update search_engine_model set distance14_3 = %s where name='A2-B2-C1-D1-E2-F1#1'or name='A2-B2-C1-D1-E2-F2#1' or name='A2-B2-C1-D1-E2-F3#1'\"%sorted_sim_vector[13][1])\n",
    "mycursor.close()\n",
    "mydb.commit()"
   ]
  },
  {
   "cell_type": "code",
   "execution_count": 376,
   "metadata": {},
   "outputs": [],
   "source": [
    "mycursor = mydb.cursor()\n",
    "mycursor.execute(\"update search_engine_model set distance16_2 = %s where name='A2-B2-C1-D1-E2-F1#1'or name='A2-B2-C1-D1-E2-F2#1' or name='A2-B2-C1-D1-E2-F3#1'\"%sorted_sim_vector[15][1])\n",
    "mycursor.close()\n",
    "mydb.commit()"
   ]
  },
  {
   "cell_type": "code",
   "execution_count": 377,
   "metadata": {},
   "outputs": [],
   "source": [
    "listofapp = [2,3,4,5,6,7,10,11,12,13,14,15]    \n",
    "for i in range(16):\n",
    "    if th[i]!=0:\n",
    "        if i in listofapp:\n",
    "            if (sorted_sim_vector[i][1]-th[i]/2) >= 0:\n",
    "                TP1 = TP1 + 1\n",
    "            else:\n",
    "                FN1 = FN1 +1\n",
    "        else:\n",
    "            if (sorted_sim_vector[i][1]-th[i]/2) >= 0:\n",
    "                FP1 = FP1 + 1\n",
    "            else:\n",
    "                TN1 = TN1 +1"
   ]
  },
  {
   "cell_type": "code",
   "execution_count": 378,
   "metadata": {},
   "outputs": [],
   "source": [
    "listofapp = [2,3,4,5,6,7,10,11,12,13,14,15]    \n",
    "for i in range(16):\n",
    "    if th[i]!=0:\n",
    "        if i in listofapp:\n",
    "            if (sorted_sim_vector[i][1]-th[i]/4) >= 0:\n",
    "                TP2 = TP2 + 1\n",
    "            else:\n",
    "                FN2 = FN2 +1\n",
    "        else:\n",
    "            if (sorted_sim_vector[i][1]-th[i]/4) >= 0:\n",
    "                FP2 = FP2 + 1\n",
    "            else:\n",
    "                TN2 = TN2 +1"
   ]
  },
  {
   "cell_type": "code",
   "execution_count": 379,
   "metadata": {},
   "outputs": [],
   "source": [
    "listofapp = [2,3,4,5,6,7,10,11,12,13,14,15]     \n",
    "for i in range(16):\n",
    "    if th[i]!=0:\n",
    "        if i in listofapp:\n",
    "            if (sorted_sim_vector[i][1]-th[i]/8) >= 0:\n",
    "                TP3 = TP3 + 1\n",
    "            else:\n",
    "                FN3 = FN3 +1\n",
    "        else:\n",
    "            if (sorted_sim_vector[i][1]-th[i]/8) >= 0:\n",
    "                FP3 = FP3 + 1\n",
    "            else:\n",
    "                TN3 = TN3 +1"
   ]
  },
  {
   "cell_type": "markdown",
   "metadata": {},
   "source": [
    "+++++++++++++++++++++++++++++++++++++++++++++++++++++++++++++++++++++++++++++++++++++++++++++++++++++++++++++++++++++"
   ]
  },
  {
   "cell_type": "code",
   "execution_count": 380,
   "metadata": {},
   "outputs": [],
   "source": [
    "query = pd.read_csv('D:/Windows7SP1x86-disk-images-March2020/after_second_versions_python_word_adobe_files.txt')\n",
    "query2=[sen.lower() for sen in query]\n",
    "query_sen = [[text for text in re.split('[/\\t]',doc)] for doc in query2]\n",
    "query_sen = [[text+'/' for text in sen] for sen in query_sen]\n",
    "query_sen=[[ subelt for subelt in elt if subelt != '/' ] for elt in query_sen] # remove '/'\n",
    "before_search=datetime.now()\n",
    "sim_vector=model.docvecs.most_similar(positive=[model.infer_vector(query_sen[0])],topn=16)\n",
    "after_search=datetime.now()\n",
    "elapsed=after_search-before_search\n",
    "elapsed_search=elapsed.total_seconds()+elapsed_search\n",
    "sorted_sim_vector = sorted(sim_vector, key=lambda tup: tup[0])#sort based on document number\n",
    "#sorted_sim_vector"
   ]
  },
  {
   "cell_type": "code",
   "execution_count": 381,
   "metadata": {},
   "outputs": [],
   "source": [
    "mycursor = mydb.cursor()\n",
    "mycursor.execute(\"update search_engine_model set distance10_3 = %s where name='A2-B2-C1-D1-E2-F1#1'or name='A2-B2-C1-D1-E2-F2#1' or name='A2-B2-C1-D1-E2-F3#1'\"%sorted_sim_vector[9][1])\n",
    "mycursor.close()\n",
    "mydb.commit()"
   ]
  },
  {
   "cell_type": "code",
   "execution_count": 382,
   "metadata": {},
   "outputs": [],
   "source": [
    "mycursor = mydb.cursor()\n",
    "mycursor.execute(\"update search_engine_model set distance14_4 = %s where name='A2-B2-C1-D1-E2-F1#1'or name='A2-B2-C1-D1-E2-F2#1' or name='A2-B2-C1-D1-E2-F3#1'\"%sorted_sim_vector[13][1])\n",
    "mycursor.close()\n",
    "mydb.commit()"
   ]
  },
  {
   "cell_type": "code",
   "execution_count": 383,
   "metadata": {},
   "outputs": [],
   "source": [
    "mycursor = mydb.cursor()\n",
    "mycursor.execute(\"update search_engine_model set distance16_3 = %s where name='A2-B2-C1-D1-E2-F1#1'or name='A2-B2-C1-D1-E2-F2#1' or name='A2-B2-C1-D1-E2-F3#1'\"%sorted_sim_vector[15][1])\n",
    "mycursor.close()\n",
    "mydb.commit()"
   ]
  },
  {
   "cell_type": "code",
   "execution_count": 384,
   "metadata": {},
   "outputs": [],
   "source": [
    "listofapp = [0,1,4,5,6,7,8,9,12,13,14,15]      \n",
    "for i in range(16):\n",
    "    if th[i]!=0:\n",
    "        if i in listofapp:\n",
    "            if (sorted_sim_vector[i][1]-th[i]/2) >= 0:\n",
    "                TP1 = TP1 + 1\n",
    "            else:\n",
    "                FN1 = FN1 +1\n",
    "        else:\n",
    "            if (sorted_sim_vector[i][1]-th[i]/2) >= 0:\n",
    "                FP1 = FP1 + 1\n",
    "            else:\n",
    "                TN1 = TN1 +1"
   ]
  },
  {
   "cell_type": "code",
   "execution_count": 385,
   "metadata": {},
   "outputs": [],
   "source": [
    "listofapp = [0,1,4,5,6,7,8,9,12,13,14,15]      \n",
    "for i in range(16):\n",
    "    if th[i]!=0:\n",
    "        if i in listofapp:\n",
    "            if (sorted_sim_vector[i][1]-th[i]/4) >= 0:\n",
    "                TP2 = TP2 + 1\n",
    "            else:\n",
    "                FN2 = FN2 +1\n",
    "        else:\n",
    "            if (sorted_sim_vector[i][1]-th[i]/4) >= 0:\n",
    "                FP2 = FP2 + 1\n",
    "            else:\n",
    "                TN2 = TN2 +1"
   ]
  },
  {
   "cell_type": "code",
   "execution_count": 386,
   "metadata": {},
   "outputs": [],
   "source": [
    "listofapp = [0,1,4,5,6,7,8,9,12,13,14,15]     \n",
    "for i in range(16):\n",
    "    if th[i]!=0:\n",
    "        if i in listofapp:\n",
    "            if (sorted_sim_vector[i][1]-th[i]/8) >= 0:\n",
    "                TP3 = TP3 + 1\n",
    "            else:\n",
    "                FN3 = FN3 +1\n",
    "        else:\n",
    "            if (sorted_sim_vector[i][1]-th[i]/8) >= 0:\n",
    "                FP3 = FP3 + 1\n",
    "            else:\n",
    "                TN3 = TN3 +1"
   ]
  },
  {
   "cell_type": "markdown",
   "metadata": {},
   "source": [
    "+++++++++++++++++++++++++++++++++++++++++++++++++++++++++++++++++++++++++++++++++++++++++++++++++++++++++++++++++++++"
   ]
  },
  {
   "cell_type": "code",
   "execution_count": 387,
   "metadata": {},
   "outputs": [],
   "source": [
    "query = pd.read_csv('D:/Windows7SP1x86-disk-images-March2020/after_second_versions_word_adobe_firefox_files.txt')\n",
    "query2=[sen.lower() for sen in query]\n",
    "query_sen = [[text for text in re.split('[/\\t]',doc)] for doc in query2]\n",
    "query_sen = [[text+'/' for text in sen] for sen in query_sen]\n",
    "query_sen=[[ subelt for subelt in elt if subelt != '/' ] for elt in query_sen] # remove '/'\n",
    "before_search=datetime.now()\n",
    "sim_vector=model.docvecs.most_similar(positive=[model.infer_vector(query_sen[0])],topn=16)\n",
    "after_search=datetime.now()\n",
    "elapsed=after_search-before_search\n",
    "elapsed_search=elapsed.total_seconds()+elapsed_search\n",
    "sorted_sim_vector = sorted(sim_vector, key=lambda tup: tup[0])#sort based on document number\n",
    "#sorted_sim_vector"
   ]
  },
  {
   "cell_type": "code",
   "execution_count": 388,
   "metadata": {},
   "outputs": [],
   "source": [
    "mycursor = mydb.cursor()\n",
    "mycursor.execute(\"update search_engine_model set distance10_4 = %s where name='A2-B2-C1-D1-E2-F1#1'or name='A2-B2-C1-D1-E2-F2#1' or name='A2-B2-C1-D1-E2-F3#1'\"%sorted_sim_vector[9][1])\n",
    "mycursor.close()\n",
    "mydb.commit()"
   ]
  },
  {
   "cell_type": "code",
   "execution_count": 389,
   "metadata": {},
   "outputs": [],
   "source": [
    "mycursor = mydb.cursor()\n",
    "mycursor.execute(\"update search_engine_model set distance12_4 = %s where name='A2-B2-C1-D1-E2-F1#1'or name='A2-B2-C1-D1-E2-F2#1' or name='A2-B2-C1-D1-E2-F3#1'\"%sorted_sim_vector[11][1])\n",
    "mycursor.close()\n",
    "mydb.commit()"
   ]
  },
  {
   "cell_type": "code",
   "execution_count": 390,
   "metadata": {},
   "outputs": [],
   "source": [
    "mycursor = mydb.cursor()\n",
    "mycursor.execute(\"update search_engine_model set distance16_4 = %s where name='A2-B2-C1-D1-E2-F1#1'or name='A2-B2-C1-D1-E2-F2#1' or name='A2-B2-C1-D1-E2-F3#1'\"%sorted_sim_vector[15][1])\n",
    "mycursor.close()\n",
    "mydb.commit()"
   ]
  },
  {
   "cell_type": "code",
   "execution_count": 391,
   "metadata": {},
   "outputs": [],
   "source": [
    "listofapp = [0,1,2,3,6,7,8,9,10,11,14,15]    \n",
    "for i in range(16):\n",
    "    if th[i]!=0:\n",
    "        if i in listofapp:\n",
    "            if (sorted_sim_vector[i][1]-th[i]/2) >= 0:\n",
    "                TP1 = TP1 + 1\n",
    "            else:\n",
    "                FN1 = FN1 +1\n",
    "        else:\n",
    "            if (sorted_sim_vector[i][1]-th[i]/2) >= 0:\n",
    "                FP1 = FP1 + 1\n",
    "            else:\n",
    "                TN1 = TN1 +1"
   ]
  },
  {
   "cell_type": "code",
   "execution_count": 392,
   "metadata": {},
   "outputs": [],
   "source": [
    "listofapp = [0,1,2,3,6,7,8,9,10,11,14,15]    \n",
    "for i in range(16):\n",
    "    if th[i]!=0:\n",
    "        if i in listofapp:\n",
    "            if (sorted_sim_vector[i][1]-th[i]/4) >= 0:\n",
    "                TP2 = TP2 + 1\n",
    "            else:\n",
    "                FN2 = FN2 +1\n",
    "        else:\n",
    "            if (sorted_sim_vector[i][1]-th[i]/4) >= 0:\n",
    "                FP2 = FP2 + 1\n",
    "            else:\n",
    "                TN2 = TN2 +1"
   ]
  },
  {
   "cell_type": "code",
   "execution_count": 393,
   "metadata": {},
   "outputs": [],
   "source": [
    "listofapp = [0,1,2,3,6,7,8,9,10,11,14,15]     \n",
    "for i in range(16):\n",
    "    if th[i]!=0:\n",
    "        if i in listofapp:\n",
    "            if (sorted_sim_vector[i][1]-th[i]/8) >= 0:\n",
    "                TP3 = TP3 + 1\n",
    "            else:\n",
    "                FN3 = FN3 +1\n",
    "        else:\n",
    "            if (sorted_sim_vector[i][1]-th[i]/8) >= 0:\n",
    "                FP3 = FP3 + 1\n",
    "            else:\n",
    "                TN3 = TN3 +1"
   ]
  },
  {
   "cell_type": "code",
   "execution_count": 394,
   "metadata": {},
   "outputs": [],
   "source": [
    "precision = TP1 / (TP1 + FP1)\n",
    "recall = TP1 / (TP1 + FN1)\n",
    "F1 = 2 * ((precision*recall)/(precision+recall))"
   ]
  },
  {
   "cell_type": "code",
   "execution_count": 395,
   "metadata": {},
   "outputs": [],
   "source": [
    "mycursor = mydb.cursor()\n",
    "mycursor.execute(\"update search_engine_model set TP = %s, FN = %s, FP = %s, TN = %s, preci = %s, recall = %s, F1 = %s where name='A2-B2-C1-D1-E2-F1#1'\",(TP1,FN1,FP1,TN1,precision,recall,F1))\n",
    "mydb.commit()"
   ]
  },
  {
   "cell_type": "code",
   "execution_count": 396,
   "metadata": {},
   "outputs": [],
   "source": [
    "precision = TP2 / (TP2 + FP2)\n",
    "recall = TP2 / (TP2 + FN2)\n",
    "F1 = 2 * ((precision*recall)/(precision+recall))"
   ]
  },
  {
   "cell_type": "code",
   "execution_count": 397,
   "metadata": {},
   "outputs": [],
   "source": [
    "mycursor = mydb.cursor()\n",
    "mycursor.execute(\"update search_engine_model set TP = %s, FN = %s, FP = %s, TN = %s, preci = %s, recall = %s, F1 = %s where name='A2-B2-C1-D1-E2-F2#1'\",(TP2,FN2,FP2,TN2,precision,recall,F1))\n",
    "mydb.commit()"
   ]
  },
  {
   "cell_type": "code",
   "execution_count": 398,
   "metadata": {},
   "outputs": [],
   "source": [
    "precision = TP3 / (TP3 + FP3)\n",
    "recall = TP3 / (TP3 + FN3)\n",
    "F1 = 2 * ((precision*recall)/(precision+recall))"
   ]
  },
  {
   "cell_type": "code",
   "execution_count": 399,
   "metadata": {},
   "outputs": [],
   "source": [
    "mycursor = mydb.cursor()\n",
    "mycursor.execute(\"update search_engine_model set TP = %s, FN = %s, FP = %s, TN = %s, preci = %s, recall = %s, F1 = %s where name='A2-B2-C1-D1-E2-F3#1'\",(TP3,FN3,FP3,TN3,precision,recall,F1))\n",
    "mydb.commit()"
   ]
  },
  {
   "cell_type": "code",
   "execution_count": 400,
   "metadata": {},
   "outputs": [],
   "source": [
    "mycursor = mydb.cursor()\n",
    "mycursor.execute(\"update search_engine_model set train_time = %s, avg_search_time=%s where name='A2-B2-C1-D1-E2-F1#1'or name='A2-B2-C1-D1-E2-F2#1' or name='A2-B2-C1-D1-E2-F3#1'\",(elapsed_train,elapsed_search/20))\n",
    "mycursor.close()\n",
    "mydb.commit()"
   ]
  },
  {
   "cell_type": "markdown",
   "metadata": {},
   "source": [
    "+++++++++++++++++++++++++++++++++++++++++++++++++++++++++++++++++++++++++++++++++++++++++++++++++++++++++++++++++++++"
   ]
  },
  {
   "cell_type": "markdown",
   "metadata": {},
   "source": [
    "+++++++++++++++++++++++++++++++++++++++++++++++++++++++++++++++++++++++++++++++++++++++++++++++++++++++++++++++++++++"
   ]
  },
  {
   "cell_type": "markdown",
   "metadata": {},
   "source": [
    "+++++++++++++++++++++++++++++++++++++++++++++++++++++++++++++++++++++++++++++++++++++++++++++++++++++++++++++++++++++"
   ]
  },
  {
   "cell_type": "code",
   "execution_count": 401,
   "metadata": {},
   "outputs": [],
   "source": [
    "TP1_pat=0\n",
    "FP1_pat=0\n",
    "FN1_pat=0\n",
    "TN1_pat=0\n",
    "TP2_pat=0\n",
    "FP2_pat=0\n",
    "FN2_pat=0\n",
    "TN2_pat=0\n",
    "TP3_pat=0\n",
    "FP3_pat=0\n",
    "FN3_pat=0\n",
    "TN3_pat=0"
   ]
  },
  {
   "cell_type": "code",
   "execution_count": 402,
   "metadata": {},
   "outputs": [],
   "source": [
    "elapsed_search_m57=0"
   ]
  },
  {
   "cell_type": "code",
   "execution_count": 403,
   "metadata": {},
   "outputs": [],
   "source": [
    "query = pd.read_csv('E:/M57-Patent-dfxmls/pat-2009-11-16_files.txt')\n",
    "query2=[sen.lower() for sen in query]\n",
    "query_sen = [[text for text in re.split('[/\\t]',doc)] for doc in query2]\n",
    "query_sen = [[text+'/' for text in sen] for sen in query_sen]\n",
    "query_sen=[[ subelt for subelt in elt if subelt != '/' ] for elt in query_sen] # remove '/'\n",
    "before_search=datetime.now()\n",
    "sim_vector=model.docvecs.most_similar(positive=[model.infer_vector(query_sen[0])],topn=16)\n",
    "after_search=datetime.now()\n",
    "elapsed=after_search-before_search\n",
    "elapsed_search_m57=elapsed.total_seconds()+elapsed_search_m57\n",
    "sorted_sim_vector = sorted(sim_vector, key=lambda tup: tup[0])#sort based on document number\n",
    "#sorted_sim_vector"
   ]
  },
  {
   "cell_type": "code",
   "execution_count": 404,
   "metadata": {},
   "outputs": [],
   "source": [
    "mycursor = mydb.cursor()\n",
    "mycursor.execute(\"update search_engine_model set pat16_XP_firefox3 = %s where name='A2-B2-C1-D1-E2-F1#1'or name='A2-B2-C1-D1-E2-F2#1' or name='A2-B2-C1-D1-E2-F3#1'\"%sorted_sim_vector[2][1])\n",
    "mycursor.close()\n",
    "mydb.commit()"
   ]
  },
  {
   "cell_type": "code",
   "execution_count": 405,
   "metadata": {},
   "outputs": [],
   "source": [
    "mycursor = mydb.cursor()\n",
    "mycursor.execute(\"update search_engine_model set pat16_XP_python2_6 = %s where name='A2-B2-C1-D1-E2-F1#1'or name='A2-B2-C1-D1-E2-F2#1' or name='A2-B2-C1-D1-E2-F3#1'\"%sorted_sim_vector[4][1])\n",
    "mycursor.close()\n",
    "mydb.commit()"
   ]
  },
  {
   "cell_type": "code",
   "execution_count": 406,
   "metadata": {},
   "outputs": [],
   "source": [
    "listofapp = [2,3,4,5,10,11,12,13]     \n",
    "for i in range(16):\n",
    "    if th[i]!=0:\n",
    "        if i in listofapp:\n",
    "            if (sorted_sim_vector[i][1]-th[i]/2) >= 0:\n",
    "                TP1_pat = TP1_pat + 1\n",
    "            else:\n",
    "                FN1_pat = FN1_pat +1\n",
    "        else:\n",
    "            if (sorted_sim_vector[i][1]-th[i]/2) >= 0:\n",
    "                FP1_pat = FP1_pat + 1\n",
    "            else:\n",
    "                TN1_pat = TN1_pat +1"
   ]
  },
  {
   "cell_type": "code",
   "execution_count": 407,
   "metadata": {},
   "outputs": [],
   "source": [
    "listofapp = [2,3,4,5,10,11,12,13]     \n",
    "for i in range(16):\n",
    "    if th[i]!=0:\n",
    "        if i in listofapp:\n",
    "            if (sorted_sim_vector[i][1]-th[i]/4) >= 0:\n",
    "                TP2_pat = TP2_pat + 1\n",
    "            else:\n",
    "                FN2_pat = FN2_pat +1\n",
    "        else:\n",
    "            if (sorted_sim_vector[i][1]-th[i]/4) >= 0:\n",
    "                FP2_pat = FP2_pat + 1\n",
    "            else:\n",
    "                TN2_pat = TN2_pat +1"
   ]
  },
  {
   "cell_type": "code",
   "execution_count": 408,
   "metadata": {},
   "outputs": [],
   "source": [
    "listofapp = [2,3,4,5,10,11,12,13]     \n",
    "for i in range(16):\n",
    "    if th[i]!=0:\n",
    "        if i in listofapp:\n",
    "            if (sorted_sim_vector[i][1]-th[i]/8) >= 0:\n",
    "                TP3_pat = TP3_pat + 1\n",
    "            else:\n",
    "                FN3_pat = FN3_pat +1\n",
    "        else:\n",
    "            if (sorted_sim_vector[i][1]-th[i]/8) >= 0:\n",
    "                FP3_pat = FP3_pat + 1\n",
    "            else:\n",
    "                TN3_pat = TN3_pat +1"
   ]
  },
  {
   "cell_type": "code",
   "execution_count": 409,
   "metadata": {},
   "outputs": [],
   "source": [
    "query = pd.read_csv('E:/M57-Patent-dfxmls/pat-2009-11-19_files.txt', encoding='cp1252')\n",
    "query2=[sen.lower() for sen in query]\n",
    "query_sen = [[text for text in re.split('[/\\t]',doc)] for doc in query2]\n",
    "query_sen = [[text+'/' for text in sen] for sen in query_sen]\n",
    "query_sen=[[ subelt for subelt in elt if subelt != '/' ] for elt in query_sen] # remove '/'\n",
    "before_search=datetime.now()\n",
    "sim_vector=model.docvecs.most_similar(positive=[model.infer_vector(query_sen[0])],topn=16)\n",
    "after_search=datetime.now()\n",
    "elapsed=after_search-before_search\n",
    "elapsed_search_m57=elapsed.total_seconds()+elapsed_search_m57\n",
    "sorted_sim_vector = sorted(sim_vector, key=lambda tup: tup[0])#sort based on document number\n",
    "#sorted_sim_vector"
   ]
  },
  {
   "cell_type": "code",
   "execution_count": 410,
   "metadata": {},
   "outputs": [],
   "source": [
    "mycursor = mydb.cursor()\n",
    "mycursor.execute(\"update search_engine_model set pat19_XP_adobe9 = %s where name='A2-B2-C1-D1-E2-F1#1'or name='A2-B2-C1-D1-E2-F2#1' or name='A2-B2-C1-D1-E2-F3#1'\"%sorted_sim_vector[0][1])\n",
    "mycursor.close()\n",
    "mydb.commit()"
   ]
  },
  {
   "cell_type": "code",
   "execution_count": 411,
   "metadata": {},
   "outputs": [],
   "source": [
    "listofapp = [0,1,8,9,2,3,4,5,10,11,12,13]     \n",
    "for i in range(16):\n",
    "    if th[i]!=0:\n",
    "        if i in listofapp:\n",
    "            if (sorted_sim_vector[i][1]-th[i]/2) >= 0:\n",
    "                TP1_pat = TP1_pat + 1\n",
    "            else:\n",
    "                FN1_pat = FN1_pat +1\n",
    "        else:\n",
    "            if (sorted_sim_vector[i][1]-th[i]/2) >= 0:\n",
    "                FP1_pat = FP1_pat + 1\n",
    "            else:\n",
    "                TN1_pat = TN1_pat +1"
   ]
  },
  {
   "cell_type": "code",
   "execution_count": 412,
   "metadata": {},
   "outputs": [],
   "source": [
    "listofapp = [0,1,8,9,2,3,4,5,10,11,12,13]     \n",
    "for i in range(16):\n",
    "    if th[i]!=0:\n",
    "        if i in listofapp:\n",
    "            if (sorted_sim_vector[i][1]-th[i]/4) >= 0:\n",
    "                TP2_pat = TP2_pat + 1\n",
    "            else:\n",
    "                FN2_pat = FN2_pat +1\n",
    "        else:\n",
    "            if (sorted_sim_vector[i][1]-th[i]/4) >= 0:\n",
    "                FP2_pat = FP2_pat + 1\n",
    "            else:\n",
    "                TN2_pat = TN2_pat +1"
   ]
  },
  {
   "cell_type": "code",
   "execution_count": 413,
   "metadata": {},
   "outputs": [],
   "source": [
    "listofapp = [0,1,8,9,2,3,4,5,10,11,12,13]     \n",
    "for i in range(16):\n",
    "    if th[i]!=0:\n",
    "        if i in listofapp:\n",
    "            if (sorted_sim_vector[i][1]-th[i]/8) >= 0:\n",
    "                TP3_pat = TP3_pat + 1\n",
    "            else:\n",
    "                FN3_pat = FN3_pat +1\n",
    "        else:\n",
    "            if (sorted_sim_vector[i][1]-th[i]/8) >= 0:\n",
    "                FP3_pat = FP3_pat + 1\n",
    "            else:\n",
    "                TN3_pat = TN3_pat +1"
   ]
  },
  {
   "cell_type": "code",
   "execution_count": 414,
   "metadata": {},
   "outputs": [],
   "source": [
    "precision_pat = TP1_pat / (TP1_pat + FP1_pat)\n",
    "recall_pat = TP1_pat / (TP1_pat + FN1_pat)\n",
    "F1_pat = 2 * ((precision_pat*recall_pat)/(precision_pat+recall_pat))"
   ]
  },
  {
   "cell_type": "code",
   "execution_count": 415,
   "metadata": {},
   "outputs": [],
   "source": [
    "mycursor = mydb.cursor()\n",
    "mycursor.execute(\"update search_engine_model set TP_pat = %s, FN_pat = %s, FP_pat = %s, TN_pat = %s, preci_pat = %s, recall_pat = %s, F1_pat = %s where name='A2-B2-C1-D1-E2-F1#1'\",(TP1_pat,FN1_pat,FP1_pat,TN1_pat,precision_pat,recall_pat,F1_pat))\n",
    "mydb.commit()"
   ]
  },
  {
   "cell_type": "code",
   "execution_count": 416,
   "metadata": {},
   "outputs": [],
   "source": [
    "precision_pat = TP2_pat / (TP2_pat + FP2_pat)\n",
    "recall_pat = TP2_pat / (TP2_pat + FN2_pat)\n",
    "F1_pat = 2 * ((precision_pat*recall_pat)/(precision_pat+recall_pat))"
   ]
  },
  {
   "cell_type": "code",
   "execution_count": 417,
   "metadata": {},
   "outputs": [],
   "source": [
    "mycursor = mydb.cursor()\n",
    "mycursor.execute(\"update search_engine_model set TP_pat = %s, FN_pat = %s, FP_pat = %s, TN_pat = %s, preci_pat = %s, recall_pat = %s, F1_pat = %s where name='A2-B2-C1-D1-E2-F2#1'\",(TP2_pat,FN2_pat,FP2_pat,TN2_pat,precision_pat,recall_pat,F1_pat))\n",
    "mydb.commit()"
   ]
  },
  {
   "cell_type": "code",
   "execution_count": 418,
   "metadata": {},
   "outputs": [],
   "source": [
    "precision_pat = TP3_pat / (TP3_pat + FP3_pat)\n",
    "recall_pat = TP3_pat / (TP3_pat + FN3_pat)\n",
    "F1_pat = 2 * ((precision_pat*recall_pat)/(precision_pat+recall_pat))"
   ]
  },
  {
   "cell_type": "code",
   "execution_count": 419,
   "metadata": {},
   "outputs": [],
   "source": [
    "mycursor = mydb.cursor()\n",
    "mycursor.execute(\"update search_engine_model set TP_pat = %s, FN_pat = %s, FP_pat = %s, TN_pat = %s, preci_pat = %s, recall_pat = %s, F1_pat = %s where name='A2-B2-C1-D1-E2-F3#1'\",(TP3_pat,FN3_pat,FP3_pat,TN3_pat,precision_pat,recall_pat,F1_pat))\n",
    "mydb.commit()"
   ]
  },
  {
   "cell_type": "code",
   "execution_count": 420,
   "metadata": {},
   "outputs": [],
   "source": [
    "avg_elapse_m57=elapsed_search_m57/2"
   ]
  },
  {
   "cell_type": "code",
   "execution_count": 421,
   "metadata": {},
   "outputs": [],
   "source": [
    "mycursor = mydb.cursor()\n",
    "mycursor.execute(\"update search_engine_model set avg_search_time_m57=%s where name='A2-B2-C1-D1-E2-F1#1'or name='A2-B2-C1-D1-E2-F2#1' or name='A2-B2-C1-D1-E2-F3#1'\"%avg_elapse_m57)\n",
    "mycursor.close()\n",
    "mydb.commit()"
   ]
  },
  {
   "cell_type": "code",
   "execution_count": 422,
   "metadata": {},
   "outputs": [],
   "source": [
    "mydb.close()"
   ]
  },
  {
   "cell_type": "code",
   "execution_count": null,
   "metadata": {},
   "outputs": [],
   "source": []
  }
 ],
 "metadata": {
  "kernelspec": {
   "display_name": "Python 3",
   "language": "python",
   "name": "python3"
  },
  "language_info": {
   "codemirror_mode": {
    "name": "ipython",
    "version": 3
   },
   "file_extension": ".py",
   "mimetype": "text/x-python",
   "name": "python",
   "nbconvert_exporter": "python",
   "pygments_lexer": "ipython3",
   "version": "3.8.0"
  }
 },
 "nbformat": 4,
 "nbformat_minor": 4
}
