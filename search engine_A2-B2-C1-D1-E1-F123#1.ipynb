{
 "cells": [
  {
   "cell_type": "markdown",
   "metadata": {},
   "source": [
    "# A2-B2-C1-D1-E1-F123#1"
   ]
  },
  {
   "cell_type": "code",
   "execution_count": 1,
   "metadata": {},
   "outputs": [],
   "source": [
    "from gensim.models.doc2vec import Doc2Vec, TaggedDocument\n",
    "import string\n",
    "import re\n",
    "import pandas as pd\n",
    "import mysql.connector as my\n",
    "from datetime import datetime\n",
    "mydb=my.connect(host=\"localhost\",user=\"root\",passwd=\"123456\",database=\"search_engine_word2vec\")"
   ]
  },
  {
   "cell_type": "code",
   "execution_count": 3,
   "metadata": {},
   "outputs": [],
   "source": [
    "docs = pd.read_csv('D:/Both_Windows/delta_union_new_files.txt')"
   ]
  },
  {
   "cell_type": "code",
   "execution_count": 4,
   "metadata": {},
   "outputs": [],
   "source": [
    "corpus2=[sen.lower() for sen in docs]\n",
    "sentences = [[text for text in re.split('[/\\t]',doc)] for doc in corpus2]\n",
    "sentences = [[text+'/' for text in sen] for sen in sentences]\n",
    "sentences=[[ subelt for subelt in elt if subelt != '/' ] for elt in sentences] # remove '/'\n",
    "tagged_data = [TaggedDocument(d, [i]) for i, d in enumerate(sentences)]\n",
    "before_train=datetime.now()\n",
    "model = Doc2Vec(tagged_data, vector_size=20, window=1, min_count=1, workers=4, epochs = 100)\n",
    "after_train=datetime.now()\n",
    "elapsed=after_train-before_train\n",
    "elapsed_train=elapsed.total_seconds()"
   ]
  },
  {
   "cell_type": "markdown",
   "metadata": {},
   "source": [
    "# Setting the thresholds"
   ]
  },
  {
   "cell_type": "code",
   "execution_count": 5,
   "metadata": {},
   "outputs": [],
   "source": [
    "query = pd.read_csv('D:/WINXPSP3x86-disk-images-March2020/adobe reader9-2/after_adobe reader9-2_run1_files.txt')\n",
    "query2=[sen.lower() for sen in query]\n",
    "query_sen = [[text for text in re.split('[/\\t]',doc)] for doc in query2]\n",
    "query_sen = [[text+'/' for text in sen] for sen in query_sen]\n",
    "query_sen=[[ subelt for subelt in elt if subelt != '/' ] for elt in query_sen] # remove '/'\n",
    "sim_vector=model.docvecs.most_similar(positive=[model.infer_vector(query_sen[0])],topn=16)\n",
    "sorted_sim_vector = sorted(sim_vector, key=lambda tup: tup[0])#sort based on document number"
   ]
  },
  {
   "cell_type": "code",
   "execution_count": 726,
   "metadata": {},
   "outputs": [],
   "source": [
    "mycursor = mydb.cursor()\n",
    "mycursor.execute(\"update search_engine_model set threshold1 = %s where name='A2-B2-C1-D1-E1-F1#1' or name='A2-B2-C1-D1-E1-F2#1' or name='A2-B2-C1-D1-E1-F3#1'\" %sorted_sim_vector[0][1])\n",
    "mycursor.close()\n",
    "mydb.commit()"
   ]
  },
  {
   "cell_type": "code",
   "execution_count": 727,
   "metadata": {},
   "outputs": [],
   "source": [
    "query = pd.read_csv('D:/WINXPSP3x86-disk-images-March2020/adobe reader11-0-3/after_adobe reader11-0-3_run1_files.txt')\n",
    "query2=[sen.lower() for sen in query]\n",
    "query_sen = [[text for text in re.split('[/\\t]',doc)] for doc in query2]\n",
    "query_sen = [[text+'/' for text in sen] for sen in query_sen]\n",
    "query_sen=[[ subelt for subelt in elt if subelt != '/' ] for elt in query_sen] # remove '/'\n",
    "sim_vector=model.docvecs.most_similar(positive=[model.infer_vector(query_sen[0])],topn=16)\n",
    "sorted_sim_vector = sorted(sim_vector, key=lambda tup: tup[0])#sort based on document number"
   ]
  },
  {
   "cell_type": "code",
   "execution_count": 728,
   "metadata": {},
   "outputs": [],
   "source": [
    "mycursor = mydb.cursor()\n",
    "mycursor.execute(\"update search_engine_model set threshold2 = %s where name='A2-B2-C1-D1-E1-F1#1'or name='A2-B2-C1-D1-E1-F2#1' or name='A2-B2-C1-D1-E1-F3#1'\" %sorted_sim_vector[1][1])\n",
    "mycursor.close()\n",
    "mydb.commit()"
   ]
  },
  {
   "cell_type": "code",
   "execution_count": 729,
   "metadata": {},
   "outputs": [],
   "source": [
    "query = pd.read_csv('D:/WINXPSP3x86-disk-images-March2020/firefox3-5-10/after_firefox3-5-10_run1_files.txt')\n",
    "query2=[sen.lower() for sen in query]\n",
    "query_sen = [[text for text in re.split('[/\\t]',doc)] for doc in query2]\n",
    "query_sen = [[text+'/' for text in sen] for sen in query_sen]\n",
    "query_sen=[[ subelt for subelt in elt if subelt != '/' ] for elt in query_sen] # remove '/'\n",
    "sim_vector=model.docvecs.most_similar(positive=[model.infer_vector(query_sen[0])],topn=16)\n",
    "sorted_sim_vector = sorted(sim_vector, key=lambda tup: tup[0])#sort based on document number"
   ]
  },
  {
   "cell_type": "code",
   "execution_count": 730,
   "metadata": {},
   "outputs": [],
   "source": [
    "mycursor = mydb.cursor()\n",
    "mycursor.execute(\"update search_engine_model set threshold3 = %s where name='A2-B2-C1-D1-E1-F1#1'or name='A2-B2-C1-D1-E1-F2#1' or name='A2-B2-C1-D1-E1-F3#1'\" %sorted_sim_vector[2][1])\n",
    "mycursor.close()\n",
    "mydb.commit()"
   ]
  },
  {
   "cell_type": "code",
   "execution_count": 731,
   "metadata": {},
   "outputs": [],
   "source": [
    "query = pd.read_csv('D:/WINXPSP3x86-disk-images-March2020/firefox40-0-3/after_firefox40-0-3_run1_files.txt')\n",
    "query2=[sen.lower() for sen in query]\n",
    "query_sen = [[text for text in re.split('[/\\t]',doc)] for doc in query2]\n",
    "query_sen = [[text+'/' for text in sen] for sen in query_sen]\n",
    "query_sen=[[ subelt for subelt in elt if subelt != '/' ] for elt in query_sen] # remove '/'\n",
    "sim_vector=model.docvecs.most_similar(positive=[model.infer_vector(query_sen[0])],topn=16)\n",
    "sorted_sim_vector = sorted(sim_vector, key=lambda tup: tup[0])#sort based on document number"
   ]
  },
  {
   "cell_type": "code",
   "execution_count": 732,
   "metadata": {},
   "outputs": [],
   "source": [
    "mycursor = mydb.cursor()\n",
    "mycursor.execute(\"update search_engine_model set threshold4 = %s where name='A2-B2-C1-D1-E1-F1#1'or name='A2-B2-C1-D1-E1-F2#1' or name='A2-B2-C1-D1-E1-F3#1'\" %sorted_sim_vector[3][1])\n",
    "mycursor.close()\n",
    "mydb.commit()"
   ]
  },
  {
   "cell_type": "code",
   "execution_count": 733,
   "metadata": {},
   "outputs": [],
   "source": [
    "query = pd.read_csv('D:/WINXPSP3x86-disk-images-March2020/python2-6-1/after_python2-6-1_run1_files.txt')\n",
    "query2=[sen.lower() for sen in query]\n",
    "query_sen = [[text for text in re.split('[/\\t]',doc)] for doc in query2]\n",
    "query_sen = [[text+'/' for text in sen] for sen in query_sen]\n",
    "query_sen=[[ subelt for subelt in elt if subelt != '/' ] for elt in query_sen] # remove '/'\n",
    "sim_vector=model.docvecs.most_similar(positive=[model.infer_vector(query_sen[0])],topn=16)\n",
    "sorted_sim_vector = sorted(sim_vector, key=lambda tup: tup[0])#sort based on document number"
   ]
  },
  {
   "cell_type": "code",
   "execution_count": 734,
   "metadata": {},
   "outputs": [],
   "source": [
    "mycursor = mydb.cursor()\n",
    "mycursor.execute(\"update search_engine_model set threshold5 = %s where name='A2-B2-C1-D1-E1-F1#1'or name='A2-B2-C1-D1-E1-F2#1' or name='A2-B2-C1-D1-E1-F3#1'\" %sorted_sim_vector[4][1])\n",
    "mycursor.close()\n",
    "mydb.commit()"
   ]
  },
  {
   "cell_type": "code",
   "execution_count": 735,
   "metadata": {},
   "outputs": [],
   "source": [
    "query = pd.read_csv('D:/WINXPSP3x86-disk-images-March2020/python2-7-17/after_python2-7-17_run1_files.txt')\n",
    "query2=[sen.lower() for sen in query]\n",
    "query_sen = [[text for text in re.split('[/\\t]',doc)] for doc in query2]\n",
    "query_sen = [[text+'/' for text in sen] for sen in query_sen]\n",
    "query_sen=[[ subelt for subelt in elt if subelt != '/' ] for elt in query_sen] # remove '/'\n",
    "sim_vector=model.docvecs.most_similar(positive=[model.infer_vector(query_sen[0])],topn=16)\n",
    "sorted_sim_vector = sorted(sim_vector, key=lambda tup: tup[0])#sort based on document number"
   ]
  },
  {
   "cell_type": "code",
   "execution_count": 736,
   "metadata": {},
   "outputs": [],
   "source": [
    "mycursor = mydb.cursor()\n",
    "mycursor.execute(\"update search_engine_model set threshold6 = %s where name='A2-B2-C1-D1-E1-F1#1'or name='A2-B2-C1-D1-E1-F2#1' or name='A2-B2-C1-D1-E1-F3#1'\" %sorted_sim_vector[5][1])\n",
    "mycursor.close()\n",
    "mydb.commit()"
   ]
  },
  {
   "cell_type": "code",
   "execution_count": 737,
   "metadata": {},
   "outputs": [],
   "source": [
    "query = pd.read_csv('D:/WINXPSP3x86-disk-images-March2020/word2003pro/after_word2003pro_run1_files.txt')\n",
    "query2=[sen.lower() for sen in query]\n",
    "query_sen = [[text for text in re.split('[/\\t]',doc)] for doc in query2]\n",
    "query_sen = [[text+'/' for text in sen] for sen in query_sen]\n",
    "query_sen=[[ subelt for subelt in elt if subelt != '/' ] for elt in query_sen] # remove '/'\n",
    "sim_vector=model.docvecs.most_similar(positive=[model.infer_vector(query_sen[0])],topn=16)\n",
    "sorted_sim_vector = sorted(sim_vector, key=lambda tup: tup[0])#sort based on document number"
   ]
  },
  {
   "cell_type": "code",
   "execution_count": 738,
   "metadata": {},
   "outputs": [],
   "source": [
    "mycursor = mydb.cursor()\n",
    "mycursor.execute(\"update search_engine_model set threshold7 = %s where name='A2-B2-C1-D1-E1-F1#1'or name='A2-B2-C1-D1-E1-F2#1' or name='A2-B2-C1-D1-E1-F3#1'\" %sorted_sim_vector[6][1])\n",
    "mycursor.close()\n",
    "mydb.commit()"
   ]
  },
  {
   "cell_type": "code",
   "execution_count": 739,
   "metadata": {},
   "outputs": [],
   "source": [
    "query = pd.read_csv('D:/WINXPSP3x86-disk-images-March2020/word2010pro/after_word2010pro_run1_files.txt')\n",
    "query2=[sen.lower() for sen in query]\n",
    "query_sen = [[text for text in re.split('[/\\t]',doc)] for doc in query2]\n",
    "query_sen = [[text+'/' for text in sen] for sen in query_sen]\n",
    "query_sen=[[ subelt for subelt in elt if subelt != '/' ] for elt in query_sen] # remove '/'\n",
    "sim_vector=model.docvecs.most_similar(positive=[model.infer_vector(query_sen[0])],topn=16)\n",
    "sorted_sim_vector = sorted(sim_vector, key=lambda tup: tup[0])#sort based on document number"
   ]
  },
  {
   "cell_type": "code",
   "execution_count": 740,
   "metadata": {},
   "outputs": [],
   "source": [
    "mycursor = mydb.cursor()\n",
    "mycursor.execute(\"update search_engine_model set threshold8 = %s where name='A2-B2-C1-D1-E1-F1#1'or name='A2-B2-C1-D1-E1-F2#1' or name='A2-B2-C1-D1-E1-F3#1'\" %sorted_sim_vector[7][1])\n",
    "mycursor.close()\n",
    "mydb.commit()"
   ]
  },
  {
   "cell_type": "code",
   "execution_count": 741,
   "metadata": {},
   "outputs": [],
   "source": [
    "query = pd.read_csv('D:/Windows7SP1x86-disk-images-March2020/adobe reader9-2/after_adobe reader9-2_run1_files.txt')\n",
    "query2=[sen.lower() for sen in query]\n",
    "query_sen = [[text for text in re.split('[/\\t]',doc)] for doc in query2]\n",
    "query_sen = [[text+'/' for text in sen] for sen in query_sen]\n",
    "query_sen=[[ subelt for subelt in elt if subelt != '/' ] for elt in query_sen] # remove '/'\n",
    "sim_vector=model.docvecs.most_similar(positive=[model.infer_vector(query_sen[0])],topn=16)\n",
    "sorted_sim_vector = sorted(sim_vector, key=lambda tup: tup[0])#sort based on document number"
   ]
  },
  {
   "cell_type": "code",
   "execution_count": 742,
   "metadata": {},
   "outputs": [],
   "source": [
    "mycursor = mydb.cursor()\n",
    "mycursor.execute(\"update search_engine_model set threshold9 = %s where name='A2-B2-C1-D1-E1-F1#1'or name='A2-B2-C1-D1-E1-F2#1' or name='A2-B2-C1-D1-E1-F3#1'\" %sorted_sim_vector[8][1])\n",
    "mycursor.close()\n",
    "mydb.commit()"
   ]
  },
  {
   "cell_type": "code",
   "execution_count": 743,
   "metadata": {},
   "outputs": [],
   "source": [
    "query = pd.read_csv('D:/Windows7SP1x86-disk-images-March2020/adobe reader11-0-3/after_adobe reader11-0-3_run1_files.txt')\n",
    "query2=[sen.lower() for sen in query]\n",
    "query_sen = [[text for text in re.split('[/\\t]',doc)] for doc in query2]\n",
    "query_sen = [[text+'/' for text in sen] for sen in query_sen]\n",
    "query_sen=[[ subelt for subelt in elt if subelt != '/' ] for elt in query_sen] # remove '/'\n",
    "sim_vector=model.docvecs.most_similar(positive=[model.infer_vector(query_sen[0])],topn=16)\n",
    "sorted_sim_vector = sorted(sim_vector, key=lambda tup: tup[0])#sort based on document number"
   ]
  },
  {
   "cell_type": "code",
   "execution_count": 744,
   "metadata": {},
   "outputs": [],
   "source": [
    "mycursor = mydb.cursor()\n",
    "mycursor.execute(\"update search_engine_model set threshold10 = %s where name='A2-B2-C1-D1-E1-F1#1'or name='A2-B2-C1-D1-E1-F2#1' or name='A2-B2-C1-D1-E1-F3#1'\" %sorted_sim_vector[9][1])\n",
    "mycursor.close()\n",
    "mydb.commit()"
   ]
  },
  {
   "cell_type": "code",
   "execution_count": 745,
   "metadata": {},
   "outputs": [],
   "source": [
    "query = pd.read_csv('D:/Windows7SP1x86-disk-images-March2020/firefox3-5-10/after_firefox3-5-10_run1_files.txt')\n",
    "query2=[sen.lower() for sen in query]\n",
    "query_sen = [[text for text in re.split('[/\\t]',doc)] for doc in query2]\n",
    "query_sen = [[text+'/' for text in sen] for sen in query_sen]\n",
    "query_sen=[[ subelt for subelt in elt if subelt != '/' ] for elt in query_sen] # remove '/'\n",
    "sim_vector=model.docvecs.most_similar(positive=[model.infer_vector(query_sen[0])],topn=16)\n",
    "sorted_sim_vector = sorted(sim_vector, key=lambda tup: tup[0])#sort based on document number"
   ]
  },
  {
   "cell_type": "code",
   "execution_count": 746,
   "metadata": {},
   "outputs": [],
   "source": [
    "mycursor = mydb.cursor()\n",
    "mycursor.execute(\"update search_engine_model set threshold11 = %s where name='A2-B2-C1-D1-E1-F1#1'or name='A2-B2-C1-D1-E1-F2#1' or name='A2-B2-C1-D1-E1-F3#1'\" %sorted_sim_vector[10][1])\n",
    "mycursor.close()\n",
    "mydb.commit()"
   ]
  },
  {
   "cell_type": "code",
   "execution_count": 747,
   "metadata": {},
   "outputs": [],
   "source": [
    "query = pd.read_csv('D:/Windows7SP1x86-disk-images-March2020/firefox40-0-3/after_firefox40-0-3_run1_files.txt')\n",
    "query2=[sen.lower() for sen in query]\n",
    "query_sen = [[text for text in re.split('[/\\t]',doc)] for doc in query2]\n",
    "query_sen = [[text+'/' for text in sen] for sen in query_sen]\n",
    "query_sen=[[ subelt for subelt in elt if subelt != '/' ] for elt in query_sen] # remove '/'\n",
    "sim_vector=model.docvecs.most_similar(positive=[model.infer_vector(query_sen[0])],topn=16)\n",
    "sorted_sim_vector = sorted(sim_vector, key=lambda tup: tup[0])#sort based on document number"
   ]
  },
  {
   "cell_type": "code",
   "execution_count": 748,
   "metadata": {},
   "outputs": [],
   "source": [
    "mycursor = mydb.cursor()\n",
    "mycursor.execute(\"update search_engine_model set threshold12 = %s where name='A2-B2-C1-D1-E1-F1#1'or name='A2-B2-C1-D1-E1-F2#1' or name='A2-B2-C1-D1-E1-F3#1'\" %sorted_sim_vector[11][1])\n",
    "mycursor.close()\n",
    "mydb.commit()"
   ]
  },
  {
   "cell_type": "code",
   "execution_count": 749,
   "metadata": {},
   "outputs": [],
   "source": [
    "query = pd.read_csv('D:/Windows7SP1x86-disk-images-March2020/python2-6-1/after_python2-6-1_run1_files.txt')\n",
    "query2=[sen.lower() for sen in query]\n",
    "query_sen = [[text for text in re.split('[/\\t]',doc)] for doc in query2]\n",
    "query_sen = [[text+'/' for text in sen] for sen in query_sen]\n",
    "query_sen=[[ subelt for subelt in elt if subelt != '/' ] for elt in query_sen] # remove '/'\n",
    "sim_vector=model.docvecs.most_similar(positive=[model.infer_vector(query_sen[0])],topn=16)\n",
    "sorted_sim_vector = sorted(sim_vector, key=lambda tup: tup[0])#sort based on document number"
   ]
  },
  {
   "cell_type": "code",
   "execution_count": 750,
   "metadata": {},
   "outputs": [],
   "source": [
    "mycursor = mydb.cursor()\n",
    "mycursor.execute(\"update search_engine_model set threshold13 = %s where name='A2-B2-C1-D1-E1-F1#1'or name='A2-B2-C1-D1-E1-F2#1' or name='A2-B2-C1-D1-E1-F3#1'\" %sorted_sim_vector[12][1])\n",
    "mycursor.close()\n",
    "mydb.commit()"
   ]
  },
  {
   "cell_type": "code",
   "execution_count": 751,
   "metadata": {},
   "outputs": [],
   "source": [
    "query = pd.read_csv('D:/Windows7SP1x86-disk-images-March2020/python2-7-17/after_python2-7-17_run1_files.txt')\n",
    "query2=[sen.lower() for sen in query]\n",
    "query_sen = [[text for text in re.split('[/\\t]',doc)] for doc in query2]\n",
    "query_sen = [[text+'/' for text in sen] for sen in query_sen]\n",
    "query_sen=[[ subelt for subelt in elt if subelt != '/' ] for elt in query_sen] # remove '/'\n",
    "sim_vector=model.docvecs.most_similar(positive=[model.infer_vector(query_sen[0])],topn=16)\n",
    "sorted_sim_vector = sorted(sim_vector, key=lambda tup: tup[0])#sort based on document number"
   ]
  },
  {
   "cell_type": "code",
   "execution_count": 752,
   "metadata": {},
   "outputs": [],
   "source": [
    "mycursor = mydb.cursor()\n",
    "mycursor.execute(\"update search_engine_model set threshold14 = %s where name='A2-B2-C1-D1-E1-F1#1'or name='A2-B2-C1-D1-E1-F2#1' or name='A2-B2-C1-D1-E1-F3#1'\" %sorted_sim_vector[13][1])\n",
    "mycursor.close()\n",
    "mydb.commit()"
   ]
  },
  {
   "cell_type": "code",
   "execution_count": 753,
   "metadata": {},
   "outputs": [],
   "source": [
    "query = pd.read_csv('D:/Windows7SP1x86-disk-images-March2020/word2003pro/after_word2003pro_run1_files.txt')\n",
    "query2=[sen.lower() for sen in query]\n",
    "query_sen = [[text for text in re.split('[/\\t]',doc)] for doc in query2]\n",
    "query_sen = [[text+'/' for text in sen] for sen in query_sen]\n",
    "query_sen=[[ subelt for subelt in elt if subelt != '/' ] for elt in query_sen] # remove '/'\n",
    "sim_vector=model.docvecs.most_similar(positive=[model.infer_vector(query_sen[0])],topn=16)\n",
    "sorted_sim_vector = sorted(sim_vector, key=lambda tup: tup[0])#sort based on document number"
   ]
  },
  {
   "cell_type": "code",
   "execution_count": 754,
   "metadata": {},
   "outputs": [],
   "source": [
    "mycursor = mydb.cursor()\n",
    "mycursor.execute(\"update search_engine_model set threshold15 = %s where name='A2-B2-C1-D1-E1-F1#1'or name='A2-B2-C1-D1-E1-F2#1' or name='A2-B2-C1-D1-E1-F3#1'\" %sorted_sim_vector[14][1])\n",
    "mycursor.close()\n",
    "mydb.commit()"
   ]
  },
  {
   "cell_type": "code",
   "execution_count": 755,
   "metadata": {},
   "outputs": [],
   "source": [
    "query = pd.read_csv('D:/Windows7SP1x86-disk-images-March2020/word2010pro/after_word2010pro_run1_files.txt')\n",
    "query2=[sen.lower() for sen in query]\n",
    "query_sen = [[text for text in re.split('[/\\t]',doc)] for doc in query2]\n",
    "query_sen = [[text+'/' for text in sen] for sen in query_sen]\n",
    "query_sen=[[ subelt for subelt in elt if subelt != '/' ] for elt in query_sen] # remove '/'\n",
    "sim_vector=model.docvecs.most_similar(positive=[model.infer_vector(query_sen[0])],topn=16)\n",
    "sorted_sim_vector = sorted(sim_vector, key=lambda tup: tup[0])#sort based on document number"
   ]
  },
  {
   "cell_type": "code",
   "execution_count": 756,
   "metadata": {},
   "outputs": [],
   "source": [
    "mycursor = mydb.cursor()\n",
    "mycursor.execute(\"update search_engine_model set threshold16 = %s where name='A2-B2-C1-D1-E1-F1#1'or name='A2-B2-C1-D1-E1-F2#1' or name='A2-B2-C1-D1-E1-F3#1'\" %sorted_sim_vector[15][1])\n",
    "mycursor.close()\n",
    "mydb.commit()"
   ]
  },
  {
   "cell_type": "code",
   "execution_count": 6,
   "metadata": {},
   "outputs": [],
   "source": [
    "th = [0,0,0,0,0,0,0,0,0,0,0,0,0,0,0,0]\n",
    "mycursor = mydb.cursor()\n",
    "mycursor.execute(\"select * from search_engine_model where name='A2-B2-C1-D1-E1-F1#1'\")\n",
    "result = mycursor.fetchone()\n",
    "th[0] = result[2]\n",
    "th[1] = result[3]\n",
    "th[2] = result[4]\n",
    "th[3] = result[5]\n",
    "th[4] = result[6]\n",
    "th[5] = result[7]\n",
    "th[6] = result[8]\n",
    "th[7] = result[9]\n",
    "th[8] = result[10]\n",
    "th[9] = result[11]\n",
    "th[10] = result[12]\n",
    "th[11] = result[13]\n",
    "th[12] = result[14]\n",
    "th[13] = result[15]\n",
    "th[14] = result[16]\n",
    "th[15] = result[17]"
   ]
  },
  {
   "cell_type": "code",
   "execution_count": 758,
   "metadata": {},
   "outputs": [],
   "source": [
    "TP1=0\n",
    "TN1=0\n",
    "FP1=0\n",
    "FN1=0\n",
    "TP2=0\n",
    "TN2=0\n",
    "FP2=0\n",
    "FN2=0\n",
    "TP3=0\n",
    "TN3=0\n",
    "FP3=0\n",
    "FN3=0"
   ]
  },
  {
   "cell_type": "markdown",
   "metadata": {},
   "source": [
    "# Now checking the controlled machines"
   ]
  },
  {
   "cell_type": "code",
   "execution_count": 759,
   "metadata": {},
   "outputs": [],
   "source": [
    "elapsed_search=0"
   ]
  },
  {
   "cell_type": "code",
   "execution_count": 760,
   "metadata": {},
   "outputs": [],
   "source": [
    "query = pd.read_csv('D:/WINXPSP3x86-disk-images-March2020/after_first_versions_run1_files.txt')\n",
    "query2=[sen.lower() for sen in query]\n",
    "query_sen = [[text for text in re.split('[/\\t]',doc)] for doc in query2]\n",
    "query_sen = [[text+'/' for text in sen] for sen in query_sen]\n",
    "query_sen=[[ subelt for subelt in elt if subelt != '/' ] for elt in query_sen] # remove '/'\n",
    "before_search=datetime.now()\n",
    "sim_vector=model.docvecs.most_similar(positive=[model.infer_vector(query_sen[0])],topn=16)\n",
    "after_search=datetime.now()\n",
    "elapsed=after_search-before_search\n",
    "elapsed_search=elapsed.total_seconds()+elapsed_search\n",
    "sorted_sim_vector = sorted(sim_vector, key=lambda tup: tup[0])#sort based on document number"
   ]
  },
  {
   "cell_type": "code",
   "execution_count": 761,
   "metadata": {},
   "outputs": [],
   "source": [
    "mycursor = mydb.cursor()\n",
    "mycursor.execute(\"update search_engine_model set distance1_1 = %s where name='A2-B2-C1-D1-E1-F1#1'or name='A2-B2-C1-D1-E1-F2#1' or name='A2-B2-C1-D1-E1-F3#1'\"%sorted_sim_vector[0][1])\n",
    "mycursor.close()\n",
    "mydb.commit()"
   ]
  },
  {
   "cell_type": "code",
   "execution_count": 762,
   "metadata": {},
   "outputs": [],
   "source": [
    "mycursor = mydb.cursor()\n",
    "mycursor.execute(\"update search_engine_model set distance3_1 = %s where name='A2-B2-C1-D1-E1-F1#1'or name='A2-B2-C1-D1-E1-F2#1' or name='A2-B2-C1-D1-E1-F3#1'\"%sorted_sim_vector[2][1])\n",
    "mycursor.close()\n",
    "mydb.commit()"
   ]
  },
  {
   "cell_type": "code",
   "execution_count": 763,
   "metadata": {},
   "outputs": [],
   "source": [
    "mycursor = mydb.cursor()\n",
    "mycursor.execute(\"update search_engine_model set distance5_1 = %s where name='A2-B2-C1-D1-E1-F1#1'or name='A2-B2-C1-D1-E1-F2#1' or name='A2-B2-C1-D1-E1-F3#1'\"%sorted_sim_vector[4][1])\n",
    "mycursor.close()\n",
    "mydb.commit()"
   ]
  },
  {
   "cell_type": "code",
   "execution_count": 764,
   "metadata": {},
   "outputs": [],
   "source": [
    "mycursor = mydb.cursor()\n",
    "mycursor.execute(\"update search_engine_model set distance7_1 = %s where name='A2-B2-C1-D1-E1-F1#1'or name='A2-B2-C1-D1-E1-F2#1' or name='A2-B2-C1-D1-E1-F3#1'\"%sorted_sim_vector[6][1])\n",
    "mycursor.close()\n",
    "mydb.commit()"
   ]
  },
  {
   "cell_type": "code",
   "execution_count": 765,
   "metadata": {},
   "outputs": [],
   "source": [
    "listofapp = [0,1,2,3,4,5,6,7,8,9,10,11,12,13,14,15]    \n",
    "for i in range(16):\n",
    "    if th[i]!=0:\n",
    "        if i in listofapp:\n",
    "            if (sorted_sim_vector[i][1]-th[i]/2) >= 0:\n",
    "                TP1 = TP1 + 1\n",
    "            else:\n",
    "                FN1 = FN1 +1\n",
    "        else:\n",
    "            if (sorted_sim_vector[i][1]-th[i]/2) >= 0:\n",
    "                FP1 = FP1 + 1\n",
    "            else:\n",
    "                TN1 = TN1 +1"
   ]
  },
  {
   "cell_type": "code",
   "execution_count": 766,
   "metadata": {},
   "outputs": [],
   "source": [
    "listofapp = [0,1,2,3,4,5,6,7,8,9,10,11,12,13,14,15]    \n",
    "for i in range(16):\n",
    "    if th[i]!=0:\n",
    "        if i in listofapp:\n",
    "            if (sorted_sim_vector[i][1]-th[i]/4) >= 0:\n",
    "                TP2 = TP2 + 1\n",
    "            else:\n",
    "                FN2 = FN2 +1\n",
    "        else:\n",
    "            if (sorted_sim_vector[i][1]-th[i]/4) >= 0:\n",
    "                FP2 = FP2 + 1\n",
    "            else:\n",
    "                TN2 = TN2 +1"
   ]
  },
  {
   "cell_type": "code",
   "execution_count": 767,
   "metadata": {},
   "outputs": [],
   "source": [
    "listofapp = [0,1,2,3,4,5,6,7,8,9,10,11,12,13,14,15]    \n",
    "for i in range(16):\n",
    "    if th[i]!=0:\n",
    "        if i in listofapp:\n",
    "            if (sorted_sim_vector[i][1]-th[i]/8) >= 0:\n",
    "                TP3 = TP3 + 1\n",
    "            else:\n",
    "                FN3 = FN3 +1\n",
    "        else:\n",
    "            if (sorted_sim_vector[i][1]-th[i]/8) >= 0:\n",
    "                FP3 = FP3 + 1\n",
    "            else:\n",
    "                TN3 = TN3 +1"
   ]
  },
  {
   "cell_type": "markdown",
   "metadata": {},
   "source": [
    "+++++++++++++++++++++++++++++++++++++++++++++++++++++++++++++++++++++++++++++++++++++++++++++++++++++++++++++++++++++"
   ]
  },
  {
   "cell_type": "code",
   "execution_count": 768,
   "metadata": {},
   "outputs": [],
   "source": [
    "query = pd.read_csv('D:/WINXPSP3x86-disk-images-March2020/after_second_versions_run1_files.txt')\n",
    "query2=[sen.lower() for sen in query]\n",
    "query_sen = [[text for text in re.split('[/\\t]',doc)] for doc in query2]\n",
    "query_sen = [[text+'/' for text in sen] for sen in query_sen]\n",
    "query_sen=[[ subelt for subelt in elt if subelt != '/' ] for elt in query_sen] # remove '/'\n",
    "before_search=datetime.now()\n",
    "sim_vector=model.docvecs.most_similar(positive=[model.infer_vector(query_sen[0])],topn=16)\n",
    "after_search=datetime.now()\n",
    "elapsed=after_search-before_search\n",
    "elapsed_search=elapsed.total_seconds()+elapsed_search\n",
    "sorted_sim_vector = sorted(sim_vector, key=lambda tup: tup[0])#sort based on document number"
   ]
  },
  {
   "cell_type": "code",
   "execution_count": 769,
   "metadata": {},
   "outputs": [],
   "source": [
    "mycursor = mydb.cursor()\n",
    "mycursor.execute(\"update search_engine_model set distance2_1 = %s where name='A2-B2-C1-D1-E1-F1#1'or name='A2-B2-C1-D1-E1-F2#1' or name='A2-B2-C1-D1-E1-F3#1'\" %sorted_sim_vector[1][1])\n",
    "mycursor.close()\n",
    "mydb.commit()"
   ]
  },
  {
   "cell_type": "code",
   "execution_count": 770,
   "metadata": {},
   "outputs": [],
   "source": [
    "mycursor = mydb.cursor()\n",
    "mycursor.execute(\"update search_engine_model set distance4_1 = %s where name='A2-B2-C1-D1-E1-F1#1'or name='A2-B2-C1-D1-E1-F2#1' or name='A2-B2-C1-D1-E1-F3#1'\" %sorted_sim_vector[3][1])\n",
    "mycursor.close()\n",
    "mydb.commit()"
   ]
  },
  {
   "cell_type": "code",
   "execution_count": 771,
   "metadata": {},
   "outputs": [],
   "source": [
    "mycursor = mydb.cursor()\n",
    "mycursor.execute(\"update search_engine_model set distance6_1 = %s where name='A2-B2-C1-D1-E1-F1#1'or name='A2-B2-C1-D1-E1-F2#1' or name='A2-B2-C1-D1-E1-F3#1'\" %sorted_sim_vector[5][1])\n",
    "mycursor.close()\n",
    "mydb.commit()"
   ]
  },
  {
   "cell_type": "code",
   "execution_count": 772,
   "metadata": {},
   "outputs": [],
   "source": [
    "mycursor = mydb.cursor()\n",
    "mycursor.execute(\"update search_engine_model set distance8_1 = %s where name='A2-B2-C1-D1-E1-F1#1'or name='A2-B2-C1-D1-E1-F2#1' or name='A2-B2-C1-D1-E1-F3#1'\" %sorted_sim_vector[7][1])\n",
    "mycursor.close()\n",
    "mydb.commit()"
   ]
  },
  {
   "cell_type": "code",
   "execution_count": 773,
   "metadata": {},
   "outputs": [],
   "source": [
    "listofapp = [0,1,2,3,4,5,6,7,8,9,10,11,12,13,14,15]     \n",
    "for i in range(16):\n",
    "    if th[i]!=0:\n",
    "        if i in listofapp:\n",
    "            if (sorted_sim_vector[i][1]-th[i]/2) >= 0:\n",
    "                TP1 = TP1 + 1\n",
    "            else:\n",
    "                FN1 = FN1 +1\n",
    "        else:\n",
    "            if (sorted_sim_vector[i][1]-th[i]/2) >= 0:\n",
    "                FP1 = FP1 + 1\n",
    "            else:\n",
    "                TN1 = TN1 +1"
   ]
  },
  {
   "cell_type": "code",
   "execution_count": 774,
   "metadata": {},
   "outputs": [],
   "source": [
    "listofapp = [0,1,2,3,4,5,6,7,8,9,10,11,12,13,14,15]     \n",
    "for i in range(16):\n",
    "    if th[i]!=0:\n",
    "        if i in listofapp:\n",
    "            if (sorted_sim_vector[i][1]-th[i]/4) >= 0:\n",
    "                TP2 = TP2 + 1\n",
    "            else:\n",
    "                FN2 = FN2 +1\n",
    "        else:\n",
    "            if (sorted_sim_vector[i][1]-th[i]/4) >= 0:\n",
    "                FP2 = FP2 + 1\n",
    "            else:\n",
    "                TN2 = TN2 +1"
   ]
  },
  {
   "cell_type": "code",
   "execution_count": 775,
   "metadata": {},
   "outputs": [],
   "source": [
    "listofapp = [0,1,2,3,4,5,6,7,8,9,10,11,12,13,14,15]     \n",
    "for i in range(16):\n",
    "    if th[i]!=0:\n",
    "        if i in listofapp:\n",
    "            if (sorted_sim_vector[i][1]-th[i]/8) >= 0:\n",
    "                TP3 = TP3 + 1\n",
    "            else:\n",
    "                FN3 = FN3 +1\n",
    "        else:\n",
    "            if (sorted_sim_vector[i][1]-th[i]/8) >= 0:\n",
    "                FP3 = FP3 + 1\n",
    "            else:\n",
    "                TN3 = TN3 +1"
   ]
  },
  {
   "cell_type": "markdown",
   "metadata": {},
   "source": [
    "+++++++++++++++++++++++++++++++++++++++++++++++++++++++++++++++++++++++++++++++++++++++++++++++++++++++++++++++++++++"
   ]
  },
  {
   "cell_type": "code",
   "execution_count": 776,
   "metadata": {},
   "outputs": [],
   "source": [
    "query = pd.read_csv('D:/Windows7SP1x86-disk-images-March2020/after_first_versions_run1_files.txt')\n",
    "query2=[sen.lower() for sen in query]\n",
    "query_sen = [[text for text in re.split('[/\\t]',doc)] for doc in query2]\n",
    "query_sen = [[text+'/' for text in sen] for sen in query_sen]\n",
    "query_sen=[[ subelt for subelt in elt if subelt != '/' ] for elt in query_sen] # remove '/'\n",
    "before_search=datetime.now()\n",
    "sim_vector=model.docvecs.most_similar(positive=[model.infer_vector(query_sen[0])],topn=16)\n",
    "after_search=datetime.now()\n",
    "elapsed=after_search-before_search\n",
    "elapsed_search=elapsed.total_seconds()+elapsed_search\n",
    "sorted_sim_vector = sorted(sim_vector, key=lambda tup: tup[0])#sort based on document number"
   ]
  },
  {
   "cell_type": "code",
   "execution_count": 777,
   "metadata": {},
   "outputs": [],
   "source": [
    "mycursor = mydb.cursor()\n",
    "mycursor.execute(\"update search_engine_model set distance9_1 = %s where name='A2-B2-C1-D1-E1-F1#1'or name='A2-B2-C1-D1-E1-F2#1' or name='A2-B2-C1-D1-E1-F3#1'\" %sorted_sim_vector[8][1])\n",
    "mycursor.close()\n",
    "mydb.commit()"
   ]
  },
  {
   "cell_type": "code",
   "execution_count": 778,
   "metadata": {},
   "outputs": [],
   "source": [
    "mycursor = mydb.cursor()\n",
    "mycursor.execute(\"update search_engine_model set distance11_1 = %s where name='A2-B2-C1-D1-E1-F1#1'or name='A2-B2-C1-D1-E1-F2#1' or name='A2-B2-C1-D1-E1-F3#1'\" %sorted_sim_vector[10][1])\n",
    "mycursor.close()\n",
    "mydb.commit()"
   ]
  },
  {
   "cell_type": "code",
   "execution_count": 779,
   "metadata": {},
   "outputs": [],
   "source": [
    "mycursor = mydb.cursor()\n",
    "mycursor.execute(\"update search_engine_model set distance13_1 = %s where name='A2-B2-C1-D1-E1-F1#1'or name='A2-B2-C1-D1-E1-F2#1' or name='A2-B2-C1-D1-E1-F3#1'\" %sorted_sim_vector[12][1])\n",
    "mycursor.close()\n",
    "mydb.commit()"
   ]
  },
  {
   "cell_type": "code",
   "execution_count": 780,
   "metadata": {},
   "outputs": [],
   "source": [
    "mycursor = mydb.cursor()\n",
    "mycursor.execute(\"update search_engine_model set distance15_1 = %s where name='A2-B2-C1-D1-E1-F1#1'or name='A2-B2-C1-D1-E1-F2#1' or name='A2-B2-C1-D1-E1-F3#1'\" %sorted_sim_vector[14][1])\n",
    "mycursor.close()\n",
    "mydb.commit()"
   ]
  },
  {
   "cell_type": "code",
   "execution_count": 781,
   "metadata": {},
   "outputs": [],
   "source": [
    "listofapp = [0,1,2,3,4,5,6,7,8,9,10,11,12,13,14,15]     \n",
    "for i in range(16):\n",
    "    if th[i]!=0:\n",
    "        if i in listofapp:\n",
    "            if (sorted_sim_vector[i][1]-th[i]/2) >= 0:\n",
    "                TP1 = TP1 + 1\n",
    "            else:\n",
    "                FN1 = FN1 +1\n",
    "        else:\n",
    "            if (sorted_sim_vector[i][1]-th[i]/2) >= 0:\n",
    "                FP1 = FP1 + 1\n",
    "            else:\n",
    "                TN1 = TN1 +1"
   ]
  },
  {
   "cell_type": "code",
   "execution_count": 782,
   "metadata": {},
   "outputs": [],
   "source": [
    "listofapp = [0,1,2,3,4,5,6,7,8,9,10,11,12,13,14,15]     \n",
    "for i in range(16):\n",
    "    if th[i]!=0:\n",
    "        if i in listofapp:\n",
    "            if (sorted_sim_vector[i][1]-th[i]/4) >= 0:\n",
    "                TP2 = TP2 + 1\n",
    "            else:\n",
    "                FN2 = FN2 +1\n",
    "        else:\n",
    "            if (sorted_sim_vector[i][1]-th[i]/4) >= 0:\n",
    "                FP2 = FP2 + 1\n",
    "            else:\n",
    "                TN2 = TN2 +1"
   ]
  },
  {
   "cell_type": "code",
   "execution_count": 783,
   "metadata": {},
   "outputs": [],
   "source": [
    "listofapp = [0,1,2,3,4,5,6,7,8,9,10,11,12,13,14,15]     \n",
    "for i in range(16):\n",
    "    if th[i]!=0:\n",
    "        if i in listofapp:\n",
    "            if (sorted_sim_vector[i][1]-th[i]/8) >= 0:\n",
    "                TP3 = TP3 + 1\n",
    "            else:\n",
    "                FN3 = FN3 +1\n",
    "        else:\n",
    "            if (sorted_sim_vector[i][1]-th[i]/8) >= 0:\n",
    "                FP3 = FP3 + 1\n",
    "            else:\n",
    "                TN3 = TN3 +1"
   ]
  },
  {
   "cell_type": "markdown",
   "metadata": {},
   "source": [
    "+++++++++++++++++++++++++++++++++++++++++++++++++++++++++++++++++++++++++++++++++++++++++++++++++++++++++++++++++++++"
   ]
  },
  {
   "cell_type": "code",
   "execution_count": 784,
   "metadata": {},
   "outputs": [],
   "source": [
    "query = pd.read_csv('D:/Windows7SP1x86-disk-images-March2020/after_second_versions_run1_files.txt')\n",
    "query2=[sen.lower() for sen in query]\n",
    "query_sen = [[text for text in re.split('[/\\t]',doc)] for doc in query2]\n",
    "query_sen = [[text+'/' for text in sen] for sen in query_sen]\n",
    "query_sen=[[ subelt for subelt in elt if subelt != '/' ] for elt in query_sen] # remove '/'\n",
    "before_search=datetime.now()\n",
    "sim_vector=model.docvecs.most_similar(positive=[model.infer_vector(query_sen[0])],topn=16)\n",
    "after_search=datetime.now()\n",
    "elapsed=after_search-before_search\n",
    "elapsed_search=elapsed.total_seconds()+elapsed_search\n",
    "sorted_sim_vector = sorted(sim_vector, key=lambda tup: tup[0])#sort based on document number"
   ]
  },
  {
   "cell_type": "code",
   "execution_count": 785,
   "metadata": {},
   "outputs": [],
   "source": [
    "mycursor = mydb.cursor()\n",
    "mycursor.execute(\"update search_engine_model set distance10_1 = %s where name='A2-B2-C1-D1-E1-F1#1'or name='A2-B2-C1-D1-E1-F2#1' or name='A2-B2-C1-D1-E1-F3#1'\" %sorted_sim_vector[9][1])\n",
    "mycursor.close()\n",
    "mydb.commit()"
   ]
  },
  {
   "cell_type": "code",
   "execution_count": 786,
   "metadata": {},
   "outputs": [],
   "source": [
    "mycursor = mydb.cursor()\n",
    "mycursor.execute(\"update search_engine_model set distance12_1 = %s where name='A2-B2-C1-D1-E1-F1#1'or name='A2-B2-C1-D1-E1-F2#1' or name='A2-B2-C1-D1-E1-F3#1'\" %sorted_sim_vector[11][1])\n",
    "mycursor.close()\n",
    "mydb.commit()"
   ]
  },
  {
   "cell_type": "code",
   "execution_count": 787,
   "metadata": {},
   "outputs": [],
   "source": [
    "mycursor = mydb.cursor()\n",
    "mycursor.execute(\"update search_engine_model set distance14_1 = %s where name='A2-B2-C1-D1-E1-F1#1'or name='A2-B2-C1-D1-E1-F2#1' or name='A2-B2-C1-D1-E1-F3#1'\" %sorted_sim_vector[13][1])\n",
    "mycursor.close()\n",
    "mydb.commit()"
   ]
  },
  {
   "cell_type": "code",
   "execution_count": 788,
   "metadata": {},
   "outputs": [],
   "source": [
    "mycursor = mydb.cursor()\n",
    "mycursor.execute(\"update search_engine_model set distance16_1 = %s where name='A2-B2-C1-D1-E1-F1#1'or name='A2-B2-C1-D1-E1-F2#1' or name='A2-B2-C1-D1-E1-F3#1'\" %sorted_sim_vector[15][1])\n",
    "mycursor.close()\n",
    "mydb.commit()"
   ]
  },
  {
   "cell_type": "code",
   "execution_count": 789,
   "metadata": {},
   "outputs": [],
   "source": [
    "listofapp = [0,1,2,3,4,5,6,7,8,9,10,11,12,13,14,15]     \n",
    "for i in range(16):\n",
    "    if th[i]!=0:\n",
    "        if i in listofapp:\n",
    "            if (sorted_sim_vector[i][1]-th[i]/2) >= 0:\n",
    "                TP1 = TP1 + 1\n",
    "            else:\n",
    "                FN1 = FN1 +1\n",
    "        else:\n",
    "            if (sorted_sim_vector[i][1]-th[i]/2) >= 0:\n",
    "                FP1 = FP1 + 1\n",
    "            else:\n",
    "                TN1 = TN1 +1"
   ]
  },
  {
   "cell_type": "code",
   "execution_count": 790,
   "metadata": {},
   "outputs": [],
   "source": [
    "listofapp = [0,1,2,3,4,5,6,7,8,9,10,11,12,13,14,15]     \n",
    "for i in range(16):\n",
    "    if th[i]!=0:\n",
    "        if i in listofapp:\n",
    "            if (sorted_sim_vector[i][1]-th[i]/4) >= 0:\n",
    "                TP2 = TP2 + 1\n",
    "            else:\n",
    "                FN2 = FN2 +1\n",
    "        else:\n",
    "            if (sorted_sim_vector[i][1]-th[i]/4) >= 0:\n",
    "                FP2 = FP2 + 1\n",
    "            else:\n",
    "                TN2 = TN2 +1"
   ]
  },
  {
   "cell_type": "code",
   "execution_count": 791,
   "metadata": {},
   "outputs": [],
   "source": [
    "listofapp = [0,1,2,3,4,5,6,7,8,9,10,11,12,13,14,15]     \n",
    "for i in range(16):\n",
    "    if th[i]!=0:\n",
    "        if i in listofapp:\n",
    "            if (sorted_sim_vector[i][1]-th[i]/8) >= 0:\n",
    "                TP3 = TP3 + 1\n",
    "            else:\n",
    "                FN3 = FN3 +1\n",
    "        else:\n",
    "            if (sorted_sim_vector[i][1]-th[i]/8) >= 0:\n",
    "                FP3 = FP3 + 1\n",
    "            else:\n",
    "                TN3 = TN3 +1"
   ]
  },
  {
   "cell_type": "markdown",
   "metadata": {},
   "source": [
    "+++++++++++++++++++++++++++++++++++++++++++++++++++++++++++++++++++++++++++++++++++++++++++++++++++++++++++++++++++++"
   ]
  },
  {
   "cell_type": "code",
   "execution_count": 792,
   "metadata": {},
   "outputs": [],
   "source": [
    "query = pd.read_csv('D:/WINXPSP3x86-disk-images-March2020/after_first_versions_adobe_firefox_python_files.txt')\n",
    "query2=[sen.lower() for sen in query]\n",
    "query_sen = [[text for text in re.split('[/\\t]',doc)] for doc in query2]\n",
    "query_sen = [[text+'/' for text in sen] for sen in query_sen]\n",
    "query_sen=[[ subelt for subelt in elt if subelt != '/' ] for elt in query_sen] # remove '/'\n",
    "before_search=datetime.now()\n",
    "sim_vector=model.docvecs.most_similar(positive=[model.infer_vector(query_sen[0])],topn=16)\n",
    "after_search=datetime.now()\n",
    "elapsed=after_search-before_search\n",
    "elapsed_search=elapsed.total_seconds()+elapsed_search\n",
    "sorted_sim_vector = sorted(sim_vector, key=lambda tup: tup[0])#sort based on document number"
   ]
  },
  {
   "cell_type": "code",
   "execution_count": 793,
   "metadata": {},
   "outputs": [],
   "source": [
    "mycursor = mydb.cursor()\n",
    "mycursor.execute(\"update search_engine_model set distance1_2 = %s where name='A2-B2-C1-D1-E1-F1#1'or name='A2-B2-C1-D1-E1-F2#1' or name='A2-B2-C1-D1-E1-F3#1'\"%sorted_sim_vector[0][1])\n",
    "mycursor.close()\n",
    "mydb.commit()"
   ]
  },
  {
   "cell_type": "code",
   "execution_count": 794,
   "metadata": {},
   "outputs": [],
   "source": [
    "mycursor = mydb.cursor()\n",
    "mycursor.execute(\"update search_engine_model set distance3_2 = %s where name='A2-B2-C1-D1-E1-F1#1'or name='A2-B2-C1-D1-E1-F2#1' or name='A2-B2-C1-D1-E1-F3#1'\"%sorted_sim_vector[2][1])\n",
    "mycursor.close()\n",
    "mydb.commit()"
   ]
  },
  {
   "cell_type": "code",
   "execution_count": 795,
   "metadata": {},
   "outputs": [],
   "source": [
    "mycursor = mydb.cursor()\n",
    "mycursor.execute(\"update search_engine_model set distance5_2 = %s where name='A2-B2-C1-D1-E1-F1#1'or name='A2-B2-C1-D1-E1-F2#1' or name='A2-B2-C1-D1-E1-F3#1'\"%sorted_sim_vector[4][1])\n",
    "mycursor.close()\n",
    "mydb.commit()"
   ]
  },
  {
   "cell_type": "code",
   "execution_count": 796,
   "metadata": {},
   "outputs": [],
   "source": [
    "listofapp = [0,1,2,3,4,5,8,9,10,11,12,13]     \n",
    "for i in range(16):\n",
    "    if th[i]!=0:\n",
    "        if i in listofapp:\n",
    "            if (sorted_sim_vector[i][1]-th[i]/2) >= 0:\n",
    "                TP1 = TP1 + 1\n",
    "            else:\n",
    "                FN1 = FN1 +1\n",
    "        else:\n",
    "            if (sorted_sim_vector[i][1]-th[i]/2) >= 0:\n",
    "                FP1 = FP1 + 1\n",
    "            else:\n",
    "                TN1 = TN1 +1"
   ]
  },
  {
   "cell_type": "code",
   "execution_count": 797,
   "metadata": {},
   "outputs": [],
   "source": [
    "listofapp = [0,1,2,3,4,5,8,9,10,11,12,13]     \n",
    "for i in range(16):\n",
    "    if th[i]!=0:\n",
    "        if i in listofapp:\n",
    "            if (sorted_sim_vector[i][1]-th[i]/4) >= 0:\n",
    "                TP2 = TP2 + 1\n",
    "            else:\n",
    "                FN2 = FN2 +1\n",
    "        else:\n",
    "            if (sorted_sim_vector[i][1]-th[i]/4) >= 0:\n",
    "                FP2 = FP2 + 1\n",
    "            else:\n",
    "                TN2 = TN2 +1"
   ]
  },
  {
   "cell_type": "code",
   "execution_count": 798,
   "metadata": {},
   "outputs": [],
   "source": [
    "listofapp = [0,1,2,3,4,5,8,9,10,11,12,13]     \n",
    "for i in range(16):\n",
    "    if th[i]!=0:\n",
    "        if i in listofapp:\n",
    "            if (sorted_sim_vector[i][1]-th[i]/8) >= 0:\n",
    "                TP3 = TP3 + 1\n",
    "            else:\n",
    "                FN3 = FN3 +1\n",
    "        else:\n",
    "            if (sorted_sim_vector[i][1]-th[i]/8) >= 0:\n",
    "                FP3 = FP3 + 1\n",
    "            else:\n",
    "                TN3 = TN3 +1"
   ]
  },
  {
   "cell_type": "markdown",
   "metadata": {},
   "source": [
    "+++++++++++++++++++++++++++++++++++++++++++++++++++++++++++++++++++++++++++++++++++++++++++++++++++++++++++++++++++++"
   ]
  },
  {
   "cell_type": "code",
   "execution_count": 799,
   "metadata": {},
   "outputs": [],
   "source": [
    "query = pd.read_csv('D:/WINXPSP3x86-disk-images-March2020/after_first_versions_firefox_python_word_files.txt')\n",
    "query2=[sen.lower() for sen in query]\n",
    "query_sen = [[text for text in re.split('[/\\t]',doc)] for doc in query2]\n",
    "query_sen = [[text+'/' for text in sen] for sen in query_sen]\n",
    "query_sen=[[ subelt for subelt in elt if subelt != '/' ] for elt in query_sen] # remove '/'\n",
    "before_search=datetime.now()\n",
    "sim_vector=model.docvecs.most_similar(positive=[model.infer_vector(query_sen[0])],topn=16)\n",
    "after_search=datetime.now()\n",
    "elapsed=after_search-before_search\n",
    "elapsed_search=elapsed.total_seconds()+elapsed_search\n",
    "sorted_sim_vector = sorted(sim_vector, key=lambda tup: tup[0])#sort based on document number"
   ]
  },
  {
   "cell_type": "code",
   "execution_count": 800,
   "metadata": {},
   "outputs": [],
   "source": [
    "mycursor = mydb.cursor()\n",
    "mycursor.execute(\"update search_engine_model set distance3_3 = %s where name='A2-B2-C1-D1-E1-F1#1'or name='A2-B2-C1-D1-E1-F2#1' or name='A2-B2-C1-D1-E1-F3#1'\"%sorted_sim_vector[2][1])\n",
    "mycursor.close()\n",
    "mydb.commit()"
   ]
  },
  {
   "cell_type": "code",
   "execution_count": 801,
   "metadata": {},
   "outputs": [],
   "source": [
    "mycursor = mydb.cursor()\n",
    "mycursor.execute(\"update search_engine_model set distance5_3 = %s where name='A2-B2-C1-D1-E1-F1#1'or name='A2-B2-C1-D1-E1-F2#1' or name='A2-B2-C1-D1-E1-F3#1'\"%sorted_sim_vector[4][1])\n",
    "mycursor.close()\n",
    "mydb.commit()"
   ]
  },
  {
   "cell_type": "code",
   "execution_count": 802,
   "metadata": {},
   "outputs": [],
   "source": [
    "mycursor = mydb.cursor()\n",
    "mycursor.execute(\"update search_engine_model set distance7_2 = %s where name='A2-B2-C1-D1-E1-F1#1'or name='A2-B2-C1-D1-E1-F2#1' or name='A2-B2-C1-D1-E1-F3#1'\"%sorted_sim_vector[6][1])\n",
    "mycursor.close()\n",
    "mydb.commit()"
   ]
  },
  {
   "cell_type": "code",
   "execution_count": 803,
   "metadata": {},
   "outputs": [],
   "source": [
    "listofapp = [2,3,4,5,6,7,10,11,12,13,14,15]     \n",
    "for i in range(16):\n",
    "    if th[i]!=0:\n",
    "        if i in listofapp:\n",
    "            if (sorted_sim_vector[i][1]-th[i]/2) >= 0:\n",
    "                TP1 = TP1 + 1\n",
    "            else:\n",
    "                FN1 = FN1 +1\n",
    "        else:\n",
    "            if (sorted_sim_vector[i][1]-th[i]/2) >= 0:\n",
    "                FP1 = FP1 + 1\n",
    "            else:\n",
    "                TN1 = TN1 +1"
   ]
  },
  {
   "cell_type": "code",
   "execution_count": 804,
   "metadata": {},
   "outputs": [],
   "source": [
    "listofapp = [2,3,4,5,6,7,10,11,12,13,14,15]     \n",
    "for i in range(16):\n",
    "    if th[i]!=0:\n",
    "        if i in listofapp:\n",
    "            if (sorted_sim_vector[i][1]-th[i]/4) >= 0:\n",
    "                TP2 = TP2 + 1\n",
    "            else:\n",
    "                FN2 = FN2 +1\n",
    "        else:\n",
    "            if (sorted_sim_vector[i][1]-th[i]/4) >= 0:\n",
    "                FP2 = FP2 + 1\n",
    "            else:\n",
    "                TN2 = TN2 +1"
   ]
  },
  {
   "cell_type": "code",
   "execution_count": 805,
   "metadata": {},
   "outputs": [],
   "source": [
    "listofapp = [2,3,4,5,6,7,10,11,12,13,14,15]     \n",
    "for i in range(16):\n",
    "    if th[i]!=0:\n",
    "        if i in listofapp:\n",
    "            if (sorted_sim_vector[i][1]-th[i]/8) >= 0:\n",
    "                TP3 = TP3 + 1\n",
    "            else:\n",
    "                FN3 = FN3 +1\n",
    "        else:\n",
    "            if (sorted_sim_vector[i][1]-th[i]/8) >= 0:\n",
    "                FP3 = FP3 + 1\n",
    "            else:\n",
    "                TN3 = TN3 +1"
   ]
  },
  {
   "cell_type": "markdown",
   "metadata": {},
   "source": [
    "+++++++++++++++++++++++++++++++++++++++++++++++++++++++++++++++++++++++++++++++++++++++++++++++++++++++++++++++++++++"
   ]
  },
  {
   "cell_type": "code",
   "execution_count": 806,
   "metadata": {},
   "outputs": [],
   "source": [
    "query = pd.read_csv('D:/WINXPSP3x86-disk-images-March2020/after_first_versions_python_word_adobe_files.txt')\n",
    "query2=[sen.lower() for sen in query]\n",
    "query_sen = [[text for text in re.split('[/\\t]',doc)] for doc in query2]\n",
    "query_sen = [[text+'/' for text in sen] for sen in query_sen]\n",
    "query_sen=[[ subelt for subelt in elt if subelt != '/' ] for elt in query_sen] # remove '/'\n",
    "before_search=datetime.now()\n",
    "sim_vector=model.docvecs.most_similar(positive=[model.infer_vector(query_sen[0])],topn=16)\n",
    "after_search=datetime.now()\n",
    "elapsed=after_search-before_search\n",
    "elapsed_search=elapsed.total_seconds()+elapsed_search\n",
    "sorted_sim_vector = sorted(sim_vector, key=lambda tup: tup[0])#sort based on document number"
   ]
  },
  {
   "cell_type": "code",
   "execution_count": 807,
   "metadata": {},
   "outputs": [],
   "source": [
    "mycursor = mydb.cursor()\n",
    "mycursor.execute(\"update search_engine_model set distance1_3 = %s where name='A2-B2-C1-D1-E1-F1#1'or name='A2-B2-C1-D1-E1-F2#1' or name='A2-B2-C1-D1-E1-F3#1'\"%sorted_sim_vector[0][1])\n",
    "mycursor.close()\n",
    "mydb.commit()"
   ]
  },
  {
   "cell_type": "code",
   "execution_count": 808,
   "metadata": {},
   "outputs": [],
   "source": [
    "mycursor = mydb.cursor()\n",
    "mycursor.execute(\"update search_engine_model set distance5_4 = %s where name='A2-B2-C1-D1-E1-F1#1'or name='A2-B2-C1-D1-E1-F2#1' or name='A2-B2-C1-D1-E1-F3#1'\"%sorted_sim_vector[4][1])\n",
    "mycursor.close()\n",
    "mydb.commit()"
   ]
  },
  {
   "cell_type": "code",
   "execution_count": 809,
   "metadata": {},
   "outputs": [],
   "source": [
    "mycursor = mydb.cursor()\n",
    "mycursor.execute(\"update search_engine_model set distance7_3 = %s where name='A2-B2-C1-D1-E1-F1#1'or name='A2-B2-C1-D1-E1-F2#1' or name='A2-B2-C1-D1-E1-F3#1'\"%sorted_sim_vector[6][1])\n",
    "mycursor.close()\n",
    "mydb.commit()"
   ]
  },
  {
   "cell_type": "code",
   "execution_count": 810,
   "metadata": {},
   "outputs": [],
   "source": [
    "listofapp = [0,1,4,5,6,7,8,9,12,13,14,15]     \n",
    "for i in range(16):\n",
    "    if th[i]!=0:\n",
    "        if i in listofapp:\n",
    "            if (sorted_sim_vector[i][1]-th[i]/2) >= 0:\n",
    "                TP1 = TP1 + 1\n",
    "            else:\n",
    "                FN1 = FN1 +1\n",
    "        else:\n",
    "            if (sorted_sim_vector[i][1]-th[i]/2) >= 0:\n",
    "                FP1 = FP1 + 1\n",
    "            else:\n",
    "                TN1 = TN1 +1"
   ]
  },
  {
   "cell_type": "code",
   "execution_count": 811,
   "metadata": {},
   "outputs": [],
   "source": [
    "listofapp = [0,1,4,5,6,7,8,9,12,13,14,15]     \n",
    "for i in range(16):\n",
    "    if th[i]!=0:\n",
    "        if i in listofapp:\n",
    "            if (sorted_sim_vector[i][1]-th[i]/4) >= 0:\n",
    "                TP2 = TP2 + 1\n",
    "            else:\n",
    "                FN2 = FN2 +1\n",
    "        else:\n",
    "            if (sorted_sim_vector[i][1]-th[i]/4) >= 0:\n",
    "                FP2 = FP2 + 1\n",
    "            else:\n",
    "                TN2 = TN2 +1"
   ]
  },
  {
   "cell_type": "code",
   "execution_count": 812,
   "metadata": {},
   "outputs": [],
   "source": [
    "listofapp = [0,1,4,5,6,7,8,9,12,13,14,15]     \n",
    "for i in range(16):\n",
    "    if th[i]!=0:\n",
    "        if i in listofapp:\n",
    "            if (sorted_sim_vector[i][1]-th[i]/8) >= 0:\n",
    "                TP3 = TP3 + 1\n",
    "            else:\n",
    "                FN3 = FN3 +1\n",
    "        else:\n",
    "            if (sorted_sim_vector[i][1]-th[i]/8) >= 0:\n",
    "                FP3 = FP3 + 1\n",
    "            else:\n",
    "                TN3 = TN3 +1"
   ]
  },
  {
   "cell_type": "markdown",
   "metadata": {},
   "source": [
    "+++++++++++++++++++++++++++++++++++++++++++++++++++++++++++++++++++++++++++++++++++++++++++++++++++++++++++++++++++++"
   ]
  },
  {
   "cell_type": "code",
   "execution_count": 813,
   "metadata": {},
   "outputs": [],
   "source": [
    "query = pd.read_csv('D:/WINXPSP3x86-disk-images-March2020/after_first_versions_word_adobe_firefox_files.txt')\n",
    "query2=[sen.lower() for sen in query]\n",
    "query_sen = [[text for text in re.split('[/\\t]',doc)] for doc in query2]\n",
    "query_sen = [[text+'/' for text in sen] for sen in query_sen]\n",
    "query_sen=[[ subelt for subelt in elt if subelt != '/' ] for elt in query_sen] # remove '/'\n",
    "before_search=datetime.now()\n",
    "sim_vector=model.docvecs.most_similar(positive=[model.infer_vector(query_sen[0])],topn=16)\n",
    "after_search=datetime.now()\n",
    "elapsed=after_search-before_search\n",
    "elapsed_search=elapsed.total_seconds()+elapsed_search\n",
    "sorted_sim_vector = sorted(sim_vector, key=lambda tup: tup[0])#sort based on document number"
   ]
  },
  {
   "cell_type": "code",
   "execution_count": 814,
   "metadata": {},
   "outputs": [],
   "source": [
    "mycursor = mydb.cursor()\n",
    "mycursor.execute(\"update search_engine_model set distance1_4 = %s where name='A2-B2-C1-D1-E1-F1#1'or name='A2-B2-C1-D1-E1-F2#1' or name='A2-B2-C1-D1-E1-F3#1'\"%sorted_sim_vector[0][1])\n",
    "mycursor.close()\n",
    "mydb.commit()"
   ]
  },
  {
   "cell_type": "code",
   "execution_count": 815,
   "metadata": {},
   "outputs": [],
   "source": [
    "mycursor = mydb.cursor()\n",
    "mycursor.execute(\"update search_engine_model set distance3_4 = %s where name='A2-B2-C1-D1-E1-F1#1'or name='A2-B2-C1-D1-E1-F2#1' or name='A2-B2-C1-D1-E1-F3#1'\"%sorted_sim_vector[2][1])\n",
    "mycursor.close()\n",
    "mydb.commit()"
   ]
  },
  {
   "cell_type": "code",
   "execution_count": 816,
   "metadata": {},
   "outputs": [],
   "source": [
    "mycursor = mydb.cursor()\n",
    "mycursor.execute(\"update search_engine_model set distance7_4 = %s where name='A2-B2-C1-D1-E1-F1#1'or name='A2-B2-C1-D1-E1-F2#1' or name='A2-B2-C1-D1-E1-F3#1'\"%sorted_sim_vector[6][1])\n",
    "mycursor.close()\n",
    "mydb.commit()"
   ]
  },
  {
   "cell_type": "code",
   "execution_count": 817,
   "metadata": {},
   "outputs": [],
   "source": [
    "listofapp = [0,1,2,3,6,7,8,9,10,11,14,15]    \n",
    "for i in range(16):\n",
    "    if th[i]!=0:\n",
    "        if i in listofapp:\n",
    "            if (sorted_sim_vector[i][1]-th[i]/2) >= 0:\n",
    "                TP1 = TP1 + 1\n",
    "            else:\n",
    "                FN1 = FN1 +1\n",
    "        else:\n",
    "            if (sorted_sim_vector[i][1]-th[i]/2) >= 0:\n",
    "                FP1 = FP1 + 1\n",
    "            else:\n",
    "                TN1 = TN1 +1"
   ]
  },
  {
   "cell_type": "code",
   "execution_count": 818,
   "metadata": {},
   "outputs": [],
   "source": [
    "listofapp = [0,1,2,3,6,7,8,9,10,11,14,15]    \n",
    "for i in range(16):\n",
    "    if th[i]!=0:\n",
    "        if i in listofapp:\n",
    "            if (sorted_sim_vector[i][1]-th[i]/4) >= 0:\n",
    "                TP2 = TP2 + 1\n",
    "            else:\n",
    "                FN2 = FN2 +1\n",
    "        else:\n",
    "            if (sorted_sim_vector[i][1]-th[i]/4) >= 0:\n",
    "                FP2 = FP2 + 1\n",
    "            else:\n",
    "                TN2 = TN2 +1"
   ]
  },
  {
   "cell_type": "code",
   "execution_count": 819,
   "metadata": {},
   "outputs": [],
   "source": [
    "listofapp = [0,1,2,3,6,7,8,9,10,11,14,15]     \n",
    "for i in range(16):\n",
    "    if th[i]!=0:\n",
    "        if i in listofapp:\n",
    "            if (sorted_sim_vector[i][1]-th[i]/8) >= 0:\n",
    "                TP3 = TP3 + 1\n",
    "            else:\n",
    "                FN3 = FN3 +1\n",
    "        else:\n",
    "            if (sorted_sim_vector[i][1]-th[i]/8) >= 0:\n",
    "                FP3 = FP3 + 1\n",
    "            else:\n",
    "                TN3 = TN3 +1"
   ]
  },
  {
   "cell_type": "markdown",
   "metadata": {},
   "source": [
    "+++++++++++++++++++++++++++++++++++++++++++++++++++++++++++++++++++++++++++++++++++++++++++++++++++++++++++++++++++++"
   ]
  },
  {
   "cell_type": "code",
   "execution_count": 820,
   "metadata": {},
   "outputs": [],
   "source": [
    "query = pd.read_csv('D:/WINXPSP3x86-disk-images-March2020/after_second_versions_adobe_firefox_python_files.txt')\n",
    "query2=[sen.lower() for sen in query]\n",
    "query_sen = [[text for text in re.split('[/\\t]',doc)] for doc in query2]\n",
    "query_sen = [[text+'/' for text in sen] for sen in query_sen]\n",
    "query_sen=[[ subelt for subelt in elt if subelt != '/' ] for elt in query_sen] # remove '/'\n",
    "before_search=datetime.now()\n",
    "sim_vector=model.docvecs.most_similar(positive=[model.infer_vector(query_sen[0])],topn=16)\n",
    "after_search=datetime.now()\n",
    "elapsed=after_search-before_search\n",
    "elapsed_search=elapsed.total_seconds()+elapsed_search\n",
    "sorted_sim_vector = sorted(sim_vector, key=lambda tup: tup[0])#sort based on document number\n"
   ]
  },
  {
   "cell_type": "code",
   "execution_count": 821,
   "metadata": {},
   "outputs": [],
   "source": [
    "mycursor = mydb.cursor()\n",
    "mycursor.execute(\"update search_engine_model set distance2_2 = %s where name='A2-B2-C1-D1-E1-F1#1'or name='A2-B2-C1-D1-E1-F2#1' or name='A2-B2-C1-D1-E1-F3#1'\"%sorted_sim_vector[1][1])\n",
    "mycursor.close()\n",
    "mydb.commit()"
   ]
  },
  {
   "cell_type": "code",
   "execution_count": 822,
   "metadata": {},
   "outputs": [],
   "source": [
    "mycursor = mydb.cursor()\n",
    "mycursor.execute(\"update search_engine_model set distance4_2 = %s where name='A2-B2-C1-D1-E1-F1#1'or name='A2-B2-C1-D1-E1-F2#1' or name='A2-B2-C1-D1-E1-F3#1'\"%sorted_sim_vector[3][1])\n",
    "mycursor.close()\n",
    "mydb.commit()"
   ]
  },
  {
   "cell_type": "code",
   "execution_count": 823,
   "metadata": {},
   "outputs": [],
   "source": [
    "mycursor = mydb.cursor()\n",
    "mycursor.execute(\"update search_engine_model set distance6_2 = %s where name='A2-B2-C1-D1-E1-F1#1'or name='A2-B2-C1-D1-E1-F2#1' or name='A2-B2-C1-D1-E1-F3#1'\"%sorted_sim_vector[5][1])\n",
    "mycursor.close()\n",
    "mydb.commit()"
   ]
  },
  {
   "cell_type": "code",
   "execution_count": 824,
   "metadata": {},
   "outputs": [],
   "source": [
    "listofapp = [0,1,2,3,4,5,8,9,10,11,12,13]    \n",
    "for i in range(16):\n",
    "    if th[i]!=0:\n",
    "        if i in listofapp:\n",
    "            if (sorted_sim_vector[i][1]-th[i]/2) >= 0:\n",
    "                TP1 = TP1 + 1\n",
    "            else:\n",
    "                FN1 = FN1 +1\n",
    "        else:\n",
    "            if (sorted_sim_vector[i][1]-th[i]/2) >= 0:\n",
    "                FP1 = FP1 + 1\n",
    "            else:\n",
    "                TN1 = TN1 +1"
   ]
  },
  {
   "cell_type": "code",
   "execution_count": 825,
   "metadata": {},
   "outputs": [],
   "source": [
    "listofapp = [0,1,2,3,4,5,8,9,10,11,12,13]    \n",
    "for i in range(16):\n",
    "    if th[i]!=0:\n",
    "        if i in listofapp:\n",
    "            if (sorted_sim_vector[i][1]-th[i]/4) >= 0:\n",
    "                TP2 = TP2 + 1\n",
    "            else:\n",
    "                FN2 = FN2 +1\n",
    "        else:\n",
    "            if (sorted_sim_vector[i][1]-th[i]/4) >= 0:\n",
    "                FP2 = FP2 + 1\n",
    "            else:\n",
    "                TN2 = TN2 +1"
   ]
  },
  {
   "cell_type": "code",
   "execution_count": 826,
   "metadata": {},
   "outputs": [],
   "source": [
    "listofapp = [0,1,2,3,4,5,8,9,10,11,12,13]     \n",
    "for i in range(16):\n",
    "    if th[i]!=0:\n",
    "        if i in listofapp:\n",
    "            if (sorted_sim_vector[i][1]-th[i]/8) >= 0:\n",
    "                TP3 = TP3 + 1\n",
    "            else:\n",
    "                FN3 = FN3 +1\n",
    "        else:\n",
    "            if (sorted_sim_vector[i][1]-th[i]/8) >= 0:\n",
    "                FP3 = FP3 + 1\n",
    "            else:\n",
    "                TN3 = TN3 +1"
   ]
  },
  {
   "cell_type": "markdown",
   "metadata": {},
   "source": [
    "+++++++++++++++++++++++++++++++++++++++++++++++++++++++++++++++++++++++++++++++++++++++++++++++++++++++++++++++++++++"
   ]
  },
  {
   "cell_type": "code",
   "execution_count": 827,
   "metadata": {},
   "outputs": [],
   "source": [
    "query = pd.read_csv('D:/WINXPSP3x86-disk-images-March2020/after_second_versions_firefox_python_word_files.txt')\n",
    "query2=[sen.lower() for sen in query]\n",
    "query_sen = [[text for text in re.split('[/\\t]',doc)] for doc in query2]\n",
    "query_sen = [[text+'/' for text in sen] for sen in query_sen]\n",
    "query_sen=[[ subelt for subelt in elt if subelt != '/' ] for elt in query_sen] # remove '/'\n",
    "before_search=datetime.now()\n",
    "sim_vector=model.docvecs.most_similar(positive=[model.infer_vector(query_sen[0])],topn=16)\n",
    "after_search=datetime.now()\n",
    "elapsed=after_search-before_search\n",
    "elapsed_search=elapsed.total_seconds()+elapsed_search\n",
    "sorted_sim_vector = sorted(sim_vector, key=lambda tup: tup[0])#sort based on document number\n"
   ]
  },
  {
   "cell_type": "code",
   "execution_count": 828,
   "metadata": {},
   "outputs": [],
   "source": [
    "mycursor = mydb.cursor()\n",
    "mycursor.execute(\"update search_engine_model set distance4_3 = %s where name='A2-B2-C1-D1-E1-F1#1'or name='A2-B2-C1-D1-E1-F2#1' or name='A2-B2-C1-D1-E1-F3#1'\"%sorted_sim_vector[3][1])\n",
    "mycursor.close()\n",
    "mydb.commit()"
   ]
  },
  {
   "cell_type": "code",
   "execution_count": 829,
   "metadata": {},
   "outputs": [],
   "source": [
    "mycursor = mydb.cursor()\n",
    "mycursor.execute(\"update search_engine_model set distance6_3 = %s where name='A2-B2-C1-D1-E1-F1#1'or name='A2-B2-C1-D1-E1-F2#1' or name='A2-B2-C1-D1-E1-F3#1'\"%sorted_sim_vector[5][1])\n",
    "mycursor.close()\n",
    "mydb.commit()"
   ]
  },
  {
   "cell_type": "code",
   "execution_count": 830,
   "metadata": {},
   "outputs": [],
   "source": [
    "mycursor = mydb.cursor()\n",
    "mycursor.execute(\"update search_engine_model set distance8_2 = %s where name='A2-B2-C1-D1-E1-F1#1'or name='A2-B2-C1-D1-E1-F2#1' or name='A2-B2-C1-D1-E1-F3#1'\"%sorted_sim_vector[7][1])\n",
    "mycursor.close()\n",
    "mydb.commit()"
   ]
  },
  {
   "cell_type": "code",
   "execution_count": 831,
   "metadata": {},
   "outputs": [],
   "source": [
    "listofapp = [2,3,4,5,6,7,10,11,12,13,14,15]     \n",
    "for i in range(16):\n",
    "    if th[i]!=0:\n",
    "        if i in listofapp:\n",
    "            if (sorted_sim_vector[i][1]-th[i]/2) >= 0:\n",
    "                TP1 = TP1 + 1\n",
    "            else:\n",
    "                FN1 = FN1 +1\n",
    "        else:\n",
    "            if (sorted_sim_vector[i][1]-th[i]/2) >= 0:\n",
    "                FP1 = FP1 + 1\n",
    "            else:\n",
    "                TN1 = TN1 +1"
   ]
  },
  {
   "cell_type": "code",
   "execution_count": 832,
   "metadata": {},
   "outputs": [],
   "source": [
    "listofapp = [2,3,4,5,6,7,10,11,12,13,14,15]        \n",
    "for i in range(16):\n",
    "    if th[i]!=0:\n",
    "        if i in listofapp:\n",
    "            if (sorted_sim_vector[i][1]-th[i]/4) >= 0:\n",
    "                TP2 = TP2 + 1\n",
    "            else:\n",
    "                FN2 = FN2 +1\n",
    "        else:\n",
    "            if (sorted_sim_vector[i][1]-th[i]/4) >= 0:\n",
    "                FP2 = FP2 + 1\n",
    "            else:\n",
    "                TN2 = TN2 +1"
   ]
  },
  {
   "cell_type": "code",
   "execution_count": 833,
   "metadata": {},
   "outputs": [],
   "source": [
    "listofapp = [2,3,4,5,6,7,10,11,12,13,14,15]     \n",
    "for i in range(16):\n",
    "    if th[i]!=0:\n",
    "        if i in listofapp:\n",
    "            if (sorted_sim_vector[i][1]-th[i]/8) >= 0:\n",
    "                TP3 = TP3 + 1\n",
    "            else:\n",
    "                FN3 = FN3 +1\n",
    "        else:\n",
    "            if (sorted_sim_vector[i][1]-th[i]/8) >= 0:\n",
    "                FP3 = FP3 + 1\n",
    "            else:\n",
    "                TN3 = TN3 +1"
   ]
  },
  {
   "cell_type": "markdown",
   "metadata": {},
   "source": [
    "+++++++++++++++++++++++++++++++++++++++++++++++++++++++++++++++++++++++++++++++++++++++++++++++++++++++++++++++++++++"
   ]
  },
  {
   "cell_type": "code",
   "execution_count": 834,
   "metadata": {},
   "outputs": [],
   "source": [
    "query = pd.read_csv('D:/WINXPSP3x86-disk-images-March2020/after_second_versions_python_word_adobe_files.txt')\n",
    "query2=[sen.lower() for sen in query]\n",
    "query_sen = [[text for text in re.split('[/\\t]',doc)] for doc in query2]\n",
    "query_sen = [[text+'/' for text in sen] for sen in query_sen]\n",
    "query_sen=[[ subelt for subelt in elt if subelt != '/' ] for elt in query_sen] # remove '/'\n",
    "before_search=datetime.now()\n",
    "sim_vector=model.docvecs.most_similar(positive=[model.infer_vector(query_sen[0])],topn=16)\n",
    "after_search=datetime.now()\n",
    "elapsed=after_search-before_search\n",
    "elapsed_search=elapsed.total_seconds()+elapsed_search\n",
    "sorted_sim_vector = sorted(sim_vector, key=lambda tup: tup[0])#sort based on document number\n"
   ]
  },
  {
   "cell_type": "code",
   "execution_count": 835,
   "metadata": {},
   "outputs": [],
   "source": [
    "mycursor = mydb.cursor()\n",
    "mycursor.execute(\"update search_engine_model set distance2_3 = %s where name='A2-B2-C1-D1-E1-F1#1'or name='A2-B2-C1-D1-E1-F2#1' or name='A2-B2-C1-D1-E1-F3#1'\"%sorted_sim_vector[1][1])\n",
    "mycursor.close()\n",
    "mydb.commit()"
   ]
  },
  {
   "cell_type": "code",
   "execution_count": 836,
   "metadata": {},
   "outputs": [],
   "source": [
    "mycursor = mydb.cursor()\n",
    "mycursor.execute(\"update search_engine_model set distance6_4 = %s where name='A2-B2-C1-D1-E1-F1#1'or name='A2-B2-C1-D1-E1-F2#1' or name='A2-B2-C1-D1-E1-F3#1'\"%sorted_sim_vector[5][1])\n",
    "mycursor.close()\n",
    "mydb.commit()"
   ]
  },
  {
   "cell_type": "code",
   "execution_count": 837,
   "metadata": {},
   "outputs": [],
   "source": [
    "mycursor = mydb.cursor()\n",
    "mycursor.execute(\"update search_engine_model set distance8_3 = %s where name='A2-B2-C1-D1-E1-F1#1'or name='A2-B2-C1-D1-E1-F2#1' or name='A2-B2-C1-D1-E1-F3#1'\"%sorted_sim_vector[7][1])\n",
    "mycursor.close()\n",
    "mydb.commit()"
   ]
  },
  {
   "cell_type": "code",
   "execution_count": 838,
   "metadata": {},
   "outputs": [],
   "source": [
    "listofapp = [0,1,4,5,6,7,8,9,12,13,14,15]     \n",
    "for i in range(16):\n",
    "    if th[i]!=0:\n",
    "        if i in listofapp:\n",
    "            if (sorted_sim_vector[i][1]-th[i]/2) >= 0:\n",
    "                TP1 = TP1 + 1\n",
    "            else:\n",
    "                FN1 = FN1 +1\n",
    "        else:\n",
    "            if (sorted_sim_vector[i][1]-th[i]/2) >= 0:\n",
    "                FP1 = FP1 + 1\n",
    "            else:\n",
    "                TN1 = TN1 +1"
   ]
  },
  {
   "cell_type": "code",
   "execution_count": 839,
   "metadata": {},
   "outputs": [],
   "source": [
    "listofapp = [0,1,4,5,6,7,8,9,12,13,14,15]      \n",
    "for i in range(16):\n",
    "    if th[i]!=0:\n",
    "        if i in listofapp:\n",
    "            if (sorted_sim_vector[i][1]-th[i]/4) >= 0:\n",
    "                TP2 = TP2 + 1\n",
    "            else:\n",
    "                FN2 = FN2 +1\n",
    "        else:\n",
    "            if (sorted_sim_vector[i][1]-th[i]/4) >= 0:\n",
    "                FP2 = FP2 + 1\n",
    "            else:\n",
    "                TN2 = TN2 +1"
   ]
  },
  {
   "cell_type": "code",
   "execution_count": 840,
   "metadata": {},
   "outputs": [],
   "source": [
    "listofapp = [0,1,4,5,6,7,8,9,12,13,14,15]     \n",
    "for i in range(16):\n",
    "    if th[i]!=0:\n",
    "        if i in listofapp:\n",
    "            if (sorted_sim_vector[i][1]-th[i]/8) >= 0:\n",
    "                TP3 = TP3 + 1\n",
    "            else:\n",
    "                FN3 = FN3 +1\n",
    "        else:\n",
    "            if (sorted_sim_vector[i][1]-th[i]/8) >= 0:\n",
    "                FP3 = FP3 + 1\n",
    "            else:\n",
    "                TN3 = TN3 +1"
   ]
  },
  {
   "cell_type": "markdown",
   "metadata": {},
   "source": [
    "+++++++++++++++++++++++++++++++++++++++++++++++++++++++++++++++++++++++++++++++++++++++++++++++++++++++++++++++++++++"
   ]
  },
  {
   "cell_type": "code",
   "execution_count": 841,
   "metadata": {},
   "outputs": [],
   "source": [
    "query = pd.read_csv('D:/WINXPSP3x86-disk-images-March2020/after_second_versions_word_adobe_firefox_files.txt')\n",
    "query2=[sen.lower() for sen in query]\n",
    "query_sen = [[text for text in re.split('[/\\t]',doc)] for doc in query2]\n",
    "query_sen = [[text+'/' for text in sen] for sen in query_sen]\n",
    "query_sen=[[ subelt for subelt in elt if subelt != '/' ] for elt in query_sen] # remove '/'\n",
    "before_search=datetime.now()\n",
    "sim_vector=model.docvecs.most_similar(positive=[model.infer_vector(query_sen[0])],topn=16)\n",
    "after_search=datetime.now()\n",
    "elapsed=after_search-before_search\n",
    "elapsed_search=elapsed.total_seconds()+elapsed_search\n",
    "sorted_sim_vector = sorted(sim_vector, key=lambda tup: tup[0])#sort based on document number\n"
   ]
  },
  {
   "cell_type": "code",
   "execution_count": 842,
   "metadata": {},
   "outputs": [],
   "source": [
    "mycursor = mydb.cursor()\n",
    "mycursor.execute(\"update search_engine_model set distance2_4 = %s where name='A2-B2-C1-D1-E1-F1#1'or name='A2-B2-C1-D1-E1-F2#1' or name='A2-B2-C1-D1-E1-F3#1'\"%sorted_sim_vector[1][1])\n",
    "mycursor.close()\n",
    "mydb.commit()"
   ]
  },
  {
   "cell_type": "code",
   "execution_count": 843,
   "metadata": {},
   "outputs": [],
   "source": [
    "mycursor = mydb.cursor()\n",
    "mycursor.execute(\"update search_engine_model set distance4_4 = %s where name='A2-B2-C1-D1-E1-F1#1'or name='A2-B2-C1-D1-E1-F2#1' or name='A2-B2-C1-D1-E1-F3#1'\"%sorted_sim_vector[3][1])\n",
    "mycursor.close()\n",
    "mydb.commit()"
   ]
  },
  {
   "cell_type": "code",
   "execution_count": 844,
   "metadata": {},
   "outputs": [],
   "source": [
    "mycursor = mydb.cursor()\n",
    "mycursor.execute(\"update search_engine_model set distance8_4 = %s where name='A2-B2-C1-D1-E1-F1#1'or name='A2-B2-C1-D1-E1-F2#1' or name='A2-B2-C1-D1-E1-F3#1'\"%sorted_sim_vector[7][1])\n",
    "mycursor.close()\n",
    "mydb.commit()"
   ]
  },
  {
   "cell_type": "code",
   "execution_count": 845,
   "metadata": {},
   "outputs": [],
   "source": [
    "listofapp = [0,1,2,3,6,7,8,9,10,11,14,15]    \n",
    "for i in range(16):\n",
    "    if th[i]!=0:\n",
    "        if i in listofapp:\n",
    "            if (sorted_sim_vector[i][1]-th[i]/2) >= 0:\n",
    "                TP1 = TP1 + 1\n",
    "            else:\n",
    "                FN1 = FN1 +1\n",
    "        else:\n",
    "            if (sorted_sim_vector[i][1]-th[i]/2) >= 0:\n",
    "                FP1 = FP1 + 1\n",
    "            else:\n",
    "                TN1 = TN1 +1"
   ]
  },
  {
   "cell_type": "code",
   "execution_count": 846,
   "metadata": {},
   "outputs": [],
   "source": [
    "listofapp = [0,1,2,3,6,7,8,9,10,11,14,15]     \n",
    "for i in range(16):\n",
    "    if th[i]!=0:\n",
    "        if i in listofapp:\n",
    "            if (sorted_sim_vector[i][1]-th[i]/4) >= 0:\n",
    "                TP2 = TP2 + 1\n",
    "            else:\n",
    "                FN2 = FN2 +1\n",
    "        else:\n",
    "            if (sorted_sim_vector[i][1]-th[i]/4) >= 0:\n",
    "                FP2 = FP2 + 1\n",
    "            else:\n",
    "                TN2 = TN2 +1"
   ]
  },
  {
   "cell_type": "code",
   "execution_count": 847,
   "metadata": {},
   "outputs": [],
   "source": [
    "listofapp = [0,1,2,3,6,7,8,9,10,11,14,15]     \n",
    "for i in range(16):\n",
    "    if th[i]!=0:\n",
    "        if i in listofapp:\n",
    "            if (sorted_sim_vector[i][1]-th[i]/8) >= 0:\n",
    "                TP3 = TP3 + 1\n",
    "            else:\n",
    "                FN3 = FN3 +1\n",
    "        else:\n",
    "            if (sorted_sim_vector[i][1]-th[i]/8) >= 0:\n",
    "                FP3 = FP3 + 1\n",
    "            else:\n",
    "                TN3 = TN3 +1"
   ]
  },
  {
   "cell_type": "markdown",
   "metadata": {},
   "source": [
    "+++++++++++++++++++++++++++++++++++++++++++++++++++++++++++++++++++++++++++++++++++++++++++++++++++++++++++++++++++++"
   ]
  },
  {
   "cell_type": "code",
   "execution_count": 848,
   "metadata": {},
   "outputs": [],
   "source": [
    "query = pd.read_csv('D:/Windows7SP1x86-disk-images-March2020/after_first_versions_adobe_firefox_python_files.txt')\n",
    "query2=[sen.lower() for sen in query]\n",
    "query_sen = [[text for text in re.split('[/\\t]',doc)] for doc in query2]\n",
    "query_sen = [[text+'/' for text in sen] for sen in query_sen]\n",
    "query_sen=[[ subelt for subelt in elt if subelt != '/' ] for elt in query_sen] # remove '/'\n",
    "before_search=datetime.now()\n",
    "sim_vector=model.docvecs.most_similar(positive=[model.infer_vector(query_sen[0])],topn=16)\n",
    "after_search=datetime.now()\n",
    "elapsed=after_search-before_search\n",
    "elapsed_search=elapsed.total_seconds()+elapsed_search\n",
    "sorted_sim_vector = sorted(sim_vector, key=lambda tup: tup[0])#sort based on document number\n"
   ]
  },
  {
   "cell_type": "code",
   "execution_count": 849,
   "metadata": {},
   "outputs": [],
   "source": [
    "mycursor = mydb.cursor()\n",
    "mycursor.execute(\"update search_engine_model set distance9_2 = %s where name='A2-B2-C1-D1-E1-F1#1'or name='A2-B2-C1-D1-E1-F2#1' or name='A2-B2-C1-D1-E1-F3#1'\"%sorted_sim_vector[8][1])\n",
    "mycursor.close()\n",
    "mydb.commit()"
   ]
  },
  {
   "cell_type": "code",
   "execution_count": 850,
   "metadata": {},
   "outputs": [],
   "source": [
    "mycursor = mydb.cursor()\n",
    "mycursor.execute(\"update search_engine_model set distance11_2 = %s where name='A2-B2-C1-D1-E1-F1#1'or name='A2-B2-C1-D1-E1-F2#1' or name='A2-B2-C1-D1-E1-F3#1'\"%sorted_sim_vector[10][1])\n",
    "mycursor.close()\n",
    "mydb.commit()"
   ]
  },
  {
   "cell_type": "code",
   "execution_count": 851,
   "metadata": {},
   "outputs": [],
   "source": [
    "mycursor = mydb.cursor()\n",
    "mycursor.execute(\"update search_engine_model set distance13_2 = %s where name='A2-B2-C1-D1-E1-F1#1'or name='A2-B2-C1-D1-E1-F2#1' or name='A2-B2-C1-D1-E1-F3#1'\"%sorted_sim_vector[12][1])\n",
    "mycursor.close()\n",
    "mydb.commit()"
   ]
  },
  {
   "cell_type": "code",
   "execution_count": 852,
   "metadata": {},
   "outputs": [],
   "source": [
    "listofapp = [0,1,2,3,4,5,8,9,10,11,12,13]    \n",
    "for i in range(16):\n",
    "    if th[i]!=0:\n",
    "        if i in listofapp:\n",
    "            if (sorted_sim_vector[i][1]-th[i]/2) >= 0:\n",
    "                TP1 = TP1 + 1\n",
    "            else:\n",
    "                FN1 = FN1 +1\n",
    "        else:\n",
    "            if (sorted_sim_vector[i][1]-th[i]/2) >= 0:\n",
    "                FP1 = FP1 + 1\n",
    "            else:\n",
    "                TN1 = TN1 +1"
   ]
  },
  {
   "cell_type": "code",
   "execution_count": 853,
   "metadata": {},
   "outputs": [],
   "source": [
    "listofapp = [0,1,2,3,4,5,8,9,10,11,12,13]     \n",
    "for i in range(16):\n",
    "    if th[i]!=0:\n",
    "        if i in listofapp:\n",
    "            if (sorted_sim_vector[i][1]-th[i]/4) >= 0:\n",
    "                TP2 = TP2 + 1\n",
    "            else:\n",
    "                FN2 = FN2 +1\n",
    "        else:\n",
    "            if (sorted_sim_vector[i][1]-th[i]/4) >= 0:\n",
    "                FP2 = FP2 + 1\n",
    "            else:\n",
    "                TN2 = TN2 +1"
   ]
  },
  {
   "cell_type": "code",
   "execution_count": 854,
   "metadata": {},
   "outputs": [],
   "source": [
    "listofapp = [0,1,2,3,4,5,8,9,10,11,12,13]     \n",
    "for i in range(16):\n",
    "    if th[i]!=0:\n",
    "        if i in listofapp:\n",
    "            if (sorted_sim_vector[i][1]-th[i]/8) >= 0:\n",
    "                TP3 = TP3 + 1\n",
    "            else:\n",
    "                FN3 = FN3 +1\n",
    "        else:\n",
    "            if (sorted_sim_vector[i][1]-th[i]/8) >= 0:\n",
    "                FP3 = FP3 + 1\n",
    "            else:\n",
    "                TN3 = TN3 +1"
   ]
  },
  {
   "cell_type": "markdown",
   "metadata": {},
   "source": [
    "+++++++++++++++++++++++++++++++++++++++++++++++++++++++++++++++++++++++++++++++++++++++++++++++++++++++++++++++++++++"
   ]
  },
  {
   "cell_type": "code",
   "execution_count": 855,
   "metadata": {},
   "outputs": [],
   "source": [
    "query = pd.read_csv('D:/Windows7SP1x86-disk-images-March2020/after_first_versions_firefox_python_word_files.txt')\n",
    "query2=[sen.lower() for sen in query]\n",
    "query_sen = [[text for text in re.split('[/\\t]',doc)] for doc in query2]\n",
    "query_sen = [[text+'/' for text in sen] for sen in query_sen]\n",
    "query_sen=[[ subelt for subelt in elt if subelt != '/' ] for elt in query_sen] # remove '/'\n",
    "before_search=datetime.now()\n",
    "sim_vector=model.docvecs.most_similar(positive=[model.infer_vector(query_sen[0])],topn=16)\n",
    "after_search=datetime.now()\n",
    "elapsed=after_search-before_search\n",
    "elapsed_search=elapsed.total_seconds()+elapsed_search\n",
    "sorted_sim_vector = sorted(sim_vector, key=lambda tup: tup[0])#sort based on document number\n"
   ]
  },
  {
   "cell_type": "code",
   "execution_count": 856,
   "metadata": {},
   "outputs": [],
   "source": [
    "mycursor = mydb.cursor()\n",
    "mycursor.execute(\"update search_engine_model set distance11_3 = %s where name='A2-B2-C1-D1-E1-F1#1'or name='A2-B2-C1-D1-E1-F2#1' or name='A2-B2-C1-D1-E1-F3#1'\"%sorted_sim_vector[10][1])\n",
    "mycursor.close()\n",
    "mydb.commit()"
   ]
  },
  {
   "cell_type": "code",
   "execution_count": 857,
   "metadata": {},
   "outputs": [],
   "source": [
    "mycursor = mydb.cursor()\n",
    "mycursor.execute(\"update search_engine_model set distance13_3 = %s where name='A2-B2-C1-D1-E1-F1#1'or name='A2-B2-C1-D1-E1-F2#1' or name='A2-B2-C1-D1-E1-F3#1'\"%sorted_sim_vector[12][1])\n",
    "mycursor.close()\n",
    "mydb.commit()"
   ]
  },
  {
   "cell_type": "code",
   "execution_count": 858,
   "metadata": {},
   "outputs": [],
   "source": [
    "mycursor = mydb.cursor()\n",
    "mycursor.execute(\"update search_engine_model set distance15_2 = %s where name='A2-B2-C1-D1-E1-F1#1'or name='A2-B2-C1-D1-E1-F2#1' or name='A2-B2-C1-D1-E1-F3#1'\"%sorted_sim_vector[14][1])\n",
    "mycursor.close()\n",
    "mydb.commit()"
   ]
  },
  {
   "cell_type": "code",
   "execution_count": 859,
   "metadata": {},
   "outputs": [],
   "source": [
    "listofapp = [2,3,4,5,6,7,10,11,12,13,14,15]    \n",
    "for i in range(16):\n",
    "    if th[i]!=0:\n",
    "        if i in listofapp:\n",
    "            if (sorted_sim_vector[i][1]-th[i]/2) >= 0:\n",
    "                TP1 = TP1 + 1\n",
    "            else:\n",
    "                FN1 = FN1 +1\n",
    "        else:\n",
    "            if (sorted_sim_vector[i][1]-th[i]/2) >= 0:\n",
    "                FP1 = FP1 + 1\n",
    "            else:\n",
    "                TN1 = TN1 +1"
   ]
  },
  {
   "cell_type": "code",
   "execution_count": 860,
   "metadata": {},
   "outputs": [],
   "source": [
    "listofapp = [2,3,4,5,6,7,10,11,12,13,14,15]     \n",
    "for i in range(16):\n",
    "    if th[i]!=0:\n",
    "        if i in listofapp:\n",
    "            if (sorted_sim_vector[i][1]-th[i]/4) >= 0:\n",
    "                TP2 = TP2 + 1\n",
    "            else:\n",
    "                FN2 = FN2 +1\n",
    "        else:\n",
    "            if (sorted_sim_vector[i][1]-th[i]/4) >= 0:\n",
    "                FP2 = FP2 + 1\n",
    "            else:\n",
    "                TN2 = TN2 +1"
   ]
  },
  {
   "cell_type": "code",
   "execution_count": 861,
   "metadata": {},
   "outputs": [],
   "source": [
    "listofapp = [2,3,4,5,6,7,10,11,12,13,14,15]     \n",
    "for i in range(16):\n",
    "    if th[i]!=0:\n",
    "        if i in listofapp:\n",
    "            if (sorted_sim_vector[i][1]-th[i]/8) >= 0:\n",
    "                TP3 = TP3 + 1\n",
    "            else:\n",
    "                FN3 = FN3 +1\n",
    "        else:\n",
    "            if (sorted_sim_vector[i][1]-th[i]/8) >= 0:\n",
    "                FP3 = FP3 + 1\n",
    "            else:\n",
    "                TN3 = TN3 +1"
   ]
  },
  {
   "cell_type": "markdown",
   "metadata": {},
   "source": [
    "+++++++++++++++++++++++++++++++++++++++++++++++++++++++++++++++++++++++++++++++++++++++++++++++++++++++++++++++++++++"
   ]
  },
  {
   "cell_type": "code",
   "execution_count": 862,
   "metadata": {},
   "outputs": [],
   "source": [
    "query = pd.read_csv('D:/Windows7SP1x86-disk-images-March2020/after_first_versions_python_word_adobe_files.txt')\n",
    "query2=[sen.lower() for sen in query]\n",
    "query_sen = [[text for text in re.split('[/\\t]',doc)] for doc in query2]\n",
    "query_sen = [[text+'/' for text in sen] for sen in query_sen]\n",
    "query_sen=[[ subelt for subelt in elt if subelt != '/' ] for elt in query_sen] # remove '/'\n",
    "before_search=datetime.now()\n",
    "sim_vector=model.docvecs.most_similar(positive=[model.infer_vector(query_sen[0])],topn=16)\n",
    "after_search=datetime.now()\n",
    "elapsed=after_search-before_search\n",
    "elapsed_search=elapsed.total_seconds()+elapsed_search\n",
    "sorted_sim_vector = sorted(sim_vector, key=lambda tup: tup[0])#sort based on document number\n"
   ]
  },
  {
   "cell_type": "code",
   "execution_count": 863,
   "metadata": {},
   "outputs": [],
   "source": [
    "mycursor = mydb.cursor()\n",
    "mycursor.execute(\"update search_engine_model set distance9_3 = %s where name='A2-B2-C1-D1-E1-F1#1'or name='A2-B2-C1-D1-E1-F2#1' or name='A2-B2-C1-D1-E1-F3#1'\"%sorted_sim_vector[8][1])\n",
    "mycursor.close()\n",
    "mydb.commit()"
   ]
  },
  {
   "cell_type": "code",
   "execution_count": 864,
   "metadata": {},
   "outputs": [],
   "source": [
    "mycursor = mydb.cursor()\n",
    "mycursor.execute(\"update search_engine_model set distance13_4 = %s where name='A2-B2-C1-D1-E1-F1#1'or name='A2-B2-C1-D1-E1-F2#1' or name='A2-B2-C1-D1-E1-F3#1'\"%sorted_sim_vector[12][1])\n",
    "mycursor.close()\n",
    "mydb.commit()"
   ]
  },
  {
   "cell_type": "code",
   "execution_count": 865,
   "metadata": {},
   "outputs": [],
   "source": [
    "mycursor = mydb.cursor()\n",
    "mycursor.execute(\"update search_engine_model set distance15_3 = %s where name='A2-B2-C1-D1-E1-F1#1'or name='A2-B2-C1-D1-E1-F2#1' or name='A2-B2-C1-D1-E1-F3#1'\"%sorted_sim_vector[14][1])\n",
    "mycursor.close()\n",
    "mydb.commit()"
   ]
  },
  {
   "cell_type": "code",
   "execution_count": 866,
   "metadata": {},
   "outputs": [],
   "source": [
    "listofapp = [0,1,4,5,6,7,8,9,12,13,14,15]     \n",
    "for i in range(16):\n",
    "    if th[i]!=0:\n",
    "        if i in listofapp:\n",
    "            if (sorted_sim_vector[i][1]-th[i]/2) >= 0:\n",
    "                TP1 = TP1 + 1\n",
    "            else:\n",
    "                FN1 = FN1 +1\n",
    "        else:\n",
    "            if (sorted_sim_vector[i][1]-th[i]/2) >= 0:\n",
    "                FP1 = FP1 + 1\n",
    "            else:\n",
    "                TN1 = TN1 +1"
   ]
  },
  {
   "cell_type": "code",
   "execution_count": 867,
   "metadata": {},
   "outputs": [],
   "source": [
    "listofapp = [0,1,4,5,6,7,8,9,12,13,14,15]     \n",
    "for i in range(16):\n",
    "    if th[i]!=0:\n",
    "        if i in listofapp:\n",
    "            if (sorted_sim_vector[i][1]-th[i]/4) >= 0:\n",
    "                TP2 = TP2 + 1\n",
    "            else:\n",
    "                FN2 = FN2 +1\n",
    "        else:\n",
    "            if (sorted_sim_vector[i][1]-th[i]/4) >= 0:\n",
    "                FP2 = FP2 + 1\n",
    "            else:\n",
    "                TN2 = TN2 +1"
   ]
  },
  {
   "cell_type": "code",
   "execution_count": 868,
   "metadata": {},
   "outputs": [],
   "source": [
    "listofapp = [0,1,4,5,6,7,8,9,12,13,14,15]     \n",
    "for i in range(16):\n",
    "    if th[i]!=0:\n",
    "        if i in listofapp:\n",
    "            if (sorted_sim_vector[i][1]-th[i]/8) >= 0:\n",
    "                TP3 = TP3 + 1\n",
    "            else:\n",
    "                FN3 = FN3 +1\n",
    "        else:\n",
    "            if (sorted_sim_vector[i][1]-th[i]/8) >= 0:\n",
    "                FP3 = FP3 + 1\n",
    "            else:\n",
    "                TN3 = TN3 +1"
   ]
  },
  {
   "cell_type": "markdown",
   "metadata": {},
   "source": [
    "+++++++++++++++++++++++++++++++++++++++++++++++++++++++++++++++++++++++++++++++++++++++++++++++++++++++++++++++++++++"
   ]
  },
  {
   "cell_type": "code",
   "execution_count": 869,
   "metadata": {},
   "outputs": [],
   "source": [
    "query = pd.read_csv('D:/Windows7SP1x86-disk-images-March2020/after_first_versions_word_adobe_firefox_files.txt')\n",
    "query2=[sen.lower() for sen in query]\n",
    "query_sen = [[text for text in re.split('[/\\t]',doc)] for doc in query2]\n",
    "query_sen = [[text+'/' for text in sen] for sen in query_sen]\n",
    "query_sen=[[ subelt for subelt in elt if subelt != '/' ] for elt in query_sen] # remove '/'\n",
    "before_search=datetime.now()\n",
    "sim_vector=model.docvecs.most_similar(positive=[model.infer_vector(query_sen[0])],topn=16)\n",
    "after_search=datetime.now()\n",
    "elapsed=after_search-before_search\n",
    "elapsed_search=elapsed.total_seconds()+elapsed_search\n",
    "sorted_sim_vector = sorted(sim_vector, key=lambda tup: tup[0])#sort based on document number\n"
   ]
  },
  {
   "cell_type": "code",
   "execution_count": 870,
   "metadata": {},
   "outputs": [],
   "source": [
    "mycursor = mydb.cursor()\n",
    "mycursor.execute(\"update search_engine_model set distance9_4 = %s where name='A2-B2-C1-D1-E1-F1#1'or name='A2-B2-C1-D1-E1-F2#1' or name='A2-B2-C1-D1-E1-F3#1'\"%sorted_sim_vector[8][1])\n",
    "mycursor.close()\n",
    "mydb.commit()"
   ]
  },
  {
   "cell_type": "code",
   "execution_count": 871,
   "metadata": {},
   "outputs": [],
   "source": [
    "mycursor = mydb.cursor()\n",
    "mycursor.execute(\"update search_engine_model set distance11_4 = %s where name='A2-B2-C1-D1-E1-F1#1'or name='A2-B2-C1-D1-E1-F2#1' or name='A2-B2-C1-D1-E1-F3#1'\"%sorted_sim_vector[10][1])\n",
    "mycursor.close()\n",
    "mydb.commit()"
   ]
  },
  {
   "cell_type": "code",
   "execution_count": 872,
   "metadata": {},
   "outputs": [],
   "source": [
    "mycursor = mydb.cursor()\n",
    "mycursor.execute(\"update search_engine_model set distance15_4 = %s where name='A2-B2-C1-D1-E1-F1#1'or name='A2-B2-C1-D1-E1-F2#1' or name='A2-B2-C1-D1-E1-F3#1'\"%sorted_sim_vector[14][1])\n",
    "mycursor.close()\n",
    "mydb.commit()"
   ]
  },
  {
   "cell_type": "code",
   "execution_count": 873,
   "metadata": {},
   "outputs": [],
   "source": [
    "listofapp = [0,1,2,3,6,7,8,9,10,11,14,15]    \n",
    "for i in range(16):\n",
    "    if th[i]!=0:\n",
    "        if i in listofapp:\n",
    "            if (sorted_sim_vector[i][1]-th[i]/2) >= 0:\n",
    "                TP1 = TP1 + 1\n",
    "            else:\n",
    "                FN1 = FN1 +1\n",
    "        else:\n",
    "            if (sorted_sim_vector[i][1]-th[i]/2) >= 0:\n",
    "                FP1 = FP1 + 1\n",
    "            else:\n",
    "                TN1 = TN1 +1"
   ]
  },
  {
   "cell_type": "code",
   "execution_count": 874,
   "metadata": {},
   "outputs": [],
   "source": [
    "listofapp = [0,1,2,3,6,7,8,9,10,11,14,15]     \n",
    "for i in range(16):\n",
    "    if th[i]!=0:\n",
    "        if i in listofapp:\n",
    "            if (sorted_sim_vector[i][1]-th[i]/4) >= 0:\n",
    "                TP2 = TP2 + 1\n",
    "            else:\n",
    "                FN2 = FN2 +1\n",
    "        else:\n",
    "            if (sorted_sim_vector[i][1]-th[i]/4) >= 0:\n",
    "                FP2 = FP2 + 1\n",
    "            else:\n",
    "                TN2 = TN2 +1"
   ]
  },
  {
   "cell_type": "code",
   "execution_count": 875,
   "metadata": {},
   "outputs": [],
   "source": [
    "listofapp = [0,1,2,3,6,7,8,9,10,11,14,15]     \n",
    "for i in range(16):\n",
    "    if th[i]!=0:\n",
    "        if i in listofapp:\n",
    "            if (sorted_sim_vector[i][1]-th[i]/8) >= 0:\n",
    "                TP3 = TP3 + 1\n",
    "            else:\n",
    "                FN3 = FN3 +1\n",
    "        else:\n",
    "            if (sorted_sim_vector[i][1]-th[i]/8) >= 0:\n",
    "                FP3 = FP3 + 1\n",
    "            else:\n",
    "                TN3 = TN3 +1"
   ]
  },
  {
   "cell_type": "markdown",
   "metadata": {},
   "source": [
    "+++++++++++++++++++++++++++++++++++++++++++++++++++++++++++++++++++++++++++++++++++++++++++++++++++++++++++++++++++++"
   ]
  },
  {
   "cell_type": "code",
   "execution_count": 876,
   "metadata": {},
   "outputs": [],
   "source": [
    "query = pd.read_csv('D:/Windows7SP1x86-disk-images-March2020/after_second_versions_adobe_firefox_python_files.txt')\n",
    "query2=[sen.lower() for sen in query]\n",
    "query_sen = [[text for text in re.split('[/\\t]',doc)] for doc in query2]\n",
    "query_sen = [[text+'/' for text in sen] for sen in query_sen]\n",
    "query_sen=[[ subelt for subelt in elt if subelt != '/' ] for elt in query_sen] # remove '/'\n",
    "before_search=datetime.now()\n",
    "sim_vector=model.docvecs.most_similar(positive=[model.infer_vector(query_sen[0])],topn=16)\n",
    "after_search=datetime.now()\n",
    "elapsed=after_search-before_search\n",
    "elapsed_search=elapsed.total_seconds()+elapsed_search\n",
    "sorted_sim_vector = sorted(sim_vector, key=lambda tup: tup[0])#sort based on document number\n"
   ]
  },
  {
   "cell_type": "code",
   "execution_count": 877,
   "metadata": {},
   "outputs": [],
   "source": [
    "mycursor = mydb.cursor()\n",
    "mycursor.execute(\"update search_engine_model set distance10_2 = %s where name='A2-B2-C1-D1-E1-F1#1'or name='A2-B2-C1-D1-E1-F2#1' or name='A2-B2-C1-D1-E1-F3#1'\"%sorted_sim_vector[9][1])\n",
    "mycursor.close()\n",
    "mydb.commit()"
   ]
  },
  {
   "cell_type": "code",
   "execution_count": 878,
   "metadata": {},
   "outputs": [],
   "source": [
    "mycursor = mydb.cursor()\n",
    "mycursor.execute(\"update search_engine_model set distance12_2 = %s where name='A2-B2-C1-D1-E1-F1#1'or name='A2-B2-C1-D1-E1-F2#1' or name='A2-B2-C1-D1-E1-F3#1'\"%sorted_sim_vector[11][1])\n",
    "mycursor.close()\n",
    "mydb.commit()"
   ]
  },
  {
   "cell_type": "code",
   "execution_count": 879,
   "metadata": {},
   "outputs": [],
   "source": [
    "mycursor = mydb.cursor()\n",
    "mycursor.execute(\"update search_engine_model set distance14_2 = %s where name='A2-B2-C1-D1-E1-F1#1'or name='A2-B2-C1-D1-E1-F2#1' or name='A2-B2-C1-D1-E1-F3#1'\"%sorted_sim_vector[13][1])\n",
    "mycursor.close()\n",
    "mydb.commit()"
   ]
  },
  {
   "cell_type": "code",
   "execution_count": 880,
   "metadata": {},
   "outputs": [],
   "source": [
    "listofapp = [0,1,2,3,4,5,8,9,10,11,12,13]    \n",
    "for i in range(16):\n",
    "    if th[i]!=0:\n",
    "        if i in listofapp:\n",
    "            if (sorted_sim_vector[i][1]-th[i]/2) >= 0:\n",
    "                TP1 = TP1 + 1\n",
    "            else:\n",
    "                FN1 = FN1 +1\n",
    "        else:\n",
    "            if (sorted_sim_vector[i][1]-th[i]/2) >= 0:\n",
    "                FP1 = FP1 + 1\n",
    "            else:\n",
    "                TN1 = TN1 +1"
   ]
  },
  {
   "cell_type": "code",
   "execution_count": 881,
   "metadata": {},
   "outputs": [],
   "source": [
    "listofapp = [0,1,2,3,4,5,8,9,10,11,12,13]     \n",
    "for i in range(16):\n",
    "    if th[i]!=0:\n",
    "        if i in listofapp:\n",
    "            if (sorted_sim_vector[i][1]-th[i]/4) >= 0:\n",
    "                TP2 = TP2 + 1\n",
    "            else:\n",
    "                FN2 = FN2 +1\n",
    "        else:\n",
    "            if (sorted_sim_vector[i][1]-th[i]/4) >= 0:\n",
    "                FP2 = FP2 + 1\n",
    "            else:\n",
    "                TN2 = TN2 +1"
   ]
  },
  {
   "cell_type": "code",
   "execution_count": 882,
   "metadata": {},
   "outputs": [],
   "source": [
    "listofapp = [0,1,2,3,4,5,8,9,10,11,12,13]     \n",
    "for i in range(16):\n",
    "    if th[i]!=0:\n",
    "        if i in listofapp:\n",
    "            if (sorted_sim_vector[i][1]-th[i]/8) >= 0:\n",
    "                TP3 = TP3 + 1\n",
    "            else:\n",
    "                FN3 = FN3 +1\n",
    "        else:\n",
    "            if (sorted_sim_vector[i][1]-th[i]/8) >= 0:\n",
    "                FP3 = FP3 + 1\n",
    "            else:\n",
    "                TN3 = TN3 +1"
   ]
  },
  {
   "cell_type": "markdown",
   "metadata": {},
   "source": [
    "+++++++++++++++++++++++++++++++++++++++++++++++++++++++++++++++++++++++++++++++++++++++++++++++++++++++++++++++++++++"
   ]
  },
  {
   "cell_type": "code",
   "execution_count": 883,
   "metadata": {},
   "outputs": [],
   "source": [
    "query = pd.read_csv('D:/Windows7SP1x86-disk-images-March2020/after_second_versions_firefox_python_word_files.txt')\n",
    "query2=[sen.lower() for sen in query]\n",
    "query_sen = [[text for text in re.split('[/\\t]',doc)] for doc in query2]\n",
    "query_sen = [[text+'/' for text in sen] for sen in query_sen]\n",
    "query_sen=[[ subelt for subelt in elt if subelt != '/' ] for elt in query_sen] # remove '/'\n",
    "before_search=datetime.now()\n",
    "sim_vector=model.docvecs.most_similar(positive=[model.infer_vector(query_sen[0])],topn=16)\n",
    "after_search=datetime.now()\n",
    "elapsed=after_search-before_search\n",
    "elapsed_search=elapsed.total_seconds()+elapsed_search\n",
    "sorted_sim_vector = sorted(sim_vector, key=lambda tup: tup[0])#sort based on document number\n"
   ]
  },
  {
   "cell_type": "code",
   "execution_count": 884,
   "metadata": {},
   "outputs": [],
   "source": [
    "mycursor = mydb.cursor()\n",
    "mycursor.execute(\"update search_engine_model set distance12_3 = %s where name='A2-B2-C1-D1-E1-F1#1'or name='A2-B2-C1-D1-E1-F2#1' or name='A2-B2-C1-D1-E1-F3#1'\"%sorted_sim_vector[11][1])\n",
    "mycursor.close()\n",
    "mydb.commit()"
   ]
  },
  {
   "cell_type": "code",
   "execution_count": 885,
   "metadata": {},
   "outputs": [],
   "source": [
    "mycursor = mydb.cursor()\n",
    "mycursor.execute(\"update search_engine_model set distance14_3 = %s where name='A2-B2-C1-D1-E1-F1#1'or name='A2-B2-C1-D1-E1-F2#1' or name='A2-B2-C1-D1-E1-F3#1'\"%sorted_sim_vector[13][1])\n",
    "mycursor.close()\n",
    "mydb.commit()"
   ]
  },
  {
   "cell_type": "code",
   "execution_count": 886,
   "metadata": {},
   "outputs": [],
   "source": [
    "mycursor = mydb.cursor()\n",
    "mycursor.execute(\"update search_engine_model set distance16_2 = %s where name='A2-B2-C1-D1-E1-F1#1'or name='A2-B2-C1-D1-E1-F2#1' or name='A2-B2-C1-D1-E1-F3#1'\"%sorted_sim_vector[15][1])\n",
    "mycursor.close()\n",
    "mydb.commit()"
   ]
  },
  {
   "cell_type": "code",
   "execution_count": 887,
   "metadata": {},
   "outputs": [],
   "source": [
    "listofapp = [2,3,4,5,6,7,10,11,12,13,14,15]    \n",
    "for i in range(16):\n",
    "    if th[i]!=0:\n",
    "        if i in listofapp:\n",
    "            if (sorted_sim_vector[i][1]-th[i]/2) >= 0:\n",
    "                TP1 = TP1 + 1\n",
    "            else:\n",
    "                FN1 = FN1 +1\n",
    "        else:\n",
    "            if (sorted_sim_vector[i][1]-th[i]/2) >= 0:\n",
    "                FP1 = FP1 + 1\n",
    "            else:\n",
    "                TN1 = TN1 +1"
   ]
  },
  {
   "cell_type": "code",
   "execution_count": 888,
   "metadata": {},
   "outputs": [],
   "source": [
    "listofapp = [2,3,4,5,6,7,10,11,12,13,14,15]    \n",
    "for i in range(16):\n",
    "    if th[i]!=0:\n",
    "        if i in listofapp:\n",
    "            if (sorted_sim_vector[i][1]-th[i]/4) >= 0:\n",
    "                TP2 = TP2 + 1\n",
    "            else:\n",
    "                FN2 = FN2 +1\n",
    "        else:\n",
    "            if (sorted_sim_vector[i][1]-th[i]/4) >= 0:\n",
    "                FP2 = FP2 + 1\n",
    "            else:\n",
    "                TN2 = TN2 +1"
   ]
  },
  {
   "cell_type": "code",
   "execution_count": 889,
   "metadata": {},
   "outputs": [],
   "source": [
    "listofapp = [2,3,4,5,6,7,10,11,12,13,14,15]     \n",
    "for i in range(16):\n",
    "    if th[i]!=0:\n",
    "        if i in listofapp:\n",
    "            if (sorted_sim_vector[i][1]-th[i]/8) >= 0:\n",
    "                TP3 = TP3 + 1\n",
    "            else:\n",
    "                FN3 = FN3 +1\n",
    "        else:\n",
    "            if (sorted_sim_vector[i][1]-th[i]/8) >= 0:\n",
    "                FP3 = FP3 + 1\n",
    "            else:\n",
    "                TN3 = TN3 +1"
   ]
  },
  {
   "cell_type": "markdown",
   "metadata": {},
   "source": [
    "+++++++++++++++++++++++++++++++++++++++++++++++++++++++++++++++++++++++++++++++++++++++++++++++++++++++++++++++++++++"
   ]
  },
  {
   "cell_type": "code",
   "execution_count": 890,
   "metadata": {},
   "outputs": [],
   "source": [
    "query = pd.read_csv('D:/Windows7SP1x86-disk-images-March2020/after_second_versions_python_word_adobe_files.txt')\n",
    "query2=[sen.lower() for sen in query]\n",
    "query_sen = [[text for text in re.split('[/\\t]',doc)] for doc in query2]\n",
    "query_sen = [[text+'/' for text in sen] for sen in query_sen]\n",
    "query_sen=[[ subelt for subelt in elt if subelt != '/' ] for elt in query_sen] # remove '/'\n",
    "before_search=datetime.now()\n",
    "sim_vector=model.docvecs.most_similar(positive=[model.infer_vector(query_sen[0])],topn=16)\n",
    "after_search=datetime.now()\n",
    "elapsed=after_search-before_search\n",
    "elapsed_search=elapsed.total_seconds()+elapsed_search\n",
    "sorted_sim_vector = sorted(sim_vector, key=lambda tup: tup[0])#sort based on document number\n"
   ]
  },
  {
   "cell_type": "code",
   "execution_count": 891,
   "metadata": {},
   "outputs": [],
   "source": [
    "mycursor = mydb.cursor()\n",
    "mycursor.execute(\"update search_engine_model set distance10_3 = %s where name='A2-B2-C1-D1-E1-F1#1'or name='A2-B2-C1-D1-E1-F2#1' or name='A2-B2-C1-D1-E1-F3#1'\"%sorted_sim_vector[9][1])\n",
    "mycursor.close()\n",
    "mydb.commit()"
   ]
  },
  {
   "cell_type": "code",
   "execution_count": 892,
   "metadata": {},
   "outputs": [],
   "source": [
    "mycursor = mydb.cursor()\n",
    "mycursor.execute(\"update search_engine_model set distance14_4 = %s where name='A2-B2-C1-D1-E1-F1#1'or name='A2-B2-C1-D1-E1-F2#1' or name='A2-B2-C1-D1-E1-F3#1'\"%sorted_sim_vector[13][1])\n",
    "mycursor.close()\n",
    "mydb.commit()"
   ]
  },
  {
   "cell_type": "code",
   "execution_count": 893,
   "metadata": {},
   "outputs": [],
   "source": [
    "mycursor = mydb.cursor()\n",
    "mycursor.execute(\"update search_engine_model set distance16_3 = %s where name='A2-B2-C1-D1-E1-F1#1'or name='A2-B2-C1-D1-E1-F2#1' or name='A2-B2-C1-D1-E1-F3#1'\"%sorted_sim_vector[15][1])\n",
    "mycursor.close()\n",
    "mydb.commit()"
   ]
  },
  {
   "cell_type": "code",
   "execution_count": 894,
   "metadata": {},
   "outputs": [],
   "source": [
    "listofapp = [0,1,4,5,6,7,8,9,12,13,14,15]      \n",
    "for i in range(16):\n",
    "    if th[i]!=0:\n",
    "        if i in listofapp:\n",
    "            if (sorted_sim_vector[i][1]-th[i]/2) >= 0:\n",
    "                TP1 = TP1 + 1\n",
    "            else:\n",
    "                FN1 = FN1 +1\n",
    "        else:\n",
    "            if (sorted_sim_vector[i][1]-th[i]/2) >= 0:\n",
    "                FP1 = FP1 + 1\n",
    "            else:\n",
    "                TN1 = TN1 +1"
   ]
  },
  {
   "cell_type": "code",
   "execution_count": 895,
   "metadata": {},
   "outputs": [],
   "source": [
    "listofapp = [0,1,4,5,6,7,8,9,12,13,14,15]      \n",
    "for i in range(16):\n",
    "    if th[i]!=0:\n",
    "        if i in listofapp:\n",
    "            if (sorted_sim_vector[i][1]-th[i]/4) >= 0:\n",
    "                TP2 = TP2 + 1\n",
    "            else:\n",
    "                FN2 = FN2 +1\n",
    "        else:\n",
    "            if (sorted_sim_vector[i][1]-th[i]/4) >= 0:\n",
    "                FP2 = FP2 + 1\n",
    "            else:\n",
    "                TN2 = TN2 +1"
   ]
  },
  {
   "cell_type": "code",
   "execution_count": 896,
   "metadata": {},
   "outputs": [],
   "source": [
    "listofapp = [0,1,4,5,6,7,8,9,12,13,14,15]     \n",
    "for i in range(16):\n",
    "    if th[i]!=0:\n",
    "        if i in listofapp:\n",
    "            if (sorted_sim_vector[i][1]-th[i]/8) >= 0:\n",
    "                TP3 = TP3 + 1\n",
    "            else:\n",
    "                FN3 = FN3 +1\n",
    "        else:\n",
    "            if (sorted_sim_vector[i][1]-th[i]/8) >= 0:\n",
    "                FP3 = FP3 + 1\n",
    "            else:\n",
    "                TN3 = TN3 +1"
   ]
  },
  {
   "cell_type": "markdown",
   "metadata": {},
   "source": [
    "+++++++++++++++++++++++++++++++++++++++++++++++++++++++++++++++++++++++++++++++++++++++++++++++++++++++++++++++++++++"
   ]
  },
  {
   "cell_type": "code",
   "execution_count": 897,
   "metadata": {},
   "outputs": [],
   "source": [
    "query = pd.read_csv('D:/Windows7SP1x86-disk-images-March2020/after_second_versions_word_adobe_firefox_files.txt')\n",
    "query2=[sen.lower() for sen in query]\n",
    "query_sen = [[text for text in re.split('[/\\t]',doc)] for doc in query2]\n",
    "query_sen = [[text+'/' for text in sen] for sen in query_sen]\n",
    "query_sen=[[ subelt for subelt in elt if subelt != '/' ] for elt in query_sen] # remove '/'\n",
    "before_search=datetime.now()\n",
    "sim_vector=model.docvecs.most_similar(positive=[model.infer_vector(query_sen[0])],topn=16)\n",
    "after_search=datetime.now()\n",
    "elapsed=after_search-before_search\n",
    "elapsed_search=elapsed.total_seconds()+elapsed_search\n",
    "sorted_sim_vector = sorted(sim_vector, key=lambda tup: tup[0])#sort based on document number\n"
   ]
  },
  {
   "cell_type": "code",
   "execution_count": 898,
   "metadata": {},
   "outputs": [],
   "source": [
    "mycursor = mydb.cursor()\n",
    "mycursor.execute(\"update search_engine_model set distance10_4 = %s where name='A2-B2-C1-D1-E1-F1#1'or name='A2-B2-C1-D1-E1-F2#1' or name='A2-B2-C1-D1-E1-F3#1'\"%sorted_sim_vector[9][1])\n",
    "mycursor.close()\n",
    "mydb.commit()"
   ]
  },
  {
   "cell_type": "code",
   "execution_count": 899,
   "metadata": {},
   "outputs": [],
   "source": [
    "mycursor = mydb.cursor()\n",
    "mycursor.execute(\"update search_engine_model set distance12_4 = %s where name='A2-B2-C1-D1-E1-F1#1'or name='A2-B2-C1-D1-E1-F2#1' or name='A2-B2-C1-D1-E1-F3#1'\"%sorted_sim_vector[11][1])\n",
    "mycursor.close()\n",
    "mydb.commit()"
   ]
  },
  {
   "cell_type": "code",
   "execution_count": 900,
   "metadata": {},
   "outputs": [],
   "source": [
    "mycursor = mydb.cursor()\n",
    "mycursor.execute(\"update search_engine_model set distance16_4 = %s where name='A2-B2-C1-D1-E1-F1#1'or name='A2-B2-C1-D1-E1-F2#1' or name='A2-B2-C1-D1-E1-F3#1'\"%sorted_sim_vector[15][1])\n",
    "mycursor.close()\n",
    "mydb.commit()"
   ]
  },
  {
   "cell_type": "code",
   "execution_count": 901,
   "metadata": {},
   "outputs": [],
   "source": [
    "listofapp = [0,1,2,3,6,7,8,9,10,11,14,15]    \n",
    "for i in range(16):\n",
    "    if th[i]!=0:\n",
    "        if i in listofapp:\n",
    "            if (sorted_sim_vector[i][1]-th[i]/2) >= 0:\n",
    "                TP1 = TP1 + 1\n",
    "            else:\n",
    "                FN1 = FN1 +1\n",
    "        else:\n",
    "            if (sorted_sim_vector[i][1]-th[i]/2) >= 0:\n",
    "                FP1 = FP1 + 1\n",
    "            else:\n",
    "                TN1 = TN1 +1"
   ]
  },
  {
   "cell_type": "code",
   "execution_count": 902,
   "metadata": {},
   "outputs": [],
   "source": [
    "listofapp = [0,1,2,3,6,7,8,9,10,11,14,15]    \n",
    "for i in range(16):\n",
    "    if th[i]!=0:\n",
    "        if i in listofapp:\n",
    "            if (sorted_sim_vector[i][1]-th[i]/4) >= 0:\n",
    "                TP2 = TP2 + 1\n",
    "            else:\n",
    "                FN2 = FN2 +1\n",
    "        else:\n",
    "            if (sorted_sim_vector[i][1]-th[i]/4) >= 0:\n",
    "                FP2 = FP2 + 1\n",
    "            else:\n",
    "                TN2 = TN2 +1"
   ]
  },
  {
   "cell_type": "code",
   "execution_count": 903,
   "metadata": {},
   "outputs": [],
   "source": [
    "listofapp = [0,1,2,3,6,7,8,9,10,11,14,15]     \n",
    "for i in range(16):\n",
    "    if th[i]!=0:\n",
    "        if i in listofapp:\n",
    "            if (sorted_sim_vector[i][1]-th[i]/8) >= 0:\n",
    "                TP3 = TP3 + 1\n",
    "            else:\n",
    "                FN3 = FN3 +1\n",
    "        else:\n",
    "            if (sorted_sim_vector[i][1]-th[i]/8) >= 0:\n",
    "                FP3 = FP3 + 1\n",
    "            else:\n",
    "                TN3 = TN3 +1"
   ]
  },
  {
   "cell_type": "code",
   "execution_count": 904,
   "metadata": {},
   "outputs": [],
   "source": [
    "precision = TP1 / (TP1 + FP1)\n",
    "recall = TP1 / (TP1 + FN1)\n",
    "F1 = 2 * ((precision*recall)/(precision+recall))"
   ]
  },
  {
   "cell_type": "code",
   "execution_count": 905,
   "metadata": {},
   "outputs": [],
   "source": [
    "mycursor = mydb.cursor()\n",
    "mycursor.execute(\"update search_engine_model set TP = %s, FN = %s, FP = %s, TN = %s, preci = %s, recall = %s, F1 = %s where name='A2-B2-C1-D1-E1-F1#1'\",(TP1,FN1,FP1,TN1,precision,recall,F1))\n",
    "mydb.commit()"
   ]
  },
  {
   "cell_type": "code",
   "execution_count": 906,
   "metadata": {},
   "outputs": [],
   "source": [
    "precision = TP2 / (TP2 + FP2)\n",
    "recall = TP2 / (TP2 + FN2)\n",
    "F1 = 2 * ((precision*recall)/(precision+recall))"
   ]
  },
  {
   "cell_type": "code",
   "execution_count": 907,
   "metadata": {},
   "outputs": [],
   "source": [
    "mycursor = mydb.cursor()\n",
    "mycursor.execute(\"update search_engine_model set TP = %s, FN = %s, FP = %s, TN = %s, preci = %s, recall = %s, F1 = %s where name='A2-B2-C1-D1-E1-F2#1'\",(TP2,FN2,FP2,TN2,precision,recall,F1))\n",
    "mydb.commit()"
   ]
  },
  {
   "cell_type": "code",
   "execution_count": 908,
   "metadata": {},
   "outputs": [],
   "source": [
    "precision = TP3 / (TP3 + FP3)\n",
    "recall = TP3 / (TP3 + FN3)\n",
    "F1 = 2 * ((precision*recall)/(precision+recall))"
   ]
  },
  {
   "cell_type": "code",
   "execution_count": 909,
   "metadata": {},
   "outputs": [],
   "source": [
    "mycursor = mydb.cursor()\n",
    "mycursor.execute(\"update search_engine_model set TP = %s, FN = %s, FP = %s, TN = %s, preci = %s, recall = %s, F1 = %s where name='A2-B2-C1-D1-E1-F3#1'\",(TP3,FN3,FP3,TN3,precision,recall,F1))\n",
    "mydb.commit()"
   ]
  },
  {
   "cell_type": "code",
   "execution_count": 910,
   "metadata": {},
   "outputs": [],
   "source": [
    "mycursor = mydb.cursor()\n",
    "mycursor.execute(\"update search_engine_model set train_time = %s, avg_search_time=%s where name='A2-B2-C1-D1-E1-F1#1'or name='A2-B2-C1-D1-E1-F2#1' or name='A2-B2-C1-D1-E1-F3#1'\",(elapsed_train,elapsed_search/20))\n",
    "mycursor.close()\n",
    "mydb.commit()"
   ]
  },
  {
   "cell_type": "markdown",
   "metadata": {},
   "source": [
    "+++++++++++++++++++++++++++++++++++++++++++++++++++++++++++++++++++++++++++++++++++++++++++++++++++++++++++++++++++++"
   ]
  },
  {
   "cell_type": "markdown",
   "metadata": {},
   "source": [
    "# Now checking the M57 machines"
   ]
  },
  {
   "cell_type": "markdown",
   "metadata": {},
   "source": [
    "+++++++++++++++++++++++++++++++++++++++++++++++++++++++++++++++++++++++++++++++++++++++++++++++++++++++++++++++++++++"
   ]
  },
  {
   "cell_type": "code",
   "execution_count": 911,
   "metadata": {},
   "outputs": [],
   "source": [
    "TP1_pat=0\n",
    "FP1_pat=0\n",
    "FN1_pat=0\n",
    "TN1_pat=0\n",
    "TP2_pat=0\n",
    "FP2_pat=0\n",
    "FN2_pat=0\n",
    "TN2_pat=0\n",
    "TP3_pat=0\n",
    "FP3_pat=0\n",
    "FN3_pat=0\n",
    "TN3_pat=0"
   ]
  },
  {
   "cell_type": "code",
   "execution_count": 912,
   "metadata": {},
   "outputs": [],
   "source": [
    "elapsed_search_m57=0"
   ]
  },
  {
   "cell_type": "code",
   "execution_count": 913,
   "metadata": {},
   "outputs": [],
   "source": [
    "query = pd.read_csv('E:/M57-Patent-dfxmls/pat-2009-11-16_files.txt')\n",
    "query2=[sen.lower() for sen in query]\n",
    "query_sen = [[text for text in re.split('[/\\t]',doc)] for doc in query2]\n",
    "query_sen = [[text+'/' for text in sen] for sen in query_sen]\n",
    "query_sen=[[ subelt for subelt in elt if subelt != '/' ] for elt in query_sen] # remove '/'\n",
    "before_search=datetime.now()\n",
    "sim_vector=model.docvecs.most_similar(positive=[model.infer_vector(query_sen[0])],topn=16)\n",
    "after_search=datetime.now()\n",
    "elapsed=after_search-before_search\n",
    "elapsed_search_m57=elapsed.total_seconds()+elapsed_search_m57\n",
    "sorted_sim_vector = sorted(sim_vector, key=lambda tup: tup[0])#sort based on document number\n"
   ]
  },
  {
   "cell_type": "code",
   "execution_count": 914,
   "metadata": {},
   "outputs": [],
   "source": [
    "mycursor = mydb.cursor()\n",
    "mycursor.execute(\"update search_engine_model set pat16_XP_firefox3 = %s where name='A2-B2-C1-D1-E1-F1#1'or name='A2-B2-C1-D1-E1-F2#1' or name='A2-B2-C1-D1-E1-F3#1'\"%sorted_sim_vector[2][1])\n",
    "mycursor.close()\n",
    "mydb.commit()"
   ]
  },
  {
   "cell_type": "code",
   "execution_count": 915,
   "metadata": {},
   "outputs": [],
   "source": [
    "mycursor = mydb.cursor()\n",
    "mycursor.execute(\"update search_engine_model set pat16_XP_python2_6 = %s where name='A2-B2-C1-D1-E1-F1#1'or name='A2-B2-C1-D1-E1-F2#1' or name='A2-B2-C1-D1-E1-F3#1'\"%sorted_sim_vector[4][1])\n",
    "mycursor.close()\n",
    "mydb.commit()"
   ]
  },
  {
   "cell_type": "code",
   "execution_count": 916,
   "metadata": {},
   "outputs": [],
   "source": [
    "listofapp = [2,3,4,5,10,11,12,13]     \n",
    "for i in range(16):\n",
    "    if th[i]!=0:\n",
    "        if i in listofapp:\n",
    "            if (sorted_sim_vector[i][1]-th[i]/2) >= 0:\n",
    "                TP1_pat = TP1_pat + 1\n",
    "            else:\n",
    "                FN1_pat = FN1_pat +1\n",
    "        else:\n",
    "            if (sorted_sim_vector[i][1]-th[i]/2) >= 0:\n",
    "                FP1_pat = FP1_pat + 1\n",
    "            else:\n",
    "                TN1_pat = TN1_pat +1"
   ]
  },
  {
   "cell_type": "code",
   "execution_count": 917,
   "metadata": {},
   "outputs": [],
   "source": [
    "listofapp = [2,3,4,5,10,11,12,13]     \n",
    "for i in range(16):\n",
    "    if th[i]!=0:\n",
    "        if i in listofapp:\n",
    "            if (sorted_sim_vector[i][1]-th[i]/4) >= 0:\n",
    "                TP2_pat = TP2_pat + 1\n",
    "            else:\n",
    "                FN2_pat = FN2_pat +1\n",
    "        else:\n",
    "            if (sorted_sim_vector[i][1]-th[i]/4) >= 0:\n",
    "                FP2_pat = FP2_pat + 1\n",
    "            else:\n",
    "                TN2_pat = TN2_pat +1"
   ]
  },
  {
   "cell_type": "code",
   "execution_count": 918,
   "metadata": {},
   "outputs": [],
   "source": [
    "listofapp = [2,3,4,5,10,11,12,13]     \n",
    "for i in range(16):\n",
    "    if th[i]!=0:\n",
    "        if i in listofapp:\n",
    "            if (sorted_sim_vector[i][1]-th[i]/8) >= 0:\n",
    "                TP3_pat = TP3_pat + 1\n",
    "            else:\n",
    "                FN3_pat = FN3_pat +1\n",
    "        else:\n",
    "            if (sorted_sim_vector[i][1]-th[i]/8) >= 0:\n",
    "                FP3_pat = FP3_pat + 1\n",
    "            else:\n",
    "                TN3_pat = TN3_pat +1"
   ]
  },
  {
   "cell_type": "code",
   "execution_count": 919,
   "metadata": {},
   "outputs": [],
   "source": [
    "query = pd.read_csv('E:/M57-Patent-dfxmls/pat-2009-11-19_files.txt', encoding='cp1252')\n",
    "query2=[sen.lower() for sen in query]\n",
    "query_sen = [[text for text in re.split('[/\\t]',doc)] for doc in query2]\n",
    "query_sen = [[text+'/' for text in sen] for sen in query_sen]\n",
    "query_sen=[[ subelt for subelt in elt if subelt != '/' ] for elt in query_sen] # remove '/'\n",
    "before_search=datetime.now()\n",
    "sim_vector=model.docvecs.most_similar(positive=[model.infer_vector(query_sen[0])],topn=16)\n",
    "after_search=datetime.now()\n",
    "elapsed=after_search-before_search\n",
    "elapsed_search_m57=elapsed.total_seconds()+elapsed_search_m57\n",
    "sorted_sim_vector = sorted(sim_vector, key=lambda tup: tup[0])#sort based on document number\n"
   ]
  },
  {
   "cell_type": "code",
   "execution_count": 920,
   "metadata": {},
   "outputs": [],
   "source": [
    "mycursor = mydb.cursor()\n",
    "mycursor.execute(\"update search_engine_model set pat19_XP_adobe9 = %s where name='A2-B2-C1-D1-E1-F1#1'or name='A2-B2-C1-D1-E1-F2#1' or name='A2-B2-C1-D1-E1-F3#1'\"%sorted_sim_vector[0][1])\n",
    "mycursor.close()\n",
    "mydb.commit()"
   ]
  },
  {
   "cell_type": "code",
   "execution_count": 921,
   "metadata": {},
   "outputs": [],
   "source": [
    "listofapp = [0,1,8,9,2,3,4,5,10,11,12,13]     \n",
    "for i in range(16):\n",
    "    if th[i]!=0:\n",
    "        if i in listofapp:\n",
    "            if (sorted_sim_vector[i][1]-th[i]/2) >= 0:\n",
    "                TP1_pat = TP1_pat + 1\n",
    "            else:\n",
    "                FN1_pat = FN1_pat +1\n",
    "        else:\n",
    "            if (sorted_sim_vector[i][1]-th[i]/2) >= 0:\n",
    "                FP1_pat = FP1_pat + 1\n",
    "            else:\n",
    "                TN1_pat = TN1_pat +1"
   ]
  },
  {
   "cell_type": "code",
   "execution_count": 922,
   "metadata": {},
   "outputs": [],
   "source": [
    "listofapp = [0,1,8,9,2,3,4,5,10,11,12,13]     \n",
    "for i in range(16):\n",
    "    if th[i]!=0:\n",
    "        if i in listofapp:\n",
    "            if (sorted_sim_vector[i][1]-th[i]/4) >= 0:\n",
    "                TP2_pat = TP2_pat + 1\n",
    "            else:\n",
    "                FN2_pat = FN2_pat +1\n",
    "        else:\n",
    "            if (sorted_sim_vector[i][1]-th[i]/4) >= 0:\n",
    "                FP2_pat = FP2_pat + 1\n",
    "            else:\n",
    "                TN2_pat = TN2_pat +1"
   ]
  },
  {
   "cell_type": "code",
   "execution_count": 923,
   "metadata": {},
   "outputs": [],
   "source": [
    "listofapp = [0,1,8,9,2,3,4,5,10,11,12,13]     \n",
    "for i in range(16):\n",
    "    if th[i]!=0:\n",
    "        if i in listofapp:\n",
    "            if (sorted_sim_vector[i][1]-th[i]/8) >= 0:\n",
    "                TP3_pat = TP3_pat + 1\n",
    "            else:\n",
    "                FN3_pat = FN3_pat +1\n",
    "        else:\n",
    "            if (sorted_sim_vector[i][1]-th[i]/8) >= 0:\n",
    "                FP3_pat = FP3_pat + 1\n",
    "            else:\n",
    "                TN3_pat = TN3_pat +1"
   ]
  },
  {
   "cell_type": "code",
   "execution_count": 924,
   "metadata": {},
   "outputs": [],
   "source": [
    "precision_pat = TP1_pat / (TP1_pat + FP1_pat)\n",
    "recall_pat = TP1_pat / (TP1_pat + FN1_pat)\n",
    "F1_pat = 2 * ((precision_pat*recall_pat)/(precision_pat+recall_pat))"
   ]
  },
  {
   "cell_type": "code",
   "execution_count": 925,
   "metadata": {},
   "outputs": [],
   "source": [
    "mycursor = mydb.cursor()\n",
    "mycursor.execute(\"update search_engine_model set TP_pat = %s, FN_pat = %s, FP_pat = %s, TN_pat = %s, preci_pat = %s, recall_pat = %s, F1_pat = %s where name='A2-B2-C1-D1-E1-F1#1'\",(TP1_pat,FN1_pat,FP1_pat,TN1_pat,precision_pat,recall_pat,F1_pat))\n",
    "mydb.commit()"
   ]
  },
  {
   "cell_type": "code",
   "execution_count": 926,
   "metadata": {},
   "outputs": [],
   "source": [
    "precision_pat = TP2_pat / (TP2_pat + FP2_pat)\n",
    "recall_pat = TP2_pat / (TP2_pat + FN2_pat)\n",
    "F1_pat = 2 * ((precision_pat*recall_pat)/(precision_pat+recall_pat))"
   ]
  },
  {
   "cell_type": "code",
   "execution_count": 927,
   "metadata": {},
   "outputs": [],
   "source": [
    "mycursor = mydb.cursor()\n",
    "mycursor.execute(\"update search_engine_model set TP_pat = %s, FN_pat = %s, FP_pat = %s, TN_pat = %s, preci_pat = %s, recall_pat = %s, F1_pat = %s where name='A2-B2-C1-D1-E1-F2#1'\",(TP2_pat,FN2_pat,FP2_pat,TN2_pat,precision_pat,recall_pat,F1_pat))\n",
    "mydb.commit()"
   ]
  },
  {
   "cell_type": "code",
   "execution_count": 928,
   "metadata": {},
   "outputs": [],
   "source": [
    "precision_pat = TP3_pat / (TP3_pat + FP3_pat)\n",
    "recall_pat = TP3_pat / (TP3_pat + FN3_pat)\n",
    "F1_pat = 2 * ((precision_pat*recall_pat)/(precision_pat+recall_pat))"
   ]
  },
  {
   "cell_type": "code",
   "execution_count": 929,
   "metadata": {},
   "outputs": [],
   "source": [
    "mycursor = mydb.cursor()\n",
    "mycursor.execute(\"update search_engine_model set TP_pat = %s, FN_pat = %s, FP_pat = %s, TN_pat = %s, preci_pat = %s, recall_pat = %s, F1_pat = %s where name='A2-B2-C1-D1-E1-F3#1'\",(TP3_pat,FN3_pat,FP3_pat,TN3_pat,precision_pat,recall_pat,F1_pat))\n",
    "mydb.commit()"
   ]
  },
  {
   "cell_type": "code",
   "execution_count": 930,
   "metadata": {},
   "outputs": [],
   "source": [
    "avg_elapse_m57=elapsed_search_m57/2"
   ]
  },
  {
   "cell_type": "code",
   "execution_count": 931,
   "metadata": {},
   "outputs": [],
   "source": [
    "mycursor = mydb.cursor()\n",
    "mycursor.execute(\"update search_engine_model set avg_search_time_m57=%s where name='A2-B2-C1-D1-E1-F1#1'or name='A2-B2-C1-D1-E1-F2#1' or name='A2-B2-C1-D1-E1-F3#1'\"%avg_elapse_m57)\n",
    "mycursor.close()\n",
    "mydb.commit()"
   ]
  },
  {
   "cell_type": "code",
   "execution_count": 932,
   "metadata": {},
   "outputs": [],
   "source": [
    "mydb.close()"
   ]
  },
  {
   "cell_type": "code",
   "execution_count": null,
   "metadata": {},
   "outputs": [],
   "source": []
  }
 ],
 "metadata": {
  "kernelspec": {
   "display_name": "Python 3",
   "language": "python",
   "name": "python3"
  },
  "language_info": {
   "codemirror_mode": {
    "name": "ipython",
    "version": 3
   },
   "file_extension": ".py",
   "mimetype": "text/x-python",
   "name": "python",
   "nbconvert_exporter": "python",
   "pygments_lexer": "ipython3",
   "version": "3.8.0"
  }
 },
 "nbformat": 4,
 "nbformat_minor": 4
}
