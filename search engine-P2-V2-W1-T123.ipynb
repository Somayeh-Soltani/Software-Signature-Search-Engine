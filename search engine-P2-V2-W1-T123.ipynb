{
 "cells": [
  {
   "cell_type": "markdown",
   "metadata": {},
   "source": [
    "# P2-V2-W1-T123#1"
   ]
  },
  {
   "cell_type": "code",
   "execution_count": 1,
   "metadata": {},
   "outputs": [],
   "source": [
    "from gensim.models.doc2vec import Doc2Vec, TaggedDocument\n",
    "import string\n",
    "import re\n",
    "import pandas as pd\n",
    "import mysql.connector as my\n",
    "from datetime import datetime\n",
    "mydb=my.connect(host=\"localhost\",user=\"root\",passwd=\"123456\",database=\"search_engine_word2vec\")"
   ]
  },
  {
   "cell_type": "code",
   "execution_count": 2,
   "metadata": {},
   "outputs": [],
   "source": [
    "docs = pd.read_csv('D:/Both_Windows/delta_union_new_files.txt')"
   ]
  },
  {
   "cell_type": "code",
   "execution_count": 3,
   "metadata": {},
   "outputs": [],
   "source": [
    "corpus2=[sen.lower() for sen in docs]\n",
    "sentences = [[text for text in re.split('[/\\t]',doc)] for doc in corpus2]\n",
    "sentences = [[text+'/' for text in sen] for sen in sentences]\n",
    "sentences=[[ subelt for subelt in elt if subelt != '/' ] for elt in sentences] # remove '/'\n",
    "tagged_data = [TaggedDocument(d, [i]) for i, d in enumerate(sentences)]\n",
    "before_train=datetime.now()\n",
    "model = Doc2Vec(tagged_data, dm=0, vector_size=40, window=1, min_count=1, workers=4, epochs = 100) #PV-DBOW\n",
    "after_train=datetime.now()\n",
    "elapsed=after_train-before_train\n",
    "elapsed_train=elapsed.total_seconds()"
   ]
  },
  {
   "cell_type": "markdown",
   "metadata": {},
   "source": [
    "# Setting the thresholds"
   ]
  },
  {
   "cell_type": "code",
   "execution_count": 4,
   "metadata": {},
   "outputs": [],
   "source": [
    "query = pd.read_csv('D:/WINXPSP3x86-disk-images-March2020/adobe reader9-2/after_adobe reader9-2_run1_files.txt')\n",
    "query2=[sen.lower() for sen in query]\n",
    "query_sen = [[text for text in re.split('[/\\t]',doc)] for doc in query2]\n",
    "query_sen = [[text+'/' for text in sen] for sen in query_sen]\n",
    "query_sen=[[ subelt for subelt in elt if subelt != '/' ] for elt in query_sen] # remove '/'\n",
    "sim_vector=model.docvecs.most_similar(positive=[model.infer_vector(query_sen[0])],topn=16)\n",
    "sorted_sim_vector = sorted(sim_vector, key=lambda tup: tup[0])#sort based on document number"
   ]
  },
  {
   "cell_type": "code",
   "execution_count": 5,
   "metadata": {},
   "outputs": [],
   "source": [
    "mycursor = mydb.cursor()\n",
    "mycursor.execute(\"update search_engine_model set threshold1 = %s where name='P2-V2-W1-T1#1' or name='P2-V2-W1-T2#1' or name='P2-V2-W1-T3#1'\" %sorted_sim_vector[0][1])"
   ]
  },
  {
   "cell_type": "code",
   "execution_count": 6,
   "metadata": {},
   "outputs": [],
   "source": [
    "query = pd.read_csv('D:/WINXPSP3x86-disk-images-March2020/adobe reader11-0-3/after_adobe reader11-0-3_run1_files.txt')\n",
    "query2=[sen.lower() for sen in query]\n",
    "query_sen = [[text for text in re.split('[/\\t]',doc)] for doc in query2]\n",
    "query_sen = [[text+'/' for text in sen] for sen in query_sen]\n",
    "query_sen=[[ subelt for subelt in elt if subelt != '/' ] for elt in query_sen] # remove '/'\n",
    "sim_vector=model.docvecs.most_similar(positive=[model.infer_vector(query_sen[0])],topn=16)\n",
    "sorted_sim_vector = sorted(sim_vector, key=lambda tup: tup[0])#sort based on document number"
   ]
  },
  {
   "cell_type": "code",
   "execution_count": 7,
   "metadata": {},
   "outputs": [],
   "source": [
    "mycursor = mydb.cursor()\n",
    "mycursor.execute(\"update search_engine_model set threshold2 = %s where name='P2-V2-W1-T1#1'or name='P2-V2-W1-T2#1' or name='P2-V2-W1-T3#1'\" %sorted_sim_vector[1][1])"
   ]
  },
  {
   "cell_type": "code",
   "execution_count": 8,
   "metadata": {},
   "outputs": [],
   "source": [
    "query = pd.read_csv('D:/WINXPSP3x86-disk-images-March2020/firefox3-5-10/after_firefox3-5-10_run1_files.txt')\n",
    "query2=[sen.lower() for sen in query]\n",
    "query_sen = [[text for text in re.split('[/\\t]',doc)] for doc in query2]\n",
    "query_sen = [[text+'/' for text in sen] for sen in query_sen]\n",
    "query_sen=[[ subelt for subelt in elt if subelt != '/' ] for elt in query_sen] # remove '/'\n",
    "sim_vector=model.docvecs.most_similar(positive=[model.infer_vector(query_sen[0])],topn=16)\n",
    "sorted_sim_vector = sorted(sim_vector, key=lambda tup: tup[0])#sort based on document number"
   ]
  },
  {
   "cell_type": "code",
   "execution_count": 9,
   "metadata": {},
   "outputs": [],
   "source": [
    "mycursor = mydb.cursor()\n",
    "mycursor.execute(\"update search_engine_model set threshold3 = %s where name='P2-V2-W1-T1#1'or name='P2-V2-W1-T2#1' or name='P2-V2-W1-T3#1'\" %sorted_sim_vector[2][1])"
   ]
  },
  {
   "cell_type": "code",
   "execution_count": 10,
   "metadata": {},
   "outputs": [],
   "source": [
    "query = pd.read_csv('D:/WINXPSP3x86-disk-images-March2020/firefox40-0-3/after_firefox40-0-3_run1_files.txt')\n",
    "query2=[sen.lower() for sen in query]\n",
    "query_sen = [[text for text in re.split('[/\\t]',doc)] for doc in query2]\n",
    "query_sen = [[text+'/' for text in sen] for sen in query_sen]\n",
    "query_sen=[[ subelt for subelt in elt if subelt != '/' ] for elt in query_sen] # remove '/'\n",
    "sim_vector=model.docvecs.most_similar(positive=[model.infer_vector(query_sen[0])],topn=16)\n",
    "sorted_sim_vector = sorted(sim_vector, key=lambda tup: tup[0])#sort based on document number"
   ]
  },
  {
   "cell_type": "code",
   "execution_count": 11,
   "metadata": {},
   "outputs": [],
   "source": [
    "mycursor = mydb.cursor()\n",
    "mycursor.execute(\"update search_engine_model set threshold4 = %s where name='P2-V2-W1-T1#1'or name='P2-V2-W1-T2#1' or name='P2-V2-W1-T3#1'\" %sorted_sim_vector[3][1])"
   ]
  },
  {
   "cell_type": "code",
   "execution_count": 12,
   "metadata": {},
   "outputs": [],
   "source": [
    "query = pd.read_csv('D:/WINXPSP3x86-disk-images-March2020/python2-6-1/after_python2-6-1_run1_files.txt')\n",
    "query2=[sen.lower() for sen in query]\n",
    "query_sen = [[text for text in re.split('[/\\t]',doc)] for doc in query2]\n",
    "query_sen = [[text+'/' for text in sen] for sen in query_sen]\n",
    "query_sen=[[ subelt for subelt in elt if subelt != '/' ] for elt in query_sen] # remove '/'\n",
    "sim_vector=model.docvecs.most_similar(positive=[model.infer_vector(query_sen[0])],topn=16)\n",
    "sorted_sim_vector = sorted(sim_vector, key=lambda tup: tup[0])#sort based on document number"
   ]
  },
  {
   "cell_type": "code",
   "execution_count": 13,
   "metadata": {},
   "outputs": [],
   "source": [
    "mycursor = mydb.cursor()\n",
    "mycursor.execute(\"update search_engine_model set threshold5 = %s where name='P2-V2-W1-T1#1'or name='P2-V2-W1-T2#1' or name='P2-V2-W1-T3#1'\" %sorted_sim_vector[4][1])"
   ]
  },
  {
   "cell_type": "code",
   "execution_count": 14,
   "metadata": {},
   "outputs": [],
   "source": [
    "query = pd.read_csv('D:/WINXPSP3x86-disk-images-March2020/python2-7-17/after_python2-7-17_run1_files.txt')\n",
    "query2=[sen.lower() for sen in query]\n",
    "query_sen = [[text for text in re.split('[/\\t]',doc)] for doc in query2]\n",
    "query_sen = [[text+'/' for text in sen] for sen in query_sen]\n",
    "query_sen=[[ subelt for subelt in elt if subelt != '/' ] for elt in query_sen] # remove '/'\n",
    "sim_vector=model.docvecs.most_similar(positive=[model.infer_vector(query_sen[0])],topn=16)\n",
    "sorted_sim_vector = sorted(sim_vector, key=lambda tup: tup[0])#sort based on document number"
   ]
  },
  {
   "cell_type": "code",
   "execution_count": 15,
   "metadata": {},
   "outputs": [],
   "source": [
    "mycursor = mydb.cursor()\n",
    "mycursor.execute(\"update search_engine_model set threshold6 = %s where name='P2-V2-W1-T1#1'or name='P2-V2-W1-T2#1' or name='P2-V2-W1-T3#1'\" %sorted_sim_vector[5][1])"
   ]
  },
  {
   "cell_type": "code",
   "execution_count": 16,
   "metadata": {},
   "outputs": [],
   "source": [
    "query = pd.read_csv('D:/WINXPSP3x86-disk-images-March2020/word2003pro/after_word2003pro_run1_files.txt')\n",
    "query2=[sen.lower() for sen in query]\n",
    "query_sen = [[text for text in re.split('[/\\t]',doc)] for doc in query2]\n",
    "query_sen = [[text+'/' for text in sen] for sen in query_sen]\n",
    "query_sen=[[ subelt for subelt in elt if subelt != '/' ] for elt in query_sen] # remove '/'\n",
    "sim_vector=model.docvecs.most_similar(positive=[model.infer_vector(query_sen[0])],topn=16)\n",
    "sorted_sim_vector = sorted(sim_vector, key=lambda tup: tup[0])#sort based on document number"
   ]
  },
  {
   "cell_type": "code",
   "execution_count": 17,
   "metadata": {},
   "outputs": [],
   "source": [
    "mycursor = mydb.cursor()\n",
    "mycursor.execute(\"update search_engine_model set threshold7 = %s where name='P2-V2-W1-T1#1'or name='P2-V2-W1-T2#1' or name='P2-V2-W1-T3#1'\" %sorted_sim_vector[6][1])"
   ]
  },
  {
   "cell_type": "code",
   "execution_count": 18,
   "metadata": {},
   "outputs": [],
   "source": [
    "query = pd.read_csv('D:/WINXPSP3x86-disk-images-March2020/word2010pro/after_word2010pro_run1_files.txt')\n",
    "query2=[sen.lower() for sen in query]\n",
    "query_sen = [[text for text in re.split('[/\\t]',doc)] for doc in query2]\n",
    "query_sen = [[text+'/' for text in sen] for sen in query_sen]\n",
    "query_sen=[[ subelt for subelt in elt if subelt != '/' ] for elt in query_sen] # remove '/'\n",
    "sim_vector=model.docvecs.most_similar(positive=[model.infer_vector(query_sen[0])],topn=16)\n",
    "sorted_sim_vector = sorted(sim_vector, key=lambda tup: tup[0])#sort based on document number"
   ]
  },
  {
   "cell_type": "code",
   "execution_count": 19,
   "metadata": {},
   "outputs": [],
   "source": [
    "mycursor = mydb.cursor()\n",
    "mycursor.execute(\"update search_engine_model set threshold8 = %s where name='P2-V2-W1-T1#1'or name='P2-V2-W1-T2#1' or name='P2-V2-W1-T3#1'\" %sorted_sim_vector[7][1])"
   ]
  },
  {
   "cell_type": "code",
   "execution_count": 21,
   "metadata": {},
   "outputs": [],
   "source": [
    "query = pd.read_csv('D:/Windows7SP1x86-disk-images-March2020/adobe reader9-2/after_adobe reader9-2_run1_files.txt')\n",
    "query2=[sen.lower() for sen in query]\n",
    "query_sen = [[text for text in re.split('[/\\t]',doc)] for doc in query2]\n",
    "query_sen = [[text+'/' for text in sen] for sen in query_sen]\n",
    "query_sen=[[ subelt for subelt in elt if subelt != '/' ] for elt in query_sen] # remove '/'\n",
    "sim_vector=model.docvecs.most_similar(positive=[model.infer_vector(query_sen[0])],topn=16)\n",
    "sorted_sim_vector = sorted(sim_vector, key=lambda tup: tup[0])#sort based on document number"
   ]
  },
  {
   "cell_type": "code",
   "execution_count": 22,
   "metadata": {},
   "outputs": [],
   "source": [
    "mycursor = mydb.cursor()\n",
    "mycursor.execute(\"update search_engine_model set threshold9 = %s where name='P2-V2-W1-T1#1'or name='P2-V2-W1-T2#1' or name='P2-V2-W1-T3#1'\" %sorted_sim_vector[8][1])"
   ]
  },
  {
   "cell_type": "code",
   "execution_count": 23,
   "metadata": {},
   "outputs": [],
   "source": [
    "query = pd.read_csv('D:/Windows7SP1x86-disk-images-March2020/adobe reader11-0-3/after_adobe reader11-0-3_run1_files.txt')\n",
    "query2=[sen.lower() for sen in query]\n",
    "query_sen = [[text for text in re.split('[/\\t]',doc)] for doc in query2]\n",
    "query_sen = [[text+'/' for text in sen] for sen in query_sen]\n",
    "query_sen=[[ subelt for subelt in elt if subelt != '/' ] for elt in query_sen] # remove '/'\n",
    "sim_vector=model.docvecs.most_similar(positive=[model.infer_vector(query_sen[0])],topn=16)\n",
    "sorted_sim_vector = sorted(sim_vector, key=lambda tup: tup[0])#sort based on document number"
   ]
  },
  {
   "cell_type": "code",
   "execution_count": 24,
   "metadata": {},
   "outputs": [],
   "source": [
    "mycursor = mydb.cursor()\n",
    "mycursor.execute(\"update search_engine_model set threshold10 = %s where name='P2-V2-W1-T1#1'or name='P2-V2-W1-T2#1' or name='P2-V2-W1-T3#1'\" %sorted_sim_vector[9][1])"
   ]
  },
  {
   "cell_type": "code",
   "execution_count": 25,
   "metadata": {},
   "outputs": [],
   "source": [
    "query = pd.read_csv('D:/Windows7SP1x86-disk-images-March2020/firefox3-5-10/after_firefox3-5-10_run1_files.txt')\n",
    "query2=[sen.lower() for sen in query]\n",
    "query_sen = [[text for text in re.split('[/\\t]',doc)] for doc in query2]\n",
    "query_sen = [[text+'/' for text in sen] for sen in query_sen]\n",
    "query_sen=[[ subelt for subelt in elt if subelt != '/' ] for elt in query_sen] # remove '/'\n",
    "sim_vector=model.docvecs.most_similar(positive=[model.infer_vector(query_sen[0])],topn=16)\n",
    "sorted_sim_vector = sorted(sim_vector, key=lambda tup: tup[0])#sort based on document number"
   ]
  },
  {
   "cell_type": "code",
   "execution_count": 26,
   "metadata": {},
   "outputs": [],
   "source": [
    "mycursor = mydb.cursor()\n",
    "mycursor.execute(\"update search_engine_model set threshold11 = %s where name='P2-V2-W1-T1#1'or name='P2-V2-W1-T2#1' or name='P2-V2-W1-T3#1'\" %sorted_sim_vector[10][1])"
   ]
  },
  {
   "cell_type": "code",
   "execution_count": 27,
   "metadata": {},
   "outputs": [],
   "source": [
    "query = pd.read_csv('D:/Windows7SP1x86-disk-images-March2020/firefox40-0-3/after_firefox40-0-3_run1_files.txt')\n",
    "query2=[sen.lower() for sen in query]\n",
    "query_sen = [[text for text in re.split('[/\\t]',doc)] for doc in query2]\n",
    "query_sen = [[text+'/' for text in sen] for sen in query_sen]\n",
    "query_sen=[[ subelt for subelt in elt if subelt != '/' ] for elt in query_sen] # remove '/'\n",
    "sim_vector=model.docvecs.most_similar(positive=[model.infer_vector(query_sen[0])],topn=16)\n",
    "sorted_sim_vector = sorted(sim_vector, key=lambda tup: tup[0])#sort based on document number"
   ]
  },
  {
   "cell_type": "code",
   "execution_count": 28,
   "metadata": {},
   "outputs": [],
   "source": [
    "mycursor = mydb.cursor()\n",
    "mycursor.execute(\"update search_engine_model set threshold12 = %s where name='P2-V2-W1-T1#1'or name='P2-V2-W1-T2#1' or name='P2-V2-W1-T3#1'\" %sorted_sim_vector[11][1])"
   ]
  },
  {
   "cell_type": "code",
   "execution_count": 29,
   "metadata": {},
   "outputs": [],
   "source": [
    "query = pd.read_csv('D:/Windows7SP1x86-disk-images-March2020/python2-6-1/after_python2-6-1_run1_files.txt')\n",
    "query2=[sen.lower() for sen in query]\n",
    "query_sen = [[text for text in re.split('[/\\t]',doc)] for doc in query2]\n",
    "query_sen = [[text+'/' for text in sen] for sen in query_sen]\n",
    "query_sen=[[ subelt for subelt in elt if subelt != '/' ] for elt in query_sen] # remove '/'\n",
    "sim_vector=model.docvecs.most_similar(positive=[model.infer_vector(query_sen[0])],topn=16)\n",
    "sorted_sim_vector = sorted(sim_vector, key=lambda tup: tup[0])#sort based on document number"
   ]
  },
  {
   "cell_type": "code",
   "execution_count": 30,
   "metadata": {},
   "outputs": [],
   "source": [
    "mycursor = mydb.cursor()\n",
    "mycursor.execute(\"update search_engine_model set threshold13 = %s where name='P2-V2-W1-T1#1'or name='P2-V2-W1-T2#1' or name='P2-V2-W1-T3#1'\" %sorted_sim_vector[12][1])"
   ]
  },
  {
   "cell_type": "code",
   "execution_count": 31,
   "metadata": {},
   "outputs": [],
   "source": [
    "query = pd.read_csv('D:/Windows7SP1x86-disk-images-March2020/python2-7-17/after_python2-7-17_run1_files.txt')\n",
    "query2=[sen.lower() for sen in query]\n",
    "query_sen = [[text for text in re.split('[/\\t]',doc)] for doc in query2]\n",
    "query_sen = [[text+'/' for text in sen] for sen in query_sen]\n",
    "query_sen=[[ subelt for subelt in elt if subelt != '/' ] for elt in query_sen] # remove '/'\n",
    "sim_vector=model.docvecs.most_similar(positive=[model.infer_vector(query_sen[0])],topn=16)\n",
    "sorted_sim_vector = sorted(sim_vector, key=lambda tup: tup[0])#sort based on document number"
   ]
  },
  {
   "cell_type": "code",
   "execution_count": 32,
   "metadata": {},
   "outputs": [],
   "source": [
    "mycursor = mydb.cursor()\n",
    "mycursor.execute(\"update search_engine_model set threshold14 = %s where name='P2-V2-W1-T1#1'or name='P2-V2-W1-T2#1' or name='P2-V2-W1-T3#1'\" %sorted_sim_vector[13][1])"
   ]
  },
  {
   "cell_type": "code",
   "execution_count": 33,
   "metadata": {},
   "outputs": [],
   "source": [
    "query = pd.read_csv('D:/Windows7SP1x86-disk-images-March2020/word2003pro/after_word2003pro_run1_files.txt')\n",
    "query2=[sen.lower() for sen in query]\n",
    "query_sen = [[text for text in re.split('[/\\t]',doc)] for doc in query2]\n",
    "query_sen = [[text+'/' for text in sen] for sen in query_sen]\n",
    "query_sen=[[ subelt for subelt in elt if subelt != '/' ] for elt in query_sen] # remove '/'\n",
    "sim_vector=model.docvecs.most_similar(positive=[model.infer_vector(query_sen[0])],topn=16)\n",
    "sorted_sim_vector = sorted(sim_vector, key=lambda tup: tup[0])#sort based on document number"
   ]
  },
  {
   "cell_type": "code",
   "execution_count": 34,
   "metadata": {},
   "outputs": [],
   "source": [
    "mycursor = mydb.cursor()\n",
    "mycursor.execute(\"update search_engine_model set threshold15 = %s where name='P2-V2-W1-T1#1'or name='P2-V2-W1-T2#1' or name='P2-V2-W1-T3#1'\" %sorted_sim_vector[14][1])"
   ]
  },
  {
   "cell_type": "code",
   "execution_count": 35,
   "metadata": {},
   "outputs": [],
   "source": [
    "query = pd.read_csv('D:/Windows7SP1x86-disk-images-March2020/word2010pro/after_word2010pro_run1_files.txt')\n",
    "query2=[sen.lower() for sen in query]\n",
    "query_sen = [[text for text in re.split('[/\\t]',doc)] for doc in query2]\n",
    "query_sen = [[text+'/' for text in sen] for sen in query_sen]\n",
    "query_sen=[[ subelt for subelt in elt if subelt != '/' ] for elt in query_sen] # remove '/'\n",
    "sim_vector=model.docvecs.most_similar(positive=[model.infer_vector(query_sen[0])],topn=16)\n",
    "sorted_sim_vector = sorted(sim_vector, key=lambda tup: tup[0])#sort based on document number"
   ]
  },
  {
   "cell_type": "code",
   "execution_count": 36,
   "metadata": {},
   "outputs": [],
   "source": [
    "mycursor = mydb.cursor()\n",
    "mycursor.execute(\"update search_engine_model set threshold16 = %s where name='P2-V2-W1-T1#1'or name='P2-V2-W1-T2#1' or name='P2-V2-W1-T3#1'\" %sorted_sim_vector[15][1])"
   ]
  },
  {
   "cell_type": "code",
   "execution_count": 37,
   "metadata": {},
   "outputs": [],
   "source": [
    "th = [0,0,0,0,0,0,0,0,0,0,0,0,0,0,0,0]\n",
    "mycursor = mydb.cursor()\n",
    "mycursor.execute(\"select * from search_engine_model where name='P2-V2-W1-T1#1'\")\n",
    "result = mycursor.fetchone()\n",
    "th[0] = result[2]\n",
    "th[1] = result[3]\n",
    "th[2] = result[4]\n",
    "th[3] = result[5]\n",
    "th[4] = result[6]\n",
    "th[5] = result[7]\n",
    "th[6] = result[8]\n",
    "th[7] = result[9]\n",
    "th[8] = result[10]\n",
    "th[9] = result[11]\n",
    "th[10] = result[12]\n",
    "th[11] = result[13]\n",
    "th[12] = result[14]\n",
    "th[13] = result[15]\n",
    "th[14] = result[16]\n",
    "th[15] = result[17]"
   ]
  },
  {
   "cell_type": "code",
   "execution_count": 38,
   "metadata": {},
   "outputs": [],
   "source": [
    "TP1=0\n",
    "TN1=0\n",
    "FP1=0\n",
    "FN1=0\n",
    "TP2=0\n",
    "TN2=0\n",
    "FP2=0\n",
    "FN2=0\n",
    "TP3=0\n",
    "TN3=0\n",
    "FP3=0\n",
    "FN3=0"
   ]
  },
  {
   "cell_type": "markdown",
   "metadata": {},
   "source": [
    "# Now checking the controlled machines"
   ]
  },
  {
   "cell_type": "code",
   "execution_count": 39,
   "metadata": {},
   "outputs": [],
   "source": [
    "elapsed_search=0"
   ]
  },
  {
   "cell_type": "code",
   "execution_count": 40,
   "metadata": {},
   "outputs": [],
   "source": [
    "query = pd.read_csv('D:/WINXPSP3x86-disk-images-March2020/after_first_versions_run1_files.txt')\n",
    "query2=[sen.lower() for sen in query]\n",
    "query_sen = [[text for text in re.split('[/\\t]',doc)] for doc in query2]\n",
    "query_sen = [[text+'/' for text in sen] for sen in query_sen]\n",
    "query_sen=[[ subelt for subelt in elt if subelt != '/' ] for elt in query_sen] # remove '/'\n",
    "before_search=datetime.now()\n",
    "sim_vector=model.docvecs.most_similar(positive=[model.infer_vector(query_sen[0])],topn=16)\n",
    "after_search=datetime.now()\n",
    "elapsed=after_search-before_search\n",
    "elapsed_search=elapsed.total_seconds()+elapsed_search\n",
    "sorted_sim_vector = sorted(sim_vector, key=lambda tup: tup[0])#sort based on document number"
   ]
  },
  {
   "cell_type": "code",
   "execution_count": 41,
   "metadata": {},
   "outputs": [],
   "source": [
    "mycursor = mydb.cursor()\n",
    "mycursor.execute(\"update search_engine_model set distance1_1 = %s where name='P2-V2-W1-T1#1'or name='P2-V2-W1-T2#1' or name='P2-V2-W1-T3#1'\"%sorted_sim_vector[0][1])"
   ]
  },
  {
   "cell_type": "code",
   "execution_count": 42,
   "metadata": {},
   "outputs": [],
   "source": [
    "mycursor = mydb.cursor()\n",
    "mycursor.execute(\"update search_engine_model set distance3_1 = %s where name='P2-V2-W1-T1#1'or name='P2-V2-W1-T2#1' or name='P2-V2-W1-T3#1'\"%sorted_sim_vector[2][1])"
   ]
  },
  {
   "cell_type": "code",
   "execution_count": 43,
   "metadata": {},
   "outputs": [],
   "source": [
    "mycursor = mydb.cursor()\n",
    "mycursor.execute(\"update search_engine_model set distance5_1 = %s where name='P2-V2-W1-T1#1'or name='P2-V2-W1-T2#1' or name='P2-V2-W1-T3#1'\"%sorted_sim_vector[4][1])"
   ]
  },
  {
   "cell_type": "code",
   "execution_count": 44,
   "metadata": {},
   "outputs": [],
   "source": [
    "mycursor = mydb.cursor()\n",
    "mycursor.execute(\"update search_engine_model set distance7_1 = %s where name='P2-V2-W1-T1#1'or name='P2-V2-W1-T2#1' or name='P2-V2-W1-T3#1'\"%sorted_sim_vector[6][1])"
   ]
  },
  {
   "cell_type": "code",
   "execution_count": 45,
   "metadata": {},
   "outputs": [],
   "source": [
    "listofapp = [0,1,2,3,4,5,6,7,8,9,10,11,12,13,14,15]    \n",
    "for i in range(16):\n",
    "    if th[i]!=0:\n",
    "        if i in listofapp:\n",
    "            if (sorted_sim_vector[i][1]-th[i]/2) >= 0:\n",
    "                TP1 = TP1 + 1\n",
    "            else:\n",
    "                FN1 = FN1 +1\n",
    "        else:\n",
    "            if (sorted_sim_vector[i][1]-th[i]/2) >= 0:\n",
    "                FP1 = FP1 + 1\n",
    "            else:\n",
    "                TN1 = TN1 +1"
   ]
  },
  {
   "cell_type": "code",
   "execution_count": 46,
   "metadata": {},
   "outputs": [],
   "source": [
    "listofapp = [0,1,2,3,4,5,6,7,8,9,10,11,12,13,14,15]    \n",
    "for i in range(16):\n",
    "    if th[i]!=0:\n",
    "        if i in listofapp:\n",
    "            if (sorted_sim_vector[i][1]-th[i]/4) >= 0:\n",
    "                TP2 = TP2 + 1\n",
    "            else:\n",
    "                FN2 = FN2 +1\n",
    "        else:\n",
    "            if (sorted_sim_vector[i][1]-th[i]/4) >= 0:\n",
    "                FP2 = FP2 + 1\n",
    "            else:\n",
    "                TN2 = TN2 +1"
   ]
  },
  {
   "cell_type": "code",
   "execution_count": 47,
   "metadata": {},
   "outputs": [],
   "source": [
    "listofapp = [0,1,2,3,4,5,6,7,8,9,10,11,12,13,14,15]    \n",
    "for i in range(16):\n",
    "    if th[i]!=0:\n",
    "        if i in listofapp:\n",
    "            if (sorted_sim_vector[i][1]-th[i]/8) >= 0:\n",
    "                TP3 = TP3 + 1\n",
    "            else:\n",
    "                FN3 = FN3 +1\n",
    "        else:\n",
    "            if (sorted_sim_vector[i][1]-th[i]/8) >= 0:\n",
    "                FP3 = FP3 + 1\n",
    "            else:\n",
    "                TN3 = TN3 +1"
   ]
  },
  {
   "cell_type": "markdown",
   "metadata": {},
   "source": [
    "+++++++++++++++++++++++++++++++++++++++++++++++++++++++++++++++++++++++++++++++++++++++++++++++++++++++++++++++++++++"
   ]
  },
  {
   "cell_type": "code",
   "execution_count": 48,
   "metadata": {},
   "outputs": [],
   "source": [
    "query = pd.read_csv('D:/WINXPSP3x86-disk-images-March2020/after_second_versions_run1_files.txt')\n",
    "query2=[sen.lower() for sen in query]\n",
    "query_sen = [[text for text in re.split('[/\\t]',doc)] for doc in query2]\n",
    "query_sen = [[text+'/' for text in sen] for sen in query_sen]\n",
    "query_sen=[[ subelt for subelt in elt if subelt != '/' ] for elt in query_sen] # remove '/'\n",
    "before_search=datetime.now()\n",
    "sim_vector=model.docvecs.most_similar(positive=[model.infer_vector(query_sen[0])],topn=16)\n",
    "after_search=datetime.now()\n",
    "elapsed=after_search-before_search\n",
    "elapsed_search=elapsed.total_seconds()+elapsed_search\n",
    "sorted_sim_vector = sorted(sim_vector, key=lambda tup: tup[0])#sort based on document number"
   ]
  },
  {
   "cell_type": "code",
   "execution_count": 49,
   "metadata": {},
   "outputs": [],
   "source": [
    "mycursor = mydb.cursor()\n",
    "mycursor.execute(\"update search_engine_model set distance2_1 = %s where name='P2-V2-W1-T1#1'or name='P2-V2-W1-T2#1' or name='P2-V2-W1-T3#1'\" %sorted_sim_vector[1][1])"
   ]
  },
  {
   "cell_type": "code",
   "execution_count": 50,
   "metadata": {},
   "outputs": [],
   "source": [
    "mycursor = mydb.cursor()\n",
    "mycursor.execute(\"update search_engine_model set distance4_1 = %s where name='P2-V2-W1-T1#1'or name='P2-V2-W1-T2#1' or name='P2-V2-W1-T3#1'\" %sorted_sim_vector[3][1])"
   ]
  },
  {
   "cell_type": "code",
   "execution_count": 51,
   "metadata": {},
   "outputs": [],
   "source": [
    "mycursor = mydb.cursor()\n",
    "mycursor.execute(\"update search_engine_model set distance6_1 = %s where name='P2-V2-W1-T1#1'or name='P2-V2-W1-T2#1' or name='P2-V2-W1-T3#1'\" %sorted_sim_vector[5][1])"
   ]
  },
  {
   "cell_type": "code",
   "execution_count": 52,
   "metadata": {},
   "outputs": [],
   "source": [
    "mycursor = mydb.cursor()\n",
    "mycursor.execute(\"update search_engine_model set distance8_1 = %s where name='P2-V2-W1-T1#1'or name='P2-V2-W1-T2#1' or name='P2-V2-W1-T3#1'\" %sorted_sim_vector[7][1])"
   ]
  },
  {
   "cell_type": "code",
   "execution_count": 53,
   "metadata": {},
   "outputs": [],
   "source": [
    "listofapp = [0,1,2,3,4,5,6,7,8,9,10,11,12,13,14,15]     \n",
    "for i in range(16):\n",
    "    if th[i]!=0:\n",
    "        if i in listofapp:\n",
    "            if (sorted_sim_vector[i][1]-th[i]/2) >= 0:\n",
    "                TP1 = TP1 + 1\n",
    "            else:\n",
    "                FN1 = FN1 +1\n",
    "        else:\n",
    "            if (sorted_sim_vector[i][1]-th[i]/2) >= 0:\n",
    "                FP1 = FP1 + 1\n",
    "            else:\n",
    "                TN1 = TN1 +1"
   ]
  },
  {
   "cell_type": "code",
   "execution_count": 54,
   "metadata": {},
   "outputs": [],
   "source": [
    "listofapp = [0,1,2,3,4,5,6,7,8,9,10,11,12,13,14,15]     \n",
    "for i in range(16):\n",
    "    if th[i]!=0:\n",
    "        if i in listofapp:\n",
    "            if (sorted_sim_vector[i][1]-th[i]/4) >= 0:\n",
    "                TP2 = TP2 + 1\n",
    "            else:\n",
    "                FN2 = FN2 +1\n",
    "        else:\n",
    "            if (sorted_sim_vector[i][1]-th[i]/4) >= 0:\n",
    "                FP2 = FP2 + 1\n",
    "            else:\n",
    "                TN2 = TN2 +1"
   ]
  },
  {
   "cell_type": "code",
   "execution_count": 55,
   "metadata": {},
   "outputs": [],
   "source": [
    "listofapp = [0,1,2,3,4,5,6,7,8,9,10,11,12,13,14,15]     \n",
    "for i in range(16):\n",
    "    if th[i]!=0:\n",
    "        if i in listofapp:\n",
    "            if (sorted_sim_vector[i][1]-th[i]/8) >= 0:\n",
    "                TP3 = TP3 + 1\n",
    "            else:\n",
    "                FN3 = FN3 +1\n",
    "        else:\n",
    "            if (sorted_sim_vector[i][1]-th[i]/8) >= 0:\n",
    "                FP3 = FP3 + 1\n",
    "            else:\n",
    "                TN3 = TN3 +1"
   ]
  },
  {
   "cell_type": "markdown",
   "metadata": {},
   "source": [
    "+++++++++++++++++++++++++++++++++++++++++++++++++++++++++++++++++++++++++++++++++++++++++++++++++++++++++++++++++++++"
   ]
  },
  {
   "cell_type": "code",
   "execution_count": 56,
   "metadata": {},
   "outputs": [],
   "source": [
    "query = pd.read_csv('D:/Windows7SP1x86-disk-images-March2020/after_first_versions_run1_files.txt')\n",
    "query2=[sen.lower() for sen in query]\n",
    "query_sen = [[text for text in re.split('[/\\t]',doc)] for doc in query2]\n",
    "query_sen = [[text+'/' for text in sen] for sen in query_sen]\n",
    "query_sen=[[ subelt for subelt in elt if subelt != '/' ] for elt in query_sen] # remove '/'\n",
    "before_search=datetime.now()\n",
    "sim_vector=model.docvecs.most_similar(positive=[model.infer_vector(query_sen[0])],topn=16)\n",
    "after_search=datetime.now()\n",
    "elapsed=after_search-before_search\n",
    "elapsed_search=elapsed.total_seconds()+elapsed_search\n",
    "sorted_sim_vector = sorted(sim_vector, key=lambda tup: tup[0])#sort based on document number"
   ]
  },
  {
   "cell_type": "code",
   "execution_count": 57,
   "metadata": {},
   "outputs": [],
   "source": [
    "mycursor = mydb.cursor()\n",
    "mycursor.execute(\"update search_engine_model set distance9_1 = %s where name='P2-V2-W1-T1#1'or name='P2-V2-W1-T2#1' or name='P2-V2-W1-T3#1'\" %sorted_sim_vector[8][1])"
   ]
  },
  {
   "cell_type": "code",
   "execution_count": 58,
   "metadata": {},
   "outputs": [],
   "source": [
    "mycursor = mydb.cursor()\n",
    "mycursor.execute(\"update search_engine_model set distance11_1 = %s where name='P2-V2-W1-T1#1'or name='P2-V2-W1-T2#1' or name='P2-V2-W1-T3#1'\" %sorted_sim_vector[10][1])"
   ]
  },
  {
   "cell_type": "code",
   "execution_count": 59,
   "metadata": {},
   "outputs": [],
   "source": [
    "mycursor = mydb.cursor()\n",
    "mycursor.execute(\"update search_engine_model set distance13_1 = %s where name='P2-V2-W1-T1#1'or name='P2-V2-W1-T2#1' or name='P2-V2-W1-T3#1'\" %sorted_sim_vector[12][1])"
   ]
  },
  {
   "cell_type": "code",
   "execution_count": 60,
   "metadata": {},
   "outputs": [],
   "source": [
    "mycursor = mydb.cursor()\n",
    "mycursor.execute(\"update search_engine_model set distance15_1 = %s where name='P2-V2-W1-T1#1'or name='P2-V2-W1-T2#1' or name='P2-V2-W1-T3#1'\" %sorted_sim_vector[14][1])"
   ]
  },
  {
   "cell_type": "code",
   "execution_count": 61,
   "metadata": {},
   "outputs": [],
   "source": [
    "listofapp = [0,1,2,3,4,5,6,7,8,9,10,11,12,13,14,15]     \n",
    "for i in range(16):\n",
    "    if th[i]!=0:\n",
    "        if i in listofapp:\n",
    "            if (sorted_sim_vector[i][1]-th[i]/2) >= 0:\n",
    "                TP1 = TP1 + 1\n",
    "            else:\n",
    "                FN1 = FN1 +1\n",
    "        else:\n",
    "            if (sorted_sim_vector[i][1]-th[i]/2) >= 0:\n",
    "                FP1 = FP1 + 1\n",
    "            else:\n",
    "                TN1 = TN1 +1"
   ]
  },
  {
   "cell_type": "code",
   "execution_count": 62,
   "metadata": {},
   "outputs": [],
   "source": [
    "listofapp = [0,1,2,3,4,5,6,7,8,9,10,11,12,13,14,15]     \n",
    "for i in range(16):\n",
    "    if th[i]!=0:\n",
    "        if i in listofapp:\n",
    "            if (sorted_sim_vector[i][1]-th[i]/4) >= 0:\n",
    "                TP2 = TP2 + 1\n",
    "            else:\n",
    "                FN2 = FN2 +1\n",
    "        else:\n",
    "            if (sorted_sim_vector[i][1]-th[i]/4) >= 0:\n",
    "                FP2 = FP2 + 1\n",
    "            else:\n",
    "                TN2 = TN2 +1"
   ]
  },
  {
   "cell_type": "code",
   "execution_count": 63,
   "metadata": {},
   "outputs": [],
   "source": [
    "listofapp = [0,1,2,3,4,5,6,7,8,9,10,11,12,13,14,15]     \n",
    "for i in range(16):\n",
    "    if th[i]!=0:\n",
    "        if i in listofapp:\n",
    "            if (sorted_sim_vector[i][1]-th[i]/8) >= 0:\n",
    "                TP3 = TP3 + 1\n",
    "            else:\n",
    "                FN3 = FN3 +1\n",
    "        else:\n",
    "            if (sorted_sim_vector[i][1]-th[i]/8) >= 0:\n",
    "                FP3 = FP3 + 1\n",
    "            else:\n",
    "                TN3 = TN3 +1"
   ]
  },
  {
   "cell_type": "markdown",
   "metadata": {},
   "source": [
    "+++++++++++++++++++++++++++++++++++++++++++++++++++++++++++++++++++++++++++++++++++++++++++++++++++++++++++++++++++++"
   ]
  },
  {
   "cell_type": "code",
   "execution_count": 64,
   "metadata": {},
   "outputs": [],
   "source": [
    "query = pd.read_csv('D:/Windows7SP1x86-disk-images-March2020/after_second_versions_run1_files.txt')\n",
    "query2=[sen.lower() for sen in query]\n",
    "query_sen = [[text for text in re.split('[/\\t]',doc)] for doc in query2]\n",
    "query_sen = [[text+'/' for text in sen] for sen in query_sen]\n",
    "query_sen=[[ subelt for subelt in elt if subelt != '/' ] for elt in query_sen] # remove '/'\n",
    "before_search=datetime.now()\n",
    "sim_vector=model.docvecs.most_similar(positive=[model.infer_vector(query_sen[0])],topn=16)\n",
    "after_search=datetime.now()\n",
    "elapsed=after_search-before_search\n",
    "elapsed_search=elapsed.total_seconds()+elapsed_search\n",
    "sorted_sim_vector = sorted(sim_vector, key=lambda tup: tup[0])#sort based on document number"
   ]
  },
  {
   "cell_type": "code",
   "execution_count": 65,
   "metadata": {},
   "outputs": [],
   "source": [
    "mycursor = mydb.cursor()\n",
    "mycursor.execute(\"update search_engine_model set distance10_1 = %s where name='P2-V2-W1-T1#1'or name='P2-V2-W1-T2#1' or name='P2-V2-W1-T3#1'\" %sorted_sim_vector[9][1])"
   ]
  },
  {
   "cell_type": "code",
   "execution_count": 66,
   "metadata": {},
   "outputs": [],
   "source": [
    "mycursor = mydb.cursor()\n",
    "mycursor.execute(\"update search_engine_model set distance12_1 = %s where name='P2-V2-W1-T1#1'or name='P2-V2-W1-T2#1' or name='P2-V2-W1-T3#1'\" %sorted_sim_vector[11][1])"
   ]
  },
  {
   "cell_type": "code",
   "execution_count": 67,
   "metadata": {},
   "outputs": [],
   "source": [
    "mycursor = mydb.cursor()\n",
    "mycursor.execute(\"update search_engine_model set distance14_1 = %s where name='P2-V2-W1-T1#1'or name='P2-V2-W1-T2#1' or name='P2-V2-W1-T3#1'\" %sorted_sim_vector[13][1])"
   ]
  },
  {
   "cell_type": "code",
   "execution_count": 68,
   "metadata": {},
   "outputs": [],
   "source": [
    "mycursor = mydb.cursor()\n",
    "mycursor.execute(\"update search_engine_model set distance16_1 = %s where name='P2-V2-W1-T1#1'or name='P2-V2-W1-T2#1' or name='P2-V2-W1-T3#1'\" %sorted_sim_vector[15][1])"
   ]
  },
  {
   "cell_type": "code",
   "execution_count": 69,
   "metadata": {},
   "outputs": [],
   "source": [
    "listofapp = [0,1,2,3,4,5,6,7,8,9,10,11,12,13,14,15]     \n",
    "for i in range(16):\n",
    "    if th[i]!=0:\n",
    "        if i in listofapp:\n",
    "            if (sorted_sim_vector[i][1]-th[i]/2) >= 0:\n",
    "                TP1 = TP1 + 1\n",
    "            else:\n",
    "                FN1 = FN1 +1\n",
    "        else:\n",
    "            if (sorted_sim_vector[i][1]-th[i]/2) >= 0:\n",
    "                FP1 = FP1 + 1\n",
    "            else:\n",
    "                TN1 = TN1 +1"
   ]
  },
  {
   "cell_type": "code",
   "execution_count": 70,
   "metadata": {},
   "outputs": [],
   "source": [
    "listofapp = [0,1,2,3,4,5,6,7,8,9,10,11,12,13,14,15]     \n",
    "for i in range(16):\n",
    "    if th[i]!=0:\n",
    "        if i in listofapp:\n",
    "            if (sorted_sim_vector[i][1]-th[i]/4) >= 0:\n",
    "                TP2 = TP2 + 1\n",
    "            else:\n",
    "                FN2 = FN2 +1\n",
    "        else:\n",
    "            if (sorted_sim_vector[i][1]-th[i]/4) >= 0:\n",
    "                FP2 = FP2 + 1\n",
    "            else:\n",
    "                TN2 = TN2 +1"
   ]
  },
  {
   "cell_type": "code",
   "execution_count": 71,
   "metadata": {},
   "outputs": [],
   "source": [
    "listofapp = [0,1,2,3,4,5,6,7,8,9,10,11,12,13,14,15]     \n",
    "for i in range(16):\n",
    "    if th[i]!=0:\n",
    "        if i in listofapp:\n",
    "            if (sorted_sim_vector[i][1]-th[i]/8) >= 0:\n",
    "                TP3 = TP3 + 1\n",
    "            else:\n",
    "                FN3 = FN3 +1\n",
    "        else:\n",
    "            if (sorted_sim_vector[i][1]-th[i]/8) >= 0:\n",
    "                FP3 = FP3 + 1\n",
    "            else:\n",
    "                TN3 = TN3 +1"
   ]
  },
  {
   "cell_type": "markdown",
   "metadata": {},
   "source": [
    "+++++++++++++++++++++++++++++++++++++++++++++++++++++++++++++++++++++++++++++++++++++++++++++++++++++++++++++++++++++"
   ]
  },
  {
   "cell_type": "code",
   "execution_count": 72,
   "metadata": {},
   "outputs": [],
   "source": [
    "query = pd.read_csv('D:/WINXPSP3x86-disk-images-March2020/after_first_versions_adobe_firefox_python_files.txt')\n",
    "query2=[sen.lower() for sen in query]\n",
    "query_sen = [[text for text in re.split('[/\\t]',doc)] for doc in query2]\n",
    "query_sen = [[text+'/' for text in sen] for sen in query_sen]\n",
    "query_sen=[[ subelt for subelt in elt if subelt != '/' ] for elt in query_sen] # remove '/'\n",
    "before_search=datetime.now()\n",
    "sim_vector=model.docvecs.most_similar(positive=[model.infer_vector(query_sen[0])],topn=16)\n",
    "after_search=datetime.now()\n",
    "elapsed=after_search-before_search\n",
    "elapsed_search=elapsed.total_seconds()+elapsed_search\n",
    "sorted_sim_vector = sorted(sim_vector, key=lambda tup: tup[0])#sort based on document number"
   ]
  },
  {
   "cell_type": "code",
   "execution_count": 73,
   "metadata": {},
   "outputs": [],
   "source": [
    "mycursor = mydb.cursor()\n",
    "mycursor.execute(\"update search_engine_model set distance1_2 = %s where name='P2-V2-W1-T1#1'or name='P2-V2-W1-T2#1' or name='P2-V2-W1-T3#1'\"%sorted_sim_vector[0][1])"
   ]
  },
  {
   "cell_type": "code",
   "execution_count": 74,
   "metadata": {},
   "outputs": [],
   "source": [
    "mycursor = mydb.cursor()\n",
    "mycursor.execute(\"update search_engine_model set distance3_2 = %s where name='P2-V2-W1-T1#1'or name='P2-V2-W1-T2#1' or name='P2-V2-W1-T3#1'\"%sorted_sim_vector[2][1])"
   ]
  },
  {
   "cell_type": "code",
   "execution_count": 75,
   "metadata": {},
   "outputs": [],
   "source": [
    "mycursor = mydb.cursor()\n",
    "mycursor.execute(\"update search_engine_model set distance5_2 = %s where name='P2-V2-W1-T1#1'or name='P2-V2-W1-T2#1' or name='P2-V2-W1-T3#1'\"%sorted_sim_vector[4][1])"
   ]
  },
  {
   "cell_type": "code",
   "execution_count": 76,
   "metadata": {},
   "outputs": [],
   "source": [
    "listofapp = [0,1,2,3,4,5,8,9,10,11,12,13]     \n",
    "for i in range(16):\n",
    "    if th[i]!=0:\n",
    "        if i in listofapp:\n",
    "            if (sorted_sim_vector[i][1]-th[i]/2) >= 0:\n",
    "                TP1 = TP1 + 1\n",
    "            else:\n",
    "                FN1 = FN1 +1\n",
    "        else:\n",
    "            if (sorted_sim_vector[i][1]-th[i]/2) >= 0:\n",
    "                FP1 = FP1 + 1\n",
    "            else:\n",
    "                TN1 = TN1 +1"
   ]
  },
  {
   "cell_type": "code",
   "execution_count": 77,
   "metadata": {},
   "outputs": [],
   "source": [
    "listofapp = [0,1,2,3,4,5,8,9,10,11,12,13]     \n",
    "for i in range(16):\n",
    "    if th[i]!=0:\n",
    "        if i in listofapp:\n",
    "            if (sorted_sim_vector[i][1]-th[i]/4) >= 0:\n",
    "                TP2 = TP2 + 1\n",
    "            else:\n",
    "                FN2 = FN2 +1\n",
    "        else:\n",
    "            if (sorted_sim_vector[i][1]-th[i]/4) >= 0:\n",
    "                FP2 = FP2 + 1\n",
    "            else:\n",
    "                TN2 = TN2 +1"
   ]
  },
  {
   "cell_type": "code",
   "execution_count": 78,
   "metadata": {},
   "outputs": [],
   "source": [
    "listofapp = [0,1,2,3,4,5,8,9,10,11,12,13]     \n",
    "for i in range(16):\n",
    "    if th[i]!=0:\n",
    "        if i in listofapp:\n",
    "            if (sorted_sim_vector[i][1]-th[i]/8) >= 0:\n",
    "                TP3 = TP3 + 1\n",
    "            else:\n",
    "                FN3 = FN3 +1\n",
    "        else:\n",
    "            if (sorted_sim_vector[i][1]-th[i]/8) >= 0:\n",
    "                FP3 = FP3 + 1\n",
    "            else:\n",
    "                TN3 = TN3 +1"
   ]
  },
  {
   "cell_type": "markdown",
   "metadata": {},
   "source": [
    "+++++++++++++++++++++++++++++++++++++++++++++++++++++++++++++++++++++++++++++++++++++++++++++++++++++++++++++++++++++"
   ]
  },
  {
   "cell_type": "code",
   "execution_count": 79,
   "metadata": {},
   "outputs": [],
   "source": [
    "query = pd.read_csv('D:/WINXPSP3x86-disk-images-March2020/after_first_versions_firefox_python_word_files.txt')\n",
    "query2=[sen.lower() for sen in query]\n",
    "query_sen = [[text for text in re.split('[/\\t]',doc)] for doc in query2]\n",
    "query_sen = [[text+'/' for text in sen] for sen in query_sen]\n",
    "query_sen=[[ subelt for subelt in elt if subelt != '/' ] for elt in query_sen] # remove '/'\n",
    "before_search=datetime.now()\n",
    "sim_vector=model.docvecs.most_similar(positive=[model.infer_vector(query_sen[0])],topn=16)\n",
    "after_search=datetime.now()\n",
    "elapsed=after_search-before_search\n",
    "elapsed_search=elapsed.total_seconds()+elapsed_search\n",
    "sorted_sim_vector = sorted(sim_vector, key=lambda tup: tup[0])#sort based on document number"
   ]
  },
  {
   "cell_type": "code",
   "execution_count": 80,
   "metadata": {},
   "outputs": [],
   "source": [
    "mycursor = mydb.cursor()\n",
    "mycursor.execute(\"update search_engine_model set distance3_3 = %s where name='P2-V2-W1-T1#1'or name='P2-V2-W1-T2#1' or name='P2-V2-W1-T3#1'\"%sorted_sim_vector[2][1])"
   ]
  },
  {
   "cell_type": "code",
   "execution_count": 81,
   "metadata": {},
   "outputs": [],
   "source": [
    "mycursor = mydb.cursor()\n",
    "mycursor.execute(\"update search_engine_model set distance5_3 = %s where name='P2-V2-W1-T1#1'or name='P2-V2-W1-T2#1' or name='P2-V2-W1-T3#1'\"%sorted_sim_vector[4][1])"
   ]
  },
  {
   "cell_type": "code",
   "execution_count": 82,
   "metadata": {},
   "outputs": [],
   "source": [
    "mycursor = mydb.cursor()\n",
    "mycursor.execute(\"update search_engine_model set distance7_2 = %s where name='P2-V2-W1-T1#1'or name='P2-V2-W1-T2#1' or name='P2-V2-W1-T3#1'\"%sorted_sim_vector[6][1])"
   ]
  },
  {
   "cell_type": "code",
   "execution_count": 83,
   "metadata": {},
   "outputs": [],
   "source": [
    "listofapp = [2,3,4,5,6,7,10,11,12,13,14,15]     \n",
    "for i in range(16):\n",
    "    if th[i]!=0:\n",
    "        if i in listofapp:\n",
    "            if (sorted_sim_vector[i][1]-th[i]/2) >= 0:\n",
    "                TP1 = TP1 + 1\n",
    "            else:\n",
    "                FN1 = FN1 +1\n",
    "        else:\n",
    "            if (sorted_sim_vector[i][1]-th[i]/2) >= 0:\n",
    "                FP1 = FP1 + 1\n",
    "            else:\n",
    "                TN1 = TN1 +1"
   ]
  },
  {
   "cell_type": "code",
   "execution_count": 84,
   "metadata": {},
   "outputs": [],
   "source": [
    "listofapp = [2,3,4,5,6,7,10,11,12,13,14,15]     \n",
    "for i in range(16):\n",
    "    if th[i]!=0:\n",
    "        if i in listofapp:\n",
    "            if (sorted_sim_vector[i][1]-th[i]/4) >= 0:\n",
    "                TP2 = TP2 + 1\n",
    "            else:\n",
    "                FN2 = FN2 +1\n",
    "        else:\n",
    "            if (sorted_sim_vector[i][1]-th[i]/4) >= 0:\n",
    "                FP2 = FP2 + 1\n",
    "            else:\n",
    "                TN2 = TN2 +1"
   ]
  },
  {
   "cell_type": "code",
   "execution_count": 85,
   "metadata": {},
   "outputs": [],
   "source": [
    "listofapp = [2,3,4,5,6,7,10,11,12,13,14,15]     \n",
    "for i in range(16):\n",
    "    if th[i]!=0:\n",
    "        if i in listofapp:\n",
    "            if (sorted_sim_vector[i][1]-th[i]/8) >= 0:\n",
    "                TP3 = TP3 + 1\n",
    "            else:\n",
    "                FN3 = FN3 +1\n",
    "        else:\n",
    "            if (sorted_sim_vector[i][1]-th[i]/8) >= 0:\n",
    "                FP3 = FP3 + 1\n",
    "            else:\n",
    "                TN3 = TN3 +1"
   ]
  },
  {
   "cell_type": "markdown",
   "metadata": {},
   "source": [
    "+++++++++++++++++++++++++++++++++++++++++++++++++++++++++++++++++++++++++++++++++++++++++++++++++++++++++++++++++++++"
   ]
  },
  {
   "cell_type": "code",
   "execution_count": 86,
   "metadata": {},
   "outputs": [],
   "source": [
    "query = pd.read_csv('D:/WINXPSP3x86-disk-images-March2020/after_first_versions_python_word_adobe_files.txt')\n",
    "query2=[sen.lower() for sen in query]\n",
    "query_sen = [[text for text in re.split('[/\\t]',doc)] for doc in query2]\n",
    "query_sen = [[text+'/' for text in sen] for sen in query_sen]\n",
    "query_sen=[[ subelt for subelt in elt if subelt != '/' ] for elt in query_sen] # remove '/'\n",
    "before_search=datetime.now()\n",
    "sim_vector=model.docvecs.most_similar(positive=[model.infer_vector(query_sen[0])],topn=16)\n",
    "after_search=datetime.now()\n",
    "elapsed=after_search-before_search\n",
    "elapsed_search=elapsed.total_seconds()+elapsed_search\n",
    "sorted_sim_vector = sorted(sim_vector, key=lambda tup: tup[0])#sort based on document number"
   ]
  },
  {
   "cell_type": "code",
   "execution_count": 87,
   "metadata": {},
   "outputs": [],
   "source": [
    "mycursor = mydb.cursor()\n",
    "mycursor.execute(\"update search_engine_model set distance1_3 = %s where name='P2-V2-W1-T1#1'or name='P2-V2-W1-T2#1' or name='P2-V2-W1-T3#1'\"%sorted_sim_vector[0][1])"
   ]
  },
  {
   "cell_type": "code",
   "execution_count": 88,
   "metadata": {},
   "outputs": [],
   "source": [
    "mycursor = mydb.cursor()\n",
    "mycursor.execute(\"update search_engine_model set distance5_4 = %s where name='P2-V2-W1-T1#1'or name='P2-V2-W1-T2#1' or name='P2-V2-W1-T3#1'\"%sorted_sim_vector[4][1])"
   ]
  },
  {
   "cell_type": "code",
   "execution_count": 89,
   "metadata": {},
   "outputs": [],
   "source": [
    "mycursor = mydb.cursor()\n",
    "mycursor.execute(\"update search_engine_model set distance7_3 = %s where name='P2-V2-W1-T1#1'or name='P2-V2-W1-T2#1' or name='P2-V2-W1-T3#1'\"%sorted_sim_vector[6][1])"
   ]
  },
  {
   "cell_type": "code",
   "execution_count": 90,
   "metadata": {},
   "outputs": [],
   "source": [
    "listofapp = [0,1,4,5,6,7,8,9,12,13,14,15]     \n",
    "for i in range(16):\n",
    "    if th[i]!=0:\n",
    "        if i in listofapp:\n",
    "            if (sorted_sim_vector[i][1]-th[i]/2) >= 0:\n",
    "                TP1 = TP1 + 1\n",
    "            else:\n",
    "                FN1 = FN1 +1\n",
    "        else:\n",
    "            if (sorted_sim_vector[i][1]-th[i]/2) >= 0:\n",
    "                FP1 = FP1 + 1\n",
    "            else:\n",
    "                TN1 = TN1 +1"
   ]
  },
  {
   "cell_type": "code",
   "execution_count": 91,
   "metadata": {},
   "outputs": [],
   "source": [
    "listofapp = [0,1,4,5,6,7,8,9,12,13,14,15]     \n",
    "for i in range(16):\n",
    "    if th[i]!=0:\n",
    "        if i in listofapp:\n",
    "            if (sorted_sim_vector[i][1]-th[i]/4) >= 0:\n",
    "                TP2 = TP2 + 1\n",
    "            else:\n",
    "                FN2 = FN2 +1\n",
    "        else:\n",
    "            if (sorted_sim_vector[i][1]-th[i]/4) >= 0:\n",
    "                FP2 = FP2 + 1\n",
    "            else:\n",
    "                TN2 = TN2 +1"
   ]
  },
  {
   "cell_type": "code",
   "execution_count": 92,
   "metadata": {},
   "outputs": [],
   "source": [
    "listofapp = [0,1,4,5,6,7,8,9,12,13,14,15]     \n",
    "for i in range(16):\n",
    "    if th[i]!=0:\n",
    "        if i in listofapp:\n",
    "            if (sorted_sim_vector[i][1]-th[i]/8) >= 0:\n",
    "                TP3 = TP3 + 1\n",
    "            else:\n",
    "                FN3 = FN3 +1\n",
    "        else:\n",
    "            if (sorted_sim_vector[i][1]-th[i]/8) >= 0:\n",
    "                FP3 = FP3 + 1\n",
    "            else:\n",
    "                TN3 = TN3 +1"
   ]
  },
  {
   "cell_type": "markdown",
   "metadata": {},
   "source": [
    "+++++++++++++++++++++++++++++++++++++++++++++++++++++++++++++++++++++++++++++++++++++++++++++++++++++++++++++++++++++"
   ]
  },
  {
   "cell_type": "code",
   "execution_count": 93,
   "metadata": {},
   "outputs": [],
   "source": [
    "query = pd.read_csv('D:/WINXPSP3x86-disk-images-March2020/after_first_versions_word_adobe_firefox_files.txt')\n",
    "query2=[sen.lower() for sen in query]\n",
    "query_sen = [[text for text in re.split('[/\\t]',doc)] for doc in query2]\n",
    "query_sen = [[text+'/' for text in sen] for sen in query_sen]\n",
    "query_sen=[[ subelt for subelt in elt if subelt != '/' ] for elt in query_sen] # remove '/'\n",
    "before_search=datetime.now()\n",
    "sim_vector=model.docvecs.most_similar(positive=[model.infer_vector(query_sen[0])],topn=16)\n",
    "after_search=datetime.now()\n",
    "elapsed=after_search-before_search\n",
    "elapsed_search=elapsed.total_seconds()+elapsed_search\n",
    "sorted_sim_vector = sorted(sim_vector, key=lambda tup: tup[0])#sort based on document number"
   ]
  },
  {
   "cell_type": "code",
   "execution_count": 94,
   "metadata": {},
   "outputs": [],
   "source": [
    "mycursor = mydb.cursor()\n",
    "mycursor.execute(\"update search_engine_model set distance1_4 = %s where name='P2-V2-W1-T1#1'or name='P2-V2-W1-T2#1' or name='P2-V2-W1-T3#1'\"%sorted_sim_vector[0][1])"
   ]
  },
  {
   "cell_type": "code",
   "execution_count": 95,
   "metadata": {},
   "outputs": [],
   "source": [
    "mycursor = mydb.cursor()\n",
    "mycursor.execute(\"update search_engine_model set distance3_4 = %s where name='P2-V2-W1-T1#1'or name='P2-V2-W1-T2#1' or name='P2-V2-W1-T3#1'\"%sorted_sim_vector[2][1])"
   ]
  },
  {
   "cell_type": "code",
   "execution_count": 96,
   "metadata": {},
   "outputs": [],
   "source": [
    "mycursor = mydb.cursor()\n",
    "mycursor.execute(\"update search_engine_model set distance7_4 = %s where name='P2-V2-W1-T1#1'or name='P2-V2-W1-T2#1' or name='P2-V2-W1-T3#1'\"%sorted_sim_vector[6][1])"
   ]
  },
  {
   "cell_type": "code",
   "execution_count": 97,
   "metadata": {},
   "outputs": [],
   "source": [
    "listofapp = [0,1,2,3,6,7,8,9,10,11,14,15]    \n",
    "for i in range(16):\n",
    "    if th[i]!=0:\n",
    "        if i in listofapp:\n",
    "            if (sorted_sim_vector[i][1]-th[i]/2) >= 0:\n",
    "                TP1 = TP1 + 1\n",
    "            else:\n",
    "                FN1 = FN1 +1\n",
    "        else:\n",
    "            if (sorted_sim_vector[i][1]-th[i]/2) >= 0:\n",
    "                FP1 = FP1 + 1\n",
    "            else:\n",
    "                TN1 = TN1 +1"
   ]
  },
  {
   "cell_type": "code",
   "execution_count": 98,
   "metadata": {},
   "outputs": [],
   "source": [
    "listofapp = [0,1,2,3,6,7,8,9,10,11,14,15]    \n",
    "for i in range(16):\n",
    "    if th[i]!=0:\n",
    "        if i in listofapp:\n",
    "            if (sorted_sim_vector[i][1]-th[i]/4) >= 0:\n",
    "                TP2 = TP2 + 1\n",
    "            else:\n",
    "                FN2 = FN2 +1\n",
    "        else:\n",
    "            if (sorted_sim_vector[i][1]-th[i]/4) >= 0:\n",
    "                FP2 = FP2 + 1\n",
    "            else:\n",
    "                TN2 = TN2 +1"
   ]
  },
  {
   "cell_type": "code",
   "execution_count": 99,
   "metadata": {},
   "outputs": [],
   "source": [
    "listofapp = [0,1,2,3,6,7,8,9,10,11,14,15]     \n",
    "for i in range(16):\n",
    "    if th[i]!=0:\n",
    "        if i in listofapp:\n",
    "            if (sorted_sim_vector[i][1]-th[i]/8) >= 0:\n",
    "                TP3 = TP3 + 1\n",
    "            else:\n",
    "                FN3 = FN3 +1\n",
    "        else:\n",
    "            if (sorted_sim_vector[i][1]-th[i]/8) >= 0:\n",
    "                FP3 = FP3 + 1\n",
    "            else:\n",
    "                TN3 = TN3 +1"
   ]
  },
  {
   "cell_type": "markdown",
   "metadata": {},
   "source": [
    "+++++++++++++++++++++++++++++++++++++++++++++++++++++++++++++++++++++++++++++++++++++++++++++++++++++++++++++++++++++"
   ]
  },
  {
   "cell_type": "code",
   "execution_count": 100,
   "metadata": {},
   "outputs": [],
   "source": [
    "query = pd.read_csv('D:/WINXPSP3x86-disk-images-March2020/after_second_versions_adobe_firefox_python_files.txt')\n",
    "query2=[sen.lower() for sen in query]\n",
    "query_sen = [[text for text in re.split('[/\\t]',doc)] for doc in query2]\n",
    "query_sen = [[text+'/' for text in sen] for sen in query_sen]\n",
    "query_sen=[[ subelt for subelt in elt if subelt != '/' ] for elt in query_sen] # remove '/'\n",
    "before_search=datetime.now()\n",
    "sim_vector=model.docvecs.most_similar(positive=[model.infer_vector(query_sen[0])],topn=16)\n",
    "after_search=datetime.now()\n",
    "elapsed=after_search-before_search\n",
    "elapsed_search=elapsed.total_seconds()+elapsed_search\n",
    "sorted_sim_vector = sorted(sim_vector, key=lambda tup: tup[0])#sort based on document number"
   ]
  },
  {
   "cell_type": "code",
   "execution_count": 101,
   "metadata": {},
   "outputs": [],
   "source": [
    "mycursor = mydb.cursor()\n",
    "mycursor.execute(\"update search_engine_model set distance2_2 = %s where name='P2-V2-W1-T1#1'or name='P2-V2-W1-T2#1' or name='P2-V2-W1-T3#1'\"%sorted_sim_vector[1][1])"
   ]
  },
  {
   "cell_type": "code",
   "execution_count": 102,
   "metadata": {},
   "outputs": [],
   "source": [
    "mycursor = mydb.cursor()\n",
    "mycursor.execute(\"update search_engine_model set distance4_2 = %s where name='P2-V2-W1-T1#1'or name='P2-V2-W1-T2#1' or name='P2-V2-W1-T3#1'\"%sorted_sim_vector[3][1])"
   ]
  },
  {
   "cell_type": "code",
   "execution_count": 103,
   "metadata": {},
   "outputs": [],
   "source": [
    "mycursor = mydb.cursor()\n",
    "mycursor.execute(\"update search_engine_model set distance6_2 = %s where name='P2-V2-W1-T1#1'or name='P2-V2-W1-T2#1' or name='P2-V2-W1-T3#1'\"%sorted_sim_vector[5][1])"
   ]
  },
  {
   "cell_type": "code",
   "execution_count": 104,
   "metadata": {},
   "outputs": [],
   "source": [
    "listofapp = [0,1,2,3,4,5,8,9,10,11,12,13]    \n",
    "for i in range(16):\n",
    "    if th[i]!=0:\n",
    "        if i in listofapp:\n",
    "            if (sorted_sim_vector[i][1]-th[i]/2) >= 0:\n",
    "                TP1 = TP1 + 1\n",
    "            else:\n",
    "                FN1 = FN1 +1\n",
    "        else:\n",
    "            if (sorted_sim_vector[i][1]-th[i]/2) >= 0:\n",
    "                FP1 = FP1 + 1\n",
    "            else:\n",
    "                TN1 = TN1 +1"
   ]
  },
  {
   "cell_type": "code",
   "execution_count": 105,
   "metadata": {},
   "outputs": [],
   "source": [
    "listofapp = [0,1,2,3,4,5,8,9,10,11,12,13]    \n",
    "for i in range(16):\n",
    "    if th[i]!=0:\n",
    "        if i in listofapp:\n",
    "            if (sorted_sim_vector[i][1]-th[i]/4) >= 0:\n",
    "                TP2 = TP2 + 1\n",
    "            else:\n",
    "                FN2 = FN2 +1\n",
    "        else:\n",
    "            if (sorted_sim_vector[i][1]-th[i]/4) >= 0:\n",
    "                FP2 = FP2 + 1\n",
    "            else:\n",
    "                TN2 = TN2 +1"
   ]
  },
  {
   "cell_type": "code",
   "execution_count": 106,
   "metadata": {},
   "outputs": [],
   "source": [
    "listofapp = [0,1,2,3,4,5,8,9,10,11,12,13]     \n",
    "for i in range(16):\n",
    "    if th[i]!=0:\n",
    "        if i in listofapp:\n",
    "            if (sorted_sim_vector[i][1]-th[i]/8) >= 0:\n",
    "                TP3 = TP3 + 1\n",
    "            else:\n",
    "                FN3 = FN3 +1\n",
    "        else:\n",
    "            if (sorted_sim_vector[i][1]-th[i]/8) >= 0:\n",
    "                FP3 = FP3 + 1\n",
    "            else:\n",
    "                TN3 = TN3 +1"
   ]
  },
  {
   "cell_type": "markdown",
   "metadata": {},
   "source": [
    "+++++++++++++++++++++++++++++++++++++++++++++++++++++++++++++++++++++++++++++++++++++++++++++++++++++++++++++++++++++"
   ]
  },
  {
   "cell_type": "code",
   "execution_count": 107,
   "metadata": {},
   "outputs": [],
   "source": [
    "query = pd.read_csv('D:/WINXPSP3x86-disk-images-March2020/after_second_versions_firefox_python_word_files.txt')\n",
    "query2=[sen.lower() for sen in query]\n",
    "query_sen = [[text for text in re.split('[/\\t]',doc)] for doc in query2]\n",
    "query_sen = [[text+'/' for text in sen] for sen in query_sen]\n",
    "query_sen=[[ subelt for subelt in elt if subelt != '/' ] for elt in query_sen] # remove '/'\n",
    "before_search=datetime.now()\n",
    "sim_vector=model.docvecs.most_similar(positive=[model.infer_vector(query_sen[0])],topn=16)\n",
    "after_search=datetime.now()\n",
    "elapsed=after_search-before_search\n",
    "elapsed_search=elapsed.total_seconds()+elapsed_search\n",
    "sorted_sim_vector = sorted(sim_vector, key=lambda tup: tup[0])#sort based on document number"
   ]
  },
  {
   "cell_type": "code",
   "execution_count": 108,
   "metadata": {},
   "outputs": [],
   "source": [
    "mycursor = mydb.cursor()\n",
    "mycursor.execute(\"update search_engine_model set distance4_3 = %s where name='P2-V2-W1-T1#1'or name='P2-V2-W1-T2#1' or name='P2-V2-W1-T3#1'\"%sorted_sim_vector[3][1])"
   ]
  },
  {
   "cell_type": "code",
   "execution_count": 109,
   "metadata": {},
   "outputs": [],
   "source": [
    "mycursor = mydb.cursor()\n",
    "mycursor.execute(\"update search_engine_model set distance6_3 = %s where name='P2-V2-W1-T1#1'or name='P2-V2-W1-T2#1' or name='P2-V2-W1-T3#1'\"%sorted_sim_vector[5][1])"
   ]
  },
  {
   "cell_type": "code",
   "execution_count": 110,
   "metadata": {},
   "outputs": [],
   "source": [
    "mycursor = mydb.cursor()\n",
    "mycursor.execute(\"update search_engine_model set distance8_2 = %s where name='P2-V2-W1-T1#1'or name='P2-V2-W1-T2#1' or name='P2-V2-W1-T3#1'\"%sorted_sim_vector[7][1])"
   ]
  },
  {
   "cell_type": "code",
   "execution_count": 111,
   "metadata": {},
   "outputs": [],
   "source": [
    "listofapp = [2,3,4,5,6,7,10,11,12,13,14,15]     \n",
    "for i in range(16):\n",
    "    if th[i]!=0:\n",
    "        if i in listofapp:\n",
    "            if (sorted_sim_vector[i][1]-th[i]/2) >= 0:\n",
    "                TP1 = TP1 + 1\n",
    "            else:\n",
    "                FN1 = FN1 +1\n",
    "        else:\n",
    "            if (sorted_sim_vector[i][1]-th[i]/2) >= 0:\n",
    "                FP1 = FP1 + 1\n",
    "            else:\n",
    "                TN1 = TN1 +1"
   ]
  },
  {
   "cell_type": "code",
   "execution_count": 112,
   "metadata": {},
   "outputs": [],
   "source": [
    "listofapp = [2,3,4,5,6,7,10,11,12,13,14,15]        \n",
    "for i in range(16):\n",
    "    if th[i]!=0:\n",
    "        if i in listofapp:\n",
    "            if (sorted_sim_vector[i][1]-th[i]/4) >= 0:\n",
    "                TP2 = TP2 + 1\n",
    "            else:\n",
    "                FN2 = FN2 +1\n",
    "        else:\n",
    "            if (sorted_sim_vector[i][1]-th[i]/4) >= 0:\n",
    "                FP2 = FP2 + 1\n",
    "            else:\n",
    "                TN2 = TN2 +1"
   ]
  },
  {
   "cell_type": "code",
   "execution_count": 113,
   "metadata": {},
   "outputs": [],
   "source": [
    "listofapp = [2,3,4,5,6,7,10,11,12,13,14,15]     \n",
    "for i in range(16):\n",
    "    if th[i]!=0:\n",
    "        if i in listofapp:\n",
    "            if (sorted_sim_vector[i][1]-th[i]/8) >= 0:\n",
    "                TP3 = TP3 + 1\n",
    "            else:\n",
    "                FN3 = FN3 +1\n",
    "        else:\n",
    "            if (sorted_sim_vector[i][1]-th[i]/8) >= 0:\n",
    "                FP3 = FP3 + 1\n",
    "            else:\n",
    "                TN3 = TN3 +1"
   ]
  },
  {
   "cell_type": "markdown",
   "metadata": {},
   "source": [
    "+++++++++++++++++++++++++++++++++++++++++++++++++++++++++++++++++++++++++++++++++++++++++++++++++++++++++++++++++++++"
   ]
  },
  {
   "cell_type": "code",
   "execution_count": 114,
   "metadata": {},
   "outputs": [],
   "source": [
    "query = pd.read_csv('D:/WINXPSP3x86-disk-images-March2020/after_second_versions_python_word_adobe_files.txt')\n",
    "query2=[sen.lower() for sen in query]\n",
    "query_sen = [[text for text in re.split('[/\\t]',doc)] for doc in query2]\n",
    "query_sen = [[text+'/' for text in sen] for sen in query_sen]\n",
    "query_sen=[[ subelt for subelt in elt if subelt != '/' ] for elt in query_sen] # remove '/'\n",
    "before_search=datetime.now()\n",
    "sim_vector=model.docvecs.most_similar(positive=[model.infer_vector(query_sen[0])],topn=16)\n",
    "after_search=datetime.now()\n",
    "elapsed=after_search-before_search\n",
    "elapsed_search=elapsed.total_seconds()+elapsed_search\n",
    "sorted_sim_vector = sorted(sim_vector, key=lambda tup: tup[0])#sort based on document number"
   ]
  },
  {
   "cell_type": "code",
   "execution_count": 115,
   "metadata": {},
   "outputs": [],
   "source": [
    "mycursor = mydb.cursor()\n",
    "mycursor.execute(\"update search_engine_model set distance2_3 = %s where name='P2-V2-W1-T1#1'or name='P2-V2-W1-T2#1' or name='P2-V2-W1-T3#1'\"%sorted_sim_vector[1][1])"
   ]
  },
  {
   "cell_type": "code",
   "execution_count": 116,
   "metadata": {},
   "outputs": [],
   "source": [
    "mycursor = mydb.cursor()\n",
    "mycursor.execute(\"update search_engine_model set distance6_4 = %s where name='P2-V2-W1-T1#1'or name='P2-V2-W1-T2#1' or name='P2-V2-W1-T3#1'\"%sorted_sim_vector[5][1])"
   ]
  },
  {
   "cell_type": "code",
   "execution_count": 117,
   "metadata": {},
   "outputs": [],
   "source": [
    "mycursor = mydb.cursor()\n",
    "mycursor.execute(\"update search_engine_model set distance8_3 = %s where name='P2-V2-W1-T1#1'or name='P2-V2-W1-T2#1' or name='P2-V2-W1-T3#1'\"%sorted_sim_vector[7][1])"
   ]
  },
  {
   "cell_type": "code",
   "execution_count": 118,
   "metadata": {},
   "outputs": [],
   "source": [
    "listofapp = [0,1,4,5,6,7,8,9,12,13,14,15]     \n",
    "for i in range(16):\n",
    "    if th[i]!=0:\n",
    "        if i in listofapp:\n",
    "            if (sorted_sim_vector[i][1]-th[i]/2) >= 0:\n",
    "                TP1 = TP1 + 1\n",
    "            else:\n",
    "                FN1 = FN1 +1\n",
    "        else:\n",
    "            if (sorted_sim_vector[i][1]-th[i]/2) >= 0:\n",
    "                FP1 = FP1 + 1\n",
    "            else:\n",
    "                TN1 = TN1 +1"
   ]
  },
  {
   "cell_type": "code",
   "execution_count": 119,
   "metadata": {},
   "outputs": [],
   "source": [
    "listofapp = [0,1,4,5,6,7,8,9,12,13,14,15]      \n",
    "for i in range(16):\n",
    "    if th[i]!=0:\n",
    "        if i in listofapp:\n",
    "            if (sorted_sim_vector[i][1]-th[i]/4) >= 0:\n",
    "                TP2 = TP2 + 1\n",
    "            else:\n",
    "                FN2 = FN2 +1\n",
    "        else:\n",
    "            if (sorted_sim_vector[i][1]-th[i]/4) >= 0:\n",
    "                FP2 = FP2 + 1\n",
    "            else:\n",
    "                TN2 = TN2 +1"
   ]
  },
  {
   "cell_type": "code",
   "execution_count": 120,
   "metadata": {},
   "outputs": [],
   "source": [
    "listofapp = [0,1,4,5,6,7,8,9,12,13,14,15]     \n",
    "for i in range(16):\n",
    "    if th[i]!=0:\n",
    "        if i in listofapp:\n",
    "            if (sorted_sim_vector[i][1]-th[i]/8) >= 0:\n",
    "                TP3 = TP3 + 1\n",
    "            else:\n",
    "                FN3 = FN3 +1\n",
    "        else:\n",
    "            if (sorted_sim_vector[i][1]-th[i]/8) >= 0:\n",
    "                FP3 = FP3 + 1\n",
    "            else:\n",
    "                TN3 = TN3 +1"
   ]
  },
  {
   "cell_type": "markdown",
   "metadata": {},
   "source": [
    "+++++++++++++++++++++++++++++++++++++++++++++++++++++++++++++++++++++++++++++++++++++++++++++++++++++++++++++++++++++"
   ]
  },
  {
   "cell_type": "code",
   "execution_count": 121,
   "metadata": {},
   "outputs": [],
   "source": [
    "query = pd.read_csv('D:/WINXPSP3x86-disk-images-March2020/after_second_versions_word_adobe_firefox_files.txt')\n",
    "query2=[sen.lower() for sen in query]\n",
    "query_sen = [[text for text in re.split('[/\\t]',doc)] for doc in query2]\n",
    "query_sen = [[text+'/' for text in sen] for sen in query_sen]\n",
    "query_sen=[[ subelt for subelt in elt if subelt != '/' ] for elt in query_sen] # remove '/'\n",
    "before_search=datetime.now()\n",
    "sim_vector=model.docvecs.most_similar(positive=[model.infer_vector(query_sen[0])],topn=16)\n",
    "after_search=datetime.now()\n",
    "elapsed=after_search-before_search\n",
    "elapsed_search=elapsed.total_seconds()+elapsed_search\n",
    "sorted_sim_vector = sorted(sim_vector, key=lambda tup: tup[0])#sort based on document number"
   ]
  },
  {
   "cell_type": "code",
   "execution_count": 122,
   "metadata": {},
   "outputs": [],
   "source": [
    "mycursor = mydb.cursor()\n",
    "mycursor.execute(\"update search_engine_model set distance2_4 = %s where name='P2-V2-W1-T1#1'or name='P2-V2-W1-T2#1' or name='P2-V2-W1-T3#1'\"%sorted_sim_vector[1][1])"
   ]
  },
  {
   "cell_type": "code",
   "execution_count": 123,
   "metadata": {},
   "outputs": [],
   "source": [
    "mycursor = mydb.cursor()\n",
    "mycursor.execute(\"update search_engine_model set distance4_4 = %s where name='P2-V2-W1-T1#1'or name='P2-V2-W1-T2#1' or name='P2-V2-W1-T3#1'\"%sorted_sim_vector[3][1])"
   ]
  },
  {
   "cell_type": "code",
   "execution_count": 124,
   "metadata": {},
   "outputs": [],
   "source": [
    "mycursor = mydb.cursor()\n",
    "mycursor.execute(\"update search_engine_model set distance8_4 = %s where name='P2-V2-W1-T1#1'or name='P2-V2-W1-T2#1' or name='P2-V2-W1-T3#1'\"%sorted_sim_vector[7][1])"
   ]
  },
  {
   "cell_type": "code",
   "execution_count": 125,
   "metadata": {},
   "outputs": [],
   "source": [
    "listofapp = [0,1,2,3,6,7,8,9,10,11,14,15]    \n",
    "for i in range(16):\n",
    "    if th[i]!=0:\n",
    "        if i in listofapp:\n",
    "            if (sorted_sim_vector[i][1]-th[i]/2) >= 0:\n",
    "                TP1 = TP1 + 1\n",
    "            else:\n",
    "                FN1 = FN1 +1\n",
    "        else:\n",
    "            if (sorted_sim_vector[i][1]-th[i]/2) >= 0:\n",
    "                FP1 = FP1 + 1\n",
    "            else:\n",
    "                TN1 = TN1 +1"
   ]
  },
  {
   "cell_type": "code",
   "execution_count": 126,
   "metadata": {},
   "outputs": [],
   "source": [
    "listofapp = [0,1,2,3,6,7,8,9,10,11,14,15]     \n",
    "for i in range(16):\n",
    "    if th[i]!=0:\n",
    "        if i in listofapp:\n",
    "            if (sorted_sim_vector[i][1]-th[i]/4) >= 0:\n",
    "                TP2 = TP2 + 1\n",
    "            else:\n",
    "                FN2 = FN2 +1\n",
    "        else:\n",
    "            if (sorted_sim_vector[i][1]-th[i]/4) >= 0:\n",
    "                FP2 = FP2 + 1\n",
    "            else:\n",
    "                TN2 = TN2 +1"
   ]
  },
  {
   "cell_type": "code",
   "execution_count": 127,
   "metadata": {},
   "outputs": [],
   "source": [
    "listofapp = [0,1,2,3,6,7,8,9,10,11,14,15]     \n",
    "for i in range(16):\n",
    "    if th[i]!=0:\n",
    "        if i in listofapp:\n",
    "            if (sorted_sim_vector[i][1]-th[i]/8) >= 0:\n",
    "                TP3 = TP3 + 1\n",
    "            else:\n",
    "                FN3 = FN3 +1\n",
    "        else:\n",
    "            if (sorted_sim_vector[i][1]-th[i]/8) >= 0:\n",
    "                FP3 = FP3 + 1\n",
    "            else:\n",
    "                TN3 = TN3 +1"
   ]
  },
  {
   "cell_type": "markdown",
   "metadata": {},
   "source": [
    "+++++++++++++++++++++++++++++++++++++++++++++++++++++++++++++++++++++++++++++++++++++++++++++++++++++++++++++++++++++"
   ]
  },
  {
   "cell_type": "code",
   "execution_count": 128,
   "metadata": {},
   "outputs": [],
   "source": [
    "query = pd.read_csv('D:/Windows7SP1x86-disk-images-March2020/after_first_versions_adobe_firefox_python_files.txt')\n",
    "query2=[sen.lower() for sen in query]\n",
    "query_sen = [[text for text in re.split('[/\\t]',doc)] for doc in query2]\n",
    "query_sen = [[text+'/' for text in sen] for sen in query_sen]\n",
    "query_sen=[[ subelt for subelt in elt if subelt != '/' ] for elt in query_sen] # remove '/'\n",
    "before_search=datetime.now()\n",
    "sim_vector=model.docvecs.most_similar(positive=[model.infer_vector(query_sen[0])],topn=16)\n",
    "after_search=datetime.now()\n",
    "elapsed=after_search-before_search\n",
    "elapsed_search=elapsed.total_seconds()+elapsed_search\n",
    "sorted_sim_vector = sorted(sim_vector, key=lambda tup: tup[0])#sort based on document number"
   ]
  },
  {
   "cell_type": "code",
   "execution_count": 129,
   "metadata": {},
   "outputs": [],
   "source": [
    "mycursor = mydb.cursor()\n",
    "mycursor.execute(\"update search_engine_model set distance9_2 = %s where name='P2-V2-W1-T1#1'or name='P2-V2-W1-T2#1' or name='P2-V2-W1-T3#1'\"%sorted_sim_vector[8][1])"
   ]
  },
  {
   "cell_type": "code",
   "execution_count": 130,
   "metadata": {},
   "outputs": [],
   "source": [
    "mycursor = mydb.cursor()\n",
    "mycursor.execute(\"update search_engine_model set distance11_2 = %s where name='P2-V2-W1-T1#1'or name='P2-V2-W1-T2#1' or name='P2-V2-W1-T3#1'\"%sorted_sim_vector[10][1])"
   ]
  },
  {
   "cell_type": "code",
   "execution_count": 131,
   "metadata": {},
   "outputs": [],
   "source": [
    "mycursor = mydb.cursor()\n",
    "mycursor.execute(\"update search_engine_model set distance13_2 = %s where name='P2-V2-W1-T1#1'or name='P2-V2-W1-T2#1' or name='P2-V2-W1-T3#1'\"%sorted_sim_vector[12][1])"
   ]
  },
  {
   "cell_type": "code",
   "execution_count": 132,
   "metadata": {},
   "outputs": [],
   "source": [
    "listofapp = [0,1,2,3,4,5,8,9,10,11,12,13]    \n",
    "for i in range(16):\n",
    "    if th[i]!=0:\n",
    "        if i in listofapp:\n",
    "            if (sorted_sim_vector[i][1]-th[i]/2) >= 0:\n",
    "                TP1 = TP1 + 1\n",
    "            else:\n",
    "                FN1 = FN1 +1\n",
    "        else:\n",
    "            if (sorted_sim_vector[i][1]-th[i]/2) >= 0:\n",
    "                FP1 = FP1 + 1\n",
    "            else:\n",
    "                TN1 = TN1 +1"
   ]
  },
  {
   "cell_type": "code",
   "execution_count": 133,
   "metadata": {},
   "outputs": [],
   "source": [
    "listofapp = [0,1,2,3,4,5,8,9,10,11,12,13]     \n",
    "for i in range(16):\n",
    "    if th[i]!=0:\n",
    "        if i in listofapp:\n",
    "            if (sorted_sim_vector[i][1]-th[i]/4) >= 0:\n",
    "                TP2 = TP2 + 1\n",
    "            else:\n",
    "                FN2 = FN2 +1\n",
    "        else:\n",
    "            if (sorted_sim_vector[i][1]-th[i]/4) >= 0:\n",
    "                FP2 = FP2 + 1\n",
    "            else:\n",
    "                TN2 = TN2 +1"
   ]
  },
  {
   "cell_type": "code",
   "execution_count": 134,
   "metadata": {},
   "outputs": [],
   "source": [
    "listofapp = [0,1,2,3,4,5,8,9,10,11,12,13]     \n",
    "for i in range(16):\n",
    "    if th[i]!=0:\n",
    "        if i in listofapp:\n",
    "            if (sorted_sim_vector[i][1]-th[i]/8) >= 0:\n",
    "                TP3 = TP3 + 1\n",
    "            else:\n",
    "                FN3 = FN3 +1\n",
    "        else:\n",
    "            if (sorted_sim_vector[i][1]-th[i]/8) >= 0:\n",
    "                FP3 = FP3 + 1\n",
    "            else:\n",
    "                TN3 = TN3 +1"
   ]
  },
  {
   "cell_type": "markdown",
   "metadata": {},
   "source": [
    "+++++++++++++++++++++++++++++++++++++++++++++++++++++++++++++++++++++++++++++++++++++++++++++++++++++++++++++++++++++"
   ]
  },
  {
   "cell_type": "code",
   "execution_count": 135,
   "metadata": {},
   "outputs": [],
   "source": [
    "query = pd.read_csv('D:/Windows7SP1x86-disk-images-March2020/after_first_versions_firefox_python_word_files.txt')\n",
    "query2=[sen.lower() for sen in query]\n",
    "query_sen = [[text for text in re.split('[/\\t]',doc)] for doc in query2]\n",
    "query_sen = [[text+'/' for text in sen] for sen in query_sen]\n",
    "query_sen=[[ subelt for subelt in elt if subelt != '/' ] for elt in query_sen] # remove '/'\n",
    "before_search=datetime.now()\n",
    "sim_vector=model.docvecs.most_similar(positive=[model.infer_vector(query_sen[0])],topn=16)\n",
    "after_search=datetime.now()\n",
    "elapsed=after_search-before_search\n",
    "elapsed_search=elapsed.total_seconds()+elapsed_search\n",
    "sorted_sim_vector = sorted(sim_vector, key=lambda tup: tup[0])#sort based on document number"
   ]
  },
  {
   "cell_type": "code",
   "execution_count": 136,
   "metadata": {},
   "outputs": [],
   "source": [
    "mycursor = mydb.cursor()\n",
    "mycursor.execute(\"update search_engine_model set distance11_3 = %s where name='P2-V2-W1-T1#1'or name='P2-V2-W1-T2#1' or name='P2-V2-W1-T3#1'\"%sorted_sim_vector[10][1])"
   ]
  },
  {
   "cell_type": "code",
   "execution_count": 137,
   "metadata": {},
   "outputs": [],
   "source": [
    "mycursor = mydb.cursor()\n",
    "mycursor.execute(\"update search_engine_model set distance13_3 = %s where name='P2-V2-W1-T1#1'or name='P2-V2-W1-T2#1' or name='P2-V2-W1-T3#1'\"%sorted_sim_vector[12][1])"
   ]
  },
  {
   "cell_type": "code",
   "execution_count": 138,
   "metadata": {},
   "outputs": [],
   "source": [
    "mycursor = mydb.cursor()\n",
    "mycursor.execute(\"update search_engine_model set distance15_2 = %s where name='P2-V2-W1-T1#1'or name='P2-V2-W1-T2#1' or name='P2-V2-W1-T3#1'\"%sorted_sim_vector[14][1])"
   ]
  },
  {
   "cell_type": "code",
   "execution_count": 139,
   "metadata": {},
   "outputs": [],
   "source": [
    "listofapp = [2,3,4,5,6,7,10,11,12,13,14,15]    \n",
    "for i in range(16):\n",
    "    if th[i]!=0:\n",
    "        if i in listofapp:\n",
    "            if (sorted_sim_vector[i][1]-th[i]/2) >= 0:\n",
    "                TP1 = TP1 + 1\n",
    "            else:\n",
    "                FN1 = FN1 +1\n",
    "        else:\n",
    "            if (sorted_sim_vector[i][1]-th[i]/2) >= 0:\n",
    "                FP1 = FP1 + 1\n",
    "            else:\n",
    "                TN1 = TN1 +1"
   ]
  },
  {
   "cell_type": "code",
   "execution_count": 140,
   "metadata": {},
   "outputs": [],
   "source": [
    "listofapp = [2,3,4,5,6,7,10,11,12,13,14,15]     \n",
    "for i in range(16):\n",
    "    if th[i]!=0:\n",
    "        if i in listofapp:\n",
    "            if (sorted_sim_vector[i][1]-th[i]/4) >= 0:\n",
    "                TP2 = TP2 + 1\n",
    "            else:\n",
    "                FN2 = FN2 +1\n",
    "        else:\n",
    "            if (sorted_sim_vector[i][1]-th[i]/4) >= 0:\n",
    "                FP2 = FP2 + 1\n",
    "            else:\n",
    "                TN2 = TN2 +1"
   ]
  },
  {
   "cell_type": "code",
   "execution_count": 141,
   "metadata": {},
   "outputs": [],
   "source": [
    "listofapp = [2,3,4,5,6,7,10,11,12,13,14,15]     \n",
    "for i in range(16):\n",
    "    if th[i]!=0:\n",
    "        if i in listofapp:\n",
    "            if (sorted_sim_vector[i][1]-th[i]/8) >= 0:\n",
    "                TP3 = TP3 + 1\n",
    "            else:\n",
    "                FN3 = FN3 +1\n",
    "        else:\n",
    "            if (sorted_sim_vector[i][1]-th[i]/8) >= 0:\n",
    "                FP3 = FP3 + 1\n",
    "            else:\n",
    "                TN3 = TN3 +1"
   ]
  },
  {
   "cell_type": "markdown",
   "metadata": {},
   "source": [
    "+++++++++++++++++++++++++++++++++++++++++++++++++++++++++++++++++++++++++++++++++++++++++++++++++++++++++++++++++++++"
   ]
  },
  {
   "cell_type": "code",
   "execution_count": 142,
   "metadata": {},
   "outputs": [],
   "source": [
    "query = pd.read_csv('D:/Windows7SP1x86-disk-images-March2020/after_first_versions_python_word_adobe_files.txt')\n",
    "query2=[sen.lower() for sen in query]\n",
    "query_sen = [[text for text in re.split('[/\\t]',doc)] for doc in query2]\n",
    "query_sen = [[text+'/' for text in sen] for sen in query_sen]\n",
    "query_sen=[[ subelt for subelt in elt if subelt != '/' ] for elt in query_sen] # remove '/'\n",
    "before_search=datetime.now()\n",
    "sim_vector=model.docvecs.most_similar(positive=[model.infer_vector(query_sen[0])],topn=16)\n",
    "after_search=datetime.now()\n",
    "elapsed=after_search-before_search\n",
    "elapsed_search=elapsed.total_seconds()+elapsed_search\n",
    "sorted_sim_vector = sorted(sim_vector, key=lambda tup: tup[0])#sort based on document number"
   ]
  },
  {
   "cell_type": "code",
   "execution_count": 143,
   "metadata": {},
   "outputs": [],
   "source": [
    "mycursor = mydb.cursor()\n",
    "mycursor.execute(\"update search_engine_model set distance9_3 = %s where name='P2-V2-W1-T1#1'or name='P2-V2-W1-T2#1' or name='P2-V2-W1-T3#1'\"%sorted_sim_vector[8][1])"
   ]
  },
  {
   "cell_type": "code",
   "execution_count": 144,
   "metadata": {},
   "outputs": [],
   "source": [
    "mycursor = mydb.cursor()\n",
    "mycursor.execute(\"update search_engine_model set distance13_4 = %s where name='P2-V2-W1-T1#1'or name='P2-V2-W1-T2#1' or name='P2-V2-W1-T3#1'\"%sorted_sim_vector[12][1])"
   ]
  },
  {
   "cell_type": "code",
   "execution_count": 145,
   "metadata": {},
   "outputs": [],
   "source": [
    "mycursor = mydb.cursor()\n",
    "mycursor.execute(\"update search_engine_model set distance15_3 = %s where name='P2-V2-W1-T1#1'or name='P2-V2-W1-T2#1' or name='P2-V2-W1-T3#1'\"%sorted_sim_vector[14][1])"
   ]
  },
  {
   "cell_type": "code",
   "execution_count": 146,
   "metadata": {},
   "outputs": [],
   "source": [
    "listofapp = [0,1,4,5,6,7,8,9,12,13,14,15]     \n",
    "for i in range(16):\n",
    "    if th[i]!=0:\n",
    "        if i in listofapp:\n",
    "            if (sorted_sim_vector[i][1]-th[i]/2) >= 0:\n",
    "                TP1 = TP1 + 1\n",
    "            else:\n",
    "                FN1 = FN1 +1\n",
    "        else:\n",
    "            if (sorted_sim_vector[i][1]-th[i]/2) >= 0:\n",
    "                FP1 = FP1 + 1\n",
    "            else:\n",
    "                TN1 = TN1 +1"
   ]
  },
  {
   "cell_type": "code",
   "execution_count": 147,
   "metadata": {},
   "outputs": [],
   "source": [
    "listofapp = [0,1,4,5,6,7,8,9,12,13,14,15]     \n",
    "for i in range(16):\n",
    "    if th[i]!=0:\n",
    "        if i in listofapp:\n",
    "            if (sorted_sim_vector[i][1]-th[i]/4) >= 0:\n",
    "                TP2 = TP2 + 1\n",
    "            else:\n",
    "                FN2 = FN2 +1\n",
    "        else:\n",
    "            if (sorted_sim_vector[i][1]-th[i]/4) >= 0:\n",
    "                FP2 = FP2 + 1\n",
    "            else:\n",
    "                TN2 = TN2 +1"
   ]
  },
  {
   "cell_type": "code",
   "execution_count": 148,
   "metadata": {},
   "outputs": [],
   "source": [
    "listofapp = [0,1,4,5,6,7,8,9,12,13,14,15]     \n",
    "for i in range(16):\n",
    "    if th[i]!=0:\n",
    "        if i in listofapp:\n",
    "            if (sorted_sim_vector[i][1]-th[i]/8) >= 0:\n",
    "                TP3 = TP3 + 1\n",
    "            else:\n",
    "                FN3 = FN3 +1\n",
    "        else:\n",
    "            if (sorted_sim_vector[i][1]-th[i]/8) >= 0:\n",
    "                FP3 = FP3 + 1\n",
    "            else:\n",
    "                TN3 = TN3 +1"
   ]
  },
  {
   "cell_type": "markdown",
   "metadata": {},
   "source": [
    "+++++++++++++++++++++++++++++++++++++++++++++++++++++++++++++++++++++++++++++++++++++++++++++++++++++++++++++++++++++"
   ]
  },
  {
   "cell_type": "code",
   "execution_count": 149,
   "metadata": {},
   "outputs": [],
   "source": [
    "query = pd.read_csv('D:/Windows7SP1x86-disk-images-March2020/after_first_versions_word_adobe_firefox_files.txt')\n",
    "query2=[sen.lower() for sen in query]\n",
    "query_sen = [[text for text in re.split('[/\\t]',doc)] for doc in query2]\n",
    "query_sen = [[text+'/' for text in sen] for sen in query_sen]\n",
    "query_sen=[[ subelt for subelt in elt if subelt != '/' ] for elt in query_sen] # remove '/'\n",
    "before_search=datetime.now()\n",
    "sim_vector=model.docvecs.most_similar(positive=[model.infer_vector(query_sen[0])],topn=16)\n",
    "after_search=datetime.now()\n",
    "elapsed=after_search-before_search\n",
    "elapsed_search=elapsed.total_seconds()+elapsed_search\n",
    "sorted_sim_vector = sorted(sim_vector, key=lambda tup: tup[0])#sort based on document number"
   ]
  },
  {
   "cell_type": "code",
   "execution_count": 150,
   "metadata": {},
   "outputs": [],
   "source": [
    "mycursor = mydb.cursor()\n",
    "mycursor.execute(\"update search_engine_model set distance9_4 = %s where name='P2-V2-W1-T1#1'or name='P2-V2-W1-T2#1' or name='P2-V2-W1-T3#1'\"%sorted_sim_vector[8][1])"
   ]
  },
  {
   "cell_type": "code",
   "execution_count": 151,
   "metadata": {},
   "outputs": [],
   "source": [
    "mycursor = mydb.cursor()\n",
    "mycursor.execute(\"update search_engine_model set distance11_4 = %s where name='P2-V2-W1-T1#1'or name='P2-V2-W1-T2#1' or name='P2-V2-W1-T3#1'\"%sorted_sim_vector[10][1])"
   ]
  },
  {
   "cell_type": "code",
   "execution_count": 152,
   "metadata": {},
   "outputs": [],
   "source": [
    "mycursor = mydb.cursor()\n",
    "mycursor.execute(\"update search_engine_model set distance15_4 = %s where name='P2-V2-W1-T1#1'or name='P2-V2-W1-T2#1' or name='P2-V2-W1-T3#1'\"%sorted_sim_vector[14][1])"
   ]
  },
  {
   "cell_type": "code",
   "execution_count": 153,
   "metadata": {},
   "outputs": [],
   "source": [
    "listofapp = [0,1,2,3,6,7,8,9,10,11,14,15]    \n",
    "for i in range(16):\n",
    "    if th[i]!=0:\n",
    "        if i in listofapp:\n",
    "            if (sorted_sim_vector[i][1]-th[i]/2) >= 0:\n",
    "                TP1 = TP1 + 1\n",
    "            else:\n",
    "                FN1 = FN1 +1\n",
    "        else:\n",
    "            if (sorted_sim_vector[i][1]-th[i]/2) >= 0:\n",
    "                FP1 = FP1 + 1\n",
    "            else:\n",
    "                TN1 = TN1 +1"
   ]
  },
  {
   "cell_type": "code",
   "execution_count": 154,
   "metadata": {},
   "outputs": [],
   "source": [
    "listofapp = [0,1,2,3,6,7,8,9,10,11,14,15]     \n",
    "for i in range(16):\n",
    "    if th[i]!=0:\n",
    "        if i in listofapp:\n",
    "            if (sorted_sim_vector[i][1]-th[i]/4) >= 0:\n",
    "                TP2 = TP2 + 1\n",
    "            else:\n",
    "                FN2 = FN2 +1\n",
    "        else:\n",
    "            if (sorted_sim_vector[i][1]-th[i]/4) >= 0:\n",
    "                FP2 = FP2 + 1\n",
    "            else:\n",
    "                TN2 = TN2 +1"
   ]
  },
  {
   "cell_type": "code",
   "execution_count": 155,
   "metadata": {},
   "outputs": [],
   "source": [
    "listofapp = [0,1,2,3,6,7,8,9,10,11,14,15]     \n",
    "for i in range(16):\n",
    "    if th[i]!=0:\n",
    "        if i in listofapp:\n",
    "            if (sorted_sim_vector[i][1]-th[i]/8) >= 0:\n",
    "                TP3 = TP3 + 1\n",
    "            else:\n",
    "                FN3 = FN3 +1\n",
    "        else:\n",
    "            if (sorted_sim_vector[i][1]-th[i]/8) >= 0:\n",
    "                FP3 = FP3 + 1\n",
    "            else:\n",
    "                TN3 = TN3 +1"
   ]
  },
  {
   "cell_type": "markdown",
   "metadata": {},
   "source": [
    "+++++++++++++++++++++++++++++++++++++++++++++++++++++++++++++++++++++++++++++++++++++++++++++++++++++++++++++++++++++"
   ]
  },
  {
   "cell_type": "code",
   "execution_count": 156,
   "metadata": {},
   "outputs": [],
   "source": [
    "query = pd.read_csv('D:/Windows7SP1x86-disk-images-March2020/after_second_versions_adobe_firefox_python_files.txt')\n",
    "query2=[sen.lower() for sen in query]\n",
    "query_sen = [[text for text in re.split('[/\\t]',doc)] for doc in query2]\n",
    "query_sen = [[text+'/' for text in sen] for sen in query_sen]\n",
    "query_sen=[[ subelt for subelt in elt if subelt != '/' ] for elt in query_sen] # remove '/'\n",
    "before_search=datetime.now()\n",
    "sim_vector=model.docvecs.most_similar(positive=[model.infer_vector(query_sen[0])],topn=16)\n",
    "after_search=datetime.now()\n",
    "elapsed=after_search-before_search\n",
    "elapsed_search=elapsed.total_seconds()+elapsed_search\n",
    "sorted_sim_vector = sorted(sim_vector, key=lambda tup: tup[0])#sort based on document number"
   ]
  },
  {
   "cell_type": "code",
   "execution_count": 157,
   "metadata": {},
   "outputs": [],
   "source": [
    "mycursor = mydb.cursor()\n",
    "mycursor.execute(\"update search_engine_model set distance10_2 = %s where name='P2-V2-W1-T1#1'or name='P2-V2-W1-T2#1' or name='P2-V2-W1-T3#1'\"%sorted_sim_vector[9][1])"
   ]
  },
  {
   "cell_type": "code",
   "execution_count": 158,
   "metadata": {},
   "outputs": [],
   "source": [
    "mycursor = mydb.cursor()\n",
    "mycursor.execute(\"update search_engine_model set distance12_2 = %s where name='P2-V2-W1-T1#1'or name='P2-V2-W1-T2#1' or name='P2-V2-W1-T3#1'\"%sorted_sim_vector[11][1])"
   ]
  },
  {
   "cell_type": "code",
   "execution_count": 159,
   "metadata": {},
   "outputs": [],
   "source": [
    "mycursor = mydb.cursor()\n",
    "mycursor.execute(\"update search_engine_model set distance14_2 = %s where name='P2-V2-W1-T1#1'or name='P2-V2-W1-T2#1' or name='P2-V2-W1-T3#1'\"%sorted_sim_vector[13][1])"
   ]
  },
  {
   "cell_type": "code",
   "execution_count": 160,
   "metadata": {},
   "outputs": [],
   "source": [
    "listofapp = [0,1,2,3,4,5,8,9,10,11,12,13]    \n",
    "for i in range(16):\n",
    "    if th[i]!=0:\n",
    "        if i in listofapp:\n",
    "            if (sorted_sim_vector[i][1]-th[i]/2) >= 0:\n",
    "                TP1 = TP1 + 1\n",
    "            else:\n",
    "                FN1 = FN1 +1\n",
    "        else:\n",
    "            if (sorted_sim_vector[i][1]-th[i]/2) >= 0:\n",
    "                FP1 = FP1 + 1\n",
    "            else:\n",
    "                TN1 = TN1 +1"
   ]
  },
  {
   "cell_type": "code",
   "execution_count": 161,
   "metadata": {},
   "outputs": [],
   "source": [
    "listofapp = [0,1,2,3,4,5,8,9,10,11,12,13]     \n",
    "for i in range(16):\n",
    "    if th[i]!=0:\n",
    "        if i in listofapp:\n",
    "            if (sorted_sim_vector[i][1]-th[i]/4) >= 0:\n",
    "                TP2 = TP2 + 1\n",
    "            else:\n",
    "                FN2 = FN2 +1\n",
    "        else:\n",
    "            if (sorted_sim_vector[i][1]-th[i]/4) >= 0:\n",
    "                FP2 = FP2 + 1\n",
    "            else:\n",
    "                TN2 = TN2 +1"
   ]
  },
  {
   "cell_type": "code",
   "execution_count": 162,
   "metadata": {},
   "outputs": [],
   "source": [
    "listofapp = [0,1,2,3,4,5,8,9,10,11,12,13]     \n",
    "for i in range(16):\n",
    "    if th[i]!=0:\n",
    "        if i in listofapp:\n",
    "            if (sorted_sim_vector[i][1]-th[i]/8) >= 0:\n",
    "                TP3 = TP3 + 1\n",
    "            else:\n",
    "                FN3 = FN3 +1\n",
    "        else:\n",
    "            if (sorted_sim_vector[i][1]-th[i]/8) >= 0:\n",
    "                FP3 = FP3 + 1\n",
    "            else:\n",
    "                TN3 = TN3 +1"
   ]
  },
  {
   "cell_type": "markdown",
   "metadata": {},
   "source": [
    "+++++++++++++++++++++++++++++++++++++++++++++++++++++++++++++++++++++++++++++++++++++++++++++++++++++++++++++++++++++"
   ]
  },
  {
   "cell_type": "code",
   "execution_count": 163,
   "metadata": {},
   "outputs": [],
   "source": [
    "query = pd.read_csv('D:/Windows7SP1x86-disk-images-March2020/after_second_versions_firefox_python_word_files.txt')\n",
    "query2=[sen.lower() for sen in query]\n",
    "query_sen = [[text for text in re.split('[/\\t]',doc)] for doc in query2]\n",
    "query_sen = [[text+'/' for text in sen] for sen in query_sen]\n",
    "query_sen=[[ subelt for subelt in elt if subelt != '/' ] for elt in query_sen] # remove '/'\n",
    "before_search=datetime.now()\n",
    "sim_vector=model.docvecs.most_similar(positive=[model.infer_vector(query_sen[0])],topn=16)\n",
    "after_search=datetime.now()\n",
    "elapsed=after_search-before_search\n",
    "elapsed_search=elapsed.total_seconds()+elapsed_search\n",
    "sorted_sim_vector = sorted(sim_vector, key=lambda tup: tup[0])#sort based on document number"
   ]
  },
  {
   "cell_type": "code",
   "execution_count": 164,
   "metadata": {},
   "outputs": [],
   "source": [
    "mycursor = mydb.cursor()\n",
    "mycursor.execute(\"update search_engine_model set distance12_3 = %s where name='P2-V2-W1-T1#1'or name='P2-V2-W1-T2#1' or name='P2-V2-W1-T3#1'\"%sorted_sim_vector[11][1])"
   ]
  },
  {
   "cell_type": "code",
   "execution_count": 165,
   "metadata": {},
   "outputs": [],
   "source": [
    "mycursor = mydb.cursor()\n",
    "mycursor.execute(\"update search_engine_model set distance14_3 = %s where name='P2-V2-W1-T1#1'or name='P2-V2-W1-T2#1' or name='P2-V2-W1-T3#1'\"%sorted_sim_vector[13][1])"
   ]
  },
  {
   "cell_type": "code",
   "execution_count": 166,
   "metadata": {},
   "outputs": [],
   "source": [
    "mycursor = mydb.cursor()\n",
    "mycursor.execute(\"update search_engine_model set distance16_2 = %s where name='P2-V2-W1-T1#1'or name='P2-V2-W1-T2#1' or name='P2-V2-W1-T3#1'\"%sorted_sim_vector[15][1])"
   ]
  },
  {
   "cell_type": "code",
   "execution_count": 167,
   "metadata": {},
   "outputs": [],
   "source": [
    "listofapp = [2,3,4,5,6,7,10,11,12,13,14,15]    \n",
    "for i in range(16):\n",
    "    if th[i]!=0:\n",
    "        if i in listofapp:\n",
    "            if (sorted_sim_vector[i][1]-th[i]/2) >= 0:\n",
    "                TP1 = TP1 + 1\n",
    "            else:\n",
    "                FN1 = FN1 +1\n",
    "        else:\n",
    "            if (sorted_sim_vector[i][1]-th[i]/2) >= 0:\n",
    "                FP1 = FP1 + 1\n",
    "            else:\n",
    "                TN1 = TN1 +1"
   ]
  },
  {
   "cell_type": "code",
   "execution_count": 168,
   "metadata": {},
   "outputs": [],
   "source": [
    "listofapp = [2,3,4,5,6,7,10,11,12,13,14,15]    \n",
    "for i in range(16):\n",
    "    if th[i]!=0:\n",
    "        if i in listofapp:\n",
    "            if (sorted_sim_vector[i][1]-th[i]/4) >= 0:\n",
    "                TP2 = TP2 + 1\n",
    "            else:\n",
    "                FN2 = FN2 +1\n",
    "        else:\n",
    "            if (sorted_sim_vector[i][1]-th[i]/4) >= 0:\n",
    "                FP2 = FP2 + 1\n",
    "            else:\n",
    "                TN2 = TN2 +1"
   ]
  },
  {
   "cell_type": "code",
   "execution_count": 169,
   "metadata": {},
   "outputs": [],
   "source": [
    "listofapp = [2,3,4,5,6,7,10,11,12,13,14,15]     \n",
    "for i in range(16):\n",
    "    if th[i]!=0:\n",
    "        if i in listofapp:\n",
    "            if (sorted_sim_vector[i][1]-th[i]/8) >= 0:\n",
    "                TP3 = TP3 + 1\n",
    "            else:\n",
    "                FN3 = FN3 +1\n",
    "        else:\n",
    "            if (sorted_sim_vector[i][1]-th[i]/8) >= 0:\n",
    "                FP3 = FP3 + 1\n",
    "            else:\n",
    "                TN3 = TN3 +1"
   ]
  },
  {
   "cell_type": "markdown",
   "metadata": {},
   "source": [
    "+++++++++++++++++++++++++++++++++++++++++++++++++++++++++++++++++++++++++++++++++++++++++++++++++++++++++++++++++++++"
   ]
  },
  {
   "cell_type": "code",
   "execution_count": 170,
   "metadata": {},
   "outputs": [],
   "source": [
    "query = pd.read_csv('D:/Windows7SP1x86-disk-images-March2020/after_second_versions_python_word_adobe_files.txt')\n",
    "query2=[sen.lower() for sen in query]\n",
    "query_sen = [[text for text in re.split('[/\\t]',doc)] for doc in query2]\n",
    "query_sen = [[text+'/' for text in sen] for sen in query_sen]\n",
    "query_sen=[[ subelt for subelt in elt if subelt != '/' ] for elt in query_sen] # remove '/'\n",
    "before_search=datetime.now()\n",
    "sim_vector=model.docvecs.most_similar(positive=[model.infer_vector(query_sen[0])],topn=16)\n",
    "after_search=datetime.now()\n",
    "elapsed=after_search-before_search\n",
    "elapsed_search=elapsed.total_seconds()+elapsed_search\n",
    "sorted_sim_vector = sorted(sim_vector, key=lambda tup: tup[0])#sort based on document number"
   ]
  },
  {
   "cell_type": "code",
   "execution_count": 171,
   "metadata": {},
   "outputs": [],
   "source": [
    "mycursor = mydb.cursor()\n",
    "mycursor.execute(\"update search_engine_model set distance10_3 = %s where name='P2-V2-W1-T1#1'or name='P2-V2-W1-T2#1' or name='P2-V2-W1-T3#1'\"%sorted_sim_vector[9][1])"
   ]
  },
  {
   "cell_type": "code",
   "execution_count": 172,
   "metadata": {},
   "outputs": [],
   "source": [
    "mycursor = mydb.cursor()\n",
    "mycursor.execute(\"update search_engine_model set distance14_4 = %s where name='P2-V2-W1-T1#1'or name='P2-V2-W1-T2#1' or name='P2-V2-W1-T3#1'\"%sorted_sim_vector[13][1])"
   ]
  },
  {
   "cell_type": "code",
   "execution_count": 173,
   "metadata": {},
   "outputs": [],
   "source": [
    "mycursor = mydb.cursor()\n",
    "mycursor.execute(\"update search_engine_model set distance16_3 = %s where name='P2-V2-W1-T1#1'or name='P2-V2-W1-T2#1' or name='P2-V2-W1-T3#1'\"%sorted_sim_vector[15][1])"
   ]
  },
  {
   "cell_type": "code",
   "execution_count": 174,
   "metadata": {},
   "outputs": [],
   "source": [
    "listofapp = [0,1,4,5,6,7,8,9,12,13,14,15]      \n",
    "for i in range(16):\n",
    "    if th[i]!=0:\n",
    "        if i in listofapp:\n",
    "            if (sorted_sim_vector[i][1]-th[i]/2) >= 0:\n",
    "                TP1 = TP1 + 1\n",
    "            else:\n",
    "                FN1 = FN1 +1\n",
    "        else:\n",
    "            if (sorted_sim_vector[i][1]-th[i]/2) >= 0:\n",
    "                FP1 = FP1 + 1\n",
    "            else:\n",
    "                TN1 = TN1 +1"
   ]
  },
  {
   "cell_type": "code",
   "execution_count": 175,
   "metadata": {},
   "outputs": [],
   "source": [
    "listofapp = [0,1,4,5,6,7,8,9,12,13,14,15]      \n",
    "for i in range(16):\n",
    "    if th[i]!=0:\n",
    "        if i in listofapp:\n",
    "            if (sorted_sim_vector[i][1]-th[i]/4) >= 0:\n",
    "                TP2 = TP2 + 1\n",
    "            else:\n",
    "                FN2 = FN2 +1\n",
    "        else:\n",
    "            if (sorted_sim_vector[i][1]-th[i]/4) >= 0:\n",
    "                FP2 = FP2 + 1\n",
    "            else:\n",
    "                TN2 = TN2 +1"
   ]
  },
  {
   "cell_type": "code",
   "execution_count": 176,
   "metadata": {},
   "outputs": [],
   "source": [
    "listofapp = [0,1,4,5,6,7,8,9,12,13,14,15]     \n",
    "for i in range(16):\n",
    "    if th[i]!=0:\n",
    "        if i in listofapp:\n",
    "            if (sorted_sim_vector[i][1]-th[i]/8) >= 0:\n",
    "                TP3 = TP3 + 1\n",
    "            else:\n",
    "                FN3 = FN3 +1\n",
    "        else:\n",
    "            if (sorted_sim_vector[i][1]-th[i]/8) >= 0:\n",
    "                FP3 = FP3 + 1\n",
    "            else:\n",
    "                TN3 = TN3 +1"
   ]
  },
  {
   "cell_type": "markdown",
   "metadata": {},
   "source": [
    "+++++++++++++++++++++++++++++++++++++++++++++++++++++++++++++++++++++++++++++++++++++++++++++++++++++++++++++++++++++"
   ]
  },
  {
   "cell_type": "code",
   "execution_count": 177,
   "metadata": {},
   "outputs": [],
   "source": [
    "query = pd.read_csv('D:/Windows7SP1x86-disk-images-March2020/after_second_versions_word_adobe_firefox_files.txt')\n",
    "query2=[sen.lower() for sen in query]\n",
    "query_sen = [[text for text in re.split('[/\\t]',doc)] for doc in query2]\n",
    "query_sen = [[text+'/' for text in sen] for sen in query_sen]\n",
    "query_sen=[[ subelt for subelt in elt if subelt != '/' ] for elt in query_sen] # remove '/'\n",
    "before_search=datetime.now()\n",
    "sim_vector=model.docvecs.most_similar(positive=[model.infer_vector(query_sen[0])],topn=16)\n",
    "after_search=datetime.now()\n",
    "elapsed=after_search-before_search\n",
    "elapsed_search=elapsed.total_seconds()+elapsed_search\n",
    "sorted_sim_vector = sorted(sim_vector, key=lambda tup: tup[0])#sort based on document number"
   ]
  },
  {
   "cell_type": "code",
   "execution_count": 178,
   "metadata": {},
   "outputs": [],
   "source": [
    "mycursor = mydb.cursor()\n",
    "mycursor.execute(\"update search_engine_model set distance10_4 = %s where name='P2-V2-W1-T1#1'or name='P2-V2-W1-T2#1' or name='P2-V2-W1-T3#1'\"%sorted_sim_vector[9][1])"
   ]
  },
  {
   "cell_type": "code",
   "execution_count": 179,
   "metadata": {},
   "outputs": [],
   "source": [
    "mycursor = mydb.cursor()\n",
    "mycursor.execute(\"update search_engine_model set distance12_4 = %s where name='P2-V2-W1-T1#1'or name='P2-V2-W1-T2#1' or name='P2-V2-W1-T3#1'\"%sorted_sim_vector[11][1])"
   ]
  },
  {
   "cell_type": "code",
   "execution_count": 180,
   "metadata": {},
   "outputs": [],
   "source": [
    "mycursor = mydb.cursor()\n",
    "mycursor.execute(\"update search_engine_model set distance16_4 = %s where name='P2-V2-W1-T1#1'or name='P2-V2-W1-T2#1' or name='P2-V2-W1-T3#1'\"%sorted_sim_vector[15][1])"
   ]
  },
  {
   "cell_type": "code",
   "execution_count": 181,
   "metadata": {},
   "outputs": [],
   "source": [
    "listofapp = [0,1,2,3,6,7,8,9,10,11,14,15]    \n",
    "for i in range(16):\n",
    "    if th[i]!=0:\n",
    "        if i in listofapp:\n",
    "            if (sorted_sim_vector[i][1]-th[i]/2) >= 0:\n",
    "                TP1 = TP1 + 1\n",
    "            else:\n",
    "                FN1 = FN1 +1\n",
    "        else:\n",
    "            if (sorted_sim_vector[i][1]-th[i]/2) >= 0:\n",
    "                FP1 = FP1 + 1\n",
    "            else:\n",
    "                TN1 = TN1 +1"
   ]
  },
  {
   "cell_type": "code",
   "execution_count": 182,
   "metadata": {},
   "outputs": [],
   "source": [
    "listofapp = [0,1,2,3,6,7,8,9,10,11,14,15]    \n",
    "for i in range(16):\n",
    "    if th[i]!=0:\n",
    "        if i in listofapp:\n",
    "            if (sorted_sim_vector[i][1]-th[i]/4) >= 0:\n",
    "                TP2 = TP2 + 1\n",
    "            else:\n",
    "                FN2 = FN2 +1\n",
    "        else:\n",
    "            if (sorted_sim_vector[i][1]-th[i]/4) >= 0:\n",
    "                FP2 = FP2 + 1\n",
    "            else:\n",
    "                TN2 = TN2 +1"
   ]
  },
  {
   "cell_type": "code",
   "execution_count": 183,
   "metadata": {},
   "outputs": [],
   "source": [
    "listofapp = [0,1,2,3,6,7,8,9,10,11,14,15]     \n",
    "for i in range(16):\n",
    "    if th[i]!=0:\n",
    "        if i in listofapp:\n",
    "            if (sorted_sim_vector[i][1]-th[i]/8) >= 0:\n",
    "                TP3 = TP3 + 1\n",
    "            else:\n",
    "                FN3 = FN3 +1\n",
    "        else:\n",
    "            if (sorted_sim_vector[i][1]-th[i]/8) >= 0:\n",
    "                FP3 = FP3 + 1\n",
    "            else:\n",
    "                TN3 = TN3 +1"
   ]
  },
  {
   "cell_type": "code",
   "execution_count": 184,
   "metadata": {},
   "outputs": [],
   "source": [
    "precision = TP1 / (TP1 + FP1)\n",
    "recall = TP1 / (TP1 + FN1)\n",
    "F1 = 2 * ((precision*recall)/(precision+recall))"
   ]
  },
  {
   "cell_type": "code",
   "execution_count": 185,
   "metadata": {},
   "outputs": [],
   "source": [
    "mycursor = mydb.cursor()\n",
    "mycursor.execute(\"update search_engine_model set TP = %s, FN = %s, FP = %s, TN = %s, preci = %s, recall = %s, F1 = %s where name='P2-V2-W1-T1#1'\",(TP1,FN1,FP1,TN1,precision,recall,F1))"
   ]
  },
  {
   "cell_type": "code",
   "execution_count": 186,
   "metadata": {},
   "outputs": [],
   "source": [
    "precision = TP2 / (TP2 + FP2)\n",
    "recall = TP2 / (TP2 + FN2)\n",
    "F1 = 2 * ((precision*recall)/(precision+recall))"
   ]
  },
  {
   "cell_type": "code",
   "execution_count": 187,
   "metadata": {},
   "outputs": [],
   "source": [
    "mycursor = mydb.cursor()\n",
    "mycursor.execute(\"update search_engine_model set TP = %s, FN = %s, FP = %s, TN = %s, preci = %s, recall = %s, F1 = %s where name='P2-V2-W1-T2#1'\",(TP2,FN2,FP2,TN2,precision,recall,F1))"
   ]
  },
  {
   "cell_type": "code",
   "execution_count": 188,
   "metadata": {},
   "outputs": [],
   "source": [
    "precision = TP3 / (TP3 + FP3)\n",
    "recall = TP3 / (TP3 + FN3)\n",
    "F1 = 2 * ((precision*recall)/(precision+recall))"
   ]
  },
  {
   "cell_type": "code",
   "execution_count": 189,
   "metadata": {},
   "outputs": [],
   "source": [
    "mycursor = mydb.cursor()\n",
    "mycursor.execute(\"update search_engine_model set TP = %s, FN = %s, FP = %s, TN = %s, preci = %s, recall = %s, F1 = %s where name='P2-V2-W1-T3#1'\",(TP3,FN3,FP3,TN3,precision,recall,F1))"
   ]
  },
  {
   "cell_type": "code",
   "execution_count": 190,
   "metadata": {},
   "outputs": [],
   "source": [
    "mycursor = mydb.cursor()\n",
    "mycursor.execute(\"update search_engine_model set train_time = %s, avg_search_time=%s where name='P2-V2-W1-T1#1'or name='P2-V2-W1-T2#1' or name='P2-V2-W1-T3#1'\",(elapsed_train,elapsed_search/20))"
   ]
  },
  {
   "cell_type": "markdown",
   "metadata": {},
   "source": [
    "+++++++++++++++++++++++++++++++++++++++++++++++++++++++++++++++++++++++++++++++++++++++++++++++++++++++++++++++++++++"
   ]
  },
  {
   "cell_type": "markdown",
   "metadata": {},
   "source": [
    "# Now checking the M57 machines"
   ]
  },
  {
   "cell_type": "markdown",
   "metadata": {},
   "source": [
    "+++++++++++++++++++++++++++++++++++++++++++++++++++++++++++++++++++++++++++++++++++++++++++++++++++++++++++++++++++++"
   ]
  },
  {
   "cell_type": "code",
   "execution_count": 191,
   "metadata": {},
   "outputs": [],
   "source": [
    "TP1_pat=0\n",
    "FP1_pat=0\n",
    "FN1_pat=0\n",
    "TN1_pat=0\n",
    "TP2_pat=0\n",
    "FP2_pat=0\n",
    "FN2_pat=0\n",
    "TN2_pat=0\n",
    "TP3_pat=0\n",
    "FP3_pat=0\n",
    "FN3_pat=0\n",
    "TN3_pat=0"
   ]
  },
  {
   "cell_type": "code",
   "execution_count": 192,
   "metadata": {},
   "outputs": [],
   "source": [
    "elapsed_search_m57=0"
   ]
  },
  {
   "cell_type": "code",
   "execution_count": 193,
   "metadata": {},
   "outputs": [],
   "source": [
    "query = pd.read_csv('E:/M57-Patent-dfxmls/pat-2009-11-16_files.txt')\n",
    "query2=[sen.lower() for sen in query]\n",
    "query_sen = [[text for text in re.split('[/\\t]',doc)] for doc in query2]\n",
    "query_sen = [[text+'/' for text in sen] for sen in query_sen]\n",
    "query_sen=[[ subelt for subelt in elt if subelt != '/' ] for elt in query_sen] # remove '/'\n",
    "before_search=datetime.now()\n",
    "sim_vector=model.docvecs.most_similar(positive=[model.infer_vector(query_sen[0])],topn=16)\n",
    "after_search=datetime.now()\n",
    "elapsed=after_search-before_search\n",
    "elapsed_search_m57=elapsed.total_seconds()+elapsed_search_m57\n",
    "sorted_sim_vector = sorted(sim_vector, key=lambda tup: tup[0])#sort based on document number"
   ]
  },
  {
   "cell_type": "code",
   "execution_count": 194,
   "metadata": {},
   "outputs": [],
   "source": [
    "mycursor = mydb.cursor()\n",
    "mycursor.execute(\"update search_engine_model set pat16_XP_firefox3 = %s where name='P2-V2-W1-T1#1'or name='P2-V2-W1-T2#1' or name='P2-V2-W1-T3#1'\"%sorted_sim_vector[2][1])"
   ]
  },
  {
   "cell_type": "code",
   "execution_count": 195,
   "metadata": {},
   "outputs": [],
   "source": [
    "mycursor = mydb.cursor()\n",
    "mycursor.execute(\"update search_engine_model set pat16_XP_python2_6 = %s where name='P2-V2-W1-T1#1'or name='P2-V2-W1-T2#1' or name='P2-V2-W1-T3#1'\"%sorted_sim_vector[4][1])"
   ]
  },
  {
   "cell_type": "code",
   "execution_count": 196,
   "metadata": {},
   "outputs": [],
   "source": [
    "listofapp = [2,3,4,5,10,11,12,13]     \n",
    "for i in range(16):\n",
    "    if th[i]!=0:\n",
    "        if i in listofapp:\n",
    "            if (sorted_sim_vector[i][1]-th[i]/2) >= 0:\n",
    "                TP1_pat = TP1_pat + 1\n",
    "            else:\n",
    "                FN1_pat = FN1_pat +1\n",
    "        else:\n",
    "            if (sorted_sim_vector[i][1]-th[i]/2) >= 0:\n",
    "                FP1_pat = FP1_pat + 1\n",
    "            else:\n",
    "                TN1_pat = TN1_pat +1"
   ]
  },
  {
   "cell_type": "code",
   "execution_count": 197,
   "metadata": {},
   "outputs": [],
   "source": [
    "listofapp = [2,3,4,5,10,11,12,13]     \n",
    "for i in range(16):\n",
    "    if th[i]!=0:\n",
    "        if i in listofapp:\n",
    "            if (sorted_sim_vector[i][1]-th[i]/4) >= 0:\n",
    "                TP2_pat = TP2_pat + 1\n",
    "            else:\n",
    "                FN2_pat = FN2_pat +1\n",
    "        else:\n",
    "            if (sorted_sim_vector[i][1]-th[i]/4) >= 0:\n",
    "                FP2_pat = FP2_pat + 1\n",
    "            else:\n",
    "                TN2_pat = TN2_pat +1"
   ]
  },
  {
   "cell_type": "code",
   "execution_count": 198,
   "metadata": {},
   "outputs": [],
   "source": [
    "listofapp = [2,3,4,5,10,11,12,13]     \n",
    "for i in range(16):\n",
    "    if th[i]!=0:\n",
    "        if i in listofapp:\n",
    "            if (sorted_sim_vector[i][1]-th[i]/8) >= 0:\n",
    "                TP3_pat = TP3_pat + 1\n",
    "            else:\n",
    "                FN3_pat = FN3_pat +1\n",
    "        else:\n",
    "            if (sorted_sim_vector[i][1]-th[i]/8) >= 0:\n",
    "                FP3_pat = FP3_pat + 1\n",
    "            else:\n",
    "                TN3_pat = TN3_pat +1"
   ]
  },
  {
   "cell_type": "code",
   "execution_count": 199,
   "metadata": {},
   "outputs": [],
   "source": [
    "query = pd.read_csv('E:/M57-Patent-dfxmls/pat-2009-11-19_files.txt', encoding='cp1252')\n",
    "query2=[sen.lower() for sen in query]\n",
    "query_sen = [[text for text in re.split('[/\\t]',doc)] for doc in query2]\n",
    "query_sen = [[text+'/' for text in sen] for sen in query_sen]\n",
    "query_sen=[[ subelt for subelt in elt if subelt != '/' ] for elt in query_sen] # remove '/'\n",
    "before_search=datetime.now()\n",
    "sim_vector=model.docvecs.most_similar(positive=[model.infer_vector(query_sen[0])],topn=16)\n",
    "after_search=datetime.now()\n",
    "elapsed=after_search-before_search\n",
    "elapsed_search_m57=elapsed.total_seconds()+elapsed_search_m57\n",
    "sorted_sim_vector = sorted(sim_vector, key=lambda tup: tup[0])#sort based on document number"
   ]
  },
  {
   "cell_type": "code",
   "execution_count": 200,
   "metadata": {},
   "outputs": [],
   "source": [
    "mycursor = mydb.cursor()\n",
    "mycursor.execute(\"update search_engine_model set pat19_XP_adobe9 = %s where name='P2-V2-W1-T1#1'or name='P2-V2-W1-T2#1' or name='P2-V2-W1-T3#1'\"%sorted_sim_vector[0][1])"
   ]
  },
  {
   "cell_type": "code",
   "execution_count": 201,
   "metadata": {},
   "outputs": [],
   "source": [
    "listofapp = [0,1,8,9,2,3,4,5,10,11,12,13]     \n",
    "for i in range(16):\n",
    "    if th[i]!=0:\n",
    "        if i in listofapp:\n",
    "            if (sorted_sim_vector[i][1]-th[i]/2) >= 0:\n",
    "                TP1_pat = TP1_pat + 1\n",
    "            else:\n",
    "                FN1_pat = FN1_pat +1\n",
    "        else:\n",
    "            if (sorted_sim_vector[i][1]-th[i]/2) >= 0:\n",
    "                FP1_pat = FP1_pat + 1\n",
    "            else:\n",
    "                TN1_pat = TN1_pat +1"
   ]
  },
  {
   "cell_type": "code",
   "execution_count": 202,
   "metadata": {},
   "outputs": [],
   "source": [
    "listofapp = [0,1,8,9,2,3,4,5,10,11,12,13]     \n",
    "for i in range(16):\n",
    "    if th[i]!=0:\n",
    "        if i in listofapp:\n",
    "            if (sorted_sim_vector[i][1]-th[i]/4) >= 0:\n",
    "                TP2_pat = TP2_pat + 1\n",
    "            else:\n",
    "                FN2_pat = FN2_pat +1\n",
    "        else:\n",
    "            if (sorted_sim_vector[i][1]-th[i]/4) >= 0:\n",
    "                FP2_pat = FP2_pat + 1\n",
    "            else:\n",
    "                TN2_pat = TN2_pat +1"
   ]
  },
  {
   "cell_type": "code",
   "execution_count": 203,
   "metadata": {},
   "outputs": [],
   "source": [
    "listofapp = [0,1,8,9,2,3,4,5,10,11,12,13]     \n",
    "for i in range(16):\n",
    "    if th[i]!=0:\n",
    "        if i in listofapp:\n",
    "            if (sorted_sim_vector[i][1]-th[i]/8) >= 0:\n",
    "                TP3_pat = TP3_pat + 1\n",
    "            else:\n",
    "                FN3_pat = FN3_pat +1\n",
    "        else:\n",
    "            if (sorted_sim_vector[i][1]-th[i]/8) >= 0:\n",
    "                FP3_pat = FP3_pat + 1\n",
    "            else:\n",
    "                TN3_pat = TN3_pat +1"
   ]
  },
  {
   "cell_type": "code",
   "execution_count": 204,
   "metadata": {},
   "outputs": [],
   "source": [
    "precision_pat = TP1_pat / (TP1_pat + FP1_pat)\n",
    "recall_pat = TP1_pat / (TP1_pat + FN1_pat)\n",
    "F1_pat = 2 * ((precision_pat*recall_pat)/(precision_pat+recall_pat))"
   ]
  },
  {
   "cell_type": "code",
   "execution_count": 205,
   "metadata": {},
   "outputs": [],
   "source": [
    "mycursor = mydb.cursor()\n",
    "mycursor.execute(\"update search_engine_model set TP_pat = %s, FN_pat = %s, FP_pat = %s, TN_pat = %s, preci_pat = %s, recall_pat = %s, F1_pat = %s where name='P2-V2-W1-T1#1'\",(TP1_pat,FN1_pat,FP1_pat,TN1_pat,precision_pat,recall_pat,F1_pat))"
   ]
  },
  {
   "cell_type": "code",
   "execution_count": 206,
   "metadata": {},
   "outputs": [],
   "source": [
    "precision_pat = TP2_pat / (TP2_pat + FP2_pat)\n",
    "recall_pat = TP2_pat / (TP2_pat + FN2_pat)\n",
    "F1_pat = 2 * ((precision_pat*recall_pat)/(precision_pat+recall_pat))"
   ]
  },
  {
   "cell_type": "code",
   "execution_count": 207,
   "metadata": {},
   "outputs": [],
   "source": [
    "mycursor = mydb.cursor()\n",
    "mycursor.execute(\"update search_engine_model set TP_pat = %s, FN_pat = %s, FP_pat = %s, TN_pat = %s, preci_pat = %s, recall_pat = %s, F1_pat = %s where name='P2-V2-W1-T2#1'\",(TP2_pat,FN2_pat,FP2_pat,TN2_pat,precision_pat,recall_pat,F1_pat))"
   ]
  },
  {
   "cell_type": "code",
   "execution_count": 208,
   "metadata": {},
   "outputs": [],
   "source": [
    "precision_pat = TP3_pat / (TP3_pat + FP3_pat)\n",
    "recall_pat = TP3_pat / (TP3_pat + FN3_pat)\n",
    "F1_pat = 2 * ((precision_pat*recall_pat)/(precision_pat+recall_pat))"
   ]
  },
  {
   "cell_type": "code",
   "execution_count": 209,
   "metadata": {},
   "outputs": [],
   "source": [
    "mycursor = mydb.cursor()\n",
    "mycursor.execute(\"update search_engine_model set TP_pat = %s, FN_pat = %s, FP_pat = %s, TN_pat = %s, preci_pat = %s, recall_pat = %s, F1_pat = %s where name='P2-V2-W1-T3#1'\",(TP3_pat,FN3_pat,FP3_pat,TN3_pat,precision_pat,recall_pat,F1_pat))"
   ]
  },
  {
   "cell_type": "code",
   "execution_count": 210,
   "metadata": {},
   "outputs": [],
   "source": [
    "avg_elapse_m57=elapsed_search_m57/2"
   ]
  },
  {
   "cell_type": "code",
   "execution_count": 212,
   "metadata": {},
   "outputs": [],
   "source": [
    "mycursor = mydb.cursor()\n",
    "mycursor.execute(\"update search_engine_model set avg_search_time_m57=%s where name='P2-V2-W1-T1#1'or name='P2-V2-W1-T2#1' or name='P2-V2-W1-T3#1'\"%avg_elapse_m57)\n",
    "mycursor.close()\n",
    "mydb.commit()\n",
    "mydb.close()"
   ]
  },
  {
   "cell_type": "code",
   "execution_count": null,
   "metadata": {},
   "outputs": [],
   "source": []
  }
 ],
 "metadata": {
  "kernelspec": {
   "display_name": "Python 3",
   "language": "python",
   "name": "python3"
  },
  "language_info": {
   "codemirror_mode": {
    "name": "ipython",
    "version": 3
   },
   "file_extension": ".py",
   "mimetype": "text/x-python",
   "name": "python",
   "nbconvert_exporter": "python",
   "pygments_lexer": "ipython3",
   "version": "3.8.0"
  }
 },
 "nbformat": 4,
 "nbformat_minor": 4
}
